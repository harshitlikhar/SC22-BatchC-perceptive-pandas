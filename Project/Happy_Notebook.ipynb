{
 "cells": [
  {
   "cell_type": "markdown",
   "metadata": {
    "collapsed": false
   },
   "source": [
    " ###### ------------------------------------------------------------------------------------------------------------------------------------------------------------------------------------------------------------------------------------------------------ \n",
    "\n",
    " <h1><a id=\"Top\">Analysis on World Happiness</a></h1>\n",
    "<h5> Date Created: July 22, 2022<br>\n",
    "     Team Members: Aastha Mittal, Marina Lui, Janna Fasheh, Mubai Li, Jesus Cruz</h5>\n",
    "\n",
    " ###### ------------------------------------------------------------------------------------------------------------------------------------------------------------------------------------------------------------------------------------------------------ \n",
    "\n"
   ]
  },
  {
   "cell_type": "markdown",
   "metadata": {
    "collapsed": false
   },
   "source": [
    " <h2><a id=\"intro\">Introduction</a></h2>\n",
    "\n",
    "- Using the **World Happiness Report, 2021 Happiness Index and the Population in 2020**, we, as a team, began to explore the relationships between concepts such as GDP, Life Expectancy, Social Support, etc with the Happiness Index associated to each country/continent. With a number of changes, both positive and negative, the happiness of countries and continents is constantly changing. In order to understand which factors have a greater impact, we chose to visualize data related to topic.\n",
    "\n",
    "- The goal of this notebook is to perform **exploratory data analysis** and learn how and what impacts the happiness index of a country. This is visualized through scatter plots, bar graphs, line plot and more throughout the notebook.\n",
    "\n"
   ]
  },
  {
   "cell_type": "markdown",
   "metadata": {
    "collapsed": false
   },
   "source": [
    " <h2><a id=\"questions\">Research Questions</a></h2>\n",
    "\n"
   ]
  },
  {
   "cell_type": "markdown",
   "metadata": {
    "collapsed": false
   },
   "source": [
    "**Hypothesis:** Happiness is influenced by the following questions:\n",
    "\n",
    "- Does social support, GDP, freedom, and corruption have an effect on the happiness of a country? \n",
    "- How are life expectancy and happiness correlated?\n",
    "- How different are continents' happiness?\n",
    "- Does population affect happiness? Also, as the population changes over time, how does this affect happiness?\n",
    "\n"
   ]
  },
  {
   "cell_type": "markdown",
   "metadata": {
    "collapsed": false
   },
   "source": [
    " <h2><a id=\"data\">Data Description</a></h2>\n",
    "\n"
   ]
  },
  {
   "cell_type": "markdown",
   "metadata": {
    "collapsed": false
   },
   "source": [
    "For our analysis, we obtained the three separate datasets:\n",
    "\n",
    "- **World Happiness Report:** This dataset contains the world happiness report for 146 countries each year from 2008\\-2020.\n",
    "  - [https://www.kaggle.com/datasets/ajaypalsinghlo/world\\-happiness\\-report\\-2021?select=world\\-happiness\\-report.csv](https://www.kaggle.com/datasets/ajaypalsinghlo/world-happiness-report-2021?select=world-happiness-report.csv)\n",
    "- **2021 Happiness Index:** This dataset contains the world happiness report for 146 countries for the year 2021.\n",
    "  - [[[https://www.kaggle.com/datasets/ajaypalsinghlo/world\\-happiness\\-report\\-2021?select=world\\-happiness\\-report\\-2021.csv](https://www.kaggle.com/datasets/ajaypalsinghlo/world-happiness-report-2021?select=world-happiness-report-2021.csv)](https://www.kaggle.com/datasets/ajaypalsinghlo/world-happiness-report-2021?select=world-happiness-report.csv)](https://www.kaggle.com/datasets/ajaypalsinghlo/world-happiness-report-2021)\n",
    "- **2020 Populations:** This dataset contains the population for 146 countries in the year 2020.\n",
    "  - [https://www.kaggle.com/datasets/tanuprabhu/population\\-by\\-country\\-2020](https://www.kaggle.com/datasets/tanuprabhu/population-by-country-2020)\n",
    "\n",
    "We merged them together for our convenience, which resulted in a total of twelve columns used in our analysis, along with 146 different countries studied. \n",
    "\n"
   ]
  },
  {
   "cell_type": "markdown",
   "metadata": {
    "collapsed": false
   },
   "source": [
    " <h2><a id=\"packages\">Importing required packages</a></h2>\n",
    "\n"
   ]
  },
  {
   "cell_type": "code",
   "execution_count": 5,
   "metadata": {
    "collapsed": false
   },
   "outputs": [
   ],
   "source": [
    "import pandas as pd # data manipulation\n",
    "import numpy as np # Mathemetical operations\n",
    "\n",
    "#statistics\n",
    "import statsmodels\n",
    "\n",
    "# visuals\n",
    "import plotly.express as px \n",
    "import plotly.graph_objects as go\n",
    "import geopandas\n",
    "import matplotlib.pyplot as plt\n",
    "import plotly.figure_factory as ff\n",
    "\n",
    "import pycountry\n",
    "from IPython.display import Image\n"
   ]
  },
  {
   "cell_type": "code",
   "execution_count": 6,
   "metadata": {
    "collapsed": false
   },
   "outputs": [
   ],
   "source": [
    "#function required in the notebook\n",
    "\n",
    "def alpha3code(column):\n",
    "    CODE=[]\n",
    "    for country in column:\n",
    "        try:\n",
    "            code=pycountry.countries.get(name=country).alpha_3\n",
    "            CODE.append(code)\n",
    "        except:\n",
    "            CODE.append('None')\n",
    "    return CODE"
   ]
  },
  {
   "cell_type": "markdown",
   "metadata": {
    "collapsed": false
   },
   "source": [
    "<h2><a id=\"Top\">Importing the Dataset</a></h2>\n",
    "\n"
   ]
  },
  {
   "cell_type": "code",
   "execution_count": 7,
   "metadata": {
    "collapsed": false
   },
   "outputs": [
   ],
   "source": [
    "happy_2021_df = pd.read_csv('data/world-happiness-report-2021.csv')"
   ]
  },
  {
   "cell_type": "code",
   "execution_count": 8,
   "metadata": {
    "collapsed": false
   },
   "outputs": [
    {
     "data": {
      "text/html": [
       "<div>\n",
       "<style scoped>\n",
       "    .dataframe tbody tr th:only-of-type {\n",
       "        vertical-align: middle;\n",
       "    }\n",
       "\n",
       "    .dataframe tbody tr th {\n",
       "        vertical-align: top;\n",
       "    }\n",
       "\n",
       "    .dataframe thead th {\n",
       "        text-align: right;\n",
       "    }\n",
       "</style>\n",
       "<table border=\"1\" class=\"dataframe\">\n",
       "  <thead>\n",
       "    <tr style=\"text-align: right;\">\n",
       "      <th></th>\n",
       "      <th>Country name</th>\n",
       "      <th>Regional indicator</th>\n",
       "      <th>Ladder score</th>\n",
       "      <th>Standard error of ladder score</th>\n",
       "      <th>upperwhisker</th>\n",
       "      <th>lowerwhisker</th>\n",
       "      <th>Logged GDP per capita</th>\n",
       "      <th>Social support</th>\n",
       "      <th>Healthy life expectancy</th>\n",
       "      <th>Freedom to make life choices</th>\n",
       "      <th>Generosity</th>\n",
       "      <th>Perceptions of corruption</th>\n",
       "      <th>Ladder score in Dystopia</th>\n",
       "      <th>Explained by: Log GDP per capita</th>\n",
       "      <th>Explained by: Social support</th>\n",
       "      <th>Explained by: Healthy life expectancy</th>\n",
       "      <th>Explained by: Freedom to make life choices</th>\n",
       "      <th>Explained by: Generosity</th>\n",
       "      <th>Explained by: Perceptions of corruption</th>\n",
       "      <th>Dystopia + residual</th>\n",
       "    </tr>\n",
       "  </thead>\n",
       "  <tbody>\n",
       "    <tr>\n",
       "      <th>0</th>\n",
       "      <td>Finland</td>\n",
       "      <td>Western Europe</td>\n",
       "      <td>7.842</td>\n",
       "      <td>0.032</td>\n",
       "      <td>7.904</td>\n",
       "      <td>7.780</td>\n",
       "      <td>10.775</td>\n",
       "      <td>0.954</td>\n",
       "      <td>72.0</td>\n",
       "      <td>0.949</td>\n",
       "      <td>-0.098</td>\n",
       "      <td>0.186</td>\n",
       "      <td>2.43</td>\n",
       "      <td>1.446</td>\n",
       "      <td>1.106</td>\n",
       "      <td>0.741</td>\n",
       "      <td>0.691</td>\n",
       "      <td>0.124</td>\n",
       "      <td>0.481</td>\n",
       "      <td>3.253</td>\n",
       "    </tr>\n",
       "    <tr>\n",
       "      <th>1</th>\n",
       "      <td>Denmark</td>\n",
       "      <td>Western Europe</td>\n",
       "      <td>7.620</td>\n",
       "      <td>0.035</td>\n",
       "      <td>7.687</td>\n",
       "      <td>7.552</td>\n",
       "      <td>10.933</td>\n",
       "      <td>0.954</td>\n",
       "      <td>72.7</td>\n",
       "      <td>0.946</td>\n",
       "      <td>0.030</td>\n",
       "      <td>0.179</td>\n",
       "      <td>2.43</td>\n",
       "      <td>1.502</td>\n",
       "      <td>1.108</td>\n",
       "      <td>0.763</td>\n",
       "      <td>0.686</td>\n",
       "      <td>0.208</td>\n",
       "      <td>0.485</td>\n",
       "      <td>2.868</td>\n",
       "    </tr>\n",
       "    <tr>\n",
       "      <th>2</th>\n",
       "      <td>Switzerland</td>\n",
       "      <td>Western Europe</td>\n",
       "      <td>7.571</td>\n",
       "      <td>0.036</td>\n",
       "      <td>7.643</td>\n",
       "      <td>7.500</td>\n",
       "      <td>11.117</td>\n",
       "      <td>0.942</td>\n",
       "      <td>74.4</td>\n",
       "      <td>0.919</td>\n",
       "      <td>0.025</td>\n",
       "      <td>0.292</td>\n",
       "      <td>2.43</td>\n",
       "      <td>1.566</td>\n",
       "      <td>1.079</td>\n",
       "      <td>0.816</td>\n",
       "      <td>0.653</td>\n",
       "      <td>0.204</td>\n",
       "      <td>0.413</td>\n",
       "      <td>2.839</td>\n",
       "    </tr>\n",
       "    <tr>\n",
       "      <th>3</th>\n",
       "      <td>Iceland</td>\n",
       "      <td>Western Europe</td>\n",
       "      <td>7.554</td>\n",
       "      <td>0.059</td>\n",
       "      <td>7.670</td>\n",
       "      <td>7.438</td>\n",
       "      <td>10.878</td>\n",
       "      <td>0.983</td>\n",
       "      <td>73.0</td>\n",
       "      <td>0.955</td>\n",
       "      <td>0.160</td>\n",
       "      <td>0.673</td>\n",
       "      <td>2.43</td>\n",
       "      <td>1.482</td>\n",
       "      <td>1.172</td>\n",
       "      <td>0.772</td>\n",
       "      <td>0.698</td>\n",
       "      <td>0.293</td>\n",
       "      <td>0.170</td>\n",
       "      <td>2.967</td>\n",
       "    </tr>\n",
       "    <tr>\n",
       "      <th>4</th>\n",
       "      <td>Netherlands</td>\n",
       "      <td>Western Europe</td>\n",
       "      <td>7.464</td>\n",
       "      <td>0.027</td>\n",
       "      <td>7.518</td>\n",
       "      <td>7.410</td>\n",
       "      <td>10.932</td>\n",
       "      <td>0.942</td>\n",
       "      <td>72.4</td>\n",
       "      <td>0.913</td>\n",
       "      <td>0.175</td>\n",
       "      <td>0.338</td>\n",
       "      <td>2.43</td>\n",
       "      <td>1.501</td>\n",
       "      <td>1.079</td>\n",
       "      <td>0.753</td>\n",
       "      <td>0.647</td>\n",
       "      <td>0.302</td>\n",
       "      <td>0.384</td>\n",
       "      <td>2.798</td>\n",
       "    </tr>\n",
       "  </tbody>\n",
       "</table>\n",
       "</div>"
      ],
      "text/plain": [
       "  Country name Regional indicator  Ladder score  \\\n",
       "0      Finland     Western Europe         7.842   \n",
       "1      Denmark     Western Europe         7.620   \n",
       "2  Switzerland     Western Europe         7.571   \n",
       "3      Iceland     Western Europe         7.554   \n",
       "4  Netherlands     Western Europe         7.464   \n",
       "\n",
       "   Standard error of ladder score  upperwhisker  lowerwhisker  \\\n",
       "0                           0.032         7.904         7.780   \n",
       "1                           0.035         7.687         7.552   \n",
       "2                           0.036         7.643         7.500   \n",
       "3                           0.059         7.670         7.438   \n",
       "4                           0.027         7.518         7.410   \n",
       "\n",
       "   Logged GDP per capita  Social support  Healthy life expectancy  \\\n",
       "0                 10.775           0.954                     72.0   \n",
       "1                 10.933           0.954                     72.7   \n",
       "2                 11.117           0.942                     74.4   \n",
       "3                 10.878           0.983                     73.0   \n",
       "4                 10.932           0.942                     72.4   \n",
       "\n",
       "   Freedom to make life choices  Generosity  Perceptions of corruption  \\\n",
       "0                         0.949      -0.098                      0.186   \n",
       "1                         0.946       0.030                      0.179   \n",
       "2                         0.919       0.025                      0.292   \n",
       "3                         0.955       0.160                      0.673   \n",
       "4                         0.913       0.175                      0.338   \n",
       "\n",
       "   Ladder score in Dystopia  Explained by: Log GDP per capita  \\\n",
       "0                      2.43                             1.446   \n",
       "1                      2.43                             1.502   \n",
       "2                      2.43                             1.566   \n",
       "3                      2.43                             1.482   \n",
       "4                      2.43                             1.501   \n",
       "\n",
       "   Explained by: Social support  Explained by: Healthy life expectancy  \\\n",
       "0                         1.106                                  0.741   \n",
       "1                         1.108                                  0.763   \n",
       "2                         1.079                                  0.816   \n",
       "3                         1.172                                  0.772   \n",
       "4                         1.079                                  0.753   \n",
       "\n",
       "   Explained by: Freedom to make life choices  Explained by: Generosity  \\\n",
       "0                                       0.691                     0.124   \n",
       "1                                       0.686                     0.208   \n",
       "2                                       0.653                     0.204   \n",
       "3                                       0.698                     0.293   \n",
       "4                                       0.647                     0.302   \n",
       "\n",
       "   Explained by: Perceptions of corruption  Dystopia + residual  \n",
       "0                                    0.481                3.253  \n",
       "1                                    0.485                2.868  \n",
       "2                                    0.413                2.839  \n",
       "3                                    0.170                2.967  \n",
       "4                                    0.384                2.798  "
      ]
     },
     "execution_count": 8,
     "metadata": {
     },
     "output_type": "execute_result"
    }
   ],
   "source": [
    "happy_2021_df.head()"
   ]
  },
  {
   "cell_type": "markdown",
   "metadata": {
    "collapsed": false
   },
   "source": [
    "<h2><a id=\"Top\">Data Cleaning</a></h2>"
   ]
  },
  {
   "cell_type": "markdown",
   "metadata": {
    "collapsed": false
   },
   "source": [
    "- We converted 10 unique regional indicators into 6 continents, because dividing regions too finely is unnecessary\n",
    "\n",
    "- We dropped extra columns that contained “Explained by” information.\n",
    "\n",
    "- We renamed several columns so that the column names are more clear to read, such as “happy score” replaced “ladder score”, “continents” replaced “regional indicator”\n",
    "\n",
    "- We added missing information in column “Continents”, by creating “Oceania” and classified “Australia” and “New Zealand”.\n",
    "\n"
   ]
  },
  {
   "cell_type": "markdown",
   "metadata": {
    "collapsed": false
   },
   "source": [
    "<h5>\n",
    "    <a>Drop Columns</a>\n",
    "</h5> "
   ]
  },
  {
   "cell_type": "code",
   "execution_count": 9,
   "metadata": {
    "collapsed": false
   },
   "outputs": [
   ],
   "source": [
    "columns_to_drop = ['Ladder score in Dystopia',\n",
    "       'Explained by: Log GDP per capita', 'Explained by: Social support',\n",
    "       'Explained by: Healthy life expectancy',\n",
    "       'Explained by: Freedom to make life choices',\n",
    "       'Explained by: Generosity', 'Explained by: Perceptions of corruption',\n",
    "       'Dystopia + residual','Standard error of ladder score', 'upperwhisker', 'lowerwhisker']\n",
    "\n",
    "happy_2021_df.drop(columns_to_drop, axis = 1, inplace = True)"
   ]
  },
  {
   "cell_type": "code",
   "execution_count": 10,
   "metadata": {
    "collapsed": false
   },
   "outputs": [
   ],
   "source": [
    "happy_2021_df.rename(columns = {'Ladder score': 'happy_score'}, inplace = True)"
   ]
  },
  {
   "cell_type": "markdown",
   "metadata": {
    "collapsed": false
   },
   "source": [
    "<h5>\n",
    "    <a>Change the unique regions to continents</a>\n",
    "</h5> "
   ]
  },
  {
   "cell_type": "code",
   "execution_count": 11,
   "metadata": {
    "collapsed": false
   },
   "outputs": [
   ],
   "source": [
    "happy_2021_df['Regional indicator'].mask(happy_2021_df['Regional indicator'] == 'Western Europe','Europe', inplace = True)\n",
    "happy_2021_df['Regional indicator'].mask(happy_2021_df['Regional indicator'] == 'Central and Eastern Europe','Europe', inplace = True)\n",
    "happy_2021_df['Regional indicator'].mask(happy_2021_df['Regional indicator'] == 'North America and ANZ','North America', inplace = True)\n",
    "happy_2021_df['Regional indicator'].mask(happy_2021_df['Regional indicator'] == 'Latin America and Caribbean','South America', inplace = True)\n",
    "happy_2021_df['Regional indicator'].mask(happy_2021_df['Regional indicator'] == 'Southeast Asia','Asia', inplace = True)\n",
    "happy_2021_df['Regional indicator'].mask(happy_2021_df['Regional indicator'] == 'East Asia','Asia', inplace = True)\n",
    "happy_2021_df['Regional indicator'].mask(happy_2021_df['Regional indicator'] == 'South Asia','Asia', inplace = True)\n",
    "happy_2021_df['Regional indicator'].mask(happy_2021_df['Regional indicator'] == 'Sub-Saharan Africa','Africa', inplace = True)\n",
    "happy_2021_df['Regional indicator'].mask(happy_2021_df['Regional indicator'] == 'Middle East and North Africa','Africa', inplace = True)"
   ]
  },
  {
   "cell_type": "markdown",
   "metadata": {
    "collapsed": false
   },
   "source": [
    "<h5>\n",
    "    <a>Assigning some countries to their continents</a>\n",
    "</h5> "
   ]
  },
  {
   "cell_type": "code",
   "execution_count": 12,
   "metadata": {
    "collapsed": false
   },
   "outputs": [
   ],
   "source": [
    "happy_2021_df['Regional indicator'].mask(happy_2021_df['Country name'] == 'Russia', 'Europe',inplace =True)\n",
    "happy_2021_df['Regional indicator'].mask(happy_2021_df['Country name'] == 'Belarus', 'Europe',inplace =True)\n",
    "happy_2021_df['Regional indicator'].mask(happy_2021_df['Country name'] == 'Azerbaijan', 'Asia',inplace =True)\n",
    "happy_2021_df['Regional indicator'].mask(happy_2021_df['Country name'] == 'Uzbekistan', 'Asia',inplace =True)\n",
    "happy_2021_df['Regional indicator'].mask(happy_2021_df['Country name'] == 'Kazakhstan', 'Asia',inplace =True)\n",
    "happy_2021_df['Regional indicator'].mask(happy_2021_df['Country name'] == 'Kyrgyzstan', 'Asia',inplace =True)\n",
    "happy_2021_df['Regional indicator'].mask(happy_2021_df['Country name'] == 'Tajikistan', 'Asia',inplace =True)\n",
    "happy_2021_df['Regional indicator'].mask(happy_2021_df['Country name'] == 'Ukraine', 'Europe',inplace =True)\n",
    "happy_2021_df['Regional indicator'].mask(happy_2021_df['Country name'] == 'Moldova', 'Europe',inplace =True)\n",
    "happy_2021_df['Regional indicator'].mask(happy_2021_df['Country name'] == 'Turkmenistan', 'Asia',inplace =True)\n",
    "happy_2021_df['Regional indicator'].mask(happy_2021_df['Country name'] == 'Armenia', 'Asia',inplace =True)\n",
    "happy_2021_df['Regional indicator'].mask(happy_2021_df['Country name'] == 'Georgia', 'Europe',inplace =True)"
   ]
  },
  {
   "cell_type": "code",
   "execution_count": 13,
   "metadata": {
    "collapsed": false
   },
   "outputs": [
   ],
   "source": [
    "happy_2021_df['Regional indicator'].mask(happy_2021_df['Country name'] == 'Australia', 'Oceania',inplace =True)\n",
    "happy_2021_df['Regional indicator'].mask(happy_2021_df['Country name'] == 'New Zealand', 'Oceania',inplace =True)"
   ]
  },
  {
   "cell_type": "code",
   "execution_count": 14,
   "metadata": {
    "collapsed": false
   },
   "outputs": [
   ],
   "source": [
    "happy_2021_df.rename(columns = {'Regional indicator': 'Continents'}, inplace = True)"
   ]
  },
  {
   "cell_type": "code",
   "execution_count": 15,
   "metadata": {
    "collapsed": false
   },
   "outputs": [
   ],
   "source": [
    "# create a column for code \n",
    "happy_2021_df_copy = happy_2021_df.copy()\n",
    "happy_2021_df_copy['CODE']=alpha3code(happy_2021_df_copy['Country name'])"
   ]
  },
  {
   "cell_type": "markdown",
   "metadata": {
    "collapsed": false
   },
   "source": [
    "<h4><a>Data Columns</a></h4>\n",
    "\n",
    "- **Country name:** This conveys the name of each of the countries in the data frame\n",
    "- **Continents:** The six continents over the world\n",
    "- **Happy Score:** The happiness index of the country\n",
    "- **Logged GDP per capita:** GDP per capita of the country\n",
    "- **Social support:** Social support index of the country\n",
    "- **Healthy life expectancy:** This is a decimal value that calculates the amount of social support a person receives in a country\n",
    "- **Freedom to make life choices:** Freedom index of the country.\n",
    "- **Generosity**: Generosity index of the countries\n",
    "- **Perceptions of corruption** : The index to measure the perception of corruoption in a country.\n",
    "\n"
   ]
  },
  {
   "cell_type": "markdown",
   "metadata": {
    "collapsed": false
   },
   "source": [
    "###### ------------------------------------------------------------------------------------------------------------------------------------------------------------------------------------------------------------------------------------------------------\n",
    "<h1><a>Analysis</a></h1>\n",
    "\n",
    "###### ---------------------------------------------------------------------------------------------------------------------------------------------------------------------------------------------------------------------------------------------------------"
   ]
  },
  {
   "cell_type": "markdown",
   "metadata": {
    "collapsed": false
   },
   "source": [
    "<h2> <a id = \"World Map\"> World Happiness Index</a></h2> \n",
    "\n",
    "The following visual aims to show the difference in happiness index by country, which is indicated by the colors on the map. For example, darker colors indicate a lower happiness score, while lighter colors show a higher happiness score. Through the interactive world map, one can hover over and scroll through countries to understand their happiness index.\n",
    "\n"
   ]
  },
  {
   "cell_type": "code",
   "execution_count": 16,
   "metadata": {
    "collapsed": false
   },
   "outputs": [
    {
     "data": {
      "text/html": "<html>\n<head><meta charset=\"utf-8\" /></head>\n<body>\n    <div>            <script src=\"https://cdnjs.cloudflare.com/ajax/libs/mathjax/2.7.5/MathJax.js?config=TeX-AMS-MML_SVG\"></script><script type=\"text/javascript\">if (window.MathJax) {MathJax.Hub.Config({SVG: {font: \"STIX-Web\"}});}</script>                <script type=\"text/javascript\">window.PlotlyConfig = {MathJaxConfig: 'local'};</script>\n        <script src=\"https://cdn.plot.ly/plotly-2.9.0.min.js\"></script>                <div id=\"8d5383d4-cce2-4e30-a4a9-7aa805c868da\" class=\"plotly-graph-div\" style=\"height:525px; width:100%;\"></div>            <script type=\"text/javascript\">                                    window.PLOTLYENV=window.PLOTLYENV || {};                                    if (document.getElementById(\"8d5383d4-cce2-4e30-a4a9-7aa805c868da\")) {                    Plotly.newPlot(                        \"8d5383d4-cce2-4e30-a4a9-7aa805c868da\",                        [{\"coloraxis\":\"coloraxis\",\"geo\":\"geo\",\"hovertemplate\":\"<b>%{hovertext}</b><br><br>CODE=%{location}<br>happy_score=%{z}<extra></extra>\",\"hovertext\":[\"Finland\",\"Denmark\",\"Switzerland\",\"Iceland\",\"Netherlands\",\"Norway\",\"Sweden\",\"Luxembourg\",\"New Zealand\",\"Austria\",\"Australia\",\"Israel\",\"Germany\",\"Canada\",\"Ireland\",\"Costa Rica\",\"United Kingdom\",\"Czech Republic\",\"United States\",\"Belgium\",\"France\",\"Bahrain\",\"Malta\",\"Taiwan Province of China\",\"United Arab Emirates\",\"Saudi Arabia\",\"Spain\",\"Italy\",\"Slovenia\",\"Guatemala\",\"Uruguay\",\"Singapore\",\"Kosovo\",\"Slovakia\",\"Brazil\",\"Mexico\",\"Jamaica\",\"Lithuania\",\"Cyprus\",\"Estonia\",\"Panama\",\"Uzbekistan\",\"Chile\",\"Poland\",\"Kazakhstan\",\"Romania\",\"Kuwait\",\"Serbia\",\"El Salvador\",\"Mauritius\",\"Latvia\",\"Colombia\",\"Hungary\",\"Thailand\",\"Nicaragua\",\"Japan\",\"Argentina\",\"Portugal\",\"Honduras\",\"Croatia\",\"Philippines\",\"South Korea\",\"Peru\",\"Bosnia and Herzegovina\",\"Moldova\",\"Ecuador\",\"Kyrgyzstan\",\"Greece\",\"Bolivia\",\"Mongolia\",\"Paraguay\",\"Montenegro\",\"Dominican Republic\",\"North Cyprus\",\"Belarus\",\"Russia\",\"Hong Kong S.A.R. of China\",\"Tajikistan\",\"Vietnam\",\"Libya\",\"Malaysia\",\"Indonesia\",\"Congo (Brazzaville)\",\"China\",\"Ivory Coast\",\"Armenia\",\"Nepal\",\"Bulgaria\",\"Maldives\",\"Azerbaijan\",\"Cameroon\",\"Senegal\",\"Albania\",\"North Macedonia\",\"Ghana\",\"Niger\",\"Turkmenistan\",\"Gambia\",\"Benin\",\"Laos\",\"Bangladesh\",\"Guinea\",\"South Africa\",\"Turkey\",\"Pakistan\",\"Morocco\",\"Venezuela\",\"Georgia\",\"Algeria\",\"Ukraine\",\"Iraq\",\"Gabon\",\"Burkina Faso\",\"Cambodia\",\"Mozambique\",\"Nigeria\",\"Mali\",\"Iran\",\"Uganda\",\"Liberia\",\"Kenya\",\"Tunisia\",\"Lebanon\",\"Namibia\",\"Palestinian Territories\",\"Myanmar\",\"Jordan\",\"Chad\",\"Sri Lanka\",\"Swaziland\",\"Comoros\",\"Egypt\",\"Ethiopia\",\"Mauritania\",\"Madagascar\",\"Togo\",\"Zambia\",\"Sierra Leone\",\"India\",\"Burundi\",\"Yemen\",\"Tanzania\",\"Haiti\",\"Malawi\",\"Lesotho\",\"Botswana\",\"Rwanda\",\"Zimbabwe\",\"Afghanistan\"],\"locations\":[\"FIN\",\"DNK\",\"CHE\",\"ISL\",\"NLD\",\"NOR\",\"SWE\",\"LUX\",\"NZL\",\"AUT\",\"AUS\",\"ISR\",\"DEU\",\"CAN\",\"IRL\",\"CRI\",\"GBR\",\"None\",\"USA\",\"BEL\",\"FRA\",\"BHR\",\"MLT\",\"None\",\"ARE\",\"SAU\",\"ESP\",\"ITA\",\"SVN\",\"GTM\",\"URY\",\"SGP\",\"None\",\"SVK\",\"BRA\",\"MEX\",\"JAM\",\"LTU\",\"CYP\",\"EST\",\"PAN\",\"UZB\",\"CHL\",\"POL\",\"KAZ\",\"ROU\",\"KWT\",\"SRB\",\"SLV\",\"MUS\",\"LVA\",\"COL\",\"HUN\",\"THA\",\"NIC\",\"JPN\",\"ARG\",\"PRT\",\"HND\",\"HRV\",\"PHL\",\"None\",\"PER\",\"BIH\",\"None\",\"ECU\",\"KGZ\",\"GRC\",\"None\",\"MNG\",\"PRY\",\"MNE\",\"DOM\",\"None\",\"BLR\",\"None\",\"None\",\"TJK\",\"None\",\"LBY\",\"MYS\",\"IDN\",\"None\",\"CHN\",\"None\",\"ARM\",\"NPL\",\"BGR\",\"MDV\",\"AZE\",\"CMR\",\"SEN\",\"ALB\",\"MKD\",\"GHA\",\"NER\",\"TKM\",\"GMB\",\"BEN\",\"None\",\"BGD\",\"GIN\",\"ZAF\",\"TUR\",\"PAK\",\"MAR\",\"None\",\"GEO\",\"DZA\",\"UKR\",\"IRQ\",\"GAB\",\"BFA\",\"KHM\",\"MOZ\",\"NGA\",\"MLI\",\"None\",\"UGA\",\"LBR\",\"KEN\",\"TUN\",\"LBN\",\"NAM\",\"None\",\"MMR\",\"JOR\",\"TCD\",\"LKA\",\"None\",\"COM\",\"EGY\",\"ETH\",\"MRT\",\"MDG\",\"TGO\",\"ZMB\",\"SLE\",\"IND\",\"BDI\",\"YEM\",\"None\",\"HTI\",\"MWI\",\"LSO\",\"BWA\",\"RWA\",\"ZWE\",\"AFG\"],\"name\":\"\",\"z\":[7.842,7.62,7.571,7.554,7.464,7.392,7.363,7.324,7.277,7.268,7.183,7.157,7.155,7.103,7.085,7.069,7.064,6.965,6.951,6.834,6.69,6.647,6.602,6.584,6.561,6.494,6.491,6.483,6.461,6.435,6.431,6.377,6.372,6.331,6.33,6.317,6.309,6.255,6.223,6.189,6.18,6.179,6.172,6.166,6.152,6.14,6.106,6.078,6.061,6.049,6.032,6.012,5.992,5.985,5.972,5.94,5.929,5.929,5.919,5.882,5.88,5.845,5.84,5.813,5.766,5.764,5.744,5.723,5.716,5.677,5.653,5.581,5.545,5.536,5.534,5.477,5.477,5.466,5.411,5.41,5.384,5.345,5.342,5.339,5.306,5.283,5.269,5.266,5.198,5.171,5.142,5.132,5.117,5.101,5.088,5.074,5.066,5.051,5.045,5.03,5.025,4.984,4.956,4.948,4.934,4.918,4.892,4.891,4.887,4.875,4.854,4.852,4.834,4.83,4.794,4.759,4.723,4.721,4.636,4.625,4.607,4.596,4.584,4.574,4.517,4.426,4.395,4.355,4.325,4.308,4.289,4.283,4.275,4.227,4.208,4.107,4.073,3.849,3.819,3.775,3.658,3.623,3.615,3.6,3.512,3.467,3.415,3.145,2.523],\"type\":\"choropleth\"}],                        {\"template\":{\"data\":{\"bar\":[{\"error_x\":{\"color\":\"#2a3f5f\"},\"error_y\":{\"color\":\"#2a3f5f\"},\"marker\":{\"line\":{\"color\":\"#E5ECF6\",\"width\":0.5},\"pattern\":{\"fillmode\":\"overlay\",\"size\":10,\"solidity\":0.2}},\"type\":\"bar\"}],\"barpolar\":[{\"marker\":{\"line\":{\"color\":\"#E5ECF6\",\"width\":0.5},\"pattern\":{\"fillmode\":\"overlay\",\"size\":10,\"solidity\":0.2}},\"type\":\"barpolar\"}],\"carpet\":[{\"aaxis\":{\"endlinecolor\":\"#2a3f5f\",\"gridcolor\":\"white\",\"linecolor\":\"white\",\"minorgridcolor\":\"white\",\"startlinecolor\":\"#2a3f5f\"},\"baxis\":{\"endlinecolor\":\"#2a3f5f\",\"gridcolor\":\"white\",\"linecolor\":\"white\",\"minorgridcolor\":\"white\",\"startlinecolor\":\"#2a3f5f\"},\"type\":\"carpet\"}],\"choropleth\":[{\"colorbar\":{\"outlinewidth\":0,\"ticks\":\"\"},\"type\":\"choropleth\"}],\"contour\":[{\"colorbar\":{\"outlinewidth\":0,\"ticks\":\"\"},\"colorscale\":[[0.0,\"#0d0887\"],[0.1111111111111111,\"#46039f\"],[0.2222222222222222,\"#7201a8\"],[0.3333333333333333,\"#9c179e\"],[0.4444444444444444,\"#bd3786\"],[0.5555555555555556,\"#d8576b\"],[0.6666666666666666,\"#ed7953\"],[0.7777777777777778,\"#fb9f3a\"],[0.8888888888888888,\"#fdca26\"],[1.0,\"#f0f921\"]],\"type\":\"contour\"}],\"contourcarpet\":[{\"colorbar\":{\"outlinewidth\":0,\"ticks\":\"\"},\"type\":\"contourcarpet\"}],\"heatmap\":[{\"colorbar\":{\"outlinewidth\":0,\"ticks\":\"\"},\"colorscale\":[[0.0,\"#0d0887\"],[0.1111111111111111,\"#46039f\"],[0.2222222222222222,\"#7201a8\"],[0.3333333333333333,\"#9c179e\"],[0.4444444444444444,\"#bd3786\"],[0.5555555555555556,\"#d8576b\"],[0.6666666666666666,\"#ed7953\"],[0.7777777777777778,\"#fb9f3a\"],[0.8888888888888888,\"#fdca26\"],[1.0,\"#f0f921\"]],\"type\":\"heatmap\"}],\"heatmapgl\":[{\"colorbar\":{\"outlinewidth\":0,\"ticks\":\"\"},\"colorscale\":[[0.0,\"#0d0887\"],[0.1111111111111111,\"#46039f\"],[0.2222222222222222,\"#7201a8\"],[0.3333333333333333,\"#9c179e\"],[0.4444444444444444,\"#bd3786\"],[0.5555555555555556,\"#d8576b\"],[0.6666666666666666,\"#ed7953\"],[0.7777777777777778,\"#fb9f3a\"],[0.8888888888888888,\"#fdca26\"],[1.0,\"#f0f921\"]],\"type\":\"heatmapgl\"}],\"histogram\":[{\"marker\":{\"pattern\":{\"fillmode\":\"overlay\",\"size\":10,\"solidity\":0.2}},\"type\":\"histogram\"}],\"histogram2d\":[{\"colorbar\":{\"outlinewidth\":0,\"ticks\":\"\"},\"colorscale\":[[0.0,\"#0d0887\"],[0.1111111111111111,\"#46039f\"],[0.2222222222222222,\"#7201a8\"],[0.3333333333333333,\"#9c179e\"],[0.4444444444444444,\"#bd3786\"],[0.5555555555555556,\"#d8576b\"],[0.6666666666666666,\"#ed7953\"],[0.7777777777777778,\"#fb9f3a\"],[0.8888888888888888,\"#fdca26\"],[1.0,\"#f0f921\"]],\"type\":\"histogram2d\"}],\"histogram2dcontour\":[{\"colorbar\":{\"outlinewidth\":0,\"ticks\":\"\"},\"colorscale\":[[0.0,\"#0d0887\"],[0.1111111111111111,\"#46039f\"],[0.2222222222222222,\"#7201a8\"],[0.3333333333333333,\"#9c179e\"],[0.4444444444444444,\"#bd3786\"],[0.5555555555555556,\"#d8576b\"],[0.6666666666666666,\"#ed7953\"],[0.7777777777777778,\"#fb9f3a\"],[0.8888888888888888,\"#fdca26\"],[1.0,\"#f0f921\"]],\"type\":\"histogram2dcontour\"}],\"mesh3d\":[{\"colorbar\":{\"outlinewidth\":0,\"ticks\":\"\"},\"type\":\"mesh3d\"}],\"parcoords\":[{\"line\":{\"colorbar\":{\"outlinewidth\":0,\"ticks\":\"\"}},\"type\":\"parcoords\"}],\"pie\":[{\"automargin\":true,\"type\":\"pie\"}],\"scatter\":[{\"marker\":{\"colorbar\":{\"outlinewidth\":0,\"ticks\":\"\"}},\"type\":\"scatter\"}],\"scatter3d\":[{\"line\":{\"colorbar\":{\"outlinewidth\":0,\"ticks\":\"\"}},\"marker\":{\"colorbar\":{\"outlinewidth\":0,\"ticks\":\"\"}},\"type\":\"scatter3d\"}],\"scattercarpet\":[{\"marker\":{\"colorbar\":{\"outlinewidth\":0,\"ticks\":\"\"}},\"type\":\"scattercarpet\"}],\"scattergeo\":[{\"marker\":{\"colorbar\":{\"outlinewidth\":0,\"ticks\":\"\"}},\"type\":\"scattergeo\"}],\"scattergl\":[{\"marker\":{\"colorbar\":{\"outlinewidth\":0,\"ticks\":\"\"}},\"type\":\"scattergl\"}],\"scattermapbox\":[{\"marker\":{\"colorbar\":{\"outlinewidth\":0,\"ticks\":\"\"}},\"type\":\"scattermapbox\"}],\"scatterpolar\":[{\"marker\":{\"colorbar\":{\"outlinewidth\":0,\"ticks\":\"\"}},\"type\":\"scatterpolar\"}],\"scatterpolargl\":[{\"marker\":{\"colorbar\":{\"outlinewidth\":0,\"ticks\":\"\"}},\"type\":\"scatterpolargl\"}],\"scatterternary\":[{\"marker\":{\"colorbar\":{\"outlinewidth\":0,\"ticks\":\"\"}},\"type\":\"scatterternary\"}],\"surface\":[{\"colorbar\":{\"outlinewidth\":0,\"ticks\":\"\"},\"colorscale\":[[0.0,\"#0d0887\"],[0.1111111111111111,\"#46039f\"],[0.2222222222222222,\"#7201a8\"],[0.3333333333333333,\"#9c179e\"],[0.4444444444444444,\"#bd3786\"],[0.5555555555555556,\"#d8576b\"],[0.6666666666666666,\"#ed7953\"],[0.7777777777777778,\"#fb9f3a\"],[0.8888888888888888,\"#fdca26\"],[1.0,\"#f0f921\"]],\"type\":\"surface\"}],\"table\":[{\"cells\":{\"fill\":{\"color\":\"#EBF0F8\"},\"line\":{\"color\":\"white\"}},\"header\":{\"fill\":{\"color\":\"#C8D4E3\"},\"line\":{\"color\":\"white\"}},\"type\":\"table\"}]},\"layout\":{\"annotationdefaults\":{\"arrowcolor\":\"#2a3f5f\",\"arrowhead\":0,\"arrowwidth\":1},\"autotypenumbers\":\"strict\",\"coloraxis\":{\"colorbar\":{\"outlinewidth\":0,\"ticks\":\"\"}},\"colorscale\":{\"diverging\":[[0,\"#8e0152\"],[0.1,\"#c51b7d\"],[0.2,\"#de77ae\"],[0.3,\"#f1b6da\"],[0.4,\"#fde0ef\"],[0.5,\"#f7f7f7\"],[0.6,\"#e6f5d0\"],[0.7,\"#b8e186\"],[0.8,\"#7fbc41\"],[0.9,\"#4d9221\"],[1,\"#276419\"]],\"sequential\":[[0.0,\"#0d0887\"],[0.1111111111111111,\"#46039f\"],[0.2222222222222222,\"#7201a8\"],[0.3333333333333333,\"#9c179e\"],[0.4444444444444444,\"#bd3786\"],[0.5555555555555556,\"#d8576b\"],[0.6666666666666666,\"#ed7953\"],[0.7777777777777778,\"#fb9f3a\"],[0.8888888888888888,\"#fdca26\"],[1.0,\"#f0f921\"]],\"sequentialminus\":[[0.0,\"#0d0887\"],[0.1111111111111111,\"#46039f\"],[0.2222222222222222,\"#7201a8\"],[0.3333333333333333,\"#9c179e\"],[0.4444444444444444,\"#bd3786\"],[0.5555555555555556,\"#d8576b\"],[0.6666666666666666,\"#ed7953\"],[0.7777777777777778,\"#fb9f3a\"],[0.8888888888888888,\"#fdca26\"],[1.0,\"#f0f921\"]]},\"colorway\":[\"#636efa\",\"#EF553B\",\"#00cc96\",\"#ab63fa\",\"#FFA15A\",\"#19d3f3\",\"#FF6692\",\"#B6E880\",\"#FF97FF\",\"#FECB52\"],\"font\":{\"color\":\"#2a3f5f\"},\"geo\":{\"bgcolor\":\"white\",\"lakecolor\":\"white\",\"landcolor\":\"#E5ECF6\",\"showlakes\":true,\"showland\":true,\"subunitcolor\":\"white\"},\"hoverlabel\":{\"align\":\"left\"},\"hovermode\":\"closest\",\"mapbox\":{\"style\":\"light\"},\"paper_bgcolor\":\"white\",\"plot_bgcolor\":\"#E5ECF6\",\"polar\":{\"angularaxis\":{\"gridcolor\":\"white\",\"linecolor\":\"white\",\"ticks\":\"\"},\"bgcolor\":\"#E5ECF6\",\"radialaxis\":{\"gridcolor\":\"white\",\"linecolor\":\"white\",\"ticks\":\"\"}},\"scene\":{\"xaxis\":{\"backgroundcolor\":\"#E5ECF6\",\"gridcolor\":\"white\",\"gridwidth\":2,\"linecolor\":\"white\",\"showbackground\":true,\"ticks\":\"\",\"zerolinecolor\":\"white\"},\"yaxis\":{\"backgroundcolor\":\"#E5ECF6\",\"gridcolor\":\"white\",\"gridwidth\":2,\"linecolor\":\"white\",\"showbackground\":true,\"ticks\":\"\",\"zerolinecolor\":\"white\"},\"zaxis\":{\"backgroundcolor\":\"#E5ECF6\",\"gridcolor\":\"white\",\"gridwidth\":2,\"linecolor\":\"white\",\"showbackground\":true,\"ticks\":\"\",\"zerolinecolor\":\"white\"}},\"shapedefaults\":{\"line\":{\"color\":\"#2a3f5f\"}},\"ternary\":{\"aaxis\":{\"gridcolor\":\"white\",\"linecolor\":\"white\",\"ticks\":\"\"},\"baxis\":{\"gridcolor\":\"white\",\"linecolor\":\"white\",\"ticks\":\"\"},\"bgcolor\":\"#E5ECF6\",\"caxis\":{\"gridcolor\":\"white\",\"linecolor\":\"white\",\"ticks\":\"\"}},\"title\":{\"x\":0.05},\"xaxis\":{\"automargin\":true,\"gridcolor\":\"white\",\"linecolor\":\"white\",\"ticks\":\"\",\"title\":{\"standoff\":15},\"zerolinecolor\":\"white\",\"zerolinewidth\":2},\"yaxis\":{\"automargin\":true,\"gridcolor\":\"white\",\"linecolor\":\"white\",\"ticks\":\"\",\"title\":{\"standoff\":15},\"zerolinecolor\":\"white\",\"zerolinewidth\":2}}},\"geo\":{\"domain\":{\"x\":[0.0,1.0],\"y\":[0.0,1.0]},\"projection\":{\"type\":\"natural earth\"},\"center\":{}},\"coloraxis\":{\"colorbar\":{\"title\":{\"text\":\"happy_score\"}},\"colorscale\":[[0.0,\"#0d0887\"],[0.1111111111111111,\"#46039f\"],[0.2222222222222222,\"#7201a8\"],[0.3333333333333333,\"#9c179e\"],[0.4444444444444444,\"#bd3786\"],[0.5555555555555556,\"#d8576b\"],[0.6666666666666666,\"#ed7953\"],[0.7777777777777778,\"#fb9f3a\"],[0.8888888888888888,\"#fdca26\"],[1.0,\"#f0f921\"]]},\"legend\":{\"tracegroupgap\":0},\"margin\":{\"t\":60},\"font\":{\"family\":\"San Serif\"},\"title\":{\"text\":\"World Happiness Index\",\"font\":{\"size\":25}}},                        {\"responsive\": true}                    ).then(function(){\n                            \nvar gd = document.getElementById('8d5383d4-cce2-4e30-a4a9-7aa805c868da');\nvar x = new MutationObserver(function (mutations, observer) {{\n        var display = window.getComputedStyle(gd).display;\n        if (!display || display === 'none') {{\n            console.log([gd, 'removed!']);\n            Plotly.purge(gd);\n            observer.disconnect();\n        }}\n}});\n\n// Listen for the removal of the full notebook cells\nvar notebookContainer = gd.closest('#notebook-container');\nif (notebookContainer) {{\n    x.observe(notebookContainer, {childList: true});\n}}\n\n// Listen for the clearing of the current output cell\nvar outputEl = gd.closest('.output');\nif (outputEl) {{\n    x.observe(outputEl, {childList: true});\n}}\n\n                        })                };                            </script>        </div>\n</body>\n</html>"
     },
     "execution_count": 16,
     "metadata": {
     },
     "output_type": "execute_result"
    }
   ],
   "source": [
    "fig=px.choropleth(happy_2021_df_copy, locations=\"CODE\", color=\"happy_score\",\n",
    "                 hover_name=\"Country name\",color_continuous_scale=px.colors.sequential.Plasma,projection=\"natural earth\")\n",
    "\n",
    "fig.update_layout(title=\"World Happiness Index\",\n",
    "                 font_family=\"San Serif\",\n",
    "                titlefont={\"size\":25})\n",
    "\n",
    "\n",
    "fig.show()"
   ]
  },
  {
   "cell_type": "markdown",
   "metadata": {
    "collapsed": false
   },
   "source": [
    "<h2> <a id = \"heatmap\"> Heatmap</a> </h2>\n",
    "\n",
    "- By using plotly and data visualization skills through the pandas library we have created a heatmap using the 2021 Happiness Index dataset. The goal of the following heatmap is to convey which columns (different factors) have a stronger correlation to “happy_score” in our data set.\n",
    "- Similar to the world map, darker colors show a lower (negative) correlation, while the lighter colors show a higher (positive) correlation.\n",
    "- As seen in the heatmap, the **“Logged GDP per Capita”** has the highest (positive) correlation to the happiness score, this tells us that as GDP per Capita increases so does the Happiness score. The column, **Perception of Corruption**, has the lowest (negative) correlation. With the negative value associated, we cannot use this column to make a fair judgement about the happiness index.\n",
    "\n"
   ]
  },
  {
   "cell_type": "code",
   "execution_count": 17,
   "metadata": {
    "collapsed": false
   },
   "outputs": [
    {
     "data": {
      "text/html": "<html>\n<head><meta charset=\"utf-8\" /></head>\n<body>\n    <div>            <script src=\"https://cdnjs.cloudflare.com/ajax/libs/mathjax/2.7.5/MathJax.js?config=TeX-AMS-MML_SVG\"></script><script type=\"text/javascript\">if (window.MathJax) {MathJax.Hub.Config({SVG: {font: \"STIX-Web\"}});}</script>                <script type=\"text/javascript\">window.PlotlyConfig = {MathJaxConfig: 'local'};</script>\n        <script src=\"https://cdn.plot.ly/plotly-2.9.0.min.js\"></script>                <div id=\"08d7a156-b9f6-46a0-a686-75dbf28128dc\" class=\"plotly-graph-div\" style=\"height:600px; width:700px;\"></div>            <script type=\"text/javascript\">                                    window.PLOTLYENV=window.PLOTLYENV || {};                                    if (document.getElementById(\"08d7a156-b9f6-46a0-a686-75dbf28128dc\")) {                    Plotly.newPlot(                        \"08d7a156-b9f6-46a0-a686-75dbf28128dc\",                        [{\"colorscale\":[[0.0,\"rgb(243, 231, 155)\"],[0.16666666666666666,\"rgb(250, 196, 132)\"],[0.3333333333333333,\"rgb(248, 160, 126)\"],[0.5,\"rgb(235, 127, 134)\"],[0.6666666666666666,\"rgb(206, 102, 147)\"],[0.8333333333333334,\"rgb(160, 89, 160)\"],[1.0,\"rgb(92, 83, 165)\"]],\"hoverinfo\":\"z\",\"reversescale\":false,\"showscale\":false,\"x\":[\"happy_score\",\"Logged GDP per capita\",\"Social support\",\"Healthy life expectancy\",\"Freedom to make life choices\",\"Generosity\",\"Perceptions of corruption\"],\"y\":[\"happy_score\",\"Logged GDP per capita\",\"Social support\",\"Healthy life expectancy\",\"Freedom to make life choices\",\"Generosity\",\"Perceptions of corruption\"],\"z\":[[1.0,0.7897596965098929,0.7568876453634998,0.7680994550105212,0.6077530656580243,-0.017799276922640522,-0.42113999673857866],[0.7897596965098929,1.0,0.7852986839240533,0.8594606242792721,0.4323234850213139,-0.19928639866393488,-0.34233741981567845],[0.7568876453634998,0.7852986839240533,1.0,0.7232561311738969,0.4829297690676072,-0.1149458544589379,-0.20320698327684902],[0.7680994550105212,0.8594606242792721,0.7232561311738969,1.0,0.46149386993825575,-0.16175028008919015,-0.36437352741167867],[0.6077530656580243,0.4323234850213139,0.4829297690676072,0.46149386993825575,1.0,0.1694373744816964,-0.4013629683428172],[-0.017799276922640522,-0.19928639866393488,-0.1149458544589379,-0.16175028008919015,0.1694373744816964,1.0,-0.163961728842522],[-0.42113999673857866,-0.34233741981567845,-0.20320698327684902,-0.36437352741167867,-0.4013629683428172,-0.163961728842522,1.0]],\"type\":\"heatmap\"}],                        {\"annotations\":[{\"font\":{\"color\":\"#FFFFFF\"},\"showarrow\":false,\"text\":\"1.0\",\"x\":\"happy_score\",\"xref\":\"x\",\"y\":\"happy_score\",\"yref\":\"y\"},{\"font\":{\"color\":\"#FFFFFF\"},\"showarrow\":false,\"text\":\"0.79\",\"x\":\"Logged GDP per capita\",\"xref\":\"x\",\"y\":\"happy_score\",\"yref\":\"y\"},{\"font\":{\"color\":\"#FFFFFF\"},\"showarrow\":false,\"text\":\"0.76\",\"x\":\"Social support\",\"xref\":\"x\",\"y\":\"happy_score\",\"yref\":\"y\"},{\"font\":{\"color\":\"#FFFFFF\"},\"showarrow\":false,\"text\":\"0.77\",\"x\":\"Healthy life expectancy\",\"xref\":\"x\",\"y\":\"happy_score\",\"yref\":\"y\"},{\"font\":{\"color\":\"#FFFFFF\"},\"showarrow\":false,\"text\":\"0.61\",\"x\":\"Freedom to make life choices\",\"xref\":\"x\",\"y\":\"happy_score\",\"yref\":\"y\"},{\"font\":{\"color\":\"#000000\"},\"showarrow\":false,\"text\":\"-0.02\",\"x\":\"Generosity\",\"xref\":\"x\",\"y\":\"happy_score\",\"yref\":\"y\"},{\"font\":{\"color\":\"#000000\"},\"showarrow\":false,\"text\":\"-0.42\",\"x\":\"Perceptions of corruption\",\"xref\":\"x\",\"y\":\"happy_score\",\"yref\":\"y\"},{\"font\":{\"color\":\"#FFFFFF\"},\"showarrow\":false,\"text\":\"0.79\",\"x\":\"happy_score\",\"xref\":\"x\",\"y\":\"Logged GDP per capita\",\"yref\":\"y\"},{\"font\":{\"color\":\"#FFFFFF\"},\"showarrow\":false,\"text\":\"1.0\",\"x\":\"Logged GDP per capita\",\"xref\":\"x\",\"y\":\"Logged GDP per capita\",\"yref\":\"y\"},{\"font\":{\"color\":\"#FFFFFF\"},\"showarrow\":false,\"text\":\"0.79\",\"x\":\"Social support\",\"xref\":\"x\",\"y\":\"Logged GDP per capita\",\"yref\":\"y\"},{\"font\":{\"color\":\"#FFFFFF\"},\"showarrow\":false,\"text\":\"0.86\",\"x\":\"Healthy life expectancy\",\"xref\":\"x\",\"y\":\"Logged GDP per capita\",\"yref\":\"y\"},{\"font\":{\"color\":\"#FFFFFF\"},\"showarrow\":false,\"text\":\"0.43\",\"x\":\"Freedom to make life choices\",\"xref\":\"x\",\"y\":\"Logged GDP per capita\",\"yref\":\"y\"},{\"font\":{\"color\":\"#000000\"},\"showarrow\":false,\"text\":\"-0.2\",\"x\":\"Generosity\",\"xref\":\"x\",\"y\":\"Logged GDP per capita\",\"yref\":\"y\"},{\"font\":{\"color\":\"#000000\"},\"showarrow\":false,\"text\":\"-0.34\",\"x\":\"Perceptions of corruption\",\"xref\":\"x\",\"y\":\"Logged GDP per capita\",\"yref\":\"y\"},{\"font\":{\"color\":\"#FFFFFF\"},\"showarrow\":false,\"text\":\"0.76\",\"x\":\"happy_score\",\"xref\":\"x\",\"y\":\"Social support\",\"yref\":\"y\"},{\"font\":{\"color\":\"#FFFFFF\"},\"showarrow\":false,\"text\":\"0.79\",\"x\":\"Logged GDP per capita\",\"xref\":\"x\",\"y\":\"Social support\",\"yref\":\"y\"},{\"font\":{\"color\":\"#FFFFFF\"},\"showarrow\":false,\"text\":\"1.0\",\"x\":\"Social support\",\"xref\":\"x\",\"y\":\"Social support\",\"yref\":\"y\"},{\"font\":{\"color\":\"#FFFFFF\"},\"showarrow\":false,\"text\":\"0.72\",\"x\":\"Healthy life expectancy\",\"xref\":\"x\",\"y\":\"Social support\",\"yref\":\"y\"},{\"font\":{\"color\":\"#FFFFFF\"},\"showarrow\":false,\"text\":\"0.48\",\"x\":\"Freedom to make life choices\",\"xref\":\"x\",\"y\":\"Social support\",\"yref\":\"y\"},{\"font\":{\"color\":\"#000000\"},\"showarrow\":false,\"text\":\"-0.11\",\"x\":\"Generosity\",\"xref\":\"x\",\"y\":\"Social support\",\"yref\":\"y\"},{\"font\":{\"color\":\"#000000\"},\"showarrow\":false,\"text\":\"-0.2\",\"x\":\"Perceptions of corruption\",\"xref\":\"x\",\"y\":\"Social support\",\"yref\":\"y\"},{\"font\":{\"color\":\"#FFFFFF\"},\"showarrow\":false,\"text\":\"0.77\",\"x\":\"happy_score\",\"xref\":\"x\",\"y\":\"Healthy life expectancy\",\"yref\":\"y\"},{\"font\":{\"color\":\"#FFFFFF\"},\"showarrow\":false,\"text\":\"0.86\",\"x\":\"Logged GDP per capita\",\"xref\":\"x\",\"y\":\"Healthy life expectancy\",\"yref\":\"y\"},{\"font\":{\"color\":\"#FFFFFF\"},\"showarrow\":false,\"text\":\"0.72\",\"x\":\"Social support\",\"xref\":\"x\",\"y\":\"Healthy life expectancy\",\"yref\":\"y\"},{\"font\":{\"color\":\"#FFFFFF\"},\"showarrow\":false,\"text\":\"1.0\",\"x\":\"Healthy life expectancy\",\"xref\":\"x\",\"y\":\"Healthy life expectancy\",\"yref\":\"y\"},{\"font\":{\"color\":\"#FFFFFF\"},\"showarrow\":false,\"text\":\"0.46\",\"x\":\"Freedom to make life choices\",\"xref\":\"x\",\"y\":\"Healthy life expectancy\",\"yref\":\"y\"},{\"font\":{\"color\":\"#000000\"},\"showarrow\":false,\"text\":\"-0.16\",\"x\":\"Generosity\",\"xref\":\"x\",\"y\":\"Healthy life expectancy\",\"yref\":\"y\"},{\"font\":{\"color\":\"#000000\"},\"showarrow\":false,\"text\":\"-0.36\",\"x\":\"Perceptions of corruption\",\"xref\":\"x\",\"y\":\"Healthy life expectancy\",\"yref\":\"y\"},{\"font\":{\"color\":\"#FFFFFF\"},\"showarrow\":false,\"text\":\"0.61\",\"x\":\"happy_score\",\"xref\":\"x\",\"y\":\"Freedom to make life choices\",\"yref\":\"y\"},{\"font\":{\"color\":\"#FFFFFF\"},\"showarrow\":false,\"text\":\"0.43\",\"x\":\"Logged GDP per capita\",\"xref\":\"x\",\"y\":\"Freedom to make life choices\",\"yref\":\"y\"},{\"font\":{\"color\":\"#FFFFFF\"},\"showarrow\":false,\"text\":\"0.48\",\"x\":\"Social support\",\"xref\":\"x\",\"y\":\"Freedom to make life choices\",\"yref\":\"y\"},{\"font\":{\"color\":\"#FFFFFF\"},\"showarrow\":false,\"text\":\"0.46\",\"x\":\"Healthy life expectancy\",\"xref\":\"x\",\"y\":\"Freedom to make life choices\",\"yref\":\"y\"},{\"font\":{\"color\":\"#FFFFFF\"},\"showarrow\":false,\"text\":\"1.0\",\"x\":\"Freedom to make life choices\",\"xref\":\"x\",\"y\":\"Freedom to make life choices\",\"yref\":\"y\"},{\"font\":{\"color\":\"#000000\"},\"showarrow\":false,\"text\":\"0.17\",\"x\":\"Generosity\",\"xref\":\"x\",\"y\":\"Freedom to make life choices\",\"yref\":\"y\"},{\"font\":{\"color\":\"#000000\"},\"showarrow\":false,\"text\":\"-0.4\",\"x\":\"Perceptions of corruption\",\"xref\":\"x\",\"y\":\"Freedom to make life choices\",\"yref\":\"y\"},{\"font\":{\"color\":\"#000000\"},\"showarrow\":false,\"text\":\"-0.02\",\"x\":\"happy_score\",\"xref\":\"x\",\"y\":\"Generosity\",\"yref\":\"y\"},{\"font\":{\"color\":\"#000000\"},\"showarrow\":false,\"text\":\"-0.2\",\"x\":\"Logged GDP per capita\",\"xref\":\"x\",\"y\":\"Generosity\",\"yref\":\"y\"},{\"font\":{\"color\":\"#000000\"},\"showarrow\":false,\"text\":\"-0.11\",\"x\":\"Social support\",\"xref\":\"x\",\"y\":\"Generosity\",\"yref\":\"y\"},{\"font\":{\"color\":\"#000000\"},\"showarrow\":false,\"text\":\"-0.16\",\"x\":\"Healthy life expectancy\",\"xref\":\"x\",\"y\":\"Generosity\",\"yref\":\"y\"},{\"font\":{\"color\":\"#000000\"},\"showarrow\":false,\"text\":\"0.17\",\"x\":\"Freedom to make life choices\",\"xref\":\"x\",\"y\":\"Generosity\",\"yref\":\"y\"},{\"font\":{\"color\":\"#FFFFFF\"},\"showarrow\":false,\"text\":\"1.0\",\"x\":\"Generosity\",\"xref\":\"x\",\"y\":\"Generosity\",\"yref\":\"y\"},{\"font\":{\"color\":\"#000000\"},\"showarrow\":false,\"text\":\"-0.16\",\"x\":\"Perceptions of corruption\",\"xref\":\"x\",\"y\":\"Generosity\",\"yref\":\"y\"},{\"font\":{\"color\":\"#000000\"},\"showarrow\":false,\"text\":\"-0.42\",\"x\":\"happy_score\",\"xref\":\"x\",\"y\":\"Perceptions of corruption\",\"yref\":\"y\"},{\"font\":{\"color\":\"#000000\"},\"showarrow\":false,\"text\":\"-0.34\",\"x\":\"Logged GDP per capita\",\"xref\":\"x\",\"y\":\"Perceptions of corruption\",\"yref\":\"y\"},{\"font\":{\"color\":\"#000000\"},\"showarrow\":false,\"text\":\"-0.2\",\"x\":\"Social support\",\"xref\":\"x\",\"y\":\"Perceptions of corruption\",\"yref\":\"y\"},{\"font\":{\"color\":\"#000000\"},\"showarrow\":false,\"text\":\"-0.36\",\"x\":\"Healthy life expectancy\",\"xref\":\"x\",\"y\":\"Perceptions of corruption\",\"yref\":\"y\"},{\"font\":{\"color\":\"#000000\"},\"showarrow\":false,\"text\":\"-0.4\",\"x\":\"Freedom to make life choices\",\"xref\":\"x\",\"y\":\"Perceptions of corruption\",\"yref\":\"y\"},{\"font\":{\"color\":\"#000000\"},\"showarrow\":false,\"text\":\"-0.16\",\"x\":\"Generosity\",\"xref\":\"x\",\"y\":\"Perceptions of corruption\",\"yref\":\"y\"},{\"font\":{\"color\":\"#FFFFFF\"},\"showarrow\":false,\"text\":\"1.0\",\"x\":\"Perceptions of corruption\",\"xref\":\"x\",\"y\":\"Perceptions of corruption\",\"yref\":\"y\"}],\"xaxis\":{\"dtick\":1,\"gridcolor\":\"rgb(0, 0, 0)\",\"side\":\"top\",\"ticks\":\"\"},\"yaxis\":{\"dtick\":1,\"ticks\":\"\",\"ticksuffix\":\"  \"},\"template\":{\"data\":{\"bar\":[{\"error_x\":{\"color\":\"#2a3f5f\"},\"error_y\":{\"color\":\"#2a3f5f\"},\"marker\":{\"line\":{\"color\":\"#E5ECF6\",\"width\":0.5},\"pattern\":{\"fillmode\":\"overlay\",\"size\":10,\"solidity\":0.2}},\"type\":\"bar\"}],\"barpolar\":[{\"marker\":{\"line\":{\"color\":\"#E5ECF6\",\"width\":0.5},\"pattern\":{\"fillmode\":\"overlay\",\"size\":10,\"solidity\":0.2}},\"type\":\"barpolar\"}],\"carpet\":[{\"aaxis\":{\"endlinecolor\":\"#2a3f5f\",\"gridcolor\":\"white\",\"linecolor\":\"white\",\"minorgridcolor\":\"white\",\"startlinecolor\":\"#2a3f5f\"},\"baxis\":{\"endlinecolor\":\"#2a3f5f\",\"gridcolor\":\"white\",\"linecolor\":\"white\",\"minorgridcolor\":\"white\",\"startlinecolor\":\"#2a3f5f\"},\"type\":\"carpet\"}],\"choropleth\":[{\"colorbar\":{\"outlinewidth\":0,\"ticks\":\"\"},\"type\":\"choropleth\"}],\"contour\":[{\"colorbar\":{\"outlinewidth\":0,\"ticks\":\"\"},\"colorscale\":[[0.0,\"#0d0887\"],[0.1111111111111111,\"#46039f\"],[0.2222222222222222,\"#7201a8\"],[0.3333333333333333,\"#9c179e\"],[0.4444444444444444,\"#bd3786\"],[0.5555555555555556,\"#d8576b\"],[0.6666666666666666,\"#ed7953\"],[0.7777777777777778,\"#fb9f3a\"],[0.8888888888888888,\"#fdca26\"],[1.0,\"#f0f921\"]],\"type\":\"contour\"}],\"contourcarpet\":[{\"colorbar\":{\"outlinewidth\":0,\"ticks\":\"\"},\"type\":\"contourcarpet\"}],\"heatmap\":[{\"colorbar\":{\"outlinewidth\":0,\"ticks\":\"\"},\"colorscale\":[[0.0,\"#0d0887\"],[0.1111111111111111,\"#46039f\"],[0.2222222222222222,\"#7201a8\"],[0.3333333333333333,\"#9c179e\"],[0.4444444444444444,\"#bd3786\"],[0.5555555555555556,\"#d8576b\"],[0.6666666666666666,\"#ed7953\"],[0.7777777777777778,\"#fb9f3a\"],[0.8888888888888888,\"#fdca26\"],[1.0,\"#f0f921\"]],\"type\":\"heatmap\"}],\"heatmapgl\":[{\"colorbar\":{\"outlinewidth\":0,\"ticks\":\"\"},\"colorscale\":[[0.0,\"#0d0887\"],[0.1111111111111111,\"#46039f\"],[0.2222222222222222,\"#7201a8\"],[0.3333333333333333,\"#9c179e\"],[0.4444444444444444,\"#bd3786\"],[0.5555555555555556,\"#d8576b\"],[0.6666666666666666,\"#ed7953\"],[0.7777777777777778,\"#fb9f3a\"],[0.8888888888888888,\"#fdca26\"],[1.0,\"#f0f921\"]],\"type\":\"heatmapgl\"}],\"histogram\":[{\"marker\":{\"pattern\":{\"fillmode\":\"overlay\",\"size\":10,\"solidity\":0.2}},\"type\":\"histogram\"}],\"histogram2d\":[{\"colorbar\":{\"outlinewidth\":0,\"ticks\":\"\"},\"colorscale\":[[0.0,\"#0d0887\"],[0.1111111111111111,\"#46039f\"],[0.2222222222222222,\"#7201a8\"],[0.3333333333333333,\"#9c179e\"],[0.4444444444444444,\"#bd3786\"],[0.5555555555555556,\"#d8576b\"],[0.6666666666666666,\"#ed7953\"],[0.7777777777777778,\"#fb9f3a\"],[0.8888888888888888,\"#fdca26\"],[1.0,\"#f0f921\"]],\"type\":\"histogram2d\"}],\"histogram2dcontour\":[{\"colorbar\":{\"outlinewidth\":0,\"ticks\":\"\"},\"colorscale\":[[0.0,\"#0d0887\"],[0.1111111111111111,\"#46039f\"],[0.2222222222222222,\"#7201a8\"],[0.3333333333333333,\"#9c179e\"],[0.4444444444444444,\"#bd3786\"],[0.5555555555555556,\"#d8576b\"],[0.6666666666666666,\"#ed7953\"],[0.7777777777777778,\"#fb9f3a\"],[0.8888888888888888,\"#fdca26\"],[1.0,\"#f0f921\"]],\"type\":\"histogram2dcontour\"}],\"mesh3d\":[{\"colorbar\":{\"outlinewidth\":0,\"ticks\":\"\"},\"type\":\"mesh3d\"}],\"parcoords\":[{\"line\":{\"colorbar\":{\"outlinewidth\":0,\"ticks\":\"\"}},\"type\":\"parcoords\"}],\"pie\":[{\"automargin\":true,\"type\":\"pie\"}],\"scatter\":[{\"marker\":{\"colorbar\":{\"outlinewidth\":0,\"ticks\":\"\"}},\"type\":\"scatter\"}],\"scatter3d\":[{\"line\":{\"colorbar\":{\"outlinewidth\":0,\"ticks\":\"\"}},\"marker\":{\"colorbar\":{\"outlinewidth\":0,\"ticks\":\"\"}},\"type\":\"scatter3d\"}],\"scattercarpet\":[{\"marker\":{\"colorbar\":{\"outlinewidth\":0,\"ticks\":\"\"}},\"type\":\"scattercarpet\"}],\"scattergeo\":[{\"marker\":{\"colorbar\":{\"outlinewidth\":0,\"ticks\":\"\"}},\"type\":\"scattergeo\"}],\"scattergl\":[{\"marker\":{\"colorbar\":{\"outlinewidth\":0,\"ticks\":\"\"}},\"type\":\"scattergl\"}],\"scattermapbox\":[{\"marker\":{\"colorbar\":{\"outlinewidth\":0,\"ticks\":\"\"}},\"type\":\"scattermapbox\"}],\"scatterpolar\":[{\"marker\":{\"colorbar\":{\"outlinewidth\":0,\"ticks\":\"\"}},\"type\":\"scatterpolar\"}],\"scatterpolargl\":[{\"marker\":{\"colorbar\":{\"outlinewidth\":0,\"ticks\":\"\"}},\"type\":\"scatterpolargl\"}],\"scatterternary\":[{\"marker\":{\"colorbar\":{\"outlinewidth\":0,\"ticks\":\"\"}},\"type\":\"scatterternary\"}],\"surface\":[{\"colorbar\":{\"outlinewidth\":0,\"ticks\":\"\"},\"colorscale\":[[0.0,\"#0d0887\"],[0.1111111111111111,\"#46039f\"],[0.2222222222222222,\"#7201a8\"],[0.3333333333333333,\"#9c179e\"],[0.4444444444444444,\"#bd3786\"],[0.5555555555555556,\"#d8576b\"],[0.6666666666666666,\"#ed7953\"],[0.7777777777777778,\"#fb9f3a\"],[0.8888888888888888,\"#fdca26\"],[1.0,\"#f0f921\"]],\"type\":\"surface\"}],\"table\":[{\"cells\":{\"fill\":{\"color\":\"#EBF0F8\"},\"line\":{\"color\":\"white\"}},\"header\":{\"fill\":{\"color\":\"#C8D4E3\"},\"line\":{\"color\":\"white\"}},\"type\":\"table\"}]},\"layout\":{\"annotationdefaults\":{\"arrowcolor\":\"#2a3f5f\",\"arrowhead\":0,\"arrowwidth\":1},\"autotypenumbers\":\"strict\",\"coloraxis\":{\"colorbar\":{\"outlinewidth\":0,\"ticks\":\"\"}},\"colorscale\":{\"diverging\":[[0,\"#8e0152\"],[0.1,\"#c51b7d\"],[0.2,\"#de77ae\"],[0.3,\"#f1b6da\"],[0.4,\"#fde0ef\"],[0.5,\"#f7f7f7\"],[0.6,\"#e6f5d0\"],[0.7,\"#b8e186\"],[0.8,\"#7fbc41\"],[0.9,\"#4d9221\"],[1,\"#276419\"]],\"sequential\":[[0.0,\"#0d0887\"],[0.1111111111111111,\"#46039f\"],[0.2222222222222222,\"#7201a8\"],[0.3333333333333333,\"#9c179e\"],[0.4444444444444444,\"#bd3786\"],[0.5555555555555556,\"#d8576b\"],[0.6666666666666666,\"#ed7953\"],[0.7777777777777778,\"#fb9f3a\"],[0.8888888888888888,\"#fdca26\"],[1.0,\"#f0f921\"]],\"sequentialminus\":[[0.0,\"#0d0887\"],[0.1111111111111111,\"#46039f\"],[0.2222222222222222,\"#7201a8\"],[0.3333333333333333,\"#9c179e\"],[0.4444444444444444,\"#bd3786\"],[0.5555555555555556,\"#d8576b\"],[0.6666666666666666,\"#ed7953\"],[0.7777777777777778,\"#fb9f3a\"],[0.8888888888888888,\"#fdca26\"],[1.0,\"#f0f921\"]]},\"colorway\":[\"#636efa\",\"#EF553B\",\"#00cc96\",\"#ab63fa\",\"#FFA15A\",\"#19d3f3\",\"#FF6692\",\"#B6E880\",\"#FF97FF\",\"#FECB52\"],\"font\":{\"color\":\"#2a3f5f\"},\"geo\":{\"bgcolor\":\"white\",\"lakecolor\":\"white\",\"landcolor\":\"#E5ECF6\",\"showlakes\":true,\"showland\":true,\"subunitcolor\":\"white\"},\"hoverlabel\":{\"align\":\"left\"},\"hovermode\":\"closest\",\"mapbox\":{\"style\":\"light\"},\"paper_bgcolor\":\"white\",\"plot_bgcolor\":\"#E5ECF6\",\"polar\":{\"angularaxis\":{\"gridcolor\":\"white\",\"linecolor\":\"white\",\"ticks\":\"\"},\"bgcolor\":\"#E5ECF6\",\"radialaxis\":{\"gridcolor\":\"white\",\"linecolor\":\"white\",\"ticks\":\"\"}},\"scene\":{\"xaxis\":{\"backgroundcolor\":\"#E5ECF6\",\"gridcolor\":\"white\",\"gridwidth\":2,\"linecolor\":\"white\",\"showbackground\":true,\"ticks\":\"\",\"zerolinecolor\":\"white\"},\"yaxis\":{\"backgroundcolor\":\"#E5ECF6\",\"gridcolor\":\"white\",\"gridwidth\":2,\"linecolor\":\"white\",\"showbackground\":true,\"ticks\":\"\",\"zerolinecolor\":\"white\"},\"zaxis\":{\"backgroundcolor\":\"#E5ECF6\",\"gridcolor\":\"white\",\"gridwidth\":2,\"linecolor\":\"white\",\"showbackground\":true,\"ticks\":\"\",\"zerolinecolor\":\"white\"}},\"shapedefaults\":{\"line\":{\"color\":\"#2a3f5f\"}},\"ternary\":{\"aaxis\":{\"gridcolor\":\"white\",\"linecolor\":\"white\",\"ticks\":\"\"},\"baxis\":{\"gridcolor\":\"white\",\"linecolor\":\"white\",\"ticks\":\"\"},\"bgcolor\":\"#E5ECF6\",\"caxis\":{\"gridcolor\":\"white\",\"linecolor\":\"white\",\"ticks\":\"\"}},\"title\":{\"x\":0.05},\"xaxis\":{\"automargin\":true,\"gridcolor\":\"white\",\"linecolor\":\"white\",\"ticks\":\"\",\"title\":{\"standoff\":15},\"zerolinecolor\":\"white\",\"zerolinewidth\":2},\"yaxis\":{\"automargin\":true,\"gridcolor\":\"white\",\"linecolor\":\"white\",\"ticks\":\"\",\"title\":{\"standoff\":15},\"zerolinecolor\":\"white\",\"zerolinewidth\":2}}},\"autosize\":false,\"width\":700,\"height\":600},                        {\"responsive\": true}                    ).then(function(){\n                            \nvar gd = document.getElementById('08d7a156-b9f6-46a0-a686-75dbf28128dc');\nvar x = new MutationObserver(function (mutations, observer) {{\n        var display = window.getComputedStyle(gd).display;\n        if (!display || display === 'none') {{\n            console.log([gd, 'removed!']);\n            Plotly.purge(gd);\n            observer.disconnect();\n        }}\n}});\n\n// Listen for the removal of the full notebook cells\nvar notebookContainer = gd.closest('#notebook-container');\nif (notebookContainer) {{\n    x.observe(notebookContainer, {childList: true});\n}}\n\n// Listen for the clearing of the current output cell\nvar outputEl = gd.closest('.output');\nif (outputEl) {{\n    x.observe(outputEl, {childList: true});\n}}\n\n                        })                };                            </script>        </div>\n</body>\n</html>"
     },
     "execution_count": 17,
     "metadata": {
     },
     "output_type": "execute_result"
    }
   ],
   "source": [
    "df_corr = happy_2021_df.corr()\n",
    "\n",
    "x = list(df_corr.columns)\n",
    "y = list(df_corr.index)\n",
    "z = np.array(df_corr)\n",
    "\n",
    "fig = ff.create_annotated_heatmap(\n",
    "    z,\n",
    "    x = x,\n",
    "    y = y ,\n",
    "    annotation_text = np.around(z, decimals=2),\n",
    "    hoverinfo='z',\n",
    "    colorscale='sunset'\n",
    "    )\n",
    "\n",
    "fig.update_layout(\n",
    "    autosize=False,\n",
    "    width=700,\n",
    "    height=600,\n",
    "   )\n",
    "fig.show()\n"
   ]
  },
  {
   "cell_type": "markdown",
   "metadata": {
    "collapsed": false
   },
   "source": [
    "<h2> <a id = \"GDP\"> GDP and Happiness Score Variation by Continents in the Year 2021</a> </h2>\n",
    "\n",
    "- In order to analyze which factors have an impact on the happiness index and answer our research question, we developed a scatter plot to visualize the trend/correlation of GDP and the Happy Score. \n",
    "- We plotted the GDP on the x-axis and the Happy Score on the y-axis. To further analyze this data, we assigned the Continents column to the color attribute and assigned “Freedom to make choices” to the size. \n",
    "- With GDP measuring the monetary value of goods and services of countries, we can see how countries like **Afghanistan** appear lower on the plot due to recent terrorist activities taking place in the country which restricts freedom and decreases happiness. \n",
    "\n"
   ]
  },
  {
   "cell_type": "code",
   "execution_count": 18,
   "metadata": {
    "collapsed": false
   },
   "outputs": [
    {
     "data": {
      "text/html": "<html>\n<head><meta charset=\"utf-8\" /></head>\n<body>\n    <div>            <script src=\"https://cdnjs.cloudflare.com/ajax/libs/mathjax/2.7.5/MathJax.js?config=TeX-AMS-MML_SVG\"></script><script type=\"text/javascript\">if (window.MathJax) {MathJax.Hub.Config({SVG: {font: \"STIX-Web\"}});}</script>                <script type=\"text/javascript\">window.PlotlyConfig = {MathJaxConfig: 'local'};</script>\n        <script src=\"https://cdn.plot.ly/plotly-2.9.0.min.js\"></script>                <div id=\"2dcc97f0-52b9-40ce-8e1d-29f46c005b66\" class=\"plotly-graph-div\" style=\"height:525px; width:100%;\"></div>            <script type=\"text/javascript\">                                    window.PLOTLYENV=window.PLOTLYENV || {};                                    if (document.getElementById(\"2dcc97f0-52b9-40ce-8e1d-29f46c005b66\")) {                    Plotly.newPlot(                        \"2dcc97f0-52b9-40ce-8e1d-29f46c005b66\",                        [{\"customdata\":[[\"Finland\"],[\"Denmark\"],[\"Switzerland\"],[\"Iceland\"],[\"Netherlands\"],[\"Norway\"],[\"Sweden\"],[\"Luxembourg\"],[\"Austria\"],[\"Germany\"],[\"Ireland\"],[\"United Kingdom\"],[\"Czech Republic\"],[\"Belgium\"],[\"France\"],[\"Malta\"],[\"Spain\"],[\"Italy\"],[\"Slovenia\"],[\"Kosovo\"],[\"Slovakia\"],[\"Lithuania\"],[\"Cyprus\"],[\"Estonia\"],[\"Poland\"],[\"Romania\"],[\"Serbia\"],[\"Latvia\"],[\"Hungary\"],[\"Portugal\"],[\"Croatia\"],[\"Bosnia and Herzegovina\"],[\"Moldova\"],[\"Greece\"],[\"Montenegro\"],[\"North Cyprus\"],[\"Belarus\"],[\"Russia\"],[\"Bulgaria\"],[\"Albania\"],[\"North Macedonia\"],[\"Georgia\"],[\"Ukraine\"]],\"hovertemplate\":\"Continents=Europe<br>Logged GDP per capita=%{x}<br>happy_score=%{y}<br>Freedom to make life choices=%{marker.size}<br>Country name=%{customdata[0]}<extra></extra>\",\"legendgroup\":\"Europe\",\"marker\":{\"color\":\"#636efa\",\"size\":[0.949,0.946,0.919,0.955,0.913,0.96,0.945,0.907,0.908,0.875,0.879,0.859,0.858,0.783,0.822,0.927,0.761,0.693,0.949,0.869,0.766,0.773,0.763,0.909,0.841,0.845,0.778,0.715,0.755,0.892,0.754,0.706,0.822,0.582,0.708,0.795,0.65,0.718,0.788,0.785,0.751,0.783,0.724],\"sizemode\":\"area\",\"sizeref\":0.002425,\"symbol\":\"circle\"},\"mode\":\"markers\",\"name\":\"Europe\",\"orientation\":\"v\",\"showlegend\":true,\"x\":[10.775,10.933,11.117,10.878,10.932,11.053,10.867,11.647,10.906,10.873,11.342,10.707,10.556,10.823,10.704,10.674,10.571,10.623,10.529,9.318,10.369,10.499,10.576,10.481,10.382,10.284,9.787,10.315,10.358,10.421,10.217,9.59,9.454,10.279,9.94,10.576,9.853,10.189,10.016,9.52,9.693,9.585,9.436],\"xaxis\":\"x\",\"y\":[7.842,7.62,7.571,7.554,7.464,7.392,7.363,7.324,7.268,7.155,7.085,7.064,6.965,6.834,6.69,6.602,6.491,6.483,6.461,6.372,6.331,6.255,6.223,6.189,6.166,6.14,6.078,6.032,5.992,5.929,5.882,5.813,5.766,5.723,5.581,5.536,5.534,5.477,5.266,5.117,5.101,4.891,4.875],\"yaxis\":\"y\",\"type\":\"scatter\"},{\"customdata\":[[\"New Zealand\"],[\"Australia\"]],\"hovertemplate\":\"Continents=Oceania<br>Logged GDP per capita=%{x}<br>happy_score=%{y}<br>Freedom to make life choices=%{marker.size}<br>Country name=%{customdata[0]}<extra></extra>\",\"legendgroup\":\"Oceania\",\"marker\":{\"color\":\"#EF553B\",\"size\":[0.929,0.914],\"sizemode\":\"area\",\"sizeref\":0.002425,\"symbol\":\"circle\"},\"mode\":\"markers\",\"name\":\"Oceania\",\"orientation\":\"v\",\"showlegend\":true,\"x\":[10.643,10.796],\"xaxis\":\"x\",\"y\":[7.277,7.183],\"yaxis\":\"y\",\"type\":\"scatter\"},{\"customdata\":[[\"Israel\"],[\"Bahrain\"],[\"United Arab Emirates\"],[\"Saudi Arabia\"],[\"Kuwait\"],[\"Mauritius\"],[\"Libya\"],[\"Congo (Brazzaville)\"],[\"Ivory Coast\"],[\"Cameroon\"],[\"Senegal\"],[\"Ghana\"],[\"Niger\"],[\"Gambia\"],[\"Benin\"],[\"Guinea\"],[\"South Africa\"],[\"Turkey\"],[\"Morocco\"],[\"Algeria\"],[\"Iraq\"],[\"Gabon\"],[\"Burkina Faso\"],[\"Mozambique\"],[\"Nigeria\"],[\"Mali\"],[\"Iran\"],[\"Uganda\"],[\"Liberia\"],[\"Kenya\"],[\"Tunisia\"],[\"Lebanon\"],[\"Namibia\"],[\"Palestinian Territories\"],[\"Jordan\"],[\"Chad\"],[\"Swaziland\"],[\"Comoros\"],[\"Egypt\"],[\"Ethiopia\"],[\"Mauritania\"],[\"Madagascar\"],[\"Togo\"],[\"Zambia\"],[\"Sierra Leone\"],[\"Burundi\"],[\"Yemen\"],[\"Tanzania\"],[\"Malawi\"],[\"Lesotho\"],[\"Botswana\"],[\"Rwanda\"],[\"Zimbabwe\"]],\"hovertemplate\":\"Continents=Africa<br>Logged GDP per capita=%{x}<br>happy_score=%{y}<br>Freedom to make life choices=%{marker.size}<br>Country name=%{customdata[0]}<extra></extra>\",\"legendgroup\":\"Africa\",\"marker\":{\"color\":\"#00cc96\",\"size\":[0.8,0.925,0.932,0.877,0.867,0.867,0.771,0.695,0.741,0.731,0.695,0.807,0.806,0.697,0.757,0.697,0.749,0.576,0.774,0.48,0.63,0.731,0.695,0.882,0.737,0.697,0.608,0.709,0.735,0.779,0.656,0.525,0.719,0.653,0.755,0.579,0.647,0.548,0.749,0.752,0.561,0.552,0.619,0.782,0.717,0.626,0.602,0.833,0.78,0.715,0.824,0.897,0.677],\"sizemode\":\"area\",\"sizeref\":0.002425,\"symbol\":\"circle\"},\"mode\":\"markers\",\"name\":\"Africa\",\"orientation\":\"v\",\"showlegend\":true,\"x\":[10.575,10.669,11.085,10.743,10.817,10.008,9.622,8.117,8.551,8.189,8.118,8.58,7.098,7.686,8.087,7.838,9.403,10.24,8.903,9.342,9.24,9.603,7.678,7.158,8.533,7.744,9.584,7.677,7.288,8.361,9.266,9.626,9.161,8.485,9.182,7.364,9.065,8.031,9.367,7.694,8.542,7.396,7.362,8.145,7.434,6.635,7.578,7.876,6.958,7.926,9.782,7.676,7.943],\"xaxis\":\"x\",\"y\":[7.157,6.647,6.561,6.494,6.106,6.049,5.41,5.342,5.306,5.142,5.132,5.088,5.074,5.051,5.045,4.984,4.956,4.948,4.918,4.887,4.854,4.852,4.834,4.794,4.759,4.723,4.721,4.636,4.625,4.607,4.596,4.584,4.574,4.517,4.395,4.355,4.308,4.289,4.283,4.275,4.227,4.208,4.107,4.073,3.849,3.775,3.658,3.623,3.6,3.512,3.467,3.415,3.145],\"yaxis\":\"y\",\"type\":\"scatter\"},{\"customdata\":[[\"Canada\"],[\"United States\"]],\"hovertemplate\":\"Continents=North America<br>Logged GDP per capita=%{x}<br>happy_score=%{y}<br>Freedom to make life choices=%{marker.size}<br>Country name=%{customdata[0]}<extra></extra>\",\"legendgroup\":\"North America\",\"marker\":{\"color\":\"#ab63fa\",\"size\":[0.915,0.837],\"sizemode\":\"area\",\"sizeref\":0.002425,\"symbol\":\"circle\"},\"mode\":\"markers\",\"name\":\"North America\",\"orientation\":\"v\",\"showlegend\":true,\"x\":[10.776,11.023],\"xaxis\":\"x\",\"y\":[7.103,6.951],\"yaxis\":\"y\",\"type\":\"scatter\"},{\"customdata\":[[\"Costa Rica\"],[\"Guatemala\"],[\"Uruguay\"],[\"Brazil\"],[\"Mexico\"],[\"Jamaica\"],[\"Panama\"],[\"Chile\"],[\"El Salvador\"],[\"Colombia\"],[\"Nicaragua\"],[\"Argentina\"],[\"Honduras\"],[\"Peru\"],[\"Ecuador\"],[\"Bolivia\"],[\"Paraguay\"],[\"Dominican Republic\"],[\"Venezuela\"],[\"Haiti\"]],\"hovertemplate\":\"Continents=South America<br>Logged GDP per capita=%{x}<br>happy_score=%{y}<br>Freedom to make life choices=%{marker.size}<br>Country name=%{customdata[0]}<extra></extra>\",\"legendgroup\":\"South America\",\"marker\":{\"color\":\"#FFA15A\",\"size\":[0.934,0.906,0.896,0.804,0.862,0.89,0.872,0.742,0.888,0.837,0.836,0.828,0.857,0.822,0.842,0.875,0.876,0.86,0.615,0.593],\"sizemode\":\"area\",\"sizeref\":0.002425,\"symbol\":\"circle\"},\"mode\":\"markers\",\"name\":\"South America\",\"orientation\":\"v\",\"showlegend\":true,\"x\":[9.88,9.053,9.966,9.577,9.859,9.186,10.35,10.071,9.054,9.557,8.62,9.962,8.648,9.458,9.313,9.046,9.448,9.802,9.073,7.477],\"xaxis\":\"x\",\"y\":[7.069,6.435,6.431,6.33,6.317,6.309,6.18,6.172,6.061,6.012,5.972,5.929,5.919,5.84,5.764,5.716,5.653,5.545,4.892,3.615],\"yaxis\":\"y\",\"type\":\"scatter\"},{\"customdata\":[[\"Taiwan Province of China\"],[\"Singapore\"],[\"Uzbekistan\"],[\"Kazakhstan\"],[\"Thailand\"],[\"Japan\"],[\"Philippines\"],[\"South Korea\"],[\"Kyrgyzstan\"],[\"Mongolia\"],[\"Hong Kong S.A.R. of China\"],[\"Tajikistan\"],[\"Vietnam\"],[\"Malaysia\"],[\"Indonesia\"],[\"China\"],[\"Armenia\"],[\"Nepal\"],[\"Maldives\"],[\"Azerbaijan\"],[\"Turkmenistan\"],[\"Laos\"],[\"Bangladesh\"],[\"Pakistan\"],[\"Cambodia\"],[\"Myanmar\"],[\"Sri Lanka\"],[\"India\"],[\"Afghanistan\"]],\"hovertemplate\":\"Continents=Asia<br>Logged GDP per capita=%{x}<br>happy_score=%{y}<br>Freedom to make life choices=%{marker.size}<br>Country name=%{customdata[0]}<extra></extra>\",\"legendgroup\":\"Asia\",\"marker\":{\"color\":\"#19d3f3\",\"size\":[0.784,0.927,0.97,0.853,0.884,0.796,0.917,0.672,0.935,0.708,0.717,0.832,0.94,0.895,0.873,0.904,0.825,0.782,0.854,0.814,0.877,0.91,0.877,0.726,0.959,0.876,0.841,0.893,0.382],\"sizemode\":\"area\",\"sizeref\":0.002425,\"symbol\":\"circle\"},\"mode\":\"markers\",\"name\":\"Asia\",\"orientation\":\"v\",\"showlegend\":true,\"x\":[10.871,11.488,8.836,10.155,9.805,10.611,9.076,10.651,8.538,9.4,11.0,8.091,8.973,10.238,9.365,9.673,9.487,8.12,9.826,9.569,9.629,8.947,8.454,8.458,8.36,8.541,9.47,8.755,7.695],\"xaxis\":\"x\",\"y\":[6.584,6.377,6.179,6.152,5.985,5.94,5.88,5.845,5.744,5.677,5.477,5.466,5.411,5.384,5.345,5.339,5.283,5.269,5.198,5.171,5.066,5.03,5.025,4.934,4.83,4.426,4.325,3.819,2.523],\"yaxis\":\"y\",\"type\":\"scatter\"},{\"hovertemplate\":\"<b>OLS trendline</b><br>happy_score = 0.732039 * Logged GDP per capita + -1.37191<br>R<sup>2</sup>=0.623720<br><br>Logged GDP per capita=%{x}<br>happy_score=%{y} <b>(trend)</b><extra></extra>\",\"legendgroup\":\"Overall Trendline\",\"line\":{\"color\":\"#FF6692\"},\"mode\":\"lines\",\"name\":\"Overall Trendline\",\"showlegend\":true,\"x\":[6.635,6.958,7.098,7.158,7.288,7.362,7.364,7.396,7.434,7.477,7.578,7.676,7.677,7.678,7.686,7.694,7.695,7.744,7.838,7.876,7.926,7.943,8.031,8.087,8.091,8.117,8.118,8.12,8.145,8.189,8.36,8.361,8.454,8.458,8.485,8.533,8.538,8.541,8.542,8.551,8.58,8.62,8.648,8.755,8.836,8.903,8.947,8.973,9.046,9.053,9.054,9.065,9.073,9.076,9.161,9.182,9.186,9.24,9.266,9.313,9.318,9.342,9.365,9.367,9.4,9.403,9.436,9.448,9.454,9.458,9.47,9.487,9.52,9.557,9.569,9.577,9.584,9.585,9.59,9.603,9.622,9.626,9.629,9.673,9.693,9.782,9.787,9.802,9.805,9.826,9.853,9.859,9.88,9.94,9.962,9.966,10.008,10.016,10.071,10.155,10.189,10.217,10.238,10.24,10.279,10.284,10.315,10.35,10.358,10.369,10.382,10.421,10.481,10.499,10.529,10.556,10.571,10.575,10.576,10.576,10.611,10.623,10.643,10.651,10.669,10.674,10.704,10.707,10.743,10.775,10.776,10.796,10.817,10.823,10.867,10.871,10.873,10.878,10.906,10.932,10.933,11.0,11.023,11.053,11.085,11.117,11.342,11.488,11.647],\"y\":[3.485173288012147,3.7216219140818607,3.824107386681737,3.868029732081684,3.963194813781569,4.017365706441503,4.018829784621501,4.042255035501473,4.07007252092144,4.101550201791402,4.175486149881312,4.247225980701225,4.2479580197912234,4.248690058881223,4.254546371601216,4.260402684321209,4.2611347234112085,4.297004638821164,4.365816313281082,4.393633798701048,4.4302357532010035,4.442680417730988,4.5070998576509105,4.548094046690861,4.551022203050857,4.570055219390835,4.570787258480833,4.572251336660831,4.590552313910809,4.622762033870771,4.747940718260619,4.748672757350619,4.816752392720536,4.819680549080532,4.839445604510508,4.8745834808304656,4.878243676280461,4.880439793550459,4.881171832640458,4.88776018445045,4.908989318060424,4.938270881660388,4.958767976180364,5.03709615881027,5.096391325100198,5.145437944130139,5.177647664090099,5.1966806804300765,5.250119534000011,5.255243807630006,5.255975846720005,5.264028276709994,5.269884589429988,5.2720807066999855,5.3343040293499095,5.3496768502398915,5.352605006599887,5.39213511745984,5.4111681337998165,5.445573971029775,5.44923416647977,5.46680310463975,5.483640003709729,5.485104081889728,5.509261371859698,5.511457489129695,5.5356147790996655,5.544399248179656,5.5487914827196505,5.551719639079646,5.560504108159636,5.572948772689621,5.597106062659591,5.624191508989559,5.632975978069549,5.638832290789541,5.643956564419534,5.644688603509534,5.648348798959529,5.6578653071295175,5.671774049839501,5.674702206199497,5.676898323469494,5.709108043429456,5.723748825229438,5.788900304239359,5.792560499689356,5.803541086039341,5.805737203309339,5.821110024199321,5.8408750796292965,5.845267314169291,5.860640135059273,5.904562480459219,5.920667340439199,5.923595496799196,5.954341138579158,5.960197451299152,6.000459601249103,6.061950884809028,6.0868402138689985,6.107337308388974,6.122710129278955,6.124174207458954,6.152723731968919,6.156383927418915,6.179077139208887,6.204698507358856,6.210554820078849,6.218607250068839,6.228123758238827,6.2566732827487925,6.3005956281487405,6.313772331768725,6.335733504468697,6.355498559898673,6.36647914624866,6.369407302608656,6.370139341698656,6.370139341698656,6.395760709848625,6.404545178928614,6.419185960728597,6.4250422734485895,6.438218977068574,6.4418791725185685,6.463840345218543,6.466036462488541,6.492389869728508,6.51581512060848,6.5165471596984785,6.531187941498461,6.5465607623884425,6.550952996928437,6.583162716888399,6.586090873248395,6.587554951428393,6.591215146878389,6.611712241398364,6.630745257738341,6.631477296828339,6.68052391585828,6.697360814928261,6.719321987628233,6.742747238508206,6.766172489388178,6.9308812846379775,7.0377589917778485,7.154153207087707],\"type\":\"scatter\",\"xaxis\":\"x\",\"yaxis\":\"y\"}],                        {\"template\":{\"data\":{\"bar\":[{\"error_x\":{\"color\":\"#2a3f5f\"},\"error_y\":{\"color\":\"#2a3f5f\"},\"marker\":{\"line\":{\"color\":\"#E5ECF6\",\"width\":0.5},\"pattern\":{\"fillmode\":\"overlay\",\"size\":10,\"solidity\":0.2}},\"type\":\"bar\"}],\"barpolar\":[{\"marker\":{\"line\":{\"color\":\"#E5ECF6\",\"width\":0.5},\"pattern\":{\"fillmode\":\"overlay\",\"size\":10,\"solidity\":0.2}},\"type\":\"barpolar\"}],\"carpet\":[{\"aaxis\":{\"endlinecolor\":\"#2a3f5f\",\"gridcolor\":\"white\",\"linecolor\":\"white\",\"minorgridcolor\":\"white\",\"startlinecolor\":\"#2a3f5f\"},\"baxis\":{\"endlinecolor\":\"#2a3f5f\",\"gridcolor\":\"white\",\"linecolor\":\"white\",\"minorgridcolor\":\"white\",\"startlinecolor\":\"#2a3f5f\"},\"type\":\"carpet\"}],\"choropleth\":[{\"colorbar\":{\"outlinewidth\":0,\"ticks\":\"\"},\"type\":\"choropleth\"}],\"contour\":[{\"colorbar\":{\"outlinewidth\":0,\"ticks\":\"\"},\"colorscale\":[[0.0,\"#0d0887\"],[0.1111111111111111,\"#46039f\"],[0.2222222222222222,\"#7201a8\"],[0.3333333333333333,\"#9c179e\"],[0.4444444444444444,\"#bd3786\"],[0.5555555555555556,\"#d8576b\"],[0.6666666666666666,\"#ed7953\"],[0.7777777777777778,\"#fb9f3a\"],[0.8888888888888888,\"#fdca26\"],[1.0,\"#f0f921\"]],\"type\":\"contour\"}],\"contourcarpet\":[{\"colorbar\":{\"outlinewidth\":0,\"ticks\":\"\"},\"type\":\"contourcarpet\"}],\"heatmap\":[{\"colorbar\":{\"outlinewidth\":0,\"ticks\":\"\"},\"colorscale\":[[0.0,\"#0d0887\"],[0.1111111111111111,\"#46039f\"],[0.2222222222222222,\"#7201a8\"],[0.3333333333333333,\"#9c179e\"],[0.4444444444444444,\"#bd3786\"],[0.5555555555555556,\"#d8576b\"],[0.6666666666666666,\"#ed7953\"],[0.7777777777777778,\"#fb9f3a\"],[0.8888888888888888,\"#fdca26\"],[1.0,\"#f0f921\"]],\"type\":\"heatmap\"}],\"heatmapgl\":[{\"colorbar\":{\"outlinewidth\":0,\"ticks\":\"\"},\"colorscale\":[[0.0,\"#0d0887\"],[0.1111111111111111,\"#46039f\"],[0.2222222222222222,\"#7201a8\"],[0.3333333333333333,\"#9c179e\"],[0.4444444444444444,\"#bd3786\"],[0.5555555555555556,\"#d8576b\"],[0.6666666666666666,\"#ed7953\"],[0.7777777777777778,\"#fb9f3a\"],[0.8888888888888888,\"#fdca26\"],[1.0,\"#f0f921\"]],\"type\":\"heatmapgl\"}],\"histogram\":[{\"marker\":{\"pattern\":{\"fillmode\":\"overlay\",\"size\":10,\"solidity\":0.2}},\"type\":\"histogram\"}],\"histogram2d\":[{\"colorbar\":{\"outlinewidth\":0,\"ticks\":\"\"},\"colorscale\":[[0.0,\"#0d0887\"],[0.1111111111111111,\"#46039f\"],[0.2222222222222222,\"#7201a8\"],[0.3333333333333333,\"#9c179e\"],[0.4444444444444444,\"#bd3786\"],[0.5555555555555556,\"#d8576b\"],[0.6666666666666666,\"#ed7953\"],[0.7777777777777778,\"#fb9f3a\"],[0.8888888888888888,\"#fdca26\"],[1.0,\"#f0f921\"]],\"type\":\"histogram2d\"}],\"histogram2dcontour\":[{\"colorbar\":{\"outlinewidth\":0,\"ticks\":\"\"},\"colorscale\":[[0.0,\"#0d0887\"],[0.1111111111111111,\"#46039f\"],[0.2222222222222222,\"#7201a8\"],[0.3333333333333333,\"#9c179e\"],[0.4444444444444444,\"#bd3786\"],[0.5555555555555556,\"#d8576b\"],[0.6666666666666666,\"#ed7953\"],[0.7777777777777778,\"#fb9f3a\"],[0.8888888888888888,\"#fdca26\"],[1.0,\"#f0f921\"]],\"type\":\"histogram2dcontour\"}],\"mesh3d\":[{\"colorbar\":{\"outlinewidth\":0,\"ticks\":\"\"},\"type\":\"mesh3d\"}],\"parcoords\":[{\"line\":{\"colorbar\":{\"outlinewidth\":0,\"ticks\":\"\"}},\"type\":\"parcoords\"}],\"pie\":[{\"automargin\":true,\"type\":\"pie\"}],\"scatter\":[{\"marker\":{\"colorbar\":{\"outlinewidth\":0,\"ticks\":\"\"}},\"type\":\"scatter\"}],\"scatter3d\":[{\"line\":{\"colorbar\":{\"outlinewidth\":0,\"ticks\":\"\"}},\"marker\":{\"colorbar\":{\"outlinewidth\":0,\"ticks\":\"\"}},\"type\":\"scatter3d\"}],\"scattercarpet\":[{\"marker\":{\"colorbar\":{\"outlinewidth\":0,\"ticks\":\"\"}},\"type\":\"scattercarpet\"}],\"scattergeo\":[{\"marker\":{\"colorbar\":{\"outlinewidth\":0,\"ticks\":\"\"}},\"type\":\"scattergeo\"}],\"scattergl\":[{\"marker\":{\"colorbar\":{\"outlinewidth\":0,\"ticks\":\"\"}},\"type\":\"scattergl\"}],\"scattermapbox\":[{\"marker\":{\"colorbar\":{\"outlinewidth\":0,\"ticks\":\"\"}},\"type\":\"scattermapbox\"}],\"scatterpolar\":[{\"marker\":{\"colorbar\":{\"outlinewidth\":0,\"ticks\":\"\"}},\"type\":\"scatterpolar\"}],\"scatterpolargl\":[{\"marker\":{\"colorbar\":{\"outlinewidth\":0,\"ticks\":\"\"}},\"type\":\"scatterpolargl\"}],\"scatterternary\":[{\"marker\":{\"colorbar\":{\"outlinewidth\":0,\"ticks\":\"\"}},\"type\":\"scatterternary\"}],\"surface\":[{\"colorbar\":{\"outlinewidth\":0,\"ticks\":\"\"},\"colorscale\":[[0.0,\"#0d0887\"],[0.1111111111111111,\"#46039f\"],[0.2222222222222222,\"#7201a8\"],[0.3333333333333333,\"#9c179e\"],[0.4444444444444444,\"#bd3786\"],[0.5555555555555556,\"#d8576b\"],[0.6666666666666666,\"#ed7953\"],[0.7777777777777778,\"#fb9f3a\"],[0.8888888888888888,\"#fdca26\"],[1.0,\"#f0f921\"]],\"type\":\"surface\"}],\"table\":[{\"cells\":{\"fill\":{\"color\":\"#EBF0F8\"},\"line\":{\"color\":\"white\"}},\"header\":{\"fill\":{\"color\":\"#C8D4E3\"},\"line\":{\"color\":\"white\"}},\"type\":\"table\"}]},\"layout\":{\"annotationdefaults\":{\"arrowcolor\":\"#2a3f5f\",\"arrowhead\":0,\"arrowwidth\":1},\"autotypenumbers\":\"strict\",\"coloraxis\":{\"colorbar\":{\"outlinewidth\":0,\"ticks\":\"\"}},\"colorscale\":{\"diverging\":[[0,\"#8e0152\"],[0.1,\"#c51b7d\"],[0.2,\"#de77ae\"],[0.3,\"#f1b6da\"],[0.4,\"#fde0ef\"],[0.5,\"#f7f7f7\"],[0.6,\"#e6f5d0\"],[0.7,\"#b8e186\"],[0.8,\"#7fbc41\"],[0.9,\"#4d9221\"],[1,\"#276419\"]],\"sequential\":[[0.0,\"#0d0887\"],[0.1111111111111111,\"#46039f\"],[0.2222222222222222,\"#7201a8\"],[0.3333333333333333,\"#9c179e\"],[0.4444444444444444,\"#bd3786\"],[0.5555555555555556,\"#d8576b\"],[0.6666666666666666,\"#ed7953\"],[0.7777777777777778,\"#fb9f3a\"],[0.8888888888888888,\"#fdca26\"],[1.0,\"#f0f921\"]],\"sequentialminus\":[[0.0,\"#0d0887\"],[0.1111111111111111,\"#46039f\"],[0.2222222222222222,\"#7201a8\"],[0.3333333333333333,\"#9c179e\"],[0.4444444444444444,\"#bd3786\"],[0.5555555555555556,\"#d8576b\"],[0.6666666666666666,\"#ed7953\"],[0.7777777777777778,\"#fb9f3a\"],[0.8888888888888888,\"#fdca26\"],[1.0,\"#f0f921\"]]},\"colorway\":[\"#636efa\",\"#EF553B\",\"#00cc96\",\"#ab63fa\",\"#FFA15A\",\"#19d3f3\",\"#FF6692\",\"#B6E880\",\"#FF97FF\",\"#FECB52\"],\"font\":{\"color\":\"#2a3f5f\"},\"geo\":{\"bgcolor\":\"white\",\"lakecolor\":\"white\",\"landcolor\":\"#E5ECF6\",\"showlakes\":true,\"showland\":true,\"subunitcolor\":\"white\"},\"hoverlabel\":{\"align\":\"left\"},\"hovermode\":\"closest\",\"mapbox\":{\"style\":\"light\"},\"paper_bgcolor\":\"white\",\"plot_bgcolor\":\"#E5ECF6\",\"polar\":{\"angularaxis\":{\"gridcolor\":\"white\",\"linecolor\":\"white\",\"ticks\":\"\"},\"bgcolor\":\"#E5ECF6\",\"radialaxis\":{\"gridcolor\":\"white\",\"linecolor\":\"white\",\"ticks\":\"\"}},\"scene\":{\"xaxis\":{\"backgroundcolor\":\"#E5ECF6\",\"gridcolor\":\"white\",\"gridwidth\":2,\"linecolor\":\"white\",\"showbackground\":true,\"ticks\":\"\",\"zerolinecolor\":\"white\"},\"yaxis\":{\"backgroundcolor\":\"#E5ECF6\",\"gridcolor\":\"white\",\"gridwidth\":2,\"linecolor\":\"white\",\"showbackground\":true,\"ticks\":\"\",\"zerolinecolor\":\"white\"},\"zaxis\":{\"backgroundcolor\":\"#E5ECF6\",\"gridcolor\":\"white\",\"gridwidth\":2,\"linecolor\":\"white\",\"showbackground\":true,\"ticks\":\"\",\"zerolinecolor\":\"white\"}},\"shapedefaults\":{\"line\":{\"color\":\"#2a3f5f\"}},\"ternary\":{\"aaxis\":{\"gridcolor\":\"white\",\"linecolor\":\"white\",\"ticks\":\"\"},\"baxis\":{\"gridcolor\":\"white\",\"linecolor\":\"white\",\"ticks\":\"\"},\"bgcolor\":\"#E5ECF6\",\"caxis\":{\"gridcolor\":\"white\",\"linecolor\":\"white\",\"ticks\":\"\"}},\"title\":{\"x\":0.05},\"xaxis\":{\"automargin\":true,\"gridcolor\":\"white\",\"linecolor\":\"white\",\"ticks\":\"\",\"title\":{\"standoff\":15},\"zerolinecolor\":\"white\",\"zerolinewidth\":2},\"yaxis\":{\"automargin\":true,\"gridcolor\":\"white\",\"linecolor\":\"white\",\"ticks\":\"\",\"title\":{\"standoff\":15},\"zerolinecolor\":\"white\",\"zerolinewidth\":2}}},\"xaxis\":{\"anchor\":\"y\",\"domain\":[0.0,1.0],\"title\":{\"text\":\"Logged GDP per capita\"}},\"yaxis\":{\"anchor\":\"x\",\"domain\":[0.0,1.0],\"title\":{\"text\":\"happy_score\"}},\"legend\":{\"title\":{\"text\":\"Continents\"},\"tracegroupgap\":0,\"itemsizing\":\"constant\"},\"title\":{\"text\":\"GDP and Happiness Score Variation by Continents\"}},                        {\"responsive\": true}                    ).then(function(){\n                            \nvar gd = document.getElementById('2dcc97f0-52b9-40ce-8e1d-29f46c005b66');\nvar x = new MutationObserver(function (mutations, observer) {{\n        var display = window.getComputedStyle(gd).display;\n        if (!display || display === 'none') {{\n            console.log([gd, 'removed!']);\n            Plotly.purge(gd);\n            observer.disconnect();\n        }}\n}});\n\n// Listen for the removal of the full notebook cells\nvar notebookContainer = gd.closest('#notebook-container');\nif (notebookContainer) {{\n    x.observe(notebookContainer, {childList: true});\n}}\n\n// Listen for the clearing of the current output cell\nvar outputEl = gd.closest('.output');\nif (outputEl) {{\n    x.observe(outputEl, {childList: true});\n}}\n\n                        })                };                            </script>        </div>\n</body>\n</html>"
     },
     "execution_count": 18,
     "metadata": {
     },
     "output_type": "execute_result"
    }
   ],
   "source": [
    "px.scatter(happy_2021_df, 'Logged GDP per capita', 'happy_score', color = 'Continents', size = 'Freedom to make life choices',hover_data=['Country name'], title = \"GDP and Happiness Score Variation by Continents\", trendline = 'ols', trendline_scope=\"overall\", template = 'plotly')"
   ]
  },
  {
   "cell_type": "markdown",
   "metadata": {
    "collapsed": false
   },
   "source": [
    "<h2> <a id = \"avgcont\"> Average Happiness Score of Continents</a> </h2>\n",
    "\n",
    "- In order to analyze which continents have the average highest and lowest happiness score we chose to plot the following bar plot. In order to calculate the average happiness score for each continent, we made use of the “groupby” method which helped us to group by continent and then performed the mean. \n",
    "\n",
    "- Discluding Oceania, due to only 2 countries being present there, North America is seen to have the highest average happiness score, while Africa has the lowest happiness score. \n",
    "\n",
    "- A number of things could explain the following graph. With North America being home to many advancing countries, with access to the a number of resources and having a higher GDP and life expectancy is bound to have a higher happiness score. Unfortunately, countries in Africa lack the availabilty of modern resources and have a lower GDP, which does significantly impact their happiness score as well, therefore explaining their position on the graph.\n",
    "\n"
   ]
  },
  {
   "cell_type": "code",
   "execution_count": 19,
   "metadata": {
    "collapsed": false
   },
   "outputs": [
   ],
   "source": [
    "continent_avgscore = happy_2021_df.groupby('Continents')[['happy_score']].mean().reset_index()"
   ]
  },
  {
   "cell_type": "code",
   "execution_count": 20,
   "metadata": {
    "collapsed": false
   },
   "outputs": [
   ],
   "source": [
    "continent_avgscore.sort_values(by=['happy_score'], ascending=False, inplace=True)"
   ]
  },
  {
   "cell_type": "code",
   "execution_count": 43,
   "metadata": {
    "collapsed": false,
    "scrolled": true
   },
   "outputs": [
    {
     "data": {
      "text/html": "<html>\n<head><meta charset=\"utf-8\" /></head>\n<body>\n    <div>            <script src=\"https://cdnjs.cloudflare.com/ajax/libs/mathjax/2.7.5/MathJax.js?config=TeX-AMS-MML_SVG\"></script><script type=\"text/javascript\">if (window.MathJax) {MathJax.Hub.Config({SVG: {font: \"STIX-Web\"}});}</script>                <script type=\"text/javascript\">window.PlotlyConfig = {MathJaxConfig: 'local'};</script>\n        <script src=\"https://cdn.plot.ly/plotly-2.9.0.min.js\"></script>                <div id=\"57f1ffd1-2f93-4199-af4d-a803cb02c1c6\" class=\"plotly-graph-div\" style=\"height:400px; width:1200px;\"></div>            <script type=\"text/javascript\">                                    window.PLOTLYENV=window.PLOTLYENV || {};                                    if (document.getElementById(\"57f1ffd1-2f93-4199-af4d-a803cb02c1c6\")) {                    Plotly.newPlot(                        \"57f1ffd1-2f93-4199-af4d-a803cb02c1c6\",                        [{\"alignmentgroup\":\"True\",\"hovertemplate\":\"Continents=%{x}<br>happy_score=%{y}<extra></extra>\",\"legendgroup\":\"\",\"marker\":{\"color\":\"#636efa\",\"pattern\":{\"shape\":\"\"}},\"name\":\"\",\"offsetgroup\":\"\",\"orientation\":\"v\",\"showlegend\":false,\"textposition\":\"auto\",\"x\":[\"Oceania\",\"North America\",\"Europe\",\"South America\",\"Asia\",\"Africa\"],\"xaxis\":\"x\",\"y\":[7.23,7.026999999999999,6.360395348837209,5.90805,5.299448275862069,4.72711320754717],\"yaxis\":\"y\",\"type\":\"bar\"}],                        {\"template\":{\"data\":{\"bar\":[{\"error_x\":{\"color\":\"#2a3f5f\"},\"error_y\":{\"color\":\"#2a3f5f\"},\"marker\":{\"line\":{\"color\":\"#E5ECF6\",\"width\":0.5},\"pattern\":{\"fillmode\":\"overlay\",\"size\":10,\"solidity\":0.2}},\"type\":\"bar\"}],\"barpolar\":[{\"marker\":{\"line\":{\"color\":\"#E5ECF6\",\"width\":0.5},\"pattern\":{\"fillmode\":\"overlay\",\"size\":10,\"solidity\":0.2}},\"type\":\"barpolar\"}],\"carpet\":[{\"aaxis\":{\"endlinecolor\":\"#2a3f5f\",\"gridcolor\":\"white\",\"linecolor\":\"white\",\"minorgridcolor\":\"white\",\"startlinecolor\":\"#2a3f5f\"},\"baxis\":{\"endlinecolor\":\"#2a3f5f\",\"gridcolor\":\"white\",\"linecolor\":\"white\",\"minorgridcolor\":\"white\",\"startlinecolor\":\"#2a3f5f\"},\"type\":\"carpet\"}],\"choropleth\":[{\"colorbar\":{\"outlinewidth\":0,\"ticks\":\"\"},\"type\":\"choropleth\"}],\"contour\":[{\"colorbar\":{\"outlinewidth\":0,\"ticks\":\"\"},\"colorscale\":[[0.0,\"#0d0887\"],[0.1111111111111111,\"#46039f\"],[0.2222222222222222,\"#7201a8\"],[0.3333333333333333,\"#9c179e\"],[0.4444444444444444,\"#bd3786\"],[0.5555555555555556,\"#d8576b\"],[0.6666666666666666,\"#ed7953\"],[0.7777777777777778,\"#fb9f3a\"],[0.8888888888888888,\"#fdca26\"],[1.0,\"#f0f921\"]],\"type\":\"contour\"}],\"contourcarpet\":[{\"colorbar\":{\"outlinewidth\":0,\"ticks\":\"\"},\"type\":\"contourcarpet\"}],\"heatmap\":[{\"colorbar\":{\"outlinewidth\":0,\"ticks\":\"\"},\"colorscale\":[[0.0,\"#0d0887\"],[0.1111111111111111,\"#46039f\"],[0.2222222222222222,\"#7201a8\"],[0.3333333333333333,\"#9c179e\"],[0.4444444444444444,\"#bd3786\"],[0.5555555555555556,\"#d8576b\"],[0.6666666666666666,\"#ed7953\"],[0.7777777777777778,\"#fb9f3a\"],[0.8888888888888888,\"#fdca26\"],[1.0,\"#f0f921\"]],\"type\":\"heatmap\"}],\"heatmapgl\":[{\"colorbar\":{\"outlinewidth\":0,\"ticks\":\"\"},\"colorscale\":[[0.0,\"#0d0887\"],[0.1111111111111111,\"#46039f\"],[0.2222222222222222,\"#7201a8\"],[0.3333333333333333,\"#9c179e\"],[0.4444444444444444,\"#bd3786\"],[0.5555555555555556,\"#d8576b\"],[0.6666666666666666,\"#ed7953\"],[0.7777777777777778,\"#fb9f3a\"],[0.8888888888888888,\"#fdca26\"],[1.0,\"#f0f921\"]],\"type\":\"heatmapgl\"}],\"histogram\":[{\"marker\":{\"pattern\":{\"fillmode\":\"overlay\",\"size\":10,\"solidity\":0.2}},\"type\":\"histogram\"}],\"histogram2d\":[{\"colorbar\":{\"outlinewidth\":0,\"ticks\":\"\"},\"colorscale\":[[0.0,\"#0d0887\"],[0.1111111111111111,\"#46039f\"],[0.2222222222222222,\"#7201a8\"],[0.3333333333333333,\"#9c179e\"],[0.4444444444444444,\"#bd3786\"],[0.5555555555555556,\"#d8576b\"],[0.6666666666666666,\"#ed7953\"],[0.7777777777777778,\"#fb9f3a\"],[0.8888888888888888,\"#fdca26\"],[1.0,\"#f0f921\"]],\"type\":\"histogram2d\"}],\"histogram2dcontour\":[{\"colorbar\":{\"outlinewidth\":0,\"ticks\":\"\"},\"colorscale\":[[0.0,\"#0d0887\"],[0.1111111111111111,\"#46039f\"],[0.2222222222222222,\"#7201a8\"],[0.3333333333333333,\"#9c179e\"],[0.4444444444444444,\"#bd3786\"],[0.5555555555555556,\"#d8576b\"],[0.6666666666666666,\"#ed7953\"],[0.7777777777777778,\"#fb9f3a\"],[0.8888888888888888,\"#fdca26\"],[1.0,\"#f0f921\"]],\"type\":\"histogram2dcontour\"}],\"mesh3d\":[{\"colorbar\":{\"outlinewidth\":0,\"ticks\":\"\"},\"type\":\"mesh3d\"}],\"parcoords\":[{\"line\":{\"colorbar\":{\"outlinewidth\":0,\"ticks\":\"\"}},\"type\":\"parcoords\"}],\"pie\":[{\"automargin\":true,\"type\":\"pie\"}],\"scatter\":[{\"marker\":{\"colorbar\":{\"outlinewidth\":0,\"ticks\":\"\"}},\"type\":\"scatter\"}],\"scatter3d\":[{\"line\":{\"colorbar\":{\"outlinewidth\":0,\"ticks\":\"\"}},\"marker\":{\"colorbar\":{\"outlinewidth\":0,\"ticks\":\"\"}},\"type\":\"scatter3d\"}],\"scattercarpet\":[{\"marker\":{\"colorbar\":{\"outlinewidth\":0,\"ticks\":\"\"}},\"type\":\"scattercarpet\"}],\"scattergeo\":[{\"marker\":{\"colorbar\":{\"outlinewidth\":0,\"ticks\":\"\"}},\"type\":\"scattergeo\"}],\"scattergl\":[{\"marker\":{\"colorbar\":{\"outlinewidth\":0,\"ticks\":\"\"}},\"type\":\"scattergl\"}],\"scattermapbox\":[{\"marker\":{\"colorbar\":{\"outlinewidth\":0,\"ticks\":\"\"}},\"type\":\"scattermapbox\"}],\"scatterpolar\":[{\"marker\":{\"colorbar\":{\"outlinewidth\":0,\"ticks\":\"\"}},\"type\":\"scatterpolar\"}],\"scatterpolargl\":[{\"marker\":{\"colorbar\":{\"outlinewidth\":0,\"ticks\":\"\"}},\"type\":\"scatterpolargl\"}],\"scatterternary\":[{\"marker\":{\"colorbar\":{\"outlinewidth\":0,\"ticks\":\"\"}},\"type\":\"scatterternary\"}],\"surface\":[{\"colorbar\":{\"outlinewidth\":0,\"ticks\":\"\"},\"colorscale\":[[0.0,\"#0d0887\"],[0.1111111111111111,\"#46039f\"],[0.2222222222222222,\"#7201a8\"],[0.3333333333333333,\"#9c179e\"],[0.4444444444444444,\"#bd3786\"],[0.5555555555555556,\"#d8576b\"],[0.6666666666666666,\"#ed7953\"],[0.7777777777777778,\"#fb9f3a\"],[0.8888888888888888,\"#fdca26\"],[1.0,\"#f0f921\"]],\"type\":\"surface\"}],\"table\":[{\"cells\":{\"fill\":{\"color\":\"#EBF0F8\"},\"line\":{\"color\":\"white\"}},\"header\":{\"fill\":{\"color\":\"#C8D4E3\"},\"line\":{\"color\":\"white\"}},\"type\":\"table\"}]},\"layout\":{\"annotationdefaults\":{\"arrowcolor\":\"#2a3f5f\",\"arrowhead\":0,\"arrowwidth\":1},\"autotypenumbers\":\"strict\",\"coloraxis\":{\"colorbar\":{\"outlinewidth\":0,\"ticks\":\"\"}},\"colorscale\":{\"diverging\":[[0,\"#8e0152\"],[0.1,\"#c51b7d\"],[0.2,\"#de77ae\"],[0.3,\"#f1b6da\"],[0.4,\"#fde0ef\"],[0.5,\"#f7f7f7\"],[0.6,\"#e6f5d0\"],[0.7,\"#b8e186\"],[0.8,\"#7fbc41\"],[0.9,\"#4d9221\"],[1,\"#276419\"]],\"sequential\":[[0.0,\"#0d0887\"],[0.1111111111111111,\"#46039f\"],[0.2222222222222222,\"#7201a8\"],[0.3333333333333333,\"#9c179e\"],[0.4444444444444444,\"#bd3786\"],[0.5555555555555556,\"#d8576b\"],[0.6666666666666666,\"#ed7953\"],[0.7777777777777778,\"#fb9f3a\"],[0.8888888888888888,\"#fdca26\"],[1.0,\"#f0f921\"]],\"sequentialminus\":[[0.0,\"#0d0887\"],[0.1111111111111111,\"#46039f\"],[0.2222222222222222,\"#7201a8\"],[0.3333333333333333,\"#9c179e\"],[0.4444444444444444,\"#bd3786\"],[0.5555555555555556,\"#d8576b\"],[0.6666666666666666,\"#ed7953\"],[0.7777777777777778,\"#fb9f3a\"],[0.8888888888888888,\"#fdca26\"],[1.0,\"#f0f921\"]]},\"colorway\":[\"#636efa\",\"#EF553B\",\"#00cc96\",\"#ab63fa\",\"#FFA15A\",\"#19d3f3\",\"#FF6692\",\"#B6E880\",\"#FF97FF\",\"#FECB52\"],\"font\":{\"color\":\"#2a3f5f\"},\"geo\":{\"bgcolor\":\"white\",\"lakecolor\":\"white\",\"landcolor\":\"#E5ECF6\",\"showlakes\":true,\"showland\":true,\"subunitcolor\":\"white\"},\"hoverlabel\":{\"align\":\"left\"},\"hovermode\":\"closest\",\"mapbox\":{\"style\":\"light\"},\"paper_bgcolor\":\"white\",\"plot_bgcolor\":\"#E5ECF6\",\"polar\":{\"angularaxis\":{\"gridcolor\":\"white\",\"linecolor\":\"white\",\"ticks\":\"\"},\"bgcolor\":\"#E5ECF6\",\"radialaxis\":{\"gridcolor\":\"white\",\"linecolor\":\"white\",\"ticks\":\"\"}},\"scene\":{\"xaxis\":{\"backgroundcolor\":\"#E5ECF6\",\"gridcolor\":\"white\",\"gridwidth\":2,\"linecolor\":\"white\",\"showbackground\":true,\"ticks\":\"\",\"zerolinecolor\":\"white\"},\"yaxis\":{\"backgroundcolor\":\"#E5ECF6\",\"gridcolor\":\"white\",\"gridwidth\":2,\"linecolor\":\"white\",\"showbackground\":true,\"ticks\":\"\",\"zerolinecolor\":\"white\"},\"zaxis\":{\"backgroundcolor\":\"#E5ECF6\",\"gridcolor\":\"white\",\"gridwidth\":2,\"linecolor\":\"white\",\"showbackground\":true,\"ticks\":\"\",\"zerolinecolor\":\"white\"}},\"shapedefaults\":{\"line\":{\"color\":\"#2a3f5f\"}},\"ternary\":{\"aaxis\":{\"gridcolor\":\"white\",\"linecolor\":\"white\",\"ticks\":\"\"},\"baxis\":{\"gridcolor\":\"white\",\"linecolor\":\"white\",\"ticks\":\"\"},\"bgcolor\":\"#E5ECF6\",\"caxis\":{\"gridcolor\":\"white\",\"linecolor\":\"white\",\"ticks\":\"\"}},\"title\":{\"x\":0.05},\"xaxis\":{\"automargin\":true,\"gridcolor\":\"white\",\"linecolor\":\"white\",\"ticks\":\"\",\"title\":{\"standoff\":15},\"zerolinecolor\":\"white\",\"zerolinewidth\":2},\"yaxis\":{\"automargin\":true,\"gridcolor\":\"white\",\"linecolor\":\"white\",\"ticks\":\"\",\"title\":{\"standoff\":15},\"zerolinecolor\":\"white\",\"zerolinewidth\":2}}},\"xaxis\":{\"anchor\":\"y\",\"domain\":[0.0,1.0],\"title\":{\"text\":\"Continents\"}},\"yaxis\":{\"anchor\":\"x\",\"domain\":[0.0,1.0],\"title\":{\"text\":\"happy_score\"}},\"legend\":{\"tracegroupgap\":0},\"title\":{\"text\":\"Average Happiness Score of Continents\"},\"barmode\":\"relative\",\"autosize\":false,\"width\":1200,\"height\":400},                        {\"responsive\": true}                    ).then(function(){\n                            \nvar gd = document.getElementById('57f1ffd1-2f93-4199-af4d-a803cb02c1c6');\nvar x = new MutationObserver(function (mutations, observer) {{\n        var display = window.getComputedStyle(gd).display;\n        if (!display || display === 'none') {{\n            console.log([gd, 'removed!']);\n            Plotly.purge(gd);\n            observer.disconnect();\n        }}\n}});\n\n// Listen for the removal of the full notebook cells\nvar notebookContainer = gd.closest('#notebook-container');\nif (notebookContainer) {{\n    x.observe(notebookContainer, {childList: true});\n}}\n\n// Listen for the clearing of the current output cell\nvar outputEl = gd.closest('.output');\nif (outputEl) {{\n    x.observe(outputEl, {childList: true});\n}}\n\n                        })                };                            </script>        </div>\n</body>\n</html>"
     },
     "execution_count": 43,
     "metadata": {
     },
     "output_type": "execute_result"
    }
   ],
   "source": [
    "fig = px.bar(continent_avgscore, x='Continents', y='happy_score', title = \"Average Happiness Score of Continents\", template = \"plotly\")\n",
    "fig.update_layout(\n",
    "    autosize=False,\n",
    "    width=1200,\n",
    "    height=400,)\n",
    "fig.show()"
   ]
  },
  {
   "cell_type": "markdown",
   "metadata": {
    "collapsed": false
   },
   "source": [
    "<h2><a>Which country had the most happy Index?</a></h2>\n",
    "\n"
   ]
  },
  {
   "cell_type": "code",
   "execution_count": 23,
   "metadata": {
    "collapsed": false
   },
   "outputs": [
    {
     "data": {
      "text/html": [
       "<div>\n",
       "<style scoped>\n",
       "    .dataframe tbody tr th:only-of-type {\n",
       "        vertical-align: middle;\n",
       "    }\n",
       "\n",
       "    .dataframe tbody tr th {\n",
       "        vertical-align: top;\n",
       "    }\n",
       "\n",
       "    .dataframe thead th {\n",
       "        text-align: right;\n",
       "    }\n",
       "</style>\n",
       "<table border=\"1\" class=\"dataframe\">\n",
       "  <thead>\n",
       "    <tr style=\"text-align: right;\">\n",
       "      <th></th>\n",
       "      <th>Country name</th>\n",
       "      <th>Continents</th>\n",
       "      <th>happy_score</th>\n",
       "      <th>Logged GDP per capita</th>\n",
       "      <th>Social support</th>\n",
       "      <th>Healthy life expectancy</th>\n",
       "      <th>Freedom to make life choices</th>\n",
       "      <th>Generosity</th>\n",
       "      <th>Perceptions of corruption</th>\n",
       "    </tr>\n",
       "  </thead>\n",
       "  <tbody>\n",
       "    <tr>\n",
       "      <th>0</th>\n",
       "      <td>Finland</td>\n",
       "      <td>Europe</td>\n",
       "      <td>7.842</td>\n",
       "      <td>10.775</td>\n",
       "      <td>0.954</td>\n",
       "      <td>72.0</td>\n",
       "      <td>0.949</td>\n",
       "      <td>-0.098</td>\n",
       "      <td>0.186</td>\n",
       "    </tr>\n",
       "  </tbody>\n",
       "</table>\n",
       "</div>"
      ],
      "text/plain": [
       "  Country name Continents  happy_score  Logged GDP per capita  Social support  \\\n",
       "0      Finland     Europe        7.842                 10.775           0.954   \n",
       "\n",
       "   Healthy life expectancy  Freedom to make life choices  Generosity  \\\n",
       "0                     72.0                         0.949      -0.098   \n",
       "\n",
       "   Perceptions of corruption  \n",
       "0                      0.186  "
      ]
     },
     "execution_count": 23,
     "metadata": {
     },
     "output_type": "execute_result"
    }
   ],
   "source": [
    "happy_2021_df[happy_2021_df['happy_score'] == happy_2021_df['happy_score'].max()]"
   ]
  },
  {
   "cell_type": "markdown",
   "metadata": {
    "collapsed": false
   },
   "source": [
    "<h2><a>Which country had the min happy Index?</a></h2>\n"
   ]
  },
  {
   "cell_type": "code",
   "execution_count": 24,
   "metadata": {
    "collapsed": false
   },
   "outputs": [
    {
     "data": {
      "text/html": [
       "<div>\n",
       "<style scoped>\n",
       "    .dataframe tbody tr th:only-of-type {\n",
       "        vertical-align: middle;\n",
       "    }\n",
       "\n",
       "    .dataframe tbody tr th {\n",
       "        vertical-align: top;\n",
       "    }\n",
       "\n",
       "    .dataframe thead th {\n",
       "        text-align: right;\n",
       "    }\n",
       "</style>\n",
       "<table border=\"1\" class=\"dataframe\">\n",
       "  <thead>\n",
       "    <tr style=\"text-align: right;\">\n",
       "      <th></th>\n",
       "      <th>Country name</th>\n",
       "      <th>Continents</th>\n",
       "      <th>happy_score</th>\n",
       "      <th>Logged GDP per capita</th>\n",
       "      <th>Social support</th>\n",
       "      <th>Healthy life expectancy</th>\n",
       "      <th>Freedom to make life choices</th>\n",
       "      <th>Generosity</th>\n",
       "      <th>Perceptions of corruption</th>\n",
       "    </tr>\n",
       "  </thead>\n",
       "  <tbody>\n",
       "    <tr>\n",
       "      <th>148</th>\n",
       "      <td>Afghanistan</td>\n",
       "      <td>Asia</td>\n",
       "      <td>2.523</td>\n",
       "      <td>7.695</td>\n",
       "      <td>0.463</td>\n",
       "      <td>52.493</td>\n",
       "      <td>0.382</td>\n",
       "      <td>-0.102</td>\n",
       "      <td>0.924</td>\n",
       "    </tr>\n",
       "  </tbody>\n",
       "</table>\n",
       "</div>"
      ],
      "text/plain": [
       "    Country name Continents  happy_score  Logged GDP per capita  \\\n",
       "148  Afghanistan       Asia        2.523                  7.695   \n",
       "\n",
       "     Social support  Healthy life expectancy  Freedom to make life choices  \\\n",
       "148           0.463                   52.493                         0.382   \n",
       "\n",
       "     Generosity  Perceptions of corruption  \n",
       "148      -0.102                      0.924  "
      ]
     },
     "execution_count": 24,
     "metadata": {
     },
     "output_type": "execute_result"
    }
   ],
   "source": [
    "happy_2021_df[happy_2021_df['happy_score'] == happy_2021_df['happy_score'].min()]"
   ]
  },
  {
   "cell_type": "markdown",
   "metadata": {
    "collapsed": false
   },
   "source": [
    "<h2> <a id = \"ss\"> Relationship of Social Support and Happiness Index</a> </h2>\n",
    "\n",
    "- We can see social support has a **positive correlation** with the happiness score. Each dot represents one country with a corresponding color to the continent they are located at, with the size of the dot representing the perception of corruption. \n",
    "- Most African countries are clustered near the bottom of the date with a low happy score and low social support while most South American and European countries have a higher happy and social support score. \n",
    "- On the other hand, countries in Asia are scattered throughout the graph. Countries such as Finland, Denmark, and Norway could have **higher social support due the smaller nature, population size, and wealth**.\n",
    "\n"
   ]
  },
  {
   "cell_type": "code",
   "execution_count": 25,
   "metadata": {
    "collapsed": false
   },
   "outputs": [
    {
     "data": {
      "text/html": "<html>\n<head><meta charset=\"utf-8\" /></head>\n<body>\n    <div>            <script src=\"https://cdnjs.cloudflare.com/ajax/libs/mathjax/2.7.5/MathJax.js?config=TeX-AMS-MML_SVG\"></script><script type=\"text/javascript\">if (window.MathJax) {MathJax.Hub.Config({SVG: {font: \"STIX-Web\"}});}</script>                <script type=\"text/javascript\">window.PlotlyConfig = {MathJaxConfig: 'local'};</script>\n        <script src=\"https://cdn.plot.ly/plotly-2.9.0.min.js\"></script>                <div id=\"ecd32a39-4727-4228-aeb0-b709d3dd29e8\" class=\"plotly-graph-div\" style=\"height:525px; width:100%;\"></div>            <script type=\"text/javascript\">                                    window.PLOTLYENV=window.PLOTLYENV || {};                                    if (document.getElementById(\"ecd32a39-4727-4228-aeb0-b709d3dd29e8\")) {                    Plotly.newPlot(                        \"ecd32a39-4727-4228-aeb0-b709d3dd29e8\",                        [{\"customdata\":[[\"Finland\"],[\"Denmark\"],[\"Switzerland\"],[\"Iceland\"],[\"Netherlands\"],[\"Norway\"],[\"Sweden\"],[\"Luxembourg\"],[\"Austria\"],[\"Germany\"],[\"Ireland\"],[\"United Kingdom\"],[\"Czech Republic\"],[\"Belgium\"],[\"France\"],[\"Malta\"],[\"Spain\"],[\"Italy\"],[\"Slovenia\"],[\"Kosovo\"],[\"Slovakia\"],[\"Lithuania\"],[\"Cyprus\"],[\"Estonia\"],[\"Poland\"],[\"Romania\"],[\"Serbia\"],[\"Latvia\"],[\"Hungary\"],[\"Portugal\"],[\"Croatia\"],[\"Bosnia and Herzegovina\"],[\"Moldova\"],[\"Greece\"],[\"Montenegro\"],[\"North Cyprus\"],[\"Belarus\"],[\"Russia\"],[\"Bulgaria\"],[\"Albania\"],[\"North Macedonia\"],[\"Georgia\"],[\"Ukraine\"]],\"hovertemplate\":\"Continents=Europe<br>Social support=%{x}<br>happy_score=%{y}<br>Perceptions of corruption=%{marker.size}<br>Country name=%{customdata[0]}<extra></extra>\",\"legendgroup\":\"Europe\",\"marker\":{\"color\":\"#636efa\",\"size\":[0.186,0.179,0.292,0.673,0.338,0.27,0.237,0.386,0.481,0.46,0.363,0.459,0.868,0.646,0.571,0.653,0.745,0.866,0.806,0.917,0.911,0.826,0.844,0.527,0.735,0.938,0.835,0.8,0.876,0.887,0.939,0.931,0.918,0.823,0.812,0.626,0.627,0.845,0.932,0.901,0.905,0.655,0.924],\"sizemode\":\"area\",\"sizeref\":0.0023474999999999998,\"symbol\":\"circle\"},\"mode\":\"markers\",\"name\":\"Europe\",\"orientation\":\"v\",\"showlegend\":true,\"x\":[0.954,0.954,0.942,0.983,0.942,0.954,0.934,0.908,0.934,0.903,0.947,0.934,0.947,0.906,0.942,0.931,0.932,0.88,0.948,0.821,0.936,0.935,0.802,0.941,0.898,0.832,0.873,0.927,0.943,0.879,0.924,0.87,0.857,0.823,0.858,0.82,0.91,0.903,0.931,0.697,0.805,0.671,0.888],\"xaxis\":\"x\",\"y\":[7.842,7.62,7.571,7.554,7.464,7.392,7.363,7.324,7.268,7.155,7.085,7.064,6.965,6.834,6.69,6.602,6.491,6.483,6.461,6.372,6.331,6.255,6.223,6.189,6.166,6.14,6.078,6.032,5.992,5.929,5.882,5.813,5.766,5.723,5.581,5.536,5.534,5.477,5.266,5.117,5.101,4.891,4.875],\"yaxis\":\"y\",\"type\":\"scatter\"},{\"customdata\":[[\"New Zealand\"],[\"Australia\"]],\"hovertemplate\":\"Continents=Oceania<br>Social support=%{x}<br>happy_score=%{y}<br>Perceptions of corruption=%{marker.size}<br>Country name=%{customdata[0]}<extra></extra>\",\"legendgroup\":\"Oceania\",\"marker\":{\"color\":\"#EF553B\",\"size\":[0.242,0.442],\"sizemode\":\"area\",\"sizeref\":0.0023474999999999998,\"symbol\":\"circle\"},\"mode\":\"markers\",\"name\":\"Oceania\",\"orientation\":\"v\",\"showlegend\":true,\"x\":[0.948,0.94],\"xaxis\":\"x\",\"y\":[7.277,7.183],\"yaxis\":\"y\",\"type\":\"scatter\"},{\"customdata\":[[\"Israel\"],[\"Bahrain\"],[\"United Arab Emirates\"],[\"Saudi Arabia\"],[\"Kuwait\"],[\"Mauritius\"],[\"Libya\"],[\"Congo (Brazzaville)\"],[\"Ivory Coast\"],[\"Cameroon\"],[\"Senegal\"],[\"Ghana\"],[\"Niger\"],[\"Gambia\"],[\"Benin\"],[\"Guinea\"],[\"South Africa\"],[\"Turkey\"],[\"Morocco\"],[\"Algeria\"],[\"Iraq\"],[\"Gabon\"],[\"Burkina Faso\"],[\"Mozambique\"],[\"Nigeria\"],[\"Mali\"],[\"Iran\"],[\"Uganda\"],[\"Liberia\"],[\"Kenya\"],[\"Tunisia\"],[\"Lebanon\"],[\"Namibia\"],[\"Palestinian Territories\"],[\"Jordan\"],[\"Chad\"],[\"Swaziland\"],[\"Comoros\"],[\"Egypt\"],[\"Ethiopia\"],[\"Mauritania\"],[\"Madagascar\"],[\"Togo\"],[\"Zambia\"],[\"Sierra Leone\"],[\"Burundi\"],[\"Yemen\"],[\"Tanzania\"],[\"Malawi\"],[\"Lesotho\"],[\"Botswana\"],[\"Rwanda\"],[\"Zimbabwe\"]],\"hovertemplate\":\"Continents=Africa<br>Social support=%{x}<br>happy_score=%{y}<br>Perceptions of corruption=%{marker.size}<br>Country name=%{customdata[0]}<extra></extra>\",\"legendgroup\":\"Africa\",\"marker\":{\"color\":\"#00cc96\",\"size\":[0.753,0.722,0.589,0.684,0.736,0.789,0.667,0.745,0.794,0.848,0.801,0.848,0.693,0.746,0.661,0.766,0.86,0.776,0.801,0.752,0.875,0.84,0.748,0.684,0.878,0.827,0.714,0.855,0.85,0.825,0.87,0.898,0.847,0.821,0.705,0.807,0.708,0.781,0.795,0.761,0.731,0.803,0.772,0.823,0.866,0.607,0.8,0.577,0.729,0.915,0.801,0.167,0.821],\"sizemode\":\"area\",\"sizeref\":0.0023474999999999998,\"symbol\":\"circle\"},\"mode\":\"markers\",\"name\":\"Africa\",\"orientation\":\"v\",\"showlegend\":true,\"x\":[0.939,0.862,0.844,0.891,0.843,0.905,0.827,0.636,0.644,0.71,0.71,0.727,0.641,0.69,0.489,0.639,0.86,0.822,0.56,0.802,0.746,0.776,0.672,0.744,0.74,0.724,0.71,0.781,0.72,0.688,0.691,0.848,0.818,0.826,0.767,0.619,0.77,0.626,0.75,0.764,0.795,0.686,0.569,0.708,0.63,0.49,0.832,0.702,0.537,0.787,0.784,0.552,0.75],\"xaxis\":\"x\",\"y\":[7.157,6.647,6.561,6.494,6.106,6.049,5.41,5.342,5.306,5.142,5.132,5.088,5.074,5.051,5.045,4.984,4.956,4.948,4.918,4.887,4.854,4.852,4.834,4.794,4.759,4.723,4.721,4.636,4.625,4.607,4.596,4.584,4.574,4.517,4.395,4.355,4.308,4.289,4.283,4.275,4.227,4.208,4.107,4.073,3.849,3.775,3.658,3.623,3.6,3.512,3.467,3.415,3.145],\"yaxis\":\"y\",\"type\":\"scatter\"},{\"customdata\":[[\"Canada\"],[\"United States\"]],\"hovertemplate\":\"Continents=North America<br>Social support=%{x}<br>happy_score=%{y}<br>Perceptions of corruption=%{marker.size}<br>Country name=%{customdata[0]}<extra></extra>\",\"legendgroup\":\"North America\",\"marker\":{\"color\":\"#ab63fa\",\"size\":[0.415,0.698],\"sizemode\":\"area\",\"sizeref\":0.0023474999999999998,\"symbol\":\"circle\"},\"mode\":\"markers\",\"name\":\"North America\",\"orientation\":\"v\",\"showlegend\":true,\"x\":[0.926,0.92],\"xaxis\":\"x\",\"y\":[7.103,6.951],\"yaxis\":\"y\",\"type\":\"scatter\"},{\"customdata\":[[\"Costa Rica\"],[\"Guatemala\"],[\"Uruguay\"],[\"Brazil\"],[\"Mexico\"],[\"Jamaica\"],[\"Panama\"],[\"Chile\"],[\"El Salvador\"],[\"Colombia\"],[\"Nicaragua\"],[\"Argentina\"],[\"Honduras\"],[\"Peru\"],[\"Ecuador\"],[\"Bolivia\"],[\"Paraguay\"],[\"Dominican Republic\"],[\"Venezuela\"],[\"Haiti\"]],\"hovertemplate\":\"Continents=South America<br>Social support=%{x}<br>happy_score=%{y}<br>Perceptions of corruption=%{marker.size}<br>Country name=%{customdata[0]}<extra></extra>\",\"legendgroup\":\"South America\",\"marker\":{\"color\":\"#FFA15A\",\"size\":[0.809,0.775,0.59,0.756,0.799,0.884,0.856,0.83,0.688,0.841,0.664,0.834,0.809,0.891,0.843,0.839,0.882,0.714,0.827,0.721],\"sizemode\":\"area\",\"sizeref\":0.0023474999999999998,\"symbol\":\"circle\"},\"mode\":\"markers\",\"name\":\"South America\",\"orientation\":\"v\",\"showlegend\":true,\"x\":[0.891,0.813,0.925,0.882,0.831,0.877,0.896,0.882,0.762,0.847,0.864,0.898,0.812,0.832,0.821,0.81,0.893,0.853,0.861,0.54],\"xaxis\":\"x\",\"y\":[7.069,6.435,6.431,6.33,6.317,6.309,6.18,6.172,6.061,6.012,5.972,5.929,5.919,5.84,5.764,5.716,5.653,5.545,4.892,3.615],\"yaxis\":\"y\",\"type\":\"scatter\"},{\"customdata\":[[\"Taiwan Province of China\"],[\"Singapore\"],[\"Uzbekistan\"],[\"Kazakhstan\"],[\"Thailand\"],[\"Japan\"],[\"Philippines\"],[\"South Korea\"],[\"Kyrgyzstan\"],[\"Mongolia\"],[\"Hong Kong S.A.R. of China\"],[\"Tajikistan\"],[\"Vietnam\"],[\"Malaysia\"],[\"Indonesia\"],[\"China\"],[\"Armenia\"],[\"Nepal\"],[\"Maldives\"],[\"Azerbaijan\"],[\"Turkmenistan\"],[\"Laos\"],[\"Bangladesh\"],[\"Pakistan\"],[\"Cambodia\"],[\"Myanmar\"],[\"Sri Lanka\"],[\"India\"],[\"Afghanistan\"]],\"hovertemplate\":\"Continents=Asia<br>Social support=%{x}<br>happy_score=%{y}<br>Perceptions of corruption=%{marker.size}<br>Country name=%{customdata[0]}<extra></extra>\",\"legendgroup\":\"Asia\",\"marker\":{\"color\":\"#19d3f3\",\"size\":[0.721,0.082,0.515,0.733,0.895,0.638,0.742,0.727,0.908,0.856,0.403,0.553,0.796,0.839,0.867,0.755,0.629,0.727,0.825,0.506,0.888,0.658,0.682,0.787,0.843,0.66,0.863,0.774,0.924],\"sizemode\":\"area\",\"sizeref\":0.0023474999999999998,\"symbol\":\"circle\"},\"mode\":\"markers\",\"name\":\"Asia\",\"orientation\":\"v\",\"showlegend\":true,\"x\":[0.898,0.915,0.918,0.952,0.888,0.884,0.83,0.799,0.893,0.935,0.836,0.86,0.85,0.817,0.811,0.811,0.799,0.774,0.913,0.836,0.983,0.728,0.693,0.651,0.765,0.779,0.827,0.603,0.463],\"xaxis\":\"x\",\"y\":[6.584,6.377,6.179,6.152,5.985,5.94,5.88,5.845,5.744,5.677,5.477,5.466,5.411,5.384,5.345,5.339,5.283,5.269,5.198,5.171,5.066,5.03,5.025,4.934,4.83,4.426,4.325,3.819,2.523],\"yaxis\":\"y\",\"type\":\"scatter\"},{\"hovertemplate\":\"<b>OLS trendline</b><br>happy_score = 7.075 * Social support + -0.231479<br>R<sup>2</sup>=0.572879<br><br>Social support=%{x}<br>happy_score=%{y} <b>(trend)</b><extra></extra>\",\"legendgroup\":\"Overall Trendline\",\"line\":{\"color\":\"#FF6692\"},\"mode\":\"lines\",\"name\":\"Overall Trendline\",\"showlegend\":true,\"x\":[0.463,0.489,0.49,0.537,0.54,0.552,0.56,0.569,0.603,0.619,0.626,0.63,0.636,0.639,0.641,0.644,0.651,0.671,0.672,0.686,0.688,0.69,0.691,0.693,0.697,0.702,0.708,0.71,0.71,0.71,0.72,0.724,0.727,0.728,0.74,0.744,0.746,0.75,0.75,0.762,0.764,0.765,0.767,0.77,0.774,0.776,0.779,0.781,0.784,0.787,0.795,0.799,0.799,0.802,0.802,0.805,0.81,0.811,0.811,0.812,0.813,0.817,0.818,0.82,0.821,0.821,0.822,0.823,0.826,0.827,0.827,0.83,0.831,0.832,0.832,0.832,0.836,0.836,0.843,0.844,0.847,0.848,0.85,0.853,0.857,0.858,0.86,0.86,0.861,0.862,0.864,0.87,0.873,0.877,0.879,0.88,0.882,0.882,0.884,0.888,0.888,0.891,0.891,0.893,0.893,0.896,0.898,0.898,0.898,0.903,0.903,0.905,0.906,0.908,0.91,0.913,0.915,0.918,0.92,0.924,0.925,0.926,0.927,0.931,0.931,0.932,0.934,0.934,0.934,0.935,0.935,0.936,0.939,0.94,0.941,0.942,0.942,0.942,0.943,0.947,0.947,0.948,0.948,0.952,0.954,0.954,0.954,0.983,0.983],\"y\":[3.044244477870557,3.228194389962322,3.235269386581236,3.5677942276701975,3.5890192175269395,3.6739191769539086,3.730519149905221,3.794194119475447,4.034744004518525,4.1479439504211495,4.197468926753548,4.225768913229205,4.268218892942689,4.289443882799431,4.303593876037259,4.324818865894001,4.3743438422264,4.515843774604681,4.522918771223596,4.621968723888393,4.6361187171262195,4.650268710364048,4.657343706982962,4.67149370022079,4.699793686696446,4.735168669791017,4.777618649504501,4.791768642742329,4.791768642742329,4.791768642742329,4.86251860893147,4.890818595407127,4.912043585263868,4.919118581882782,5.004018541309751,5.0323185277854074,5.046468521023236,5.0747685074988915,5.0747685074988915,5.159668466925861,5.173818460163689,5.180893456782603,5.195043450020431,5.216268439877173,5.24456842635283,5.258718419590657,5.2799434094474,5.294093402685228,5.31531839254197,5.3365433823987125,5.393143355350025,5.4214433418256816,5.4214433418256816,5.442668331682423,5.442668331682423,5.463893321539166,5.499268304633736,5.50634330125265,5.50634330125265,5.5134182978715645,5.520493294490477,5.548793280966134,5.555868277585048,5.570018270822876,5.57709326744179,5.57709326744179,5.584168264060704,5.591243260679618,5.61246825053636,5.619543247155274,5.619543247155274,5.640768237012017,5.6478432336309305,5.654918230249844,5.654918230249844,5.654918230249844,5.683218216725501,5.683218216725501,5.7327431930579,5.7398181896768135,5.761043179533556,5.76811817615247,5.782268169390298,5.80349315924704,5.831793145722696,5.83886814234161,5.853018135579439,5.853018135579439,5.860093132198353,5.867168128817267,5.881318122055095,5.923768101768579,5.944993091625322,5.973293078100978,5.987443071338806,5.99451806795772,6.008668061195548,6.008668061195548,6.022818054433376,6.051118040909032,6.051118040909032,6.072343030765775,6.072343030765775,6.086493024003603,6.086493024003603,6.107718013860345,6.121868007098174,6.121868007098174,6.121868007098174,6.157242990192744,6.157242990192744,6.171392983430572,6.1784679800494855,6.192617973287314,6.206767966525142,6.227992956381884,6.242142949619712,6.2633679394764545,6.277517932714283,6.305817919189939,6.312892915808853,6.319967912427767,6.327042909046681,6.355342895522337,6.355342895522337,6.362417892141251,6.37656788537908,6.37656788537908,6.37656788537908,6.383642881997994,6.383642881997994,6.390717878616908,6.411942868473649,6.419017865092563,6.426092861711477,6.433167858330392,6.433167858330392,6.433167858330392,6.440242854949306,6.468542841424962,6.468542841424962,6.475617838043876,6.475617838043876,6.503917824519532,6.51806781775736,6.51806781775736,6.51806781775736,6.723242719705868,6.723242719705868],\"type\":\"scatter\",\"xaxis\":\"x\",\"yaxis\":\"y\"}],                        {\"template\":{\"data\":{\"bar\":[{\"error_x\":{\"color\":\"#2a3f5f\"},\"error_y\":{\"color\":\"#2a3f5f\"},\"marker\":{\"line\":{\"color\":\"#E5ECF6\",\"width\":0.5},\"pattern\":{\"fillmode\":\"overlay\",\"size\":10,\"solidity\":0.2}},\"type\":\"bar\"}],\"barpolar\":[{\"marker\":{\"line\":{\"color\":\"#E5ECF6\",\"width\":0.5},\"pattern\":{\"fillmode\":\"overlay\",\"size\":10,\"solidity\":0.2}},\"type\":\"barpolar\"}],\"carpet\":[{\"aaxis\":{\"endlinecolor\":\"#2a3f5f\",\"gridcolor\":\"white\",\"linecolor\":\"white\",\"minorgridcolor\":\"white\",\"startlinecolor\":\"#2a3f5f\"},\"baxis\":{\"endlinecolor\":\"#2a3f5f\",\"gridcolor\":\"white\",\"linecolor\":\"white\",\"minorgridcolor\":\"white\",\"startlinecolor\":\"#2a3f5f\"},\"type\":\"carpet\"}],\"choropleth\":[{\"colorbar\":{\"outlinewidth\":0,\"ticks\":\"\"},\"type\":\"choropleth\"}],\"contour\":[{\"colorbar\":{\"outlinewidth\":0,\"ticks\":\"\"},\"colorscale\":[[0.0,\"#0d0887\"],[0.1111111111111111,\"#46039f\"],[0.2222222222222222,\"#7201a8\"],[0.3333333333333333,\"#9c179e\"],[0.4444444444444444,\"#bd3786\"],[0.5555555555555556,\"#d8576b\"],[0.6666666666666666,\"#ed7953\"],[0.7777777777777778,\"#fb9f3a\"],[0.8888888888888888,\"#fdca26\"],[1.0,\"#f0f921\"]],\"type\":\"contour\"}],\"contourcarpet\":[{\"colorbar\":{\"outlinewidth\":0,\"ticks\":\"\"},\"type\":\"contourcarpet\"}],\"heatmap\":[{\"colorbar\":{\"outlinewidth\":0,\"ticks\":\"\"},\"colorscale\":[[0.0,\"#0d0887\"],[0.1111111111111111,\"#46039f\"],[0.2222222222222222,\"#7201a8\"],[0.3333333333333333,\"#9c179e\"],[0.4444444444444444,\"#bd3786\"],[0.5555555555555556,\"#d8576b\"],[0.6666666666666666,\"#ed7953\"],[0.7777777777777778,\"#fb9f3a\"],[0.8888888888888888,\"#fdca26\"],[1.0,\"#f0f921\"]],\"type\":\"heatmap\"}],\"heatmapgl\":[{\"colorbar\":{\"outlinewidth\":0,\"ticks\":\"\"},\"colorscale\":[[0.0,\"#0d0887\"],[0.1111111111111111,\"#46039f\"],[0.2222222222222222,\"#7201a8\"],[0.3333333333333333,\"#9c179e\"],[0.4444444444444444,\"#bd3786\"],[0.5555555555555556,\"#d8576b\"],[0.6666666666666666,\"#ed7953\"],[0.7777777777777778,\"#fb9f3a\"],[0.8888888888888888,\"#fdca26\"],[1.0,\"#f0f921\"]],\"type\":\"heatmapgl\"}],\"histogram\":[{\"marker\":{\"pattern\":{\"fillmode\":\"overlay\",\"size\":10,\"solidity\":0.2}},\"type\":\"histogram\"}],\"histogram2d\":[{\"colorbar\":{\"outlinewidth\":0,\"ticks\":\"\"},\"colorscale\":[[0.0,\"#0d0887\"],[0.1111111111111111,\"#46039f\"],[0.2222222222222222,\"#7201a8\"],[0.3333333333333333,\"#9c179e\"],[0.4444444444444444,\"#bd3786\"],[0.5555555555555556,\"#d8576b\"],[0.6666666666666666,\"#ed7953\"],[0.7777777777777778,\"#fb9f3a\"],[0.8888888888888888,\"#fdca26\"],[1.0,\"#f0f921\"]],\"type\":\"histogram2d\"}],\"histogram2dcontour\":[{\"colorbar\":{\"outlinewidth\":0,\"ticks\":\"\"},\"colorscale\":[[0.0,\"#0d0887\"],[0.1111111111111111,\"#46039f\"],[0.2222222222222222,\"#7201a8\"],[0.3333333333333333,\"#9c179e\"],[0.4444444444444444,\"#bd3786\"],[0.5555555555555556,\"#d8576b\"],[0.6666666666666666,\"#ed7953\"],[0.7777777777777778,\"#fb9f3a\"],[0.8888888888888888,\"#fdca26\"],[1.0,\"#f0f921\"]],\"type\":\"histogram2dcontour\"}],\"mesh3d\":[{\"colorbar\":{\"outlinewidth\":0,\"ticks\":\"\"},\"type\":\"mesh3d\"}],\"parcoords\":[{\"line\":{\"colorbar\":{\"outlinewidth\":0,\"ticks\":\"\"}},\"type\":\"parcoords\"}],\"pie\":[{\"automargin\":true,\"type\":\"pie\"}],\"scatter\":[{\"marker\":{\"colorbar\":{\"outlinewidth\":0,\"ticks\":\"\"}},\"type\":\"scatter\"}],\"scatter3d\":[{\"line\":{\"colorbar\":{\"outlinewidth\":0,\"ticks\":\"\"}},\"marker\":{\"colorbar\":{\"outlinewidth\":0,\"ticks\":\"\"}},\"type\":\"scatter3d\"}],\"scattercarpet\":[{\"marker\":{\"colorbar\":{\"outlinewidth\":0,\"ticks\":\"\"}},\"type\":\"scattercarpet\"}],\"scattergeo\":[{\"marker\":{\"colorbar\":{\"outlinewidth\":0,\"ticks\":\"\"}},\"type\":\"scattergeo\"}],\"scattergl\":[{\"marker\":{\"colorbar\":{\"outlinewidth\":0,\"ticks\":\"\"}},\"type\":\"scattergl\"}],\"scattermapbox\":[{\"marker\":{\"colorbar\":{\"outlinewidth\":0,\"ticks\":\"\"}},\"type\":\"scattermapbox\"}],\"scatterpolar\":[{\"marker\":{\"colorbar\":{\"outlinewidth\":0,\"ticks\":\"\"}},\"type\":\"scatterpolar\"}],\"scatterpolargl\":[{\"marker\":{\"colorbar\":{\"outlinewidth\":0,\"ticks\":\"\"}},\"type\":\"scatterpolargl\"}],\"scatterternary\":[{\"marker\":{\"colorbar\":{\"outlinewidth\":0,\"ticks\":\"\"}},\"type\":\"scatterternary\"}],\"surface\":[{\"colorbar\":{\"outlinewidth\":0,\"ticks\":\"\"},\"colorscale\":[[0.0,\"#0d0887\"],[0.1111111111111111,\"#46039f\"],[0.2222222222222222,\"#7201a8\"],[0.3333333333333333,\"#9c179e\"],[0.4444444444444444,\"#bd3786\"],[0.5555555555555556,\"#d8576b\"],[0.6666666666666666,\"#ed7953\"],[0.7777777777777778,\"#fb9f3a\"],[0.8888888888888888,\"#fdca26\"],[1.0,\"#f0f921\"]],\"type\":\"surface\"}],\"table\":[{\"cells\":{\"fill\":{\"color\":\"#EBF0F8\"},\"line\":{\"color\":\"white\"}},\"header\":{\"fill\":{\"color\":\"#C8D4E3\"},\"line\":{\"color\":\"white\"}},\"type\":\"table\"}]},\"layout\":{\"annotationdefaults\":{\"arrowcolor\":\"#2a3f5f\",\"arrowhead\":0,\"arrowwidth\":1},\"autotypenumbers\":\"strict\",\"coloraxis\":{\"colorbar\":{\"outlinewidth\":0,\"ticks\":\"\"}},\"colorscale\":{\"diverging\":[[0,\"#8e0152\"],[0.1,\"#c51b7d\"],[0.2,\"#de77ae\"],[0.3,\"#f1b6da\"],[0.4,\"#fde0ef\"],[0.5,\"#f7f7f7\"],[0.6,\"#e6f5d0\"],[0.7,\"#b8e186\"],[0.8,\"#7fbc41\"],[0.9,\"#4d9221\"],[1,\"#276419\"]],\"sequential\":[[0.0,\"#0d0887\"],[0.1111111111111111,\"#46039f\"],[0.2222222222222222,\"#7201a8\"],[0.3333333333333333,\"#9c179e\"],[0.4444444444444444,\"#bd3786\"],[0.5555555555555556,\"#d8576b\"],[0.6666666666666666,\"#ed7953\"],[0.7777777777777778,\"#fb9f3a\"],[0.8888888888888888,\"#fdca26\"],[1.0,\"#f0f921\"]],\"sequentialminus\":[[0.0,\"#0d0887\"],[0.1111111111111111,\"#46039f\"],[0.2222222222222222,\"#7201a8\"],[0.3333333333333333,\"#9c179e\"],[0.4444444444444444,\"#bd3786\"],[0.5555555555555556,\"#d8576b\"],[0.6666666666666666,\"#ed7953\"],[0.7777777777777778,\"#fb9f3a\"],[0.8888888888888888,\"#fdca26\"],[1.0,\"#f0f921\"]]},\"colorway\":[\"#636efa\",\"#EF553B\",\"#00cc96\",\"#ab63fa\",\"#FFA15A\",\"#19d3f3\",\"#FF6692\",\"#B6E880\",\"#FF97FF\",\"#FECB52\"],\"font\":{\"color\":\"#2a3f5f\"},\"geo\":{\"bgcolor\":\"white\",\"lakecolor\":\"white\",\"landcolor\":\"#E5ECF6\",\"showlakes\":true,\"showland\":true,\"subunitcolor\":\"white\"},\"hoverlabel\":{\"align\":\"left\"},\"hovermode\":\"closest\",\"mapbox\":{\"style\":\"light\"},\"paper_bgcolor\":\"white\",\"plot_bgcolor\":\"#E5ECF6\",\"polar\":{\"angularaxis\":{\"gridcolor\":\"white\",\"linecolor\":\"white\",\"ticks\":\"\"},\"bgcolor\":\"#E5ECF6\",\"radialaxis\":{\"gridcolor\":\"white\",\"linecolor\":\"white\",\"ticks\":\"\"}},\"scene\":{\"xaxis\":{\"backgroundcolor\":\"#E5ECF6\",\"gridcolor\":\"white\",\"gridwidth\":2,\"linecolor\":\"white\",\"showbackground\":true,\"ticks\":\"\",\"zerolinecolor\":\"white\"},\"yaxis\":{\"backgroundcolor\":\"#E5ECF6\",\"gridcolor\":\"white\",\"gridwidth\":2,\"linecolor\":\"white\",\"showbackground\":true,\"ticks\":\"\",\"zerolinecolor\":\"white\"},\"zaxis\":{\"backgroundcolor\":\"#E5ECF6\",\"gridcolor\":\"white\",\"gridwidth\":2,\"linecolor\":\"white\",\"showbackground\":true,\"ticks\":\"\",\"zerolinecolor\":\"white\"}},\"shapedefaults\":{\"line\":{\"color\":\"#2a3f5f\"}},\"ternary\":{\"aaxis\":{\"gridcolor\":\"white\",\"linecolor\":\"white\",\"ticks\":\"\"},\"baxis\":{\"gridcolor\":\"white\",\"linecolor\":\"white\",\"ticks\":\"\"},\"bgcolor\":\"#E5ECF6\",\"caxis\":{\"gridcolor\":\"white\",\"linecolor\":\"white\",\"ticks\":\"\"}},\"title\":{\"x\":0.05},\"xaxis\":{\"automargin\":true,\"gridcolor\":\"white\",\"linecolor\":\"white\",\"ticks\":\"\",\"title\":{\"standoff\":15},\"zerolinecolor\":\"white\",\"zerolinewidth\":2},\"yaxis\":{\"automargin\":true,\"gridcolor\":\"white\",\"linecolor\":\"white\",\"ticks\":\"\",\"title\":{\"standoff\":15},\"zerolinecolor\":\"white\",\"zerolinewidth\":2}}},\"xaxis\":{\"anchor\":\"y\",\"domain\":[0.0,1.0],\"title\":{\"text\":\"Social support\"}},\"yaxis\":{\"anchor\":\"x\",\"domain\":[0.0,1.0],\"title\":{\"text\":\"happy_score\"}},\"legend\":{\"title\":{\"text\":\"Continents\"},\"tracegroupgap\":0,\"itemsizing\":\"constant\"},\"title\":{\"text\":\"Relationship of Social Support and Happiness Index\"}},                        {\"responsive\": true}                    ).then(function(){\n                            \nvar gd = document.getElementById('ecd32a39-4727-4228-aeb0-b709d3dd29e8');\nvar x = new MutationObserver(function (mutations, observer) {{\n        var display = window.getComputedStyle(gd).display;\n        if (!display || display === 'none') {{\n            console.log([gd, 'removed!']);\n            Plotly.purge(gd);\n            observer.disconnect();\n        }}\n}});\n\n// Listen for the removal of the full notebook cells\nvar notebookContainer = gd.closest('#notebook-container');\nif (notebookContainer) {{\n    x.observe(notebookContainer, {childList: true});\n}}\n\n// Listen for the clearing of the current output cell\nvar outputEl = gd.closest('.output');\nif (outputEl) {{\n    x.observe(outputEl, {childList: true});\n}}\n\n                        })                };                            </script>        </div>\n</body>\n</html>"
     },
     "execution_count": 25,
     "metadata": {
     },
     "output_type": "execute_result"
    }
   ],
   "source": [
    "px.scatter(happy_2021_df, x = \"Social support\", y = \"happy_score\", hover_data = [\"Country name\"],color = 'Continents', size = 'Perceptions of corruption',trendline = \"ols\", trendline_scope = \"overall\", title=\"Relationship of Social Support and Happiness Index\", template = 'plotly')"
   ]
  },
  {
   "cell_type": "markdown",
   "metadata": {
    "collapsed": false
   },
   "source": [
    "<h2> <a id = \"life_expectancy\"> How Happiness Affects Life Expectancy</a> </h2>\n",
    "\n",
    "- This scatterplot shows a **positive correlation** between the healthy life expectancy and happiness score for most of the countries. \n",
    "- Lower life expectancy in most **African countries** can be a result of lack of access to healthcare/welfare and the HIV/AID epidemic.\n",
    "- High life expectancies in **European countries** can be attributed to the larger amount of money being put into healthcare and the focus/access for non-processed foods in these countries diets.\n",
    "\n"
   ]
  },
  {
   "cell_type": "code",
   "execution_count": 26,
   "metadata": {
    "collapsed": false
   },
   "outputs": [
    {
     "data": {
      "text/html": "<html>\n<head><meta charset=\"utf-8\" /></head>\n<body>\n    <div>            <script src=\"https://cdnjs.cloudflare.com/ajax/libs/mathjax/2.7.5/MathJax.js?config=TeX-AMS-MML_SVG\"></script><script type=\"text/javascript\">if (window.MathJax) {MathJax.Hub.Config({SVG: {font: \"STIX-Web\"}});}</script>                <script type=\"text/javascript\">window.PlotlyConfig = {MathJaxConfig: 'local'};</script>\n        <script src=\"https://cdn.plot.ly/plotly-2.9.0.min.js\"></script>                <div id=\"367568fb-4232-4d84-acf1-d4f2ef7aeaa9\" class=\"plotly-graph-div\" style=\"height:525px; width:100%;\"></div>            <script type=\"text/javascript\">                                    window.PLOTLYENV=window.PLOTLYENV || {};                                    if (document.getElementById(\"367568fb-4232-4d84-acf1-d4f2ef7aeaa9\")) {                    Plotly.newPlot(                        \"367568fb-4232-4d84-acf1-d4f2ef7aeaa9\",                        [{\"customdata\":[[\"Finland\"],[\"Denmark\"],[\"Switzerland\"],[\"Iceland\"],[\"Netherlands\"],[\"Norway\"],[\"Sweden\"],[\"Luxembourg\"],[\"Austria\"],[\"Germany\"],[\"Ireland\"],[\"United Kingdom\"],[\"Czech Republic\"],[\"Belgium\"],[\"France\"],[\"Malta\"],[\"Spain\"],[\"Italy\"],[\"Slovenia\"],[\"Kosovo\"],[\"Slovakia\"],[\"Lithuania\"],[\"Cyprus\"],[\"Estonia\"],[\"Poland\"],[\"Romania\"],[\"Serbia\"],[\"Latvia\"],[\"Hungary\"],[\"Portugal\"],[\"Croatia\"],[\"Bosnia and Herzegovina\"],[\"Moldova\"],[\"Greece\"],[\"Montenegro\"],[\"North Cyprus\"],[\"Belarus\"],[\"Russia\"],[\"Bulgaria\"],[\"Albania\"],[\"North Macedonia\"],[\"Georgia\"],[\"Ukraine\"]],\"hovertemplate\":\"Continents=Europe<br>Healthy life expectancy=%{x}<br>happy_score=%{y}<br>Social support=%{marker.size}<br>Country name=%{customdata[0]}<extra></extra>\",\"legendgroup\":\"Europe\",\"marker\":{\"color\":\"#636efa\",\"size\":[0.954,0.954,0.942,0.983,0.942,0.954,0.934,0.908,0.934,0.903,0.947,0.934,0.947,0.906,0.942,0.931,0.932,0.88,0.948,0.821,0.936,0.935,0.802,0.941,0.898,0.832,0.873,0.927,0.943,0.879,0.924,0.87,0.857,0.823,0.858,0.82,0.91,0.903,0.931,0.697,0.805,0.671,0.888],\"sizemode\":\"area\",\"sizeref\":0.0024575,\"symbol\":\"circle\"},\"mode\":\"markers\",\"name\":\"Europe\",\"orientation\":\"v\",\"showlegend\":true,\"x\":[72.0,72.7,74.4,73.0,72.4,73.3,72.7,72.6,73.3,72.5,72.4,72.5,70.807,72.199,74.0,72.2,74.7,73.8,71.4,63.813,69.201,67.906,73.898,68.8,69.702,67.355,68.6,67.1,68.0,72.6,70.799,68.098,65.699,72.6,68.699,73.898,66.253,64.703,67.0,68.999,65.474,64.3,64.902],\"xaxis\":\"x\",\"y\":[7.842,7.62,7.571,7.554,7.464,7.392,7.363,7.324,7.268,7.155,7.085,7.064,6.965,6.834,6.69,6.602,6.491,6.483,6.461,6.372,6.331,6.255,6.223,6.189,6.166,6.14,6.078,6.032,5.992,5.929,5.882,5.813,5.766,5.723,5.581,5.536,5.534,5.477,5.266,5.117,5.101,4.891,4.875],\"yaxis\":\"y\",\"type\":\"scatter\"},{\"customdata\":[[\"New Zealand\"],[\"Australia\"]],\"hovertemplate\":\"Continents=Oceania<br>Healthy life expectancy=%{x}<br>happy_score=%{y}<br>Social support=%{marker.size}<br>Country name=%{customdata[0]}<extra></extra>\",\"legendgroup\":\"Oceania\",\"marker\":{\"color\":\"#EF553B\",\"size\":[0.948,0.94],\"sizemode\":\"area\",\"sizeref\":0.0024575,\"symbol\":\"circle\"},\"mode\":\"markers\",\"name\":\"Oceania\",\"orientation\":\"v\",\"showlegend\":true,\"x\":[73.4,73.9],\"xaxis\":\"x\",\"y\":[7.277,7.183],\"yaxis\":\"y\",\"type\":\"scatter\"},{\"customdata\":[[\"Israel\"],[\"Bahrain\"],[\"United Arab Emirates\"],[\"Saudi Arabia\"],[\"Kuwait\"],[\"Mauritius\"],[\"Libya\"],[\"Congo (Brazzaville)\"],[\"Ivory Coast\"],[\"Cameroon\"],[\"Senegal\"],[\"Ghana\"],[\"Niger\"],[\"Gambia\"],[\"Benin\"],[\"Guinea\"],[\"South Africa\"],[\"Turkey\"],[\"Morocco\"],[\"Algeria\"],[\"Iraq\"],[\"Gabon\"],[\"Burkina Faso\"],[\"Mozambique\"],[\"Nigeria\"],[\"Mali\"],[\"Iran\"],[\"Uganda\"],[\"Liberia\"],[\"Kenya\"],[\"Tunisia\"],[\"Lebanon\"],[\"Namibia\"],[\"Palestinian Territories\"],[\"Jordan\"],[\"Chad\"],[\"Swaziland\"],[\"Comoros\"],[\"Egypt\"],[\"Ethiopia\"],[\"Mauritania\"],[\"Madagascar\"],[\"Togo\"],[\"Zambia\"],[\"Sierra Leone\"],[\"Burundi\"],[\"Yemen\"],[\"Tanzania\"],[\"Malawi\"],[\"Lesotho\"],[\"Botswana\"],[\"Rwanda\"],[\"Zimbabwe\"]],\"hovertemplate\":\"Continents=Africa<br>Healthy life expectancy=%{x}<br>happy_score=%{y}<br>Social support=%{marker.size}<br>Country name=%{customdata[0]}<extra></extra>\",\"legendgroup\":\"Africa\",\"marker\":{\"color\":\"#00cc96\",\"size\":[0.939,0.862,0.844,0.891,0.843,0.905,0.827,0.636,0.644,0.71,0.71,0.727,0.641,0.69,0.489,0.639,0.86,0.822,0.56,0.802,0.746,0.776,0.672,0.744,0.74,0.724,0.71,0.781,0.72,0.688,0.691,0.848,0.818,0.826,0.767,0.619,0.77,0.626,0.75,0.764,0.795,0.686,0.569,0.708,0.63,0.49,0.832,0.702,0.537,0.787,0.784,0.552,0.75],\"sizemode\":\"area\",\"sizeref\":0.0024575,\"symbol\":\"circle\"},\"mode\":\"markers\",\"name\":\"Africa\",\"orientation\":\"v\",\"showlegend\":true,\"x\":[73.503,69.495,67.333,66.603,66.9,66.701,62.3,58.221,50.114,53.515,59.802,57.586,53.78,55.16,54.713,55.008,56.904,67.199,66.208,66.005,60.583,59.962,54.151,54.706,50.102,51.969,66.3,56.101,56.498,60.704,67.201,67.355,56.799,62.25,67.0,48.478,50.833,57.349,61.998,59.0,57.161,59.305,54.914,55.809,51.651,53.4,57.122,57.999,57.948,48.7,59.269,61.4,56.201],\"xaxis\":\"x\",\"y\":[7.157,6.647,6.561,6.494,6.106,6.049,5.41,5.342,5.306,5.142,5.132,5.088,5.074,5.051,5.045,4.984,4.956,4.948,4.918,4.887,4.854,4.852,4.834,4.794,4.759,4.723,4.721,4.636,4.625,4.607,4.596,4.584,4.574,4.517,4.395,4.355,4.308,4.289,4.283,4.275,4.227,4.208,4.107,4.073,3.849,3.775,3.658,3.623,3.6,3.512,3.467,3.415,3.145],\"yaxis\":\"y\",\"type\":\"scatter\"},{\"customdata\":[[\"Canada\"],[\"United States\"]],\"hovertemplate\":\"Continents=North America<br>Healthy life expectancy=%{x}<br>happy_score=%{y}<br>Social support=%{marker.size}<br>Country name=%{customdata[0]}<extra></extra>\",\"legendgroup\":\"North America\",\"marker\":{\"color\":\"#ab63fa\",\"size\":[0.926,0.92],\"sizemode\":\"area\",\"sizeref\":0.0024575,\"symbol\":\"circle\"},\"mode\":\"markers\",\"name\":\"North America\",\"orientation\":\"v\",\"showlegend\":true,\"x\":[73.8,68.2],\"xaxis\":\"x\",\"y\":[7.103,6.951],\"yaxis\":\"y\",\"type\":\"scatter\"},{\"customdata\":[[\"Costa Rica\"],[\"Guatemala\"],[\"Uruguay\"],[\"Brazil\"],[\"Mexico\"],[\"Jamaica\"],[\"Panama\"],[\"Chile\"],[\"El Salvador\"],[\"Colombia\"],[\"Nicaragua\"],[\"Argentina\"],[\"Honduras\"],[\"Peru\"],[\"Ecuador\"],[\"Bolivia\"],[\"Paraguay\"],[\"Dominican Republic\"],[\"Venezuela\"],[\"Haiti\"]],\"hovertemplate\":\"Continents=South America<br>Healthy life expectancy=%{x}<br>happy_score=%{y}<br>Social support=%{marker.size}<br>Country name=%{customdata[0]}<extra></extra>\",\"legendgroup\":\"South America\",\"marker\":{\"color\":\"#FFA15A\",\"size\":[0.891,0.813,0.925,0.882,0.831,0.877,0.896,0.882,0.762,0.847,0.864,0.898,0.812,0.832,0.821,0.81,0.893,0.853,0.861,0.54],\"sizemode\":\"area\",\"sizeref\":0.0024575,\"symbol\":\"circle\"},\"mode\":\"markers\",\"name\":\"South America\",\"orientation\":\"v\",\"showlegend\":true,\"x\":[71.4,64.958,69.1,66.601,68.597,67.5,69.652,70.0,66.402,68.001,67.657,69.0,67.3,68.25,68.8,63.901,65.9,66.102,66.7,55.7],\"xaxis\":\"x\",\"y\":[7.069,6.435,6.431,6.33,6.317,6.309,6.18,6.172,6.061,6.012,5.972,5.929,5.919,5.84,5.764,5.716,5.653,5.545,4.892,3.615],\"yaxis\":\"y\",\"type\":\"scatter\"},{\"customdata\":[[\"Taiwan Province of China\"],[\"Singapore\"],[\"Uzbekistan\"],[\"Kazakhstan\"],[\"Thailand\"],[\"Japan\"],[\"Philippines\"],[\"South Korea\"],[\"Kyrgyzstan\"],[\"Mongolia\"],[\"Hong Kong S.A.R. of China\"],[\"Tajikistan\"],[\"Vietnam\"],[\"Malaysia\"],[\"Indonesia\"],[\"China\"],[\"Armenia\"],[\"Nepal\"],[\"Maldives\"],[\"Azerbaijan\"],[\"Turkmenistan\"],[\"Laos\"],[\"Bangladesh\"],[\"Pakistan\"],[\"Cambodia\"],[\"Myanmar\"],[\"Sri Lanka\"],[\"India\"],[\"Afghanistan\"]],\"hovertemplate\":\"Continents=Asia<br>Healthy life expectancy=%{x}<br>happy_score=%{y}<br>Social support=%{marker.size}<br>Country name=%{customdata[0]}<extra></extra>\",\"legendgroup\":\"Asia\",\"marker\":{\"color\":\"#19d3f3\",\"size\":[0.898,0.915,0.918,0.952,0.888,0.884,0.83,0.799,0.893,0.935,0.836,0.86,0.85,0.817,0.811,0.811,0.799,0.774,0.913,0.836,0.983,0.728,0.693,0.651,0.765,0.779,0.827,0.603,0.463],\"sizemode\":\"area\",\"sizeref\":0.0024575,\"symbol\":\"circle\"},\"mode\":\"markers\",\"name\":\"Asia\",\"orientation\":\"v\",\"showlegend\":true,\"x\":[69.6,76.953,65.255,65.2,67.401,75.1,62.0,73.9,64.401,62.5,76.82,64.281,68.034,67.102,62.236,69.593,67.055,64.233,70.6,65.656,62.409,58.968,64.8,58.709,62.0,59.302,67.299,60.633,52.493],\"xaxis\":\"x\",\"y\":[6.584,6.377,6.179,6.152,5.985,5.94,5.88,5.845,5.744,5.677,5.477,5.466,5.411,5.384,5.345,5.339,5.283,5.269,5.198,5.171,5.066,5.03,5.025,4.934,4.83,4.426,4.325,3.819,2.523],\"yaxis\":\"y\",\"type\":\"scatter\"},{\"hovertemplate\":\"<b>OLS trendline</b><br>happy_score = 0.121987 * Healthy life expectancy + -2.39543<br>R<sup>2</sup>=0.589977<br><br>Healthy life expectancy=%{x}<br>happy_score=%{y} <b>(trend)</b><extra></extra>\",\"legendgroup\":\"Overall Trendline\",\"line\":{\"color\":\"#FF6692\"},\"mode\":\"lines\",\"name\":\"Overall Trendline\",\"showlegend\":true,\"x\":[48.478,48.7,50.102,50.114,50.833,51.651,51.969,52.493,53.4,53.515,53.78,54.151,54.706,54.713,54.914,55.008,55.16,55.7,55.809,56.101,56.201,56.498,56.799,56.904,57.122,57.161,57.349,57.586,57.948,57.999,58.221,58.709,58.968,59.0,59.269,59.302,59.305,59.802,59.962,60.583,60.633,60.704,61.4,61.998,62.0,62.0,62.236,62.25,62.3,62.409,62.5,63.813,63.901,64.233,64.281,64.3,64.401,64.703,64.8,64.902,64.958,65.2,65.255,65.474,65.656,65.699,65.9,66.005,66.102,66.208,66.253,66.3,66.402,66.601,66.603,66.7,66.701,66.9,67.0,67.0,67.055,67.1,67.102,67.199,67.201,67.299,67.3,67.333,67.355,67.355,67.401,67.5,67.657,67.906,68.0,68.001,68.034,68.098,68.2,68.25,68.597,68.6,68.699,68.8,68.8,68.999,69.0,69.1,69.201,69.495,69.593,69.6,69.652,69.702,70.0,70.6,70.799,70.807,71.4,71.4,72.0,72.199,72.2,72.4,72.4,72.5,72.5,72.6,72.6,72.6,72.7,72.7,73.0,73.3,73.3,73.4,73.503,73.8,73.8,73.898,73.898,73.9,73.9,74.0,74.4,74.7,75.1,76.82,76.953],\"y\":[3.5182512225554365,3.545332295687044,3.716357811590256,3.7178216533811534,3.805530174019106,3.9053153894319648,3.9441071968907533,4.008028288426619,4.118670330455301,4.132698814284738,4.165025320500395,4.210282429202315,4.277985112031333,4.27883901974269,4.303358369740226,4.314825130435591,4.333367126453628,4.399240007044024,4.412536569978011,4.448156720223188,4.4603554018140015,4.496585486138719,4.533303517727069,4.546112133397425,4.5727052592653985,4.577462745085817,4.6003962664765465,4.629307141846776,4.6734663692055225,4.6796876968168375,4.706768769948444,4.766298336111618,4.797892921431826,4.8017964995408855,4.834610953020175,4.838636517945144,4.839002478392868,4.899629925899214,4.919147816444517,4.994901629123471,5.001000969918879,5.009662033848357,5.094564857720422,5.167512973633489,5.167756947265306,5.167756947265306,5.196545835819626,5.19825365124234,5.204352992037747,5.217649554971735,5.2287503552193755,5.388919044506764,5.39965388430668,5.440153507188183,5.446008874351774,5.448326623854028,5.46064729226075,5.497487310665009,5.509320031808097,5.521762687030728,5.528593948721584,5.558114758171354,5.564824033046301,5.591539145730184,5.613740746225466,5.618986179309515,5.643505529307052,5.656314144977405,5.668146866120497,5.681077468606758,5.686566875322625,5.692300255670307,5.704742910892938,5.729018287258659,5.729262260890473,5.741094982033563,5.7412169688494705,5.7654923452151925,5.777691026806006,5.777691026806006,5.784400301680955,5.78988970839682,5.790133682028636,5.801966403171725,5.802210376803541,5.81416508476254,5.814287071578447,5.818312636503417,5.820996346453396,5.820996346453396,5.82660773998517,5.838684434760077,5.857836364857653,5.888211082018782,5.899677842714145,5.899799829530054,5.903825394455024,5.911632550673143,5.924075205895774,5.930174546691181,5.972503971811304,5.972869932259029,5.984946627033936,5.997267295440657,5.997267295440657,6.021542671806377,6.021664658622286,6.0338633402131,6.046184008619821,6.082048132496815,6.094002840455814,6.094856748167168,6.101200062594393,6.1072994033898,6.143651474530425,6.216843564075309,6.241118940441031,6.242094834968294,6.314433016801822,6.314433016801822,6.387625106346706,6.411900482712425,6.412022469528334,6.436419832709963,6.436419832709963,6.448618514300775,6.448618514300775,6.460817195891589,6.460817195891589,6.460817195891589,6.473015877482404,6.473015877482404,6.509611922254845,6.546207967027287,6.546207967027287,6.558406648618102,6.570971290656641,6.607201374981357,6.607201374981357,6.619156082940354,6.619156082940354,6.6194000565721725,6.6194000565721725,6.631598738162986,6.680393464526243,6.716989509298684,6.765784235661939,6.97560155902394,6.991825805539723],\"type\":\"scatter\",\"xaxis\":\"x\",\"yaxis\":\"y\"}],                        {\"template\":{\"data\":{\"bar\":[{\"error_x\":{\"color\":\"#2a3f5f\"},\"error_y\":{\"color\":\"#2a3f5f\"},\"marker\":{\"line\":{\"color\":\"#E5ECF6\",\"width\":0.5},\"pattern\":{\"fillmode\":\"overlay\",\"size\":10,\"solidity\":0.2}},\"type\":\"bar\"}],\"barpolar\":[{\"marker\":{\"line\":{\"color\":\"#E5ECF6\",\"width\":0.5},\"pattern\":{\"fillmode\":\"overlay\",\"size\":10,\"solidity\":0.2}},\"type\":\"barpolar\"}],\"carpet\":[{\"aaxis\":{\"endlinecolor\":\"#2a3f5f\",\"gridcolor\":\"white\",\"linecolor\":\"white\",\"minorgridcolor\":\"white\",\"startlinecolor\":\"#2a3f5f\"},\"baxis\":{\"endlinecolor\":\"#2a3f5f\",\"gridcolor\":\"white\",\"linecolor\":\"white\",\"minorgridcolor\":\"white\",\"startlinecolor\":\"#2a3f5f\"},\"type\":\"carpet\"}],\"choropleth\":[{\"colorbar\":{\"outlinewidth\":0,\"ticks\":\"\"},\"type\":\"choropleth\"}],\"contour\":[{\"colorbar\":{\"outlinewidth\":0,\"ticks\":\"\"},\"colorscale\":[[0.0,\"#0d0887\"],[0.1111111111111111,\"#46039f\"],[0.2222222222222222,\"#7201a8\"],[0.3333333333333333,\"#9c179e\"],[0.4444444444444444,\"#bd3786\"],[0.5555555555555556,\"#d8576b\"],[0.6666666666666666,\"#ed7953\"],[0.7777777777777778,\"#fb9f3a\"],[0.8888888888888888,\"#fdca26\"],[1.0,\"#f0f921\"]],\"type\":\"contour\"}],\"contourcarpet\":[{\"colorbar\":{\"outlinewidth\":0,\"ticks\":\"\"},\"type\":\"contourcarpet\"}],\"heatmap\":[{\"colorbar\":{\"outlinewidth\":0,\"ticks\":\"\"},\"colorscale\":[[0.0,\"#0d0887\"],[0.1111111111111111,\"#46039f\"],[0.2222222222222222,\"#7201a8\"],[0.3333333333333333,\"#9c179e\"],[0.4444444444444444,\"#bd3786\"],[0.5555555555555556,\"#d8576b\"],[0.6666666666666666,\"#ed7953\"],[0.7777777777777778,\"#fb9f3a\"],[0.8888888888888888,\"#fdca26\"],[1.0,\"#f0f921\"]],\"type\":\"heatmap\"}],\"heatmapgl\":[{\"colorbar\":{\"outlinewidth\":0,\"ticks\":\"\"},\"colorscale\":[[0.0,\"#0d0887\"],[0.1111111111111111,\"#46039f\"],[0.2222222222222222,\"#7201a8\"],[0.3333333333333333,\"#9c179e\"],[0.4444444444444444,\"#bd3786\"],[0.5555555555555556,\"#d8576b\"],[0.6666666666666666,\"#ed7953\"],[0.7777777777777778,\"#fb9f3a\"],[0.8888888888888888,\"#fdca26\"],[1.0,\"#f0f921\"]],\"type\":\"heatmapgl\"}],\"histogram\":[{\"marker\":{\"pattern\":{\"fillmode\":\"overlay\",\"size\":10,\"solidity\":0.2}},\"type\":\"histogram\"}],\"histogram2d\":[{\"colorbar\":{\"outlinewidth\":0,\"ticks\":\"\"},\"colorscale\":[[0.0,\"#0d0887\"],[0.1111111111111111,\"#46039f\"],[0.2222222222222222,\"#7201a8\"],[0.3333333333333333,\"#9c179e\"],[0.4444444444444444,\"#bd3786\"],[0.5555555555555556,\"#d8576b\"],[0.6666666666666666,\"#ed7953\"],[0.7777777777777778,\"#fb9f3a\"],[0.8888888888888888,\"#fdca26\"],[1.0,\"#f0f921\"]],\"type\":\"histogram2d\"}],\"histogram2dcontour\":[{\"colorbar\":{\"outlinewidth\":0,\"ticks\":\"\"},\"colorscale\":[[0.0,\"#0d0887\"],[0.1111111111111111,\"#46039f\"],[0.2222222222222222,\"#7201a8\"],[0.3333333333333333,\"#9c179e\"],[0.4444444444444444,\"#bd3786\"],[0.5555555555555556,\"#d8576b\"],[0.6666666666666666,\"#ed7953\"],[0.7777777777777778,\"#fb9f3a\"],[0.8888888888888888,\"#fdca26\"],[1.0,\"#f0f921\"]],\"type\":\"histogram2dcontour\"}],\"mesh3d\":[{\"colorbar\":{\"outlinewidth\":0,\"ticks\":\"\"},\"type\":\"mesh3d\"}],\"parcoords\":[{\"line\":{\"colorbar\":{\"outlinewidth\":0,\"ticks\":\"\"}},\"type\":\"parcoords\"}],\"pie\":[{\"automargin\":true,\"type\":\"pie\"}],\"scatter\":[{\"marker\":{\"colorbar\":{\"outlinewidth\":0,\"ticks\":\"\"}},\"type\":\"scatter\"}],\"scatter3d\":[{\"line\":{\"colorbar\":{\"outlinewidth\":0,\"ticks\":\"\"}},\"marker\":{\"colorbar\":{\"outlinewidth\":0,\"ticks\":\"\"}},\"type\":\"scatter3d\"}],\"scattercarpet\":[{\"marker\":{\"colorbar\":{\"outlinewidth\":0,\"ticks\":\"\"}},\"type\":\"scattercarpet\"}],\"scattergeo\":[{\"marker\":{\"colorbar\":{\"outlinewidth\":0,\"ticks\":\"\"}},\"type\":\"scattergeo\"}],\"scattergl\":[{\"marker\":{\"colorbar\":{\"outlinewidth\":0,\"ticks\":\"\"}},\"type\":\"scattergl\"}],\"scattermapbox\":[{\"marker\":{\"colorbar\":{\"outlinewidth\":0,\"ticks\":\"\"}},\"type\":\"scattermapbox\"}],\"scatterpolar\":[{\"marker\":{\"colorbar\":{\"outlinewidth\":0,\"ticks\":\"\"}},\"type\":\"scatterpolar\"}],\"scatterpolargl\":[{\"marker\":{\"colorbar\":{\"outlinewidth\":0,\"ticks\":\"\"}},\"type\":\"scatterpolargl\"}],\"scatterternary\":[{\"marker\":{\"colorbar\":{\"outlinewidth\":0,\"ticks\":\"\"}},\"type\":\"scatterternary\"}],\"surface\":[{\"colorbar\":{\"outlinewidth\":0,\"ticks\":\"\"},\"colorscale\":[[0.0,\"#0d0887\"],[0.1111111111111111,\"#46039f\"],[0.2222222222222222,\"#7201a8\"],[0.3333333333333333,\"#9c179e\"],[0.4444444444444444,\"#bd3786\"],[0.5555555555555556,\"#d8576b\"],[0.6666666666666666,\"#ed7953\"],[0.7777777777777778,\"#fb9f3a\"],[0.8888888888888888,\"#fdca26\"],[1.0,\"#f0f921\"]],\"type\":\"surface\"}],\"table\":[{\"cells\":{\"fill\":{\"color\":\"#EBF0F8\"},\"line\":{\"color\":\"white\"}},\"header\":{\"fill\":{\"color\":\"#C8D4E3\"},\"line\":{\"color\":\"white\"}},\"type\":\"table\"}]},\"layout\":{\"annotationdefaults\":{\"arrowcolor\":\"#2a3f5f\",\"arrowhead\":0,\"arrowwidth\":1},\"autotypenumbers\":\"strict\",\"coloraxis\":{\"colorbar\":{\"outlinewidth\":0,\"ticks\":\"\"}},\"colorscale\":{\"diverging\":[[0,\"#8e0152\"],[0.1,\"#c51b7d\"],[0.2,\"#de77ae\"],[0.3,\"#f1b6da\"],[0.4,\"#fde0ef\"],[0.5,\"#f7f7f7\"],[0.6,\"#e6f5d0\"],[0.7,\"#b8e186\"],[0.8,\"#7fbc41\"],[0.9,\"#4d9221\"],[1,\"#276419\"]],\"sequential\":[[0.0,\"#0d0887\"],[0.1111111111111111,\"#46039f\"],[0.2222222222222222,\"#7201a8\"],[0.3333333333333333,\"#9c179e\"],[0.4444444444444444,\"#bd3786\"],[0.5555555555555556,\"#d8576b\"],[0.6666666666666666,\"#ed7953\"],[0.7777777777777778,\"#fb9f3a\"],[0.8888888888888888,\"#fdca26\"],[1.0,\"#f0f921\"]],\"sequentialminus\":[[0.0,\"#0d0887\"],[0.1111111111111111,\"#46039f\"],[0.2222222222222222,\"#7201a8\"],[0.3333333333333333,\"#9c179e\"],[0.4444444444444444,\"#bd3786\"],[0.5555555555555556,\"#d8576b\"],[0.6666666666666666,\"#ed7953\"],[0.7777777777777778,\"#fb9f3a\"],[0.8888888888888888,\"#fdca26\"],[1.0,\"#f0f921\"]]},\"colorway\":[\"#636efa\",\"#EF553B\",\"#00cc96\",\"#ab63fa\",\"#FFA15A\",\"#19d3f3\",\"#FF6692\",\"#B6E880\",\"#FF97FF\",\"#FECB52\"],\"font\":{\"color\":\"#2a3f5f\"},\"geo\":{\"bgcolor\":\"white\",\"lakecolor\":\"white\",\"landcolor\":\"#E5ECF6\",\"showlakes\":true,\"showland\":true,\"subunitcolor\":\"white\"},\"hoverlabel\":{\"align\":\"left\"},\"hovermode\":\"closest\",\"mapbox\":{\"style\":\"light\"},\"paper_bgcolor\":\"white\",\"plot_bgcolor\":\"#E5ECF6\",\"polar\":{\"angularaxis\":{\"gridcolor\":\"white\",\"linecolor\":\"white\",\"ticks\":\"\"},\"bgcolor\":\"#E5ECF6\",\"radialaxis\":{\"gridcolor\":\"white\",\"linecolor\":\"white\",\"ticks\":\"\"}},\"scene\":{\"xaxis\":{\"backgroundcolor\":\"#E5ECF6\",\"gridcolor\":\"white\",\"gridwidth\":2,\"linecolor\":\"white\",\"showbackground\":true,\"ticks\":\"\",\"zerolinecolor\":\"white\"},\"yaxis\":{\"backgroundcolor\":\"#E5ECF6\",\"gridcolor\":\"white\",\"gridwidth\":2,\"linecolor\":\"white\",\"showbackground\":true,\"ticks\":\"\",\"zerolinecolor\":\"white\"},\"zaxis\":{\"backgroundcolor\":\"#E5ECF6\",\"gridcolor\":\"white\",\"gridwidth\":2,\"linecolor\":\"white\",\"showbackground\":true,\"ticks\":\"\",\"zerolinecolor\":\"white\"}},\"shapedefaults\":{\"line\":{\"color\":\"#2a3f5f\"}},\"ternary\":{\"aaxis\":{\"gridcolor\":\"white\",\"linecolor\":\"white\",\"ticks\":\"\"},\"baxis\":{\"gridcolor\":\"white\",\"linecolor\":\"white\",\"ticks\":\"\"},\"bgcolor\":\"#E5ECF6\",\"caxis\":{\"gridcolor\":\"white\",\"linecolor\":\"white\",\"ticks\":\"\"}},\"title\":{\"x\":0.05},\"xaxis\":{\"automargin\":true,\"gridcolor\":\"white\",\"linecolor\":\"white\",\"ticks\":\"\",\"title\":{\"standoff\":15},\"zerolinecolor\":\"white\",\"zerolinewidth\":2},\"yaxis\":{\"automargin\":true,\"gridcolor\":\"white\",\"linecolor\":\"white\",\"ticks\":\"\",\"title\":{\"standoff\":15},\"zerolinecolor\":\"white\",\"zerolinewidth\":2}}},\"xaxis\":{\"anchor\":\"y\",\"domain\":[0.0,1.0],\"title\":{\"text\":\"Healthy life expectancy\"}},\"yaxis\":{\"anchor\":\"x\",\"domain\":[0.0,1.0],\"title\":{\"text\":\"happy_score\"}},\"legend\":{\"title\":{\"text\":\"Continents\"},\"tracegroupgap\":0,\"itemsizing\":\"constant\"},\"title\":{\"text\":\"How Happiness Affects Life Expectancy\"}},                        {\"responsive\": true}                    ).then(function(){\n                            \nvar gd = document.getElementById('367568fb-4232-4d84-acf1-d4f2ef7aeaa9');\nvar x = new MutationObserver(function (mutations, observer) {{\n        var display = window.getComputedStyle(gd).display;\n        if (!display || display === 'none') {{\n            console.log([gd, 'removed!']);\n            Plotly.purge(gd);\n            observer.disconnect();\n        }}\n}});\n\n// Listen for the removal of the full notebook cells\nvar notebookContainer = gd.closest('#notebook-container');\nif (notebookContainer) {{\n    x.observe(notebookContainer, {childList: true});\n}}\n\n// Listen for the clearing of the current output cell\nvar outputEl = gd.closest('.output');\nif (outputEl) {{\n    x.observe(outputEl, {childList: true});\n}}\n\n                        })                };                            </script>        </div>\n</body>\n</html>"
     },
     "execution_count": 26,
     "metadata": {
     },
     "output_type": "execute_result"
    }
   ],
   "source": [
    "px.scatter(happy_2021_df, x = 'Healthy life expectancy', y = 'happy_score', hover_data = [\"Country name\"], title = \"How Happiness Affects Life Expectancy\", size= \"Social support\", color = 'Continents', trendline = \"ols\", trendline_scope = \"overall\", template = 'plotly')"
   ]
  },
  {
   "cell_type": "markdown",
   "metadata": {
    "collapsed": false
   },
   "source": [
    "<h2> <a id = \"Box Plot Continents\">Box Plot of happiness scores for each continent </a> </h2>\n",
    "\n",
    "- We used a box plot to show the relationship between the happy score of each continent. The **median of each continent's happiness is represented by the line in the center of each box**. The sections of the boxes and the lines protruding represent the range of the quartiles. The dots are outlier countries with extreme happiness scores, unlike the other countries in their respective continent. \n",
    "- Asia and South America both have outliers extending from the bottom of their blot plot, while Africa has four outliers extending from the top of its box plot.\n",
    "- Africa has the lowest median happiness score\n",
    "- Asia contains the lowest happiness score\n",
    "- Europe contains the highest happiness score\n",
    "- Oceania and North America have a high happiness score, but with only 3 countries in each section, this can lead to skewed data when comparing with other continents.\n",
    "\n"
   ]
  },
  {
   "cell_type": "code",
   "execution_count": 27,
   "metadata": {
    "collapsed": false,
    "scrolled": true
   },
   "outputs": [
    {
     "data": {
      "text/html": "<html>\n<head><meta charset=\"utf-8\" /></head>\n<body>\n    <div>            <script src=\"https://cdnjs.cloudflare.com/ajax/libs/mathjax/2.7.5/MathJax.js?config=TeX-AMS-MML_SVG\"></script><script type=\"text/javascript\">if (window.MathJax) {MathJax.Hub.Config({SVG: {font: \"STIX-Web\"}});}</script>                <script type=\"text/javascript\">window.PlotlyConfig = {MathJaxConfig: 'local'};</script>\n        <script src=\"https://cdn.plot.ly/plotly-2.9.0.min.js\"></script>                <div id=\"9d70fae8-4fe5-41dc-b279-f10eba00a4a4\" class=\"plotly-graph-div\" style=\"height:525px; width:100%;\"></div>            <script type=\"text/javascript\">                                    window.PLOTLYENV=window.PLOTLYENV || {};                                    if (document.getElementById(\"9d70fae8-4fe5-41dc-b279-f10eba00a4a4\")) {                    Plotly.newPlot(                        \"9d70fae8-4fe5-41dc-b279-f10eba00a4a4\",                        [{\"alignmentgroup\":\"True\",\"hovertemplate\":\"Continents=%{x}<br>happy_score=%{y}<extra></extra>\",\"legendgroup\":\"Europe\",\"marker\":{\"color\":\"#636efa\"},\"name\":\"Europe\",\"notched\":false,\"offsetgroup\":\"Europe\",\"orientation\":\"v\",\"showlegend\":true,\"x\":[\"Europe\",\"Europe\",\"Europe\",\"Europe\",\"Europe\",\"Europe\",\"Europe\",\"Europe\",\"Europe\",\"Europe\",\"Europe\",\"Europe\",\"Europe\",\"Europe\",\"Europe\",\"Europe\",\"Europe\",\"Europe\",\"Europe\",\"Europe\",\"Europe\",\"Europe\",\"Europe\",\"Europe\",\"Europe\",\"Europe\",\"Europe\",\"Europe\",\"Europe\",\"Europe\",\"Europe\",\"Europe\",\"Europe\",\"Europe\",\"Europe\",\"Europe\",\"Europe\",\"Europe\",\"Europe\",\"Europe\",\"Europe\",\"Europe\",\"Europe\"],\"x0\":\" \",\"xaxis\":\"x\",\"y\":[7.842,7.62,7.571,7.554,7.464,7.392,7.363,7.324,7.268,7.155,7.085,7.064,6.965,6.834,6.69,6.602,6.491,6.483,6.461,6.372,6.331,6.255,6.223,6.189,6.166,6.14,6.078,6.032,5.992,5.929,5.882,5.813,5.766,5.723,5.581,5.536,5.534,5.477,5.266,5.117,5.101,4.891,4.875],\"y0\":\" \",\"yaxis\":\"y\",\"type\":\"box\"},{\"alignmentgroup\":\"True\",\"hovertemplate\":\"Continents=%{x}<br>happy_score=%{y}<extra></extra>\",\"legendgroup\":\"Oceania\",\"marker\":{\"color\":\"#EF553B\"},\"name\":\"Oceania\",\"notched\":false,\"offsetgroup\":\"Oceania\",\"orientation\":\"v\",\"showlegend\":true,\"x\":[\"Oceania\",\"Oceania\"],\"x0\":\" \",\"xaxis\":\"x\",\"y\":[7.277,7.183],\"y0\":\" \",\"yaxis\":\"y\",\"type\":\"box\"},{\"alignmentgroup\":\"True\",\"hovertemplate\":\"Continents=%{x}<br>happy_score=%{y}<extra></extra>\",\"legendgroup\":\"Africa\",\"marker\":{\"color\":\"#00cc96\"},\"name\":\"Africa\",\"notched\":false,\"offsetgroup\":\"Africa\",\"orientation\":\"v\",\"showlegend\":true,\"x\":[\"Africa\",\"Africa\",\"Africa\",\"Africa\",\"Africa\",\"Africa\",\"Africa\",\"Africa\",\"Africa\",\"Africa\",\"Africa\",\"Africa\",\"Africa\",\"Africa\",\"Africa\",\"Africa\",\"Africa\",\"Africa\",\"Africa\",\"Africa\",\"Africa\",\"Africa\",\"Africa\",\"Africa\",\"Africa\",\"Africa\",\"Africa\",\"Africa\",\"Africa\",\"Africa\",\"Africa\",\"Africa\",\"Africa\",\"Africa\",\"Africa\",\"Africa\",\"Africa\",\"Africa\",\"Africa\",\"Africa\",\"Africa\",\"Africa\",\"Africa\",\"Africa\",\"Africa\",\"Africa\",\"Africa\",\"Africa\",\"Africa\",\"Africa\",\"Africa\",\"Africa\",\"Africa\"],\"x0\":\" \",\"xaxis\":\"x\",\"y\":[7.157,6.647,6.561,6.494,6.106,6.049,5.41,5.342,5.306,5.142,5.132,5.088,5.074,5.051,5.045,4.984,4.956,4.948,4.918,4.887,4.854,4.852,4.834,4.794,4.759,4.723,4.721,4.636,4.625,4.607,4.596,4.584,4.574,4.517,4.395,4.355,4.308,4.289,4.283,4.275,4.227,4.208,4.107,4.073,3.849,3.775,3.658,3.623,3.6,3.512,3.467,3.415,3.145],\"y0\":\" \",\"yaxis\":\"y\",\"type\":\"box\"},{\"alignmentgroup\":\"True\",\"hovertemplate\":\"Continents=%{x}<br>happy_score=%{y}<extra></extra>\",\"legendgroup\":\"North America\",\"marker\":{\"color\":\"#ab63fa\"},\"name\":\"North America\",\"notched\":false,\"offsetgroup\":\"North America\",\"orientation\":\"v\",\"showlegend\":true,\"x\":[\"North America\",\"North America\"],\"x0\":\" \",\"xaxis\":\"x\",\"y\":[7.103,6.951],\"y0\":\" \",\"yaxis\":\"y\",\"type\":\"box\"},{\"alignmentgroup\":\"True\",\"hovertemplate\":\"Continents=%{x}<br>happy_score=%{y}<extra></extra>\",\"legendgroup\":\"South America\",\"marker\":{\"color\":\"#FFA15A\"},\"name\":\"South America\",\"notched\":false,\"offsetgroup\":\"South America\",\"orientation\":\"v\",\"showlegend\":true,\"x\":[\"South America\",\"South America\",\"South America\",\"South America\",\"South America\",\"South America\",\"South America\",\"South America\",\"South America\",\"South America\",\"South America\",\"South America\",\"South America\",\"South America\",\"South America\",\"South America\",\"South America\",\"South America\",\"South America\",\"South America\"],\"x0\":\" \",\"xaxis\":\"x\",\"y\":[7.069,6.435,6.431,6.33,6.317,6.309,6.18,6.172,6.061,6.012,5.972,5.929,5.919,5.84,5.764,5.716,5.653,5.545,4.892,3.615],\"y0\":\" \",\"yaxis\":\"y\",\"type\":\"box\"},{\"alignmentgroup\":\"True\",\"hovertemplate\":\"Continents=%{x}<br>happy_score=%{y}<extra></extra>\",\"legendgroup\":\"Asia\",\"marker\":{\"color\":\"#19d3f3\"},\"name\":\"Asia\",\"notched\":false,\"offsetgroup\":\"Asia\",\"orientation\":\"v\",\"showlegend\":true,\"x\":[\"Asia\",\"Asia\",\"Asia\",\"Asia\",\"Asia\",\"Asia\",\"Asia\",\"Asia\",\"Asia\",\"Asia\",\"Asia\",\"Asia\",\"Asia\",\"Asia\",\"Asia\",\"Asia\",\"Asia\",\"Asia\",\"Asia\",\"Asia\",\"Asia\",\"Asia\",\"Asia\",\"Asia\",\"Asia\",\"Asia\",\"Asia\",\"Asia\",\"Asia\"],\"x0\":\" \",\"xaxis\":\"x\",\"y\":[6.584,6.377,6.179,6.152,5.985,5.94,5.88,5.845,5.744,5.677,5.477,5.466,5.411,5.384,5.345,5.339,5.283,5.269,5.198,5.171,5.066,5.03,5.025,4.934,4.83,4.426,4.325,3.819,2.523],\"y0\":\" \",\"yaxis\":\"y\",\"type\":\"box\"}],                        {\"template\":{\"data\":{\"bar\":[{\"error_x\":{\"color\":\"#2a3f5f\"},\"error_y\":{\"color\":\"#2a3f5f\"},\"marker\":{\"line\":{\"color\":\"#E5ECF6\",\"width\":0.5},\"pattern\":{\"fillmode\":\"overlay\",\"size\":10,\"solidity\":0.2}},\"type\":\"bar\"}],\"barpolar\":[{\"marker\":{\"line\":{\"color\":\"#E5ECF6\",\"width\":0.5},\"pattern\":{\"fillmode\":\"overlay\",\"size\":10,\"solidity\":0.2}},\"type\":\"barpolar\"}],\"carpet\":[{\"aaxis\":{\"endlinecolor\":\"#2a3f5f\",\"gridcolor\":\"white\",\"linecolor\":\"white\",\"minorgridcolor\":\"white\",\"startlinecolor\":\"#2a3f5f\"},\"baxis\":{\"endlinecolor\":\"#2a3f5f\",\"gridcolor\":\"white\",\"linecolor\":\"white\",\"minorgridcolor\":\"white\",\"startlinecolor\":\"#2a3f5f\"},\"type\":\"carpet\"}],\"choropleth\":[{\"colorbar\":{\"outlinewidth\":0,\"ticks\":\"\"},\"type\":\"choropleth\"}],\"contour\":[{\"colorbar\":{\"outlinewidth\":0,\"ticks\":\"\"},\"colorscale\":[[0.0,\"#0d0887\"],[0.1111111111111111,\"#46039f\"],[0.2222222222222222,\"#7201a8\"],[0.3333333333333333,\"#9c179e\"],[0.4444444444444444,\"#bd3786\"],[0.5555555555555556,\"#d8576b\"],[0.6666666666666666,\"#ed7953\"],[0.7777777777777778,\"#fb9f3a\"],[0.8888888888888888,\"#fdca26\"],[1.0,\"#f0f921\"]],\"type\":\"contour\"}],\"contourcarpet\":[{\"colorbar\":{\"outlinewidth\":0,\"ticks\":\"\"},\"type\":\"contourcarpet\"}],\"heatmap\":[{\"colorbar\":{\"outlinewidth\":0,\"ticks\":\"\"},\"colorscale\":[[0.0,\"#0d0887\"],[0.1111111111111111,\"#46039f\"],[0.2222222222222222,\"#7201a8\"],[0.3333333333333333,\"#9c179e\"],[0.4444444444444444,\"#bd3786\"],[0.5555555555555556,\"#d8576b\"],[0.6666666666666666,\"#ed7953\"],[0.7777777777777778,\"#fb9f3a\"],[0.8888888888888888,\"#fdca26\"],[1.0,\"#f0f921\"]],\"type\":\"heatmap\"}],\"heatmapgl\":[{\"colorbar\":{\"outlinewidth\":0,\"ticks\":\"\"},\"colorscale\":[[0.0,\"#0d0887\"],[0.1111111111111111,\"#46039f\"],[0.2222222222222222,\"#7201a8\"],[0.3333333333333333,\"#9c179e\"],[0.4444444444444444,\"#bd3786\"],[0.5555555555555556,\"#d8576b\"],[0.6666666666666666,\"#ed7953\"],[0.7777777777777778,\"#fb9f3a\"],[0.8888888888888888,\"#fdca26\"],[1.0,\"#f0f921\"]],\"type\":\"heatmapgl\"}],\"histogram\":[{\"marker\":{\"pattern\":{\"fillmode\":\"overlay\",\"size\":10,\"solidity\":0.2}},\"type\":\"histogram\"}],\"histogram2d\":[{\"colorbar\":{\"outlinewidth\":0,\"ticks\":\"\"},\"colorscale\":[[0.0,\"#0d0887\"],[0.1111111111111111,\"#46039f\"],[0.2222222222222222,\"#7201a8\"],[0.3333333333333333,\"#9c179e\"],[0.4444444444444444,\"#bd3786\"],[0.5555555555555556,\"#d8576b\"],[0.6666666666666666,\"#ed7953\"],[0.7777777777777778,\"#fb9f3a\"],[0.8888888888888888,\"#fdca26\"],[1.0,\"#f0f921\"]],\"type\":\"histogram2d\"}],\"histogram2dcontour\":[{\"colorbar\":{\"outlinewidth\":0,\"ticks\":\"\"},\"colorscale\":[[0.0,\"#0d0887\"],[0.1111111111111111,\"#46039f\"],[0.2222222222222222,\"#7201a8\"],[0.3333333333333333,\"#9c179e\"],[0.4444444444444444,\"#bd3786\"],[0.5555555555555556,\"#d8576b\"],[0.6666666666666666,\"#ed7953\"],[0.7777777777777778,\"#fb9f3a\"],[0.8888888888888888,\"#fdca26\"],[1.0,\"#f0f921\"]],\"type\":\"histogram2dcontour\"}],\"mesh3d\":[{\"colorbar\":{\"outlinewidth\":0,\"ticks\":\"\"},\"type\":\"mesh3d\"}],\"parcoords\":[{\"line\":{\"colorbar\":{\"outlinewidth\":0,\"ticks\":\"\"}},\"type\":\"parcoords\"}],\"pie\":[{\"automargin\":true,\"type\":\"pie\"}],\"scatter\":[{\"marker\":{\"colorbar\":{\"outlinewidth\":0,\"ticks\":\"\"}},\"type\":\"scatter\"}],\"scatter3d\":[{\"line\":{\"colorbar\":{\"outlinewidth\":0,\"ticks\":\"\"}},\"marker\":{\"colorbar\":{\"outlinewidth\":0,\"ticks\":\"\"}},\"type\":\"scatter3d\"}],\"scattercarpet\":[{\"marker\":{\"colorbar\":{\"outlinewidth\":0,\"ticks\":\"\"}},\"type\":\"scattercarpet\"}],\"scattergeo\":[{\"marker\":{\"colorbar\":{\"outlinewidth\":0,\"ticks\":\"\"}},\"type\":\"scattergeo\"}],\"scattergl\":[{\"marker\":{\"colorbar\":{\"outlinewidth\":0,\"ticks\":\"\"}},\"type\":\"scattergl\"}],\"scattermapbox\":[{\"marker\":{\"colorbar\":{\"outlinewidth\":0,\"ticks\":\"\"}},\"type\":\"scattermapbox\"}],\"scatterpolar\":[{\"marker\":{\"colorbar\":{\"outlinewidth\":0,\"ticks\":\"\"}},\"type\":\"scatterpolar\"}],\"scatterpolargl\":[{\"marker\":{\"colorbar\":{\"outlinewidth\":0,\"ticks\":\"\"}},\"type\":\"scatterpolargl\"}],\"scatterternary\":[{\"marker\":{\"colorbar\":{\"outlinewidth\":0,\"ticks\":\"\"}},\"type\":\"scatterternary\"}],\"surface\":[{\"colorbar\":{\"outlinewidth\":0,\"ticks\":\"\"},\"colorscale\":[[0.0,\"#0d0887\"],[0.1111111111111111,\"#46039f\"],[0.2222222222222222,\"#7201a8\"],[0.3333333333333333,\"#9c179e\"],[0.4444444444444444,\"#bd3786\"],[0.5555555555555556,\"#d8576b\"],[0.6666666666666666,\"#ed7953\"],[0.7777777777777778,\"#fb9f3a\"],[0.8888888888888888,\"#fdca26\"],[1.0,\"#f0f921\"]],\"type\":\"surface\"}],\"table\":[{\"cells\":{\"fill\":{\"color\":\"#EBF0F8\"},\"line\":{\"color\":\"white\"}},\"header\":{\"fill\":{\"color\":\"#C8D4E3\"},\"line\":{\"color\":\"white\"}},\"type\":\"table\"}]},\"layout\":{\"annotationdefaults\":{\"arrowcolor\":\"#2a3f5f\",\"arrowhead\":0,\"arrowwidth\":1},\"autotypenumbers\":\"strict\",\"coloraxis\":{\"colorbar\":{\"outlinewidth\":0,\"ticks\":\"\"}},\"colorscale\":{\"diverging\":[[0,\"#8e0152\"],[0.1,\"#c51b7d\"],[0.2,\"#de77ae\"],[0.3,\"#f1b6da\"],[0.4,\"#fde0ef\"],[0.5,\"#f7f7f7\"],[0.6,\"#e6f5d0\"],[0.7,\"#b8e186\"],[0.8,\"#7fbc41\"],[0.9,\"#4d9221\"],[1,\"#276419\"]],\"sequential\":[[0.0,\"#0d0887\"],[0.1111111111111111,\"#46039f\"],[0.2222222222222222,\"#7201a8\"],[0.3333333333333333,\"#9c179e\"],[0.4444444444444444,\"#bd3786\"],[0.5555555555555556,\"#d8576b\"],[0.6666666666666666,\"#ed7953\"],[0.7777777777777778,\"#fb9f3a\"],[0.8888888888888888,\"#fdca26\"],[1.0,\"#f0f921\"]],\"sequentialminus\":[[0.0,\"#0d0887\"],[0.1111111111111111,\"#46039f\"],[0.2222222222222222,\"#7201a8\"],[0.3333333333333333,\"#9c179e\"],[0.4444444444444444,\"#bd3786\"],[0.5555555555555556,\"#d8576b\"],[0.6666666666666666,\"#ed7953\"],[0.7777777777777778,\"#fb9f3a\"],[0.8888888888888888,\"#fdca26\"],[1.0,\"#f0f921\"]]},\"colorway\":[\"#636efa\",\"#EF553B\",\"#00cc96\",\"#ab63fa\",\"#FFA15A\",\"#19d3f3\",\"#FF6692\",\"#B6E880\",\"#FF97FF\",\"#FECB52\"],\"font\":{\"color\":\"#2a3f5f\"},\"geo\":{\"bgcolor\":\"white\",\"lakecolor\":\"white\",\"landcolor\":\"#E5ECF6\",\"showlakes\":true,\"showland\":true,\"subunitcolor\":\"white\"},\"hoverlabel\":{\"align\":\"left\"},\"hovermode\":\"closest\",\"mapbox\":{\"style\":\"light\"},\"paper_bgcolor\":\"white\",\"plot_bgcolor\":\"#E5ECF6\",\"polar\":{\"angularaxis\":{\"gridcolor\":\"white\",\"linecolor\":\"white\",\"ticks\":\"\"},\"bgcolor\":\"#E5ECF6\",\"radialaxis\":{\"gridcolor\":\"white\",\"linecolor\":\"white\",\"ticks\":\"\"}},\"scene\":{\"xaxis\":{\"backgroundcolor\":\"#E5ECF6\",\"gridcolor\":\"white\",\"gridwidth\":2,\"linecolor\":\"white\",\"showbackground\":true,\"ticks\":\"\",\"zerolinecolor\":\"white\"},\"yaxis\":{\"backgroundcolor\":\"#E5ECF6\",\"gridcolor\":\"white\",\"gridwidth\":2,\"linecolor\":\"white\",\"showbackground\":true,\"ticks\":\"\",\"zerolinecolor\":\"white\"},\"zaxis\":{\"backgroundcolor\":\"#E5ECF6\",\"gridcolor\":\"white\",\"gridwidth\":2,\"linecolor\":\"white\",\"showbackground\":true,\"ticks\":\"\",\"zerolinecolor\":\"white\"}},\"shapedefaults\":{\"line\":{\"color\":\"#2a3f5f\"}},\"ternary\":{\"aaxis\":{\"gridcolor\":\"white\",\"linecolor\":\"white\",\"ticks\":\"\"},\"baxis\":{\"gridcolor\":\"white\",\"linecolor\":\"white\",\"ticks\":\"\"},\"bgcolor\":\"#E5ECF6\",\"caxis\":{\"gridcolor\":\"white\",\"linecolor\":\"white\",\"ticks\":\"\"}},\"title\":{\"x\":0.05},\"xaxis\":{\"automargin\":true,\"gridcolor\":\"white\",\"linecolor\":\"white\",\"ticks\":\"\",\"title\":{\"standoff\":15},\"zerolinecolor\":\"white\",\"zerolinewidth\":2},\"yaxis\":{\"automargin\":true,\"gridcolor\":\"white\",\"linecolor\":\"white\",\"ticks\":\"\",\"title\":{\"standoff\":15},\"zerolinecolor\":\"white\",\"zerolinewidth\":2}}},\"xaxis\":{\"anchor\":\"y\",\"domain\":[0.0,1.0],\"title\":{\"text\":\"Continents\"},\"categoryorder\":\"array\",\"categoryarray\":[\"Europe\",\"Oceania\",\"Africa\",\"North America\",\"South America\",\"Asia\"]},\"yaxis\":{\"anchor\":\"x\",\"domain\":[0.0,1.0],\"title\":{\"text\":\"happy_score\"}},\"legend\":{\"title\":{\"text\":\"Continents\"},\"tracegroupgap\":0},\"margin\":{\"t\":60},\"boxmode\":\"overlay\"},                        {\"responsive\": true}                    ).then(function(){\n                            \nvar gd = document.getElementById('9d70fae8-4fe5-41dc-b279-f10eba00a4a4');\nvar x = new MutationObserver(function (mutations, observer) {{\n        var display = window.getComputedStyle(gd).display;\n        if (!display || display === 'none') {{\n            console.log([gd, 'removed!']);\n            Plotly.purge(gd);\n            observer.disconnect();\n        }}\n}});\n\n// Listen for the removal of the full notebook cells\nvar notebookContainer = gd.closest('#notebook-container');\nif (notebookContainer) {{\n    x.observe(notebookContainer, {childList: true});\n}}\n\n// Listen for the clearing of the current output cell\nvar outputEl = gd.closest('.output');\nif (outputEl) {{\n    x.observe(outputEl, {childList: true});\n}}\n\n                        })                };                            </script>        </div>\n</body>\n</html>"
     },
     "execution_count": 27,
     "metadata": {
     },
     "output_type": "execute_result"
    }
   ],
   "source": [
    "px.box(happy_2021_df, x=\"Continents\", y=\"happy_score\", color = 'Continents')"
   ]
  },
  {
   "cell_type": "markdown",
   "metadata": {
    "collapsed": false
   },
   "source": [
    "<h2> <a id = \"Box Plot Continents\">The Relationship between Freedom to make life choices and the Perception of Corruption in each country</a> </h2>\n",
    "\n",
    "- Freedom of choice and the perceived corruption do not have a clear linear trend line. \n",
    "\n",
    "- The majority of countries have a high perception of corruption ranging around 0.95 to 0.6 regardless of freedom to make life choices. \n",
    "\n",
    "- Oceania countries along with European countries with a high freedom to make life choices score have a much lower rate of perceived corruption which can be attributed to the lower population\n",
    "\n",
    "- **Afghanistan** is an outlier with extreme levels of both no freedom to choices and high corruption. Low levels of freedom of life choices can be attributed to the Taliban, an extremist political group that has taken control of the government. \n",
    "\n",
    "- On the opposite end, **Singapore** is the country with the highest freedom of choice and lowest levels of perceived corruption. Singapore is an independent state and one of  the richest countries which can be a major factor in their position on the graph.\n",
    "\n"
   ]
  },
  {
   "cell_type": "code",
   "execution_count": 28,
   "metadata": {
    "collapsed": false
   },
   "outputs": [
    {
     "data": {
      "text/html": "<html>\n<head><meta charset=\"utf-8\" /></head>\n<body>\n    <div>            <script src=\"https://cdnjs.cloudflare.com/ajax/libs/mathjax/2.7.5/MathJax.js?config=TeX-AMS-MML_SVG\"></script><script type=\"text/javascript\">if (window.MathJax) {MathJax.Hub.Config({SVG: {font: \"STIX-Web\"}});}</script>                <script type=\"text/javascript\">window.PlotlyConfig = {MathJaxConfig: 'local'};</script>\n        <script src=\"https://cdn.plot.ly/plotly-2.9.0.min.js\"></script>                <div id=\"26faceba-415d-4023-8e3a-c0aa9c08be59\" class=\"plotly-graph-div\" style=\"height:525px; width:100%;\"></div>            <script type=\"text/javascript\">                                    window.PLOTLYENV=window.PLOTLYENV || {};                                    if (document.getElementById(\"26faceba-415d-4023-8e3a-c0aa9c08be59\")) {                    Plotly.newPlot(                        \"26faceba-415d-4023-8e3a-c0aa9c08be59\",                        [{\"customdata\":[[\"Finland\"],[\"Denmark\"],[\"Switzerland\"],[\"Iceland\"],[\"Netherlands\"],[\"Norway\"],[\"Sweden\"],[\"Luxembourg\"],[\"Austria\"],[\"Germany\"],[\"Ireland\"],[\"United Kingdom\"],[\"Czech Republic\"],[\"Belgium\"],[\"France\"],[\"Malta\"],[\"Spain\"],[\"Italy\"],[\"Slovenia\"],[\"Kosovo\"],[\"Slovakia\"],[\"Lithuania\"],[\"Cyprus\"],[\"Estonia\"],[\"Poland\"],[\"Romania\"],[\"Serbia\"],[\"Latvia\"],[\"Hungary\"],[\"Portugal\"],[\"Croatia\"],[\"Bosnia and Herzegovina\"],[\"Moldova\"],[\"Greece\"],[\"Montenegro\"],[\"North Cyprus\"],[\"Belarus\"],[\"Russia\"],[\"Bulgaria\"],[\"Albania\"],[\"North Macedonia\"],[\"Georgia\"],[\"Ukraine\"]],\"hovertemplate\":\"Continents=Europe<br>Freedom to make life choices=%{x}<br>Perceptions of corruption=%{y}<br>happy_score=%{marker.size}<br>Country name=%{customdata[0]}<extra></extra>\",\"legendgroup\":\"Europe\",\"marker\":{\"color\":\"#636efa\",\"size\":[7.842,7.62,7.571,7.554,7.464,7.392,7.363,7.324,7.268,7.155,7.085,7.064,6.965,6.834,6.69,6.602,6.491,6.483,6.461,6.372,6.331,6.255,6.223,6.189,6.166,6.14,6.078,6.032,5.992,5.929,5.882,5.813,5.766,5.723,5.581,5.536,5.534,5.477,5.266,5.117,5.101,4.891,4.875],\"sizemode\":\"area\",\"sizeref\":0.019604999999999997,\"symbol\":\"circle\"},\"mode\":\"markers\",\"name\":\"Europe\",\"orientation\":\"v\",\"showlegend\":true,\"x\":[0.949,0.946,0.919,0.955,0.913,0.96,0.945,0.907,0.908,0.875,0.879,0.859,0.858,0.783,0.822,0.927,0.761,0.693,0.949,0.869,0.766,0.773,0.763,0.909,0.841,0.845,0.778,0.715,0.755,0.892,0.754,0.706,0.822,0.582,0.708,0.795,0.65,0.718,0.788,0.785,0.751,0.783,0.724],\"xaxis\":\"x\",\"y\":[0.186,0.179,0.292,0.673,0.338,0.27,0.237,0.386,0.481,0.46,0.363,0.459,0.868,0.646,0.571,0.653,0.745,0.866,0.806,0.917,0.911,0.826,0.844,0.527,0.735,0.938,0.835,0.8,0.876,0.887,0.939,0.931,0.918,0.823,0.812,0.626,0.627,0.845,0.932,0.901,0.905,0.655,0.924],\"yaxis\":\"y\",\"type\":\"scatter\"},{\"customdata\":[[\"New Zealand\"],[\"Australia\"]],\"hovertemplate\":\"Continents=Oceania<br>Freedom to make life choices=%{x}<br>Perceptions of corruption=%{y}<br>happy_score=%{marker.size}<br>Country name=%{customdata[0]}<extra></extra>\",\"legendgroup\":\"Oceania\",\"marker\":{\"color\":\"#EF553B\",\"size\":[7.277,7.183],\"sizemode\":\"area\",\"sizeref\":0.019604999999999997,\"symbol\":\"circle\"},\"mode\":\"markers\",\"name\":\"Oceania\",\"orientation\":\"v\",\"showlegend\":true,\"x\":[0.929,0.914],\"xaxis\":\"x\",\"y\":[0.242,0.442],\"yaxis\":\"y\",\"type\":\"scatter\"},{\"customdata\":[[\"Israel\"],[\"Bahrain\"],[\"United Arab Emirates\"],[\"Saudi Arabia\"],[\"Kuwait\"],[\"Mauritius\"],[\"Libya\"],[\"Congo (Brazzaville)\"],[\"Ivory Coast\"],[\"Cameroon\"],[\"Senegal\"],[\"Ghana\"],[\"Niger\"],[\"Gambia\"],[\"Benin\"],[\"Guinea\"],[\"South Africa\"],[\"Turkey\"],[\"Morocco\"],[\"Algeria\"],[\"Iraq\"],[\"Gabon\"],[\"Burkina Faso\"],[\"Mozambique\"],[\"Nigeria\"],[\"Mali\"],[\"Iran\"],[\"Uganda\"],[\"Liberia\"],[\"Kenya\"],[\"Tunisia\"],[\"Lebanon\"],[\"Namibia\"],[\"Palestinian Territories\"],[\"Jordan\"],[\"Chad\"],[\"Swaziland\"],[\"Comoros\"],[\"Egypt\"],[\"Ethiopia\"],[\"Mauritania\"],[\"Madagascar\"],[\"Togo\"],[\"Zambia\"],[\"Sierra Leone\"],[\"Burundi\"],[\"Yemen\"],[\"Tanzania\"],[\"Malawi\"],[\"Lesotho\"],[\"Botswana\"],[\"Rwanda\"],[\"Zimbabwe\"]],\"hovertemplate\":\"Continents=Africa<br>Freedom to make life choices=%{x}<br>Perceptions of corruption=%{y}<br>happy_score=%{marker.size}<br>Country name=%{customdata[0]}<extra></extra>\",\"legendgroup\":\"Africa\",\"marker\":{\"color\":\"#00cc96\",\"size\":[7.157,6.647,6.561,6.494,6.106,6.049,5.41,5.342,5.306,5.142,5.132,5.088,5.074,5.051,5.045,4.984,4.956,4.948,4.918,4.887,4.854,4.852,4.834,4.794,4.759,4.723,4.721,4.636,4.625,4.607,4.596,4.584,4.574,4.517,4.395,4.355,4.308,4.289,4.283,4.275,4.227,4.208,4.107,4.073,3.849,3.775,3.658,3.623,3.6,3.512,3.467,3.415,3.145],\"sizemode\":\"area\",\"sizeref\":0.019604999999999997,\"symbol\":\"circle\"},\"mode\":\"markers\",\"name\":\"Africa\",\"orientation\":\"v\",\"showlegend\":true,\"x\":[0.8,0.925,0.932,0.877,0.867,0.867,0.771,0.695,0.741,0.731,0.695,0.807,0.806,0.697,0.757,0.697,0.749,0.576,0.774,0.48,0.63,0.731,0.695,0.882,0.737,0.697,0.608,0.709,0.735,0.779,0.656,0.525,0.719,0.653,0.755,0.579,0.647,0.548,0.749,0.752,0.561,0.552,0.619,0.782,0.717,0.626,0.602,0.833,0.78,0.715,0.824,0.897,0.677],\"xaxis\":\"x\",\"y\":[0.753,0.722,0.589,0.684,0.736,0.789,0.667,0.745,0.794,0.848,0.801,0.848,0.693,0.746,0.661,0.766,0.86,0.776,0.801,0.752,0.875,0.84,0.748,0.684,0.878,0.827,0.714,0.855,0.85,0.825,0.87,0.898,0.847,0.821,0.705,0.807,0.708,0.781,0.795,0.761,0.731,0.803,0.772,0.823,0.866,0.607,0.8,0.577,0.729,0.915,0.801,0.167,0.821],\"yaxis\":\"y\",\"type\":\"scatter\"},{\"customdata\":[[\"Canada\"],[\"United States\"]],\"hovertemplate\":\"Continents=North America<br>Freedom to make life choices=%{x}<br>Perceptions of corruption=%{y}<br>happy_score=%{marker.size}<br>Country name=%{customdata[0]}<extra></extra>\",\"legendgroup\":\"North America\",\"marker\":{\"color\":\"#ab63fa\",\"size\":[7.103,6.951],\"sizemode\":\"area\",\"sizeref\":0.019604999999999997,\"symbol\":\"circle\"},\"mode\":\"markers\",\"name\":\"North America\",\"orientation\":\"v\",\"showlegend\":true,\"x\":[0.915,0.837],\"xaxis\":\"x\",\"y\":[0.415,0.698],\"yaxis\":\"y\",\"type\":\"scatter\"},{\"customdata\":[[\"Costa Rica\"],[\"Guatemala\"],[\"Uruguay\"],[\"Brazil\"],[\"Mexico\"],[\"Jamaica\"],[\"Panama\"],[\"Chile\"],[\"El Salvador\"],[\"Colombia\"],[\"Nicaragua\"],[\"Argentina\"],[\"Honduras\"],[\"Peru\"],[\"Ecuador\"],[\"Bolivia\"],[\"Paraguay\"],[\"Dominican Republic\"],[\"Venezuela\"],[\"Haiti\"]],\"hovertemplate\":\"Continents=South America<br>Freedom to make life choices=%{x}<br>Perceptions of corruption=%{y}<br>happy_score=%{marker.size}<br>Country name=%{customdata[0]}<extra></extra>\",\"legendgroup\":\"South America\",\"marker\":{\"color\":\"#FFA15A\",\"size\":[7.069,6.435,6.431,6.33,6.317,6.309,6.18,6.172,6.061,6.012,5.972,5.929,5.919,5.84,5.764,5.716,5.653,5.545,4.892,3.615],\"sizemode\":\"area\",\"sizeref\":0.019604999999999997,\"symbol\":\"circle\"},\"mode\":\"markers\",\"name\":\"South America\",\"orientation\":\"v\",\"showlegend\":true,\"x\":[0.934,0.906,0.896,0.804,0.862,0.89,0.872,0.742,0.888,0.837,0.836,0.828,0.857,0.822,0.842,0.875,0.876,0.86,0.615,0.593],\"xaxis\":\"x\",\"y\":[0.809,0.775,0.59,0.756,0.799,0.884,0.856,0.83,0.688,0.841,0.664,0.834,0.809,0.891,0.843,0.839,0.882,0.714,0.827,0.721],\"yaxis\":\"y\",\"type\":\"scatter\"},{\"customdata\":[[\"Taiwan Province of China\"],[\"Singapore\"],[\"Uzbekistan\"],[\"Kazakhstan\"],[\"Thailand\"],[\"Japan\"],[\"Philippines\"],[\"South Korea\"],[\"Kyrgyzstan\"],[\"Mongolia\"],[\"Hong Kong S.A.R. of China\"],[\"Tajikistan\"],[\"Vietnam\"],[\"Malaysia\"],[\"Indonesia\"],[\"China\"],[\"Armenia\"],[\"Nepal\"],[\"Maldives\"],[\"Azerbaijan\"],[\"Turkmenistan\"],[\"Laos\"],[\"Bangladesh\"],[\"Pakistan\"],[\"Cambodia\"],[\"Myanmar\"],[\"Sri Lanka\"],[\"India\"],[\"Afghanistan\"]],\"hovertemplate\":\"Continents=Asia<br>Freedom to make life choices=%{x}<br>Perceptions of corruption=%{y}<br>happy_score=%{marker.size}<br>Country name=%{customdata[0]}<extra></extra>\",\"legendgroup\":\"Asia\",\"marker\":{\"color\":\"#19d3f3\",\"size\":[6.584,6.377,6.179,6.152,5.985,5.94,5.88,5.845,5.744,5.677,5.477,5.466,5.411,5.384,5.345,5.339,5.283,5.269,5.198,5.171,5.066,5.03,5.025,4.934,4.83,4.426,4.325,3.819,2.523],\"sizemode\":\"area\",\"sizeref\":0.019604999999999997,\"symbol\":\"circle\"},\"mode\":\"markers\",\"name\":\"Asia\",\"orientation\":\"v\",\"showlegend\":true,\"x\":[0.784,0.927,0.97,0.853,0.884,0.796,0.917,0.672,0.935,0.708,0.717,0.832,0.94,0.895,0.873,0.904,0.825,0.782,0.854,0.814,0.877,0.91,0.877,0.726,0.959,0.876,0.841,0.893,0.382],\"xaxis\":\"x\",\"y\":[0.721,0.082,0.515,0.733,0.895,0.638,0.742,0.727,0.908,0.856,0.403,0.553,0.796,0.839,0.867,0.755,0.629,0.727,0.825,0.506,0.888,0.658,0.682,0.787,0.843,0.66,0.863,0.774,0.924],\"yaxis\":\"y\",\"type\":\"scatter\"}],                        {\"template\":{\"data\":{\"bar\":[{\"error_x\":{\"color\":\"#2a3f5f\"},\"error_y\":{\"color\":\"#2a3f5f\"},\"marker\":{\"line\":{\"color\":\"#E5ECF6\",\"width\":0.5},\"pattern\":{\"fillmode\":\"overlay\",\"size\":10,\"solidity\":0.2}},\"type\":\"bar\"}],\"barpolar\":[{\"marker\":{\"line\":{\"color\":\"#E5ECF6\",\"width\":0.5},\"pattern\":{\"fillmode\":\"overlay\",\"size\":10,\"solidity\":0.2}},\"type\":\"barpolar\"}],\"carpet\":[{\"aaxis\":{\"endlinecolor\":\"#2a3f5f\",\"gridcolor\":\"white\",\"linecolor\":\"white\",\"minorgridcolor\":\"white\",\"startlinecolor\":\"#2a3f5f\"},\"baxis\":{\"endlinecolor\":\"#2a3f5f\",\"gridcolor\":\"white\",\"linecolor\":\"white\",\"minorgridcolor\":\"white\",\"startlinecolor\":\"#2a3f5f\"},\"type\":\"carpet\"}],\"choropleth\":[{\"colorbar\":{\"outlinewidth\":0,\"ticks\":\"\"},\"type\":\"choropleth\"}],\"contour\":[{\"colorbar\":{\"outlinewidth\":0,\"ticks\":\"\"},\"colorscale\":[[0.0,\"#0d0887\"],[0.1111111111111111,\"#46039f\"],[0.2222222222222222,\"#7201a8\"],[0.3333333333333333,\"#9c179e\"],[0.4444444444444444,\"#bd3786\"],[0.5555555555555556,\"#d8576b\"],[0.6666666666666666,\"#ed7953\"],[0.7777777777777778,\"#fb9f3a\"],[0.8888888888888888,\"#fdca26\"],[1.0,\"#f0f921\"]],\"type\":\"contour\"}],\"contourcarpet\":[{\"colorbar\":{\"outlinewidth\":0,\"ticks\":\"\"},\"type\":\"contourcarpet\"}],\"heatmap\":[{\"colorbar\":{\"outlinewidth\":0,\"ticks\":\"\"},\"colorscale\":[[0.0,\"#0d0887\"],[0.1111111111111111,\"#46039f\"],[0.2222222222222222,\"#7201a8\"],[0.3333333333333333,\"#9c179e\"],[0.4444444444444444,\"#bd3786\"],[0.5555555555555556,\"#d8576b\"],[0.6666666666666666,\"#ed7953\"],[0.7777777777777778,\"#fb9f3a\"],[0.8888888888888888,\"#fdca26\"],[1.0,\"#f0f921\"]],\"type\":\"heatmap\"}],\"heatmapgl\":[{\"colorbar\":{\"outlinewidth\":0,\"ticks\":\"\"},\"colorscale\":[[0.0,\"#0d0887\"],[0.1111111111111111,\"#46039f\"],[0.2222222222222222,\"#7201a8\"],[0.3333333333333333,\"#9c179e\"],[0.4444444444444444,\"#bd3786\"],[0.5555555555555556,\"#d8576b\"],[0.6666666666666666,\"#ed7953\"],[0.7777777777777778,\"#fb9f3a\"],[0.8888888888888888,\"#fdca26\"],[1.0,\"#f0f921\"]],\"type\":\"heatmapgl\"}],\"histogram\":[{\"marker\":{\"pattern\":{\"fillmode\":\"overlay\",\"size\":10,\"solidity\":0.2}},\"type\":\"histogram\"}],\"histogram2d\":[{\"colorbar\":{\"outlinewidth\":0,\"ticks\":\"\"},\"colorscale\":[[0.0,\"#0d0887\"],[0.1111111111111111,\"#46039f\"],[0.2222222222222222,\"#7201a8\"],[0.3333333333333333,\"#9c179e\"],[0.4444444444444444,\"#bd3786\"],[0.5555555555555556,\"#d8576b\"],[0.6666666666666666,\"#ed7953\"],[0.7777777777777778,\"#fb9f3a\"],[0.8888888888888888,\"#fdca26\"],[1.0,\"#f0f921\"]],\"type\":\"histogram2d\"}],\"histogram2dcontour\":[{\"colorbar\":{\"outlinewidth\":0,\"ticks\":\"\"},\"colorscale\":[[0.0,\"#0d0887\"],[0.1111111111111111,\"#46039f\"],[0.2222222222222222,\"#7201a8\"],[0.3333333333333333,\"#9c179e\"],[0.4444444444444444,\"#bd3786\"],[0.5555555555555556,\"#d8576b\"],[0.6666666666666666,\"#ed7953\"],[0.7777777777777778,\"#fb9f3a\"],[0.8888888888888888,\"#fdca26\"],[1.0,\"#f0f921\"]],\"type\":\"histogram2dcontour\"}],\"mesh3d\":[{\"colorbar\":{\"outlinewidth\":0,\"ticks\":\"\"},\"type\":\"mesh3d\"}],\"parcoords\":[{\"line\":{\"colorbar\":{\"outlinewidth\":0,\"ticks\":\"\"}},\"type\":\"parcoords\"}],\"pie\":[{\"automargin\":true,\"type\":\"pie\"}],\"scatter\":[{\"marker\":{\"colorbar\":{\"outlinewidth\":0,\"ticks\":\"\"}},\"type\":\"scatter\"}],\"scatter3d\":[{\"line\":{\"colorbar\":{\"outlinewidth\":0,\"ticks\":\"\"}},\"marker\":{\"colorbar\":{\"outlinewidth\":0,\"ticks\":\"\"}},\"type\":\"scatter3d\"}],\"scattercarpet\":[{\"marker\":{\"colorbar\":{\"outlinewidth\":0,\"ticks\":\"\"}},\"type\":\"scattercarpet\"}],\"scattergeo\":[{\"marker\":{\"colorbar\":{\"outlinewidth\":0,\"ticks\":\"\"}},\"type\":\"scattergeo\"}],\"scattergl\":[{\"marker\":{\"colorbar\":{\"outlinewidth\":0,\"ticks\":\"\"}},\"type\":\"scattergl\"}],\"scattermapbox\":[{\"marker\":{\"colorbar\":{\"outlinewidth\":0,\"ticks\":\"\"}},\"type\":\"scattermapbox\"}],\"scatterpolar\":[{\"marker\":{\"colorbar\":{\"outlinewidth\":0,\"ticks\":\"\"}},\"type\":\"scatterpolar\"}],\"scatterpolargl\":[{\"marker\":{\"colorbar\":{\"outlinewidth\":0,\"ticks\":\"\"}},\"type\":\"scatterpolargl\"}],\"scatterternary\":[{\"marker\":{\"colorbar\":{\"outlinewidth\":0,\"ticks\":\"\"}},\"type\":\"scatterternary\"}],\"surface\":[{\"colorbar\":{\"outlinewidth\":0,\"ticks\":\"\"},\"colorscale\":[[0.0,\"#0d0887\"],[0.1111111111111111,\"#46039f\"],[0.2222222222222222,\"#7201a8\"],[0.3333333333333333,\"#9c179e\"],[0.4444444444444444,\"#bd3786\"],[0.5555555555555556,\"#d8576b\"],[0.6666666666666666,\"#ed7953\"],[0.7777777777777778,\"#fb9f3a\"],[0.8888888888888888,\"#fdca26\"],[1.0,\"#f0f921\"]],\"type\":\"surface\"}],\"table\":[{\"cells\":{\"fill\":{\"color\":\"#EBF0F8\"},\"line\":{\"color\":\"white\"}},\"header\":{\"fill\":{\"color\":\"#C8D4E3\"},\"line\":{\"color\":\"white\"}},\"type\":\"table\"}]},\"layout\":{\"annotationdefaults\":{\"arrowcolor\":\"#2a3f5f\",\"arrowhead\":0,\"arrowwidth\":1},\"autotypenumbers\":\"strict\",\"coloraxis\":{\"colorbar\":{\"outlinewidth\":0,\"ticks\":\"\"}},\"colorscale\":{\"diverging\":[[0,\"#8e0152\"],[0.1,\"#c51b7d\"],[0.2,\"#de77ae\"],[0.3,\"#f1b6da\"],[0.4,\"#fde0ef\"],[0.5,\"#f7f7f7\"],[0.6,\"#e6f5d0\"],[0.7,\"#b8e186\"],[0.8,\"#7fbc41\"],[0.9,\"#4d9221\"],[1,\"#276419\"]],\"sequential\":[[0.0,\"#0d0887\"],[0.1111111111111111,\"#46039f\"],[0.2222222222222222,\"#7201a8\"],[0.3333333333333333,\"#9c179e\"],[0.4444444444444444,\"#bd3786\"],[0.5555555555555556,\"#d8576b\"],[0.6666666666666666,\"#ed7953\"],[0.7777777777777778,\"#fb9f3a\"],[0.8888888888888888,\"#fdca26\"],[1.0,\"#f0f921\"]],\"sequentialminus\":[[0.0,\"#0d0887\"],[0.1111111111111111,\"#46039f\"],[0.2222222222222222,\"#7201a8\"],[0.3333333333333333,\"#9c179e\"],[0.4444444444444444,\"#bd3786\"],[0.5555555555555556,\"#d8576b\"],[0.6666666666666666,\"#ed7953\"],[0.7777777777777778,\"#fb9f3a\"],[0.8888888888888888,\"#fdca26\"],[1.0,\"#f0f921\"]]},\"colorway\":[\"#636efa\",\"#EF553B\",\"#00cc96\",\"#ab63fa\",\"#FFA15A\",\"#19d3f3\",\"#FF6692\",\"#B6E880\",\"#FF97FF\",\"#FECB52\"],\"font\":{\"color\":\"#2a3f5f\"},\"geo\":{\"bgcolor\":\"white\",\"lakecolor\":\"white\",\"landcolor\":\"#E5ECF6\",\"showlakes\":true,\"showland\":true,\"subunitcolor\":\"white\"},\"hoverlabel\":{\"align\":\"left\"},\"hovermode\":\"closest\",\"mapbox\":{\"style\":\"light\"},\"paper_bgcolor\":\"white\",\"plot_bgcolor\":\"#E5ECF6\",\"polar\":{\"angularaxis\":{\"gridcolor\":\"white\",\"linecolor\":\"white\",\"ticks\":\"\"},\"bgcolor\":\"#E5ECF6\",\"radialaxis\":{\"gridcolor\":\"white\",\"linecolor\":\"white\",\"ticks\":\"\"}},\"scene\":{\"xaxis\":{\"backgroundcolor\":\"#E5ECF6\",\"gridcolor\":\"white\",\"gridwidth\":2,\"linecolor\":\"white\",\"showbackground\":true,\"ticks\":\"\",\"zerolinecolor\":\"white\"},\"yaxis\":{\"backgroundcolor\":\"#E5ECF6\",\"gridcolor\":\"white\",\"gridwidth\":2,\"linecolor\":\"white\",\"showbackground\":true,\"ticks\":\"\",\"zerolinecolor\":\"white\"},\"zaxis\":{\"backgroundcolor\":\"#E5ECF6\",\"gridcolor\":\"white\",\"gridwidth\":2,\"linecolor\":\"white\",\"showbackground\":true,\"ticks\":\"\",\"zerolinecolor\":\"white\"}},\"shapedefaults\":{\"line\":{\"color\":\"#2a3f5f\"}},\"ternary\":{\"aaxis\":{\"gridcolor\":\"white\",\"linecolor\":\"white\",\"ticks\":\"\"},\"baxis\":{\"gridcolor\":\"white\",\"linecolor\":\"white\",\"ticks\":\"\"},\"bgcolor\":\"#E5ECF6\",\"caxis\":{\"gridcolor\":\"white\",\"linecolor\":\"white\",\"ticks\":\"\"}},\"title\":{\"x\":0.05},\"xaxis\":{\"automargin\":true,\"gridcolor\":\"white\",\"linecolor\":\"white\",\"ticks\":\"\",\"title\":{\"standoff\":15},\"zerolinecolor\":\"white\",\"zerolinewidth\":2},\"yaxis\":{\"automargin\":true,\"gridcolor\":\"white\",\"linecolor\":\"white\",\"ticks\":\"\",\"title\":{\"standoff\":15},\"zerolinecolor\":\"white\",\"zerolinewidth\":2}}},\"xaxis\":{\"anchor\":\"y\",\"domain\":[0.0,1.0],\"title\":{\"text\":\"Freedom to make life choices\"}},\"yaxis\":{\"anchor\":\"x\",\"domain\":[0.0,1.0],\"title\":{\"text\":\"Perceptions of corruption\"}},\"legend\":{\"title\":{\"text\":\"Continents\"},\"tracegroupgap\":0,\"itemsizing\":\"constant\"},\"margin\":{\"t\":60}},                        {\"responsive\": true}                    ).then(function(){\n                            \nvar gd = document.getElementById('26faceba-415d-4023-8e3a-c0aa9c08be59');\nvar x = new MutationObserver(function (mutations, observer) {{\n        var display = window.getComputedStyle(gd).display;\n        if (!display || display === 'none') {{\n            console.log([gd, 'removed!']);\n            Plotly.purge(gd);\n            observer.disconnect();\n        }}\n}});\n\n// Listen for the removal of the full notebook cells\nvar notebookContainer = gd.closest('#notebook-container');\nif (notebookContainer) {{\n    x.observe(notebookContainer, {childList: true});\n}}\n\n// Listen for the clearing of the current output cell\nvar outputEl = gd.closest('.output');\nif (outputEl) {{\n    x.observe(outputEl, {childList: true});\n}}\n\n                        })                };                            </script>        </div>\n</body>\n</html>"
     },
     "execution_count": 28,
     "metadata": {
     },
     "output_type": "execute_result"
    }
   ],
   "source": [
    "px.scatter(happy_2021_df, x = 'Freedom to make life choices', y = 'Perceptions of corruption', hover_data = [\"Country name\"], title = \"\", size= \"happy_score\", color = 'Continents', template = 'plotly')"
   ]
  },
  {
   "cell_type": "markdown",
   "metadata": {
    "collapsed": false
   },
   "source": [
    "###### ---------------------------------------------------------------------------------------------------------------------------------------------------------------------------------------------------------------------------------------------------------\n",
    "<h2><a>Importing Population Dataframe</a></h2>\n",
    "\n",
    "###### ---------------------------------------------------------------------------------------------------------------------------------------------------------------------------------------------------------------------------------------------------------"
   ]
  },
  {
   "cell_type": "code",
   "execution_count": 29,
   "metadata": {
    "collapsed": false
   },
   "outputs": [
   ],
   "source": [
    "population_df = pd.read_csv('data/population_by_country_2020.csv')"
   ]
  },
  {
   "cell_type": "code",
   "execution_count": 30,
   "metadata": {
    "collapsed": false
   },
   "outputs": [
    {
     "data": {
      "text/html": [
       "<div>\n",
       "<style scoped>\n",
       "    .dataframe tbody tr th:only-of-type {\n",
       "        vertical-align: middle;\n",
       "    }\n",
       "\n",
       "    .dataframe tbody tr th {\n",
       "        vertical-align: top;\n",
       "    }\n",
       "\n",
       "    .dataframe thead th {\n",
       "        text-align: right;\n",
       "    }\n",
       "</style>\n",
       "<table border=\"1\" class=\"dataframe\">\n",
       "  <thead>\n",
       "    <tr style=\"text-align: right;\">\n",
       "      <th></th>\n",
       "      <th>Country (or dependency)</th>\n",
       "      <th>Population (2020)</th>\n",
       "      <th>Yearly Change</th>\n",
       "      <th>Net Change</th>\n",
       "      <th>Density (P/Km²)</th>\n",
       "      <th>Land Area (Km²)</th>\n",
       "      <th>Migrants (net)</th>\n",
       "      <th>Fert. Rate</th>\n",
       "      <th>Med. Age</th>\n",
       "      <th>Urban Pop %</th>\n",
       "      <th>World Share</th>\n",
       "    </tr>\n",
       "  </thead>\n",
       "  <tbody>\n",
       "    <tr>\n",
       "      <th>0</th>\n",
       "      <td>China</td>\n",
       "      <td>1440297825</td>\n",
       "      <td>0.39 %</td>\n",
       "      <td>5540090</td>\n",
       "      <td>153</td>\n",
       "      <td>9388211</td>\n",
       "      <td>-348399.0</td>\n",
       "      <td>1.7</td>\n",
       "      <td>38</td>\n",
       "      <td>61 %</td>\n",
       "      <td>18.47 %</td>\n",
       "    </tr>\n",
       "    <tr>\n",
       "      <th>1</th>\n",
       "      <td>India</td>\n",
       "      <td>1382345085</td>\n",
       "      <td>0.99 %</td>\n",
       "      <td>13586631</td>\n",
       "      <td>464</td>\n",
       "      <td>2973190</td>\n",
       "      <td>-532687.0</td>\n",
       "      <td>2.2</td>\n",
       "      <td>28</td>\n",
       "      <td>35 %</td>\n",
       "      <td>17.70 %</td>\n",
       "    </tr>\n",
       "    <tr>\n",
       "      <th>2</th>\n",
       "      <td>United States</td>\n",
       "      <td>331341050</td>\n",
       "      <td>0.59 %</td>\n",
       "      <td>1937734</td>\n",
       "      <td>36</td>\n",
       "      <td>9147420</td>\n",
       "      <td>954806.0</td>\n",
       "      <td>1.8</td>\n",
       "      <td>38</td>\n",
       "      <td>83 %</td>\n",
       "      <td>4.25 %</td>\n",
       "    </tr>\n",
       "    <tr>\n",
       "      <th>3</th>\n",
       "      <td>Indonesia</td>\n",
       "      <td>274021604</td>\n",
       "      <td>1.07 %</td>\n",
       "      <td>2898047</td>\n",
       "      <td>151</td>\n",
       "      <td>1811570</td>\n",
       "      <td>-98955.0</td>\n",
       "      <td>2.3</td>\n",
       "      <td>30</td>\n",
       "      <td>56 %</td>\n",
       "      <td>3.51 %</td>\n",
       "    </tr>\n",
       "    <tr>\n",
       "      <th>4</th>\n",
       "      <td>Pakistan</td>\n",
       "      <td>221612785</td>\n",
       "      <td>2.00 %</td>\n",
       "      <td>4327022</td>\n",
       "      <td>287</td>\n",
       "      <td>770880</td>\n",
       "      <td>-233379.0</td>\n",
       "      <td>3.6</td>\n",
       "      <td>23</td>\n",
       "      <td>35 %</td>\n",
       "      <td>2.83 %</td>\n",
       "    </tr>\n",
       "  </tbody>\n",
       "</table>\n",
       "</div>"
      ],
      "text/plain": [
       "  Country (or dependency)  Population (2020) Yearly Change  Net Change  \\\n",
       "0                   China         1440297825        0.39 %     5540090   \n",
       "1                   India         1382345085        0.99 %    13586631   \n",
       "2           United States          331341050        0.59 %     1937734   \n",
       "3               Indonesia          274021604        1.07 %     2898047   \n",
       "4                Pakistan          221612785        2.00 %     4327022   \n",
       "\n",
       "   Density (P/Km²)  Land Area (Km²)  Migrants (net) Fert. Rate Med. Age  \\\n",
       "0              153          9388211       -348399.0        1.7       38   \n",
       "1              464          2973190       -532687.0        2.2       28   \n",
       "2               36          9147420        954806.0        1.8       38   \n",
       "3              151          1811570        -98955.0        2.3       30   \n",
       "4              287           770880       -233379.0        3.6       23   \n",
       "\n",
       "  Urban Pop % World Share  \n",
       "0        61 %     18.47 %  \n",
       "1        35 %     17.70 %  \n",
       "2        83 %      4.25 %  \n",
       "3        56 %      3.51 %  \n",
       "4        35 %      2.83 %  "
      ]
     },
     "execution_count": 30,
     "metadata": {
     },
     "output_type": "execute_result"
    }
   ],
   "source": [
    "population_df.head()"
   ]
  },
  {
   "cell_type": "code",
   "execution_count": 31,
   "metadata": {
    "collapsed": false
   },
   "outputs": [
    {
     "data": {
      "text/plain": [
       "Index(['Country (or dependency)', 'Population (2020)', 'Yearly Change',\n",
       "       'Net Change', 'Density (P/Km²)', 'Land Area (Km²)', 'Migrants (net)',\n",
       "       'Fert. Rate', 'Med. Age', 'Urban Pop %', 'World Share'],\n",
       "      dtype='object')"
      ]
     },
     "execution_count": 31,
     "metadata": {
     },
     "output_type": "execute_result"
    }
   ],
   "source": [
    "population_df.columns"
   ]
  },
  {
   "cell_type": "code",
   "execution_count": 32,
   "metadata": {
    "collapsed": false
   },
   "outputs": [
   ],
   "source": [
    "population_df.rename(columns = {'Country (or dependency)': 'Country name'}, inplace = True)"
   ]
  },
  {
   "cell_type": "code",
   "execution_count": 33,
   "metadata": {
    "collapsed": false
   },
   "outputs": [
   ],
   "source": [
    "population = population_df[['Population (2020)','Country name']]"
   ]
  },
  {
   "cell_type": "code",
   "execution_count": 34,
   "metadata": {
    "collapsed": false
   },
   "outputs": [
   ],
   "source": [
    "happy_2021_df = pd.merge(happy_2021_df, population, on='Country name')"
   ]
  },
  {
   "cell_type": "code",
   "execution_count": 35,
   "metadata": {
    "collapsed": false
   },
   "outputs": [
    {
     "data": {
      "text/html": [
       "<div>\n",
       "<style scoped>\n",
       "    .dataframe tbody tr th:only-of-type {\n",
       "        vertical-align: middle;\n",
       "    }\n",
       "\n",
       "    .dataframe tbody tr th {\n",
       "        vertical-align: top;\n",
       "    }\n",
       "\n",
       "    .dataframe thead th {\n",
       "        text-align: right;\n",
       "    }\n",
       "</style>\n",
       "<table border=\"1\" class=\"dataframe\">\n",
       "  <thead>\n",
       "    <tr style=\"text-align: right;\">\n",
       "      <th></th>\n",
       "      <th>Country name</th>\n",
       "      <th>Continents</th>\n",
       "      <th>happy_score</th>\n",
       "      <th>Logged GDP per capita</th>\n",
       "      <th>Social support</th>\n",
       "      <th>Healthy life expectancy</th>\n",
       "      <th>Freedom to make life choices</th>\n",
       "      <th>Generosity</th>\n",
       "      <th>Perceptions of corruption</th>\n",
       "      <th>Population (2020)</th>\n",
       "    </tr>\n",
       "  </thead>\n",
       "  <tbody>\n",
       "    <tr>\n",
       "      <th>0</th>\n",
       "      <td>Finland</td>\n",
       "      <td>Europe</td>\n",
       "      <td>7.842</td>\n",
       "      <td>10.775</td>\n",
       "      <td>0.954</td>\n",
       "      <td>72.0</td>\n",
       "      <td>0.949</td>\n",
       "      <td>-0.098</td>\n",
       "      <td>0.186</td>\n",
       "      <td>5542237</td>\n",
       "    </tr>\n",
       "    <tr>\n",
       "      <th>1</th>\n",
       "      <td>Denmark</td>\n",
       "      <td>Europe</td>\n",
       "      <td>7.620</td>\n",
       "      <td>10.933</td>\n",
       "      <td>0.954</td>\n",
       "      <td>72.7</td>\n",
       "      <td>0.946</td>\n",
       "      <td>0.030</td>\n",
       "      <td>0.179</td>\n",
       "      <td>5795780</td>\n",
       "    </tr>\n",
       "    <tr>\n",
       "      <th>2</th>\n",
       "      <td>Switzerland</td>\n",
       "      <td>Europe</td>\n",
       "      <td>7.571</td>\n",
       "      <td>11.117</td>\n",
       "      <td>0.942</td>\n",
       "      <td>74.4</td>\n",
       "      <td>0.919</td>\n",
       "      <td>0.025</td>\n",
       "      <td>0.292</td>\n",
       "      <td>8665615</td>\n",
       "    </tr>\n",
       "  </tbody>\n",
       "</table>\n",
       "</div>"
      ],
      "text/plain": [
       "  Country name Continents  happy_score  Logged GDP per capita  Social support  \\\n",
       "0      Finland     Europe        7.842                 10.775           0.954   \n",
       "1      Denmark     Europe        7.620                 10.933           0.954   \n",
       "2  Switzerland     Europe        7.571                 11.117           0.942   \n",
       "\n",
       "   Healthy life expectancy  Freedom to make life choices  Generosity  \\\n",
       "0                     72.0                         0.949      -0.098   \n",
       "1                     72.7                         0.946       0.030   \n",
       "2                     74.4                         0.919       0.025   \n",
       "\n",
       "   Perceptions of corruption  Population (2020)  \n",
       "0                      0.186            5542237  \n",
       "1                      0.179            5795780  \n",
       "2                      0.292            8665615  "
      ]
     },
     "execution_count": 35,
     "metadata": {
     },
     "output_type": "execute_result"
    }
   ],
   "source": [
    "happy_2021_df.head(3)"
   ]
  },
  {
   "cell_type": "markdown",
   "metadata": {
    "collapsed": false
   },
   "source": [
    "<h2> <a id = \"pop/happy\"> Does greater population indicate a change in the happiness score?</a> </h2>\n",
    "\n",
    "- To study whether a greater population indicates a change in a country’s happiness score, we created a scatterplot with the 2020 population on the x-axis and the happiness score on the y-axis.\n",
    "- This scatterplot shows **no clear relationship** between the population of a country and its happiness score. Therefore, we can conclude that there is no effect on the happiness score from the population of the country, and vice versa.\n",
    "- A reason for this may be because a person’s happiness is not dictated by the population of their country, but instead by the quality of the people.\n",
    "- An example of this can be seen by **Afghanistan and Iraq**. They both have a population of almost 40 million people, but Afghanistan’s happiness score is at 2.5, while Iraq has almost double, at 4.8.\n",
    "\n"
   ]
  },
  {
   "cell_type": "code",
   "execution_count": 38,
   "metadata": {
    "collapsed": false
   },
   "outputs": [
    {
     "data": {
      "text/html": "<html>\n<head><meta charset=\"utf-8\" /></head>\n<body>\n    <div>            <script src=\"https://cdnjs.cloudflare.com/ajax/libs/mathjax/2.7.5/MathJax.js?config=TeX-AMS-MML_SVG\"></script><script type=\"text/javascript\">if (window.MathJax) {MathJax.Hub.Config({SVG: {font: \"STIX-Web\"}});}</script>                <script type=\"text/javascript\">window.PlotlyConfig = {MathJaxConfig: 'local'};</script>\n        <script src=\"https://cdn.plot.ly/plotly-2.9.0.min.js\"></script>                <div id=\"8e5a0e1a-f001-4635-b37c-ac1778e9e666\" class=\"plotly-graph-div\" style=\"height:525px; width:100%;\"></div>            <script type=\"text/javascript\">                                    window.PLOTLYENV=window.PLOTLYENV || {};                                    if (document.getElementById(\"8e5a0e1a-f001-4635-b37c-ac1778e9e666\")) {                    Plotly.newPlot(                        \"8e5a0e1a-f001-4635-b37c-ac1778e9e666\",                        [{\"customdata\":[[\"Finland\"],[\"Denmark\"],[\"Switzerland\"],[\"Iceland\"],[\"Netherlands\"],[\"Norway\"],[\"Sweden\"],[\"Luxembourg\"],[\"Austria\"],[\"Germany\"],[\"Ireland\"],[\"United Kingdom\"],[\"Belgium\"],[\"France\"],[\"Malta\"],[\"Spain\"],[\"Italy\"],[\"Slovenia\"],[\"Slovakia\"],[\"Lithuania\"],[\"Cyprus\"],[\"Estonia\"],[\"Poland\"],[\"Romania\"],[\"Serbia\"],[\"Latvia\"],[\"Hungary\"],[\"Portugal\"],[\"Croatia\"],[\"Bosnia and Herzegovina\"],[\"Moldova\"],[\"Greece\"],[\"Montenegro\"],[\"Belarus\"],[\"Russia\"],[\"Bulgaria\"],[\"Albania\"],[\"North Macedonia\"],[\"Georgia\"],[\"Ukraine\"]],\"hovertemplate\":\"Continents=Europe<br>Population (2020)=%{x}<br>happy_score=%{y}<br>Country name=%{customdata[0]}<extra></extra>\",\"legendgroup\":\"Europe\",\"marker\":{\"color\":\"#636efa\",\"symbol\":\"circle\",\"line\":{\"width\":0},\"size\":12},\"mode\":\"markers\",\"name\":\"Europe\",\"orientation\":\"v\",\"showlegend\":true,\"x\":[5542237,5795780,8665615,341628,17141544,5428594,10110233,627704,9015361,83830972,4947267,67948282,11598451,65298930,441750,46757980,60446035,2078989,5460109,2715340,1208886,1326693,37839255,19214608,8731081,1882408,9655983,10191409,4100719,3277152,4032294,10413936,628080,9448772,145945524,6939018,2877239,2083359,3987805,43686577],\"xaxis\":\"x\",\"y\":[7.842,7.62,7.571,7.554,7.464,7.392,7.363,7.324,7.268,7.155,7.085,7.064,6.834,6.69,6.602,6.491,6.483,6.461,6.331,6.255,6.223,6.189,6.166,6.14,6.078,6.032,5.992,5.929,5.882,5.813,5.766,5.723,5.581,5.534,5.477,5.266,5.117,5.101,4.891,4.875],\"yaxis\":\"y\",\"type\":\"scatter\"},{\"customdata\":[[\"New Zealand\"],[\"Australia\"]],\"hovertemplate\":\"Continents=Oceania<br>Population (2020)=%{x}<br>happy_score=%{y}<br>Country name=%{customdata[0]}<extra></extra>\",\"legendgroup\":\"Oceania\",\"marker\":{\"color\":\"#EF553B\",\"symbol\":\"circle\",\"line\":{\"width\":0},\"size\":12},\"mode\":\"markers\",\"name\":\"Oceania\",\"orientation\":\"v\",\"showlegend\":true,\"x\":[4829021,25550683],\"xaxis\":\"x\",\"y\":[7.277,7.183],\"yaxis\":\"y\",\"type\":\"scatter\"},{\"customdata\":[[\"Israel\"],[\"Bahrain\"],[\"United Arab Emirates\"],[\"Saudi Arabia\"],[\"Kuwait\"],[\"Mauritius\"],[\"Libya\"],[\"Cameroon\"],[\"Senegal\"],[\"Ghana\"],[\"Niger\"],[\"Gambia\"],[\"Benin\"],[\"Guinea\"],[\"South Africa\"],[\"Turkey\"],[\"Morocco\"],[\"Algeria\"],[\"Iraq\"],[\"Gabon\"],[\"Burkina Faso\"],[\"Mozambique\"],[\"Nigeria\"],[\"Mali\"],[\"Iran\"],[\"Uganda\"],[\"Liberia\"],[\"Kenya\"],[\"Tunisia\"],[\"Lebanon\"],[\"Namibia\"],[\"Jordan\"],[\"Chad\"],[\"Comoros\"],[\"Egypt\"],[\"Ethiopia\"],[\"Mauritania\"],[\"Madagascar\"],[\"Togo\"],[\"Zambia\"],[\"Sierra Leone\"],[\"Burundi\"],[\"Yemen\"],[\"Tanzania\"],[\"Malawi\"],[\"Lesotho\"],[\"Botswana\"],[\"Rwanda\"],[\"Zimbabwe\"]],\"hovertemplate\":\"Continents=Africa<br>Population (2020)=%{x}<br>happy_score=%{y}<br>Country name=%{customdata[0]}<extra></extra>\",\"legendgroup\":\"Africa\",\"marker\":{\"color\":\"#00cc96\",\"symbol\":\"circle\",\"line\":{\"width\":0},\"size\":12},\"mode\":\"markers\",\"name\":\"Africa\",\"orientation\":\"v\",\"showlegend\":true,\"x\":[8678517,1711057,9910892,34905942,4281320,1272140,6887247,26655083,16816539,31181428,24346468,2427782,12175480,13191279,59436725,84495243,36985624,43984569,40372771,2234448,20997293,31398811,206984347,20346106,84176929,45974931,5077411,53968739,11839918,6819976,2548663,10220604,16502877,872695,102659126,115434444,4669775,27808395,8310934,18468257,8004158,11948454,29935468,60012400,19211425,2145194,2359585,13005303,14899771],\"xaxis\":\"x\",\"y\":[7.157,6.647,6.561,6.494,6.106,6.049,5.41,5.142,5.132,5.088,5.074,5.051,5.045,4.984,4.956,4.948,4.918,4.887,4.854,4.852,4.834,4.794,4.759,4.723,4.721,4.636,4.625,4.607,4.596,4.584,4.574,4.395,4.355,4.289,4.283,4.275,4.227,4.208,4.107,4.073,3.849,3.775,3.658,3.623,3.6,3.512,3.467,3.415,3.145],\"yaxis\":\"y\",\"type\":\"scatter\"},{\"customdata\":[[\"Canada\"],[\"United States\"]],\"hovertemplate\":\"Continents=North America<br>Population (2020)=%{x}<br>happy_score=%{y}<br>Country name=%{customdata[0]}<extra></extra>\",\"legendgroup\":\"North America\",\"marker\":{\"color\":\"#ab63fa\",\"symbol\":\"circle\",\"line\":{\"width\":0},\"size\":12},\"mode\":\"markers\",\"name\":\"North America\",\"orientation\":\"v\",\"showlegend\":true,\"x\":[37799407,331341050],\"xaxis\":\"x\",\"y\":[7.103,6.951],\"yaxis\":\"y\",\"type\":\"scatter\"},{\"customdata\":[[\"Costa Rica\"],[\"Guatemala\"],[\"Uruguay\"],[\"Brazil\"],[\"Mexico\"],[\"Jamaica\"],[\"Panama\"],[\"Chile\"],[\"El Salvador\"],[\"Colombia\"],[\"Nicaragua\"],[\"Argentina\"],[\"Honduras\"],[\"Peru\"],[\"Ecuador\"],[\"Bolivia\"],[\"Paraguay\"],[\"Dominican Republic\"],[\"Venezuela\"],[\"Haiti\"]],\"hovertemplate\":\"Continents=South America<br>Population (2020)=%{x}<br>happy_score=%{y}<br>Country name=%{customdata[0]}<extra></extra>\",\"legendgroup\":\"South America\",\"marker\":{\"color\":\"#FFA15A\",\"symbol\":\"circle\",\"line\":{\"width\":0},\"size\":12},\"mode\":\"markers\",\"name\":\"South America\",\"orientation\":\"v\",\"showlegend\":true,\"x\":[5102158,17971382,3475842,212821986,129166028,2963429,4326296,19144605,6491923,50976248,6638075,45267449,9931333,33050211,17688599,11700207,7147553,10866667,28421581,11426356],\"xaxis\":\"x\",\"y\":[7.069,6.435,6.431,6.33,6.317,6.309,6.18,6.172,6.061,6.012,5.972,5.929,5.919,5.84,5.764,5.716,5.653,5.545,4.892,3.615],\"yaxis\":\"y\",\"type\":\"scatter\"},{\"customdata\":[[\"Singapore\"],[\"Uzbekistan\"],[\"Kazakhstan\"],[\"Thailand\"],[\"Japan\"],[\"Philippines\"],[\"South Korea\"],[\"Kyrgyzstan\"],[\"Mongolia\"],[\"Tajikistan\"],[\"Vietnam\"],[\"Malaysia\"],[\"Indonesia\"],[\"China\"],[\"Armenia\"],[\"Nepal\"],[\"Maldives\"],[\"Azerbaijan\"],[\"Turkmenistan\"],[\"Laos\"],[\"Bangladesh\"],[\"Pakistan\"],[\"Cambodia\"],[\"Myanmar\"],[\"Sri Lanka\"],[\"India\"],[\"Afghanistan\"]],\"hovertemplate\":\"Continents=Asia<br>Population (2020)=%{x}<br>happy_score=%{y}<br>Country name=%{customdata[0]}<extra></extra>\",\"legendgroup\":\"Asia\",\"marker\":{\"color\":\"#19d3f3\",\"symbol\":\"circle\",\"line\":{\"width\":0},\"size\":12},\"mode\":\"markers\",\"name\":\"Asia\",\"orientation\":\"v\",\"showlegend\":true,\"x\":[5858322,33551824,18815231,69830779,126407422,109830324,51276977,6542426,3287242,9573310,97490013,32436963,274021604,1440297825,2964219,29225196,542151,10154978,6046292,7293542,164972348,221612785,16758448,54473253,21428970,1382345085,39074280],\"xaxis\":\"x\",\"y\":[6.377,6.179,6.152,5.985,5.94,5.88,5.845,5.744,5.677,5.466,5.411,5.384,5.345,5.339,5.283,5.269,5.198,5.171,5.066,5.03,5.025,4.934,4.83,4.426,4.325,3.819,2.523],\"yaxis\":\"y\",\"type\":\"scatter\"}],                        {\"template\":{\"data\":{\"bar\":[{\"error_x\":{\"color\":\"#2a3f5f\"},\"error_y\":{\"color\":\"#2a3f5f\"},\"marker\":{\"line\":{\"color\":\"#E5ECF6\",\"width\":0.5},\"pattern\":{\"fillmode\":\"overlay\",\"size\":10,\"solidity\":0.2}},\"type\":\"bar\"}],\"barpolar\":[{\"marker\":{\"line\":{\"color\":\"#E5ECF6\",\"width\":0.5},\"pattern\":{\"fillmode\":\"overlay\",\"size\":10,\"solidity\":0.2}},\"type\":\"barpolar\"}],\"carpet\":[{\"aaxis\":{\"endlinecolor\":\"#2a3f5f\",\"gridcolor\":\"white\",\"linecolor\":\"white\",\"minorgridcolor\":\"white\",\"startlinecolor\":\"#2a3f5f\"},\"baxis\":{\"endlinecolor\":\"#2a3f5f\",\"gridcolor\":\"white\",\"linecolor\":\"white\",\"minorgridcolor\":\"white\",\"startlinecolor\":\"#2a3f5f\"},\"type\":\"carpet\"}],\"choropleth\":[{\"colorbar\":{\"outlinewidth\":0,\"ticks\":\"\"},\"type\":\"choropleth\"}],\"contour\":[{\"colorbar\":{\"outlinewidth\":0,\"ticks\":\"\"},\"colorscale\":[[0.0,\"#0d0887\"],[0.1111111111111111,\"#46039f\"],[0.2222222222222222,\"#7201a8\"],[0.3333333333333333,\"#9c179e\"],[0.4444444444444444,\"#bd3786\"],[0.5555555555555556,\"#d8576b\"],[0.6666666666666666,\"#ed7953\"],[0.7777777777777778,\"#fb9f3a\"],[0.8888888888888888,\"#fdca26\"],[1.0,\"#f0f921\"]],\"type\":\"contour\"}],\"contourcarpet\":[{\"colorbar\":{\"outlinewidth\":0,\"ticks\":\"\"},\"type\":\"contourcarpet\"}],\"heatmap\":[{\"colorbar\":{\"outlinewidth\":0,\"ticks\":\"\"},\"colorscale\":[[0.0,\"#0d0887\"],[0.1111111111111111,\"#46039f\"],[0.2222222222222222,\"#7201a8\"],[0.3333333333333333,\"#9c179e\"],[0.4444444444444444,\"#bd3786\"],[0.5555555555555556,\"#d8576b\"],[0.6666666666666666,\"#ed7953\"],[0.7777777777777778,\"#fb9f3a\"],[0.8888888888888888,\"#fdca26\"],[1.0,\"#f0f921\"]],\"type\":\"heatmap\"}],\"heatmapgl\":[{\"colorbar\":{\"outlinewidth\":0,\"ticks\":\"\"},\"colorscale\":[[0.0,\"#0d0887\"],[0.1111111111111111,\"#46039f\"],[0.2222222222222222,\"#7201a8\"],[0.3333333333333333,\"#9c179e\"],[0.4444444444444444,\"#bd3786\"],[0.5555555555555556,\"#d8576b\"],[0.6666666666666666,\"#ed7953\"],[0.7777777777777778,\"#fb9f3a\"],[0.8888888888888888,\"#fdca26\"],[1.0,\"#f0f921\"]],\"type\":\"heatmapgl\"}],\"histogram\":[{\"marker\":{\"pattern\":{\"fillmode\":\"overlay\",\"size\":10,\"solidity\":0.2}},\"type\":\"histogram\"}],\"histogram2d\":[{\"colorbar\":{\"outlinewidth\":0,\"ticks\":\"\"},\"colorscale\":[[0.0,\"#0d0887\"],[0.1111111111111111,\"#46039f\"],[0.2222222222222222,\"#7201a8\"],[0.3333333333333333,\"#9c179e\"],[0.4444444444444444,\"#bd3786\"],[0.5555555555555556,\"#d8576b\"],[0.6666666666666666,\"#ed7953\"],[0.7777777777777778,\"#fb9f3a\"],[0.8888888888888888,\"#fdca26\"],[1.0,\"#f0f921\"]],\"type\":\"histogram2d\"}],\"histogram2dcontour\":[{\"colorbar\":{\"outlinewidth\":0,\"ticks\":\"\"},\"colorscale\":[[0.0,\"#0d0887\"],[0.1111111111111111,\"#46039f\"],[0.2222222222222222,\"#7201a8\"],[0.3333333333333333,\"#9c179e\"],[0.4444444444444444,\"#bd3786\"],[0.5555555555555556,\"#d8576b\"],[0.6666666666666666,\"#ed7953\"],[0.7777777777777778,\"#fb9f3a\"],[0.8888888888888888,\"#fdca26\"],[1.0,\"#f0f921\"]],\"type\":\"histogram2dcontour\"}],\"mesh3d\":[{\"colorbar\":{\"outlinewidth\":0,\"ticks\":\"\"},\"type\":\"mesh3d\"}],\"parcoords\":[{\"line\":{\"colorbar\":{\"outlinewidth\":0,\"ticks\":\"\"}},\"type\":\"parcoords\"}],\"pie\":[{\"automargin\":true,\"type\":\"pie\"}],\"scatter\":[{\"marker\":{\"colorbar\":{\"outlinewidth\":0,\"ticks\":\"\"}},\"type\":\"scatter\"}],\"scatter3d\":[{\"line\":{\"colorbar\":{\"outlinewidth\":0,\"ticks\":\"\"}},\"marker\":{\"colorbar\":{\"outlinewidth\":0,\"ticks\":\"\"}},\"type\":\"scatter3d\"}],\"scattercarpet\":[{\"marker\":{\"colorbar\":{\"outlinewidth\":0,\"ticks\":\"\"}},\"type\":\"scattercarpet\"}],\"scattergeo\":[{\"marker\":{\"colorbar\":{\"outlinewidth\":0,\"ticks\":\"\"}},\"type\":\"scattergeo\"}],\"scattergl\":[{\"marker\":{\"colorbar\":{\"outlinewidth\":0,\"ticks\":\"\"}},\"type\":\"scattergl\"}],\"scattermapbox\":[{\"marker\":{\"colorbar\":{\"outlinewidth\":0,\"ticks\":\"\"}},\"type\":\"scattermapbox\"}],\"scatterpolar\":[{\"marker\":{\"colorbar\":{\"outlinewidth\":0,\"ticks\":\"\"}},\"type\":\"scatterpolar\"}],\"scatterpolargl\":[{\"marker\":{\"colorbar\":{\"outlinewidth\":0,\"ticks\":\"\"}},\"type\":\"scatterpolargl\"}],\"scatterternary\":[{\"marker\":{\"colorbar\":{\"outlinewidth\":0,\"ticks\":\"\"}},\"type\":\"scatterternary\"}],\"surface\":[{\"colorbar\":{\"outlinewidth\":0,\"ticks\":\"\"},\"colorscale\":[[0.0,\"#0d0887\"],[0.1111111111111111,\"#46039f\"],[0.2222222222222222,\"#7201a8\"],[0.3333333333333333,\"#9c179e\"],[0.4444444444444444,\"#bd3786\"],[0.5555555555555556,\"#d8576b\"],[0.6666666666666666,\"#ed7953\"],[0.7777777777777778,\"#fb9f3a\"],[0.8888888888888888,\"#fdca26\"],[1.0,\"#f0f921\"]],\"type\":\"surface\"}],\"table\":[{\"cells\":{\"fill\":{\"color\":\"#EBF0F8\"},\"line\":{\"color\":\"white\"}},\"header\":{\"fill\":{\"color\":\"#C8D4E3\"},\"line\":{\"color\":\"white\"}},\"type\":\"table\"}]},\"layout\":{\"annotationdefaults\":{\"arrowcolor\":\"#2a3f5f\",\"arrowhead\":0,\"arrowwidth\":1},\"autotypenumbers\":\"strict\",\"coloraxis\":{\"colorbar\":{\"outlinewidth\":0,\"ticks\":\"\"}},\"colorscale\":{\"diverging\":[[0,\"#8e0152\"],[0.1,\"#c51b7d\"],[0.2,\"#de77ae\"],[0.3,\"#f1b6da\"],[0.4,\"#fde0ef\"],[0.5,\"#f7f7f7\"],[0.6,\"#e6f5d0\"],[0.7,\"#b8e186\"],[0.8,\"#7fbc41\"],[0.9,\"#4d9221\"],[1,\"#276419\"]],\"sequential\":[[0.0,\"#0d0887\"],[0.1111111111111111,\"#46039f\"],[0.2222222222222222,\"#7201a8\"],[0.3333333333333333,\"#9c179e\"],[0.4444444444444444,\"#bd3786\"],[0.5555555555555556,\"#d8576b\"],[0.6666666666666666,\"#ed7953\"],[0.7777777777777778,\"#fb9f3a\"],[0.8888888888888888,\"#fdca26\"],[1.0,\"#f0f921\"]],\"sequentialminus\":[[0.0,\"#0d0887\"],[0.1111111111111111,\"#46039f\"],[0.2222222222222222,\"#7201a8\"],[0.3333333333333333,\"#9c179e\"],[0.4444444444444444,\"#bd3786\"],[0.5555555555555556,\"#d8576b\"],[0.6666666666666666,\"#ed7953\"],[0.7777777777777778,\"#fb9f3a\"],[0.8888888888888888,\"#fdca26\"],[1.0,\"#f0f921\"]]},\"colorway\":[\"#636efa\",\"#EF553B\",\"#00cc96\",\"#ab63fa\",\"#FFA15A\",\"#19d3f3\",\"#FF6692\",\"#B6E880\",\"#FF97FF\",\"#FECB52\"],\"font\":{\"color\":\"#2a3f5f\"},\"geo\":{\"bgcolor\":\"white\",\"lakecolor\":\"white\",\"landcolor\":\"#E5ECF6\",\"showlakes\":true,\"showland\":true,\"subunitcolor\":\"white\"},\"hoverlabel\":{\"align\":\"left\"},\"hovermode\":\"closest\",\"mapbox\":{\"style\":\"light\"},\"paper_bgcolor\":\"white\",\"plot_bgcolor\":\"#E5ECF6\",\"polar\":{\"angularaxis\":{\"gridcolor\":\"white\",\"linecolor\":\"white\",\"ticks\":\"\"},\"bgcolor\":\"#E5ECF6\",\"radialaxis\":{\"gridcolor\":\"white\",\"linecolor\":\"white\",\"ticks\":\"\"}},\"scene\":{\"xaxis\":{\"backgroundcolor\":\"#E5ECF6\",\"gridcolor\":\"white\",\"gridwidth\":2,\"linecolor\":\"white\",\"showbackground\":true,\"ticks\":\"\",\"zerolinecolor\":\"white\"},\"yaxis\":{\"backgroundcolor\":\"#E5ECF6\",\"gridcolor\":\"white\",\"gridwidth\":2,\"linecolor\":\"white\",\"showbackground\":true,\"ticks\":\"\",\"zerolinecolor\":\"white\"},\"zaxis\":{\"backgroundcolor\":\"#E5ECF6\",\"gridcolor\":\"white\",\"gridwidth\":2,\"linecolor\":\"white\",\"showbackground\":true,\"ticks\":\"\",\"zerolinecolor\":\"white\"}},\"shapedefaults\":{\"line\":{\"color\":\"#2a3f5f\"}},\"ternary\":{\"aaxis\":{\"gridcolor\":\"white\",\"linecolor\":\"white\",\"ticks\":\"\"},\"baxis\":{\"gridcolor\":\"white\",\"linecolor\":\"white\",\"ticks\":\"\"},\"bgcolor\":\"#E5ECF6\",\"caxis\":{\"gridcolor\":\"white\",\"linecolor\":\"white\",\"ticks\":\"\"}},\"title\":{\"x\":0.05},\"xaxis\":{\"automargin\":true,\"gridcolor\":\"white\",\"linecolor\":\"white\",\"ticks\":\"\",\"title\":{\"standoff\":15},\"zerolinecolor\":\"white\",\"zerolinewidth\":2},\"yaxis\":{\"automargin\":true,\"gridcolor\":\"white\",\"linecolor\":\"white\",\"ticks\":\"\",\"title\":{\"standoff\":15},\"zerolinecolor\":\"white\",\"zerolinewidth\":2}}},\"xaxis\":{\"anchor\":\"y\",\"domain\":[0.0,1.0],\"title\":{\"text\":\"Population (2020)\"},\"type\":\"log\"},\"yaxis\":{\"anchor\":\"x\",\"domain\":[0.0,1.0],\"title\":{\"text\":\"happy_score\"}},\"legend\":{\"title\":{\"text\":\"Continents\"},\"tracegroupgap\":0},\"title\":{\"text\":\"Relationship of population and happiness score\"}},                        {\"responsive\": true}                    ).then(function(){\n                            \nvar gd = document.getElementById('8e5a0e1a-f001-4635-b37c-ac1778e9e666');\nvar x = new MutationObserver(function (mutations, observer) {{\n        var display = window.getComputedStyle(gd).display;\n        if (!display || display === 'none') {{\n            console.log([gd, 'removed!']);\n            Plotly.purge(gd);\n            observer.disconnect();\n        }}\n}});\n\n// Listen for the removal of the full notebook cells\nvar notebookContainer = gd.closest('#notebook-container');\nif (notebookContainer) {{\n    x.observe(notebookContainer, {childList: true});\n}}\n\n// Listen for the clearing of the current output cell\nvar outputEl = gd.closest('.output');\nif (outputEl) {{\n    x.observe(outputEl, {childList: true});\n}}\n\n                        })                };                            </script>        </div>\n</body>\n</html>"
     },
     "execution_count": 38,
     "metadata": {
     },
     "output_type": "execute_result"
    }
   ],
   "source": [
    "fig = px.scatter(happy_2021_df, x = 'Population (2020)', y = 'happy_score', log_x=True,hover_data = [\"Country name\"], title = \"Relationship of population and happiness score\", color = 'Continents', template = 'plotly')\n",
    "fig.update_traces(marker=dict(size=12,\n",
    "                              line=dict(width=0,\n",
    "                                        )),\n",
    "                  selector=dict(mode='markers'))\n",
    "fig.show()\n"
   ]
  },
  {
   "cell_type": "markdown",
   "metadata": {
    "collapsed": false
   },
   "source": [
    "<h2> <a id = \"pop/corr/happy\"> Population, Perception of Corruption, and Happiness Score</a> </h2>\n",
    "\n",
    "- To study whether the population and the perception of corruption of a country have any relation with the happiness level, we created a scatterplot with the 2020 population on the x-axis and the perception of corruption on the y-axis, with the size of the dot indicating the happiness level.\n",
    "- There seems to be no clear positive or negative correlation from the scatterplot, but there is a fairly clustered horizontal line centered at the 0.8 perception of corruption. This shows that the majority of countries have a **fairly similar perception of corruption**, no matter their population.\n",
    "- However, many of the countries with a lower perception of corruption have a population of less than 100 million people. A reason for this may be that, with less people, it is easier to keep a lower perception of corruption.\n",
    "- We can also see the happiness index of the country based on the size of the dot, which seems to have **no effect** on whether the country has a low or high perception of corruption. This can be seen with **Singapore and Turkmenistan**, where both countries have a population of about 6 million people. However, Singapore has the lowest perception of corruption, at 0.08, while Turkmenistan has a perception of corruption of almost 0.9. Both countries have a population of about 6 million people, and a happiness score from 5-6.\n",
    "\n"
   ]
  },
  {
   "cell_type": "code",
   "execution_count": 39,
   "metadata": {
    "collapsed": false
   },
   "outputs": [
    {
     "data": {
      "text/html": "<html>\n<head><meta charset=\"utf-8\" /></head>\n<body>\n    <div>            <script src=\"https://cdnjs.cloudflare.com/ajax/libs/mathjax/2.7.5/MathJax.js?config=TeX-AMS-MML_SVG\"></script><script type=\"text/javascript\">if (window.MathJax) {MathJax.Hub.Config({SVG: {font: \"STIX-Web\"}});}</script>                <script type=\"text/javascript\">window.PlotlyConfig = {MathJaxConfig: 'local'};</script>\n        <script src=\"https://cdn.plot.ly/plotly-2.9.0.min.js\"></script>                <div id=\"5a52fe3a-974a-4439-a94c-c0dd5c558cc1\" class=\"plotly-graph-div\" style=\"height:525px; width:100%;\"></div>            <script type=\"text/javascript\">                                    window.PLOTLYENV=window.PLOTLYENV || {};                                    if (document.getElementById(\"5a52fe3a-974a-4439-a94c-c0dd5c558cc1\")) {                    Plotly.newPlot(                        \"5a52fe3a-974a-4439-a94c-c0dd5c558cc1\",                        [{\"customdata\":[[\"Finland\"],[\"Denmark\"],[\"Switzerland\"],[\"Iceland\"],[\"Netherlands\"],[\"Norway\"],[\"Sweden\"],[\"Luxembourg\"],[\"Austria\"],[\"Germany\"],[\"Ireland\"],[\"United Kingdom\"],[\"Belgium\"],[\"France\"],[\"Malta\"],[\"Spain\"],[\"Italy\"],[\"Slovenia\"],[\"Slovakia\"],[\"Lithuania\"],[\"Cyprus\"],[\"Estonia\"],[\"Poland\"],[\"Romania\"],[\"Serbia\"],[\"Latvia\"],[\"Hungary\"],[\"Portugal\"],[\"Croatia\"],[\"Bosnia and Herzegovina\"],[\"Moldova\"],[\"Greece\"],[\"Montenegro\"],[\"Belarus\"],[\"Russia\"],[\"Bulgaria\"],[\"Albania\"],[\"North Macedonia\"],[\"Georgia\"],[\"Ukraine\"]],\"hovertemplate\":\"Continents=Europe<br>Population (2020)=%{x}<br>Perceptions of corruption=%{y}<br>happy_score=%{marker.size}<br>Country name=%{customdata[0]}<extra></extra>\",\"legendgroup\":\"Europe\",\"marker\":{\"color\":\"#636efa\",\"size\":[7.842,7.62,7.571,7.554,7.464,7.392,7.363,7.324,7.268,7.155,7.085,7.064,6.834,6.69,6.602,6.491,6.483,6.461,6.331,6.255,6.223,6.189,6.166,6.14,6.078,6.032,5.992,5.929,5.882,5.813,5.766,5.723,5.581,5.534,5.477,5.266,5.117,5.101,4.891,4.875],\"sizemode\":\"area\",\"sizeref\":0.019604999999999997,\"symbol\":\"circle\"},\"mode\":\"markers\",\"name\":\"Europe\",\"orientation\":\"v\",\"showlegend\":true,\"x\":[5542237,5795780,8665615,341628,17141544,5428594,10110233,627704,9015361,83830972,4947267,67948282,11598451,65298930,441750,46757980,60446035,2078989,5460109,2715340,1208886,1326693,37839255,19214608,8731081,1882408,9655983,10191409,4100719,3277152,4032294,10413936,628080,9448772,145945524,6939018,2877239,2083359,3987805,43686577],\"xaxis\":\"x\",\"y\":[0.186,0.179,0.292,0.673,0.338,0.27,0.237,0.386,0.481,0.46,0.363,0.459,0.646,0.571,0.653,0.745,0.866,0.806,0.911,0.826,0.844,0.527,0.735,0.938,0.835,0.8,0.876,0.887,0.939,0.931,0.918,0.823,0.812,0.627,0.845,0.932,0.901,0.905,0.655,0.924],\"yaxis\":\"y\",\"type\":\"scatter\"},{\"customdata\":[[\"New Zealand\"],[\"Australia\"]],\"hovertemplate\":\"Continents=Oceania<br>Population (2020)=%{x}<br>Perceptions of corruption=%{y}<br>happy_score=%{marker.size}<br>Country name=%{customdata[0]}<extra></extra>\",\"legendgroup\":\"Oceania\",\"marker\":{\"color\":\"#EF553B\",\"size\":[7.277,7.183],\"sizemode\":\"area\",\"sizeref\":0.019604999999999997,\"symbol\":\"circle\"},\"mode\":\"markers\",\"name\":\"Oceania\",\"orientation\":\"v\",\"showlegend\":true,\"x\":[4829021,25550683],\"xaxis\":\"x\",\"y\":[0.242,0.442],\"yaxis\":\"y\",\"type\":\"scatter\"},{\"customdata\":[[\"Israel\"],[\"Bahrain\"],[\"United Arab Emirates\"],[\"Saudi Arabia\"],[\"Kuwait\"],[\"Mauritius\"],[\"Libya\"],[\"Cameroon\"],[\"Senegal\"],[\"Ghana\"],[\"Niger\"],[\"Gambia\"],[\"Benin\"],[\"Guinea\"],[\"South Africa\"],[\"Turkey\"],[\"Morocco\"],[\"Algeria\"],[\"Iraq\"],[\"Gabon\"],[\"Burkina Faso\"],[\"Mozambique\"],[\"Nigeria\"],[\"Mali\"],[\"Iran\"],[\"Uganda\"],[\"Liberia\"],[\"Kenya\"],[\"Tunisia\"],[\"Lebanon\"],[\"Namibia\"],[\"Jordan\"],[\"Chad\"],[\"Comoros\"],[\"Egypt\"],[\"Ethiopia\"],[\"Mauritania\"],[\"Madagascar\"],[\"Togo\"],[\"Zambia\"],[\"Sierra Leone\"],[\"Burundi\"],[\"Yemen\"],[\"Tanzania\"],[\"Malawi\"],[\"Lesotho\"],[\"Botswana\"],[\"Rwanda\"],[\"Zimbabwe\"]],\"hovertemplate\":\"Continents=Africa<br>Population (2020)=%{x}<br>Perceptions of corruption=%{y}<br>happy_score=%{marker.size}<br>Country name=%{customdata[0]}<extra></extra>\",\"legendgroup\":\"Africa\",\"marker\":{\"color\":\"#00cc96\",\"size\":[7.157,6.647,6.561,6.494,6.106,6.049,5.41,5.142,5.132,5.088,5.074,5.051,5.045,4.984,4.956,4.948,4.918,4.887,4.854,4.852,4.834,4.794,4.759,4.723,4.721,4.636,4.625,4.607,4.596,4.584,4.574,4.395,4.355,4.289,4.283,4.275,4.227,4.208,4.107,4.073,3.849,3.775,3.658,3.623,3.6,3.512,3.467,3.415,3.145],\"sizemode\":\"area\",\"sizeref\":0.019604999999999997,\"symbol\":\"circle\"},\"mode\":\"markers\",\"name\":\"Africa\",\"orientation\":\"v\",\"showlegend\":true,\"x\":[8678517,1711057,9910892,34905942,4281320,1272140,6887247,26655083,16816539,31181428,24346468,2427782,12175480,13191279,59436725,84495243,36985624,43984569,40372771,2234448,20997293,31398811,206984347,20346106,84176929,45974931,5077411,53968739,11839918,6819976,2548663,10220604,16502877,872695,102659126,115434444,4669775,27808395,8310934,18468257,8004158,11948454,29935468,60012400,19211425,2145194,2359585,13005303,14899771],\"xaxis\":\"x\",\"y\":[0.753,0.722,0.589,0.684,0.736,0.789,0.667,0.848,0.801,0.848,0.693,0.746,0.661,0.766,0.86,0.776,0.801,0.752,0.875,0.84,0.748,0.684,0.878,0.827,0.714,0.855,0.85,0.825,0.87,0.898,0.847,0.705,0.807,0.781,0.795,0.761,0.731,0.803,0.772,0.823,0.866,0.607,0.8,0.577,0.729,0.915,0.801,0.167,0.821],\"yaxis\":\"y\",\"type\":\"scatter\"},{\"customdata\":[[\"Canada\"],[\"United States\"]],\"hovertemplate\":\"Continents=North America<br>Population (2020)=%{x}<br>Perceptions of corruption=%{y}<br>happy_score=%{marker.size}<br>Country name=%{customdata[0]}<extra></extra>\",\"legendgroup\":\"North America\",\"marker\":{\"color\":\"#ab63fa\",\"size\":[7.103,6.951],\"sizemode\":\"area\",\"sizeref\":0.019604999999999997,\"symbol\":\"circle\"},\"mode\":\"markers\",\"name\":\"North America\",\"orientation\":\"v\",\"showlegend\":true,\"x\":[37799407,331341050],\"xaxis\":\"x\",\"y\":[0.415,0.698],\"yaxis\":\"y\",\"type\":\"scatter\"},{\"customdata\":[[\"Costa Rica\"],[\"Guatemala\"],[\"Uruguay\"],[\"Brazil\"],[\"Mexico\"],[\"Jamaica\"],[\"Panama\"],[\"Chile\"],[\"El Salvador\"],[\"Colombia\"],[\"Nicaragua\"],[\"Argentina\"],[\"Honduras\"],[\"Peru\"],[\"Ecuador\"],[\"Bolivia\"],[\"Paraguay\"],[\"Dominican Republic\"],[\"Venezuela\"],[\"Haiti\"]],\"hovertemplate\":\"Continents=South America<br>Population (2020)=%{x}<br>Perceptions of corruption=%{y}<br>happy_score=%{marker.size}<br>Country name=%{customdata[0]}<extra></extra>\",\"legendgroup\":\"South America\",\"marker\":{\"color\":\"#FFA15A\",\"size\":[7.069,6.435,6.431,6.33,6.317,6.309,6.18,6.172,6.061,6.012,5.972,5.929,5.919,5.84,5.764,5.716,5.653,5.545,4.892,3.615],\"sizemode\":\"area\",\"sizeref\":0.019604999999999997,\"symbol\":\"circle\"},\"mode\":\"markers\",\"name\":\"South America\",\"orientation\":\"v\",\"showlegend\":true,\"x\":[5102158,17971382,3475842,212821986,129166028,2963429,4326296,19144605,6491923,50976248,6638075,45267449,9931333,33050211,17688599,11700207,7147553,10866667,28421581,11426356],\"xaxis\":\"x\",\"y\":[0.809,0.775,0.59,0.756,0.799,0.884,0.856,0.83,0.688,0.841,0.664,0.834,0.809,0.891,0.843,0.839,0.882,0.714,0.827,0.721],\"yaxis\":\"y\",\"type\":\"scatter\"},{\"customdata\":[[\"Singapore\"],[\"Uzbekistan\"],[\"Kazakhstan\"],[\"Thailand\"],[\"Japan\"],[\"Philippines\"],[\"South Korea\"],[\"Kyrgyzstan\"],[\"Mongolia\"],[\"Tajikistan\"],[\"Vietnam\"],[\"Malaysia\"],[\"Indonesia\"],[\"China\"],[\"Armenia\"],[\"Nepal\"],[\"Maldives\"],[\"Azerbaijan\"],[\"Turkmenistan\"],[\"Laos\"],[\"Bangladesh\"],[\"Pakistan\"],[\"Cambodia\"],[\"Myanmar\"],[\"Sri Lanka\"],[\"India\"],[\"Afghanistan\"]],\"hovertemplate\":\"Continents=Asia<br>Population (2020)=%{x}<br>Perceptions of corruption=%{y}<br>happy_score=%{marker.size}<br>Country name=%{customdata[0]}<extra></extra>\",\"legendgroup\":\"Asia\",\"marker\":{\"color\":\"#19d3f3\",\"size\":[6.377,6.179,6.152,5.985,5.94,5.88,5.845,5.744,5.677,5.466,5.411,5.384,5.345,5.339,5.283,5.269,5.198,5.171,5.066,5.03,5.025,4.934,4.83,4.426,4.325,3.819,2.523],\"sizemode\":\"area\",\"sizeref\":0.019604999999999997,\"symbol\":\"circle\"},\"mode\":\"markers\",\"name\":\"Asia\",\"orientation\":\"v\",\"showlegend\":true,\"x\":[5858322,33551824,18815231,69830779,126407422,109830324,51276977,6542426,3287242,9573310,97490013,32436963,274021604,1440297825,2964219,29225196,542151,10154978,6046292,7293542,164972348,221612785,16758448,54473253,21428970,1382345085,39074280],\"xaxis\":\"x\",\"y\":[0.082,0.515,0.733,0.895,0.638,0.742,0.727,0.908,0.856,0.553,0.796,0.839,0.867,0.755,0.629,0.727,0.825,0.506,0.888,0.658,0.682,0.787,0.843,0.66,0.863,0.774,0.924],\"yaxis\":\"y\",\"type\":\"scatter\"}],                        {\"template\":{\"data\":{\"bar\":[{\"error_x\":{\"color\":\"#2a3f5f\"},\"error_y\":{\"color\":\"#2a3f5f\"},\"marker\":{\"line\":{\"color\":\"#E5ECF6\",\"width\":0.5},\"pattern\":{\"fillmode\":\"overlay\",\"size\":10,\"solidity\":0.2}},\"type\":\"bar\"}],\"barpolar\":[{\"marker\":{\"line\":{\"color\":\"#E5ECF6\",\"width\":0.5},\"pattern\":{\"fillmode\":\"overlay\",\"size\":10,\"solidity\":0.2}},\"type\":\"barpolar\"}],\"carpet\":[{\"aaxis\":{\"endlinecolor\":\"#2a3f5f\",\"gridcolor\":\"white\",\"linecolor\":\"white\",\"minorgridcolor\":\"white\",\"startlinecolor\":\"#2a3f5f\"},\"baxis\":{\"endlinecolor\":\"#2a3f5f\",\"gridcolor\":\"white\",\"linecolor\":\"white\",\"minorgridcolor\":\"white\",\"startlinecolor\":\"#2a3f5f\"},\"type\":\"carpet\"}],\"choropleth\":[{\"colorbar\":{\"outlinewidth\":0,\"ticks\":\"\"},\"type\":\"choropleth\"}],\"contour\":[{\"colorbar\":{\"outlinewidth\":0,\"ticks\":\"\"},\"colorscale\":[[0.0,\"#0d0887\"],[0.1111111111111111,\"#46039f\"],[0.2222222222222222,\"#7201a8\"],[0.3333333333333333,\"#9c179e\"],[0.4444444444444444,\"#bd3786\"],[0.5555555555555556,\"#d8576b\"],[0.6666666666666666,\"#ed7953\"],[0.7777777777777778,\"#fb9f3a\"],[0.8888888888888888,\"#fdca26\"],[1.0,\"#f0f921\"]],\"type\":\"contour\"}],\"contourcarpet\":[{\"colorbar\":{\"outlinewidth\":0,\"ticks\":\"\"},\"type\":\"contourcarpet\"}],\"heatmap\":[{\"colorbar\":{\"outlinewidth\":0,\"ticks\":\"\"},\"colorscale\":[[0.0,\"#0d0887\"],[0.1111111111111111,\"#46039f\"],[0.2222222222222222,\"#7201a8\"],[0.3333333333333333,\"#9c179e\"],[0.4444444444444444,\"#bd3786\"],[0.5555555555555556,\"#d8576b\"],[0.6666666666666666,\"#ed7953\"],[0.7777777777777778,\"#fb9f3a\"],[0.8888888888888888,\"#fdca26\"],[1.0,\"#f0f921\"]],\"type\":\"heatmap\"}],\"heatmapgl\":[{\"colorbar\":{\"outlinewidth\":0,\"ticks\":\"\"},\"colorscale\":[[0.0,\"#0d0887\"],[0.1111111111111111,\"#46039f\"],[0.2222222222222222,\"#7201a8\"],[0.3333333333333333,\"#9c179e\"],[0.4444444444444444,\"#bd3786\"],[0.5555555555555556,\"#d8576b\"],[0.6666666666666666,\"#ed7953\"],[0.7777777777777778,\"#fb9f3a\"],[0.8888888888888888,\"#fdca26\"],[1.0,\"#f0f921\"]],\"type\":\"heatmapgl\"}],\"histogram\":[{\"marker\":{\"pattern\":{\"fillmode\":\"overlay\",\"size\":10,\"solidity\":0.2}},\"type\":\"histogram\"}],\"histogram2d\":[{\"colorbar\":{\"outlinewidth\":0,\"ticks\":\"\"},\"colorscale\":[[0.0,\"#0d0887\"],[0.1111111111111111,\"#46039f\"],[0.2222222222222222,\"#7201a8\"],[0.3333333333333333,\"#9c179e\"],[0.4444444444444444,\"#bd3786\"],[0.5555555555555556,\"#d8576b\"],[0.6666666666666666,\"#ed7953\"],[0.7777777777777778,\"#fb9f3a\"],[0.8888888888888888,\"#fdca26\"],[1.0,\"#f0f921\"]],\"type\":\"histogram2d\"}],\"histogram2dcontour\":[{\"colorbar\":{\"outlinewidth\":0,\"ticks\":\"\"},\"colorscale\":[[0.0,\"#0d0887\"],[0.1111111111111111,\"#46039f\"],[0.2222222222222222,\"#7201a8\"],[0.3333333333333333,\"#9c179e\"],[0.4444444444444444,\"#bd3786\"],[0.5555555555555556,\"#d8576b\"],[0.6666666666666666,\"#ed7953\"],[0.7777777777777778,\"#fb9f3a\"],[0.8888888888888888,\"#fdca26\"],[1.0,\"#f0f921\"]],\"type\":\"histogram2dcontour\"}],\"mesh3d\":[{\"colorbar\":{\"outlinewidth\":0,\"ticks\":\"\"},\"type\":\"mesh3d\"}],\"parcoords\":[{\"line\":{\"colorbar\":{\"outlinewidth\":0,\"ticks\":\"\"}},\"type\":\"parcoords\"}],\"pie\":[{\"automargin\":true,\"type\":\"pie\"}],\"scatter\":[{\"marker\":{\"colorbar\":{\"outlinewidth\":0,\"ticks\":\"\"}},\"type\":\"scatter\"}],\"scatter3d\":[{\"line\":{\"colorbar\":{\"outlinewidth\":0,\"ticks\":\"\"}},\"marker\":{\"colorbar\":{\"outlinewidth\":0,\"ticks\":\"\"}},\"type\":\"scatter3d\"}],\"scattercarpet\":[{\"marker\":{\"colorbar\":{\"outlinewidth\":0,\"ticks\":\"\"}},\"type\":\"scattercarpet\"}],\"scattergeo\":[{\"marker\":{\"colorbar\":{\"outlinewidth\":0,\"ticks\":\"\"}},\"type\":\"scattergeo\"}],\"scattergl\":[{\"marker\":{\"colorbar\":{\"outlinewidth\":0,\"ticks\":\"\"}},\"type\":\"scattergl\"}],\"scattermapbox\":[{\"marker\":{\"colorbar\":{\"outlinewidth\":0,\"ticks\":\"\"}},\"type\":\"scattermapbox\"}],\"scatterpolar\":[{\"marker\":{\"colorbar\":{\"outlinewidth\":0,\"ticks\":\"\"}},\"type\":\"scatterpolar\"}],\"scatterpolargl\":[{\"marker\":{\"colorbar\":{\"outlinewidth\":0,\"ticks\":\"\"}},\"type\":\"scatterpolargl\"}],\"scatterternary\":[{\"marker\":{\"colorbar\":{\"outlinewidth\":0,\"ticks\":\"\"}},\"type\":\"scatterternary\"}],\"surface\":[{\"colorbar\":{\"outlinewidth\":0,\"ticks\":\"\"},\"colorscale\":[[0.0,\"#0d0887\"],[0.1111111111111111,\"#46039f\"],[0.2222222222222222,\"#7201a8\"],[0.3333333333333333,\"#9c179e\"],[0.4444444444444444,\"#bd3786\"],[0.5555555555555556,\"#d8576b\"],[0.6666666666666666,\"#ed7953\"],[0.7777777777777778,\"#fb9f3a\"],[0.8888888888888888,\"#fdca26\"],[1.0,\"#f0f921\"]],\"type\":\"surface\"}],\"table\":[{\"cells\":{\"fill\":{\"color\":\"#EBF0F8\"},\"line\":{\"color\":\"white\"}},\"header\":{\"fill\":{\"color\":\"#C8D4E3\"},\"line\":{\"color\":\"white\"}},\"type\":\"table\"}]},\"layout\":{\"annotationdefaults\":{\"arrowcolor\":\"#2a3f5f\",\"arrowhead\":0,\"arrowwidth\":1},\"autotypenumbers\":\"strict\",\"coloraxis\":{\"colorbar\":{\"outlinewidth\":0,\"ticks\":\"\"}},\"colorscale\":{\"diverging\":[[0,\"#8e0152\"],[0.1,\"#c51b7d\"],[0.2,\"#de77ae\"],[0.3,\"#f1b6da\"],[0.4,\"#fde0ef\"],[0.5,\"#f7f7f7\"],[0.6,\"#e6f5d0\"],[0.7,\"#b8e186\"],[0.8,\"#7fbc41\"],[0.9,\"#4d9221\"],[1,\"#276419\"]],\"sequential\":[[0.0,\"#0d0887\"],[0.1111111111111111,\"#46039f\"],[0.2222222222222222,\"#7201a8\"],[0.3333333333333333,\"#9c179e\"],[0.4444444444444444,\"#bd3786\"],[0.5555555555555556,\"#d8576b\"],[0.6666666666666666,\"#ed7953\"],[0.7777777777777778,\"#fb9f3a\"],[0.8888888888888888,\"#fdca26\"],[1.0,\"#f0f921\"]],\"sequentialminus\":[[0.0,\"#0d0887\"],[0.1111111111111111,\"#46039f\"],[0.2222222222222222,\"#7201a8\"],[0.3333333333333333,\"#9c179e\"],[0.4444444444444444,\"#bd3786\"],[0.5555555555555556,\"#d8576b\"],[0.6666666666666666,\"#ed7953\"],[0.7777777777777778,\"#fb9f3a\"],[0.8888888888888888,\"#fdca26\"],[1.0,\"#f0f921\"]]},\"colorway\":[\"#636efa\",\"#EF553B\",\"#00cc96\",\"#ab63fa\",\"#FFA15A\",\"#19d3f3\",\"#FF6692\",\"#B6E880\",\"#FF97FF\",\"#FECB52\"],\"font\":{\"color\":\"#2a3f5f\"},\"geo\":{\"bgcolor\":\"white\",\"lakecolor\":\"white\",\"landcolor\":\"#E5ECF6\",\"showlakes\":true,\"showland\":true,\"subunitcolor\":\"white\"},\"hoverlabel\":{\"align\":\"left\"},\"hovermode\":\"closest\",\"mapbox\":{\"style\":\"light\"},\"paper_bgcolor\":\"white\",\"plot_bgcolor\":\"#E5ECF6\",\"polar\":{\"angularaxis\":{\"gridcolor\":\"white\",\"linecolor\":\"white\",\"ticks\":\"\"},\"bgcolor\":\"#E5ECF6\",\"radialaxis\":{\"gridcolor\":\"white\",\"linecolor\":\"white\",\"ticks\":\"\"}},\"scene\":{\"xaxis\":{\"backgroundcolor\":\"#E5ECF6\",\"gridcolor\":\"white\",\"gridwidth\":2,\"linecolor\":\"white\",\"showbackground\":true,\"ticks\":\"\",\"zerolinecolor\":\"white\"},\"yaxis\":{\"backgroundcolor\":\"#E5ECF6\",\"gridcolor\":\"white\",\"gridwidth\":2,\"linecolor\":\"white\",\"showbackground\":true,\"ticks\":\"\",\"zerolinecolor\":\"white\"},\"zaxis\":{\"backgroundcolor\":\"#E5ECF6\",\"gridcolor\":\"white\",\"gridwidth\":2,\"linecolor\":\"white\",\"showbackground\":true,\"ticks\":\"\",\"zerolinecolor\":\"white\"}},\"shapedefaults\":{\"line\":{\"color\":\"#2a3f5f\"}},\"ternary\":{\"aaxis\":{\"gridcolor\":\"white\",\"linecolor\":\"white\",\"ticks\":\"\"},\"baxis\":{\"gridcolor\":\"white\",\"linecolor\":\"white\",\"ticks\":\"\"},\"bgcolor\":\"#E5ECF6\",\"caxis\":{\"gridcolor\":\"white\",\"linecolor\":\"white\",\"ticks\":\"\"}},\"title\":{\"x\":0.05},\"xaxis\":{\"automargin\":true,\"gridcolor\":\"white\",\"linecolor\":\"white\",\"ticks\":\"\",\"title\":{\"standoff\":15},\"zerolinecolor\":\"white\",\"zerolinewidth\":2},\"yaxis\":{\"automargin\":true,\"gridcolor\":\"white\",\"linecolor\":\"white\",\"ticks\":\"\",\"title\":{\"standoff\":15},\"zerolinecolor\":\"white\",\"zerolinewidth\":2}}},\"xaxis\":{\"anchor\":\"y\",\"domain\":[0.0,1.0],\"title\":{\"text\":\"Population (2020)\"},\"type\":\"log\"},\"yaxis\":{\"anchor\":\"x\",\"domain\":[0.0,1.0],\"title\":{\"text\":\"Perceptions of corruption\"}},\"legend\":{\"title\":{\"text\":\"Continents\"},\"tracegroupgap\":0,\"itemsizing\":\"constant\"},\"title\":{\"text\":\"Varitation in Corruption and Happiness Index with Population (2020)\"}},                        {\"responsive\": true}                    ).then(function(){\n                            \nvar gd = document.getElementById('5a52fe3a-974a-4439-a94c-c0dd5c558cc1');\nvar x = new MutationObserver(function (mutations, observer) {{\n        var display = window.getComputedStyle(gd).display;\n        if (!display || display === 'none') {{\n            console.log([gd, 'removed!']);\n            Plotly.purge(gd);\n            observer.disconnect();\n        }}\n}});\n\n// Listen for the removal of the full notebook cells\nvar notebookContainer = gd.closest('#notebook-container');\nif (notebookContainer) {{\n    x.observe(notebookContainer, {childList: true});\n}}\n\n// Listen for the clearing of the current output cell\nvar outputEl = gd.closest('.output');\nif (outputEl) {{\n    x.observe(outputEl, {childList: true});\n}}\n\n                        })                };                            </script>        </div>\n</body>\n</html>"
     },
     "execution_count": 39,
     "metadata": {
     },
     "output_type": "execute_result"
    }
   ],
   "source": [
    "px.scatter(happy_2021_df, x =  \"Population (2020)\" , y = \"Perceptions of corruption\",hover_data = [\"Country name\"],size = \"happy_score\", log_x = True, color = \"Continents\", title = \"Varitation in Corruption and Happiness Index with Population (2020)\")"
   ]
  },
  {
   "cell_type": "markdown",
   "metadata": {
    "collapsed": false
   },
   "source": [
    "<h2> <a id = \"pop/life/happy\"> Population, Healthy Life Expectancy, and Happiness Score</a> </h2>\n",
    "\n",
    "- To study whether the population and the healthy life expectancy of a country have any relation with the happiness level, we created a scatterplot with the population on the x-axis, the healthy life expectancy on the y-axis, and the happiness level denoted by the size of the dot.\n",
    "- There is **no clear relationship** between the population or healthy life expectancy shown in the plot.\n",
    "- However, there seems to be a **decrease** in happiness level as the healthy life expectancy **also decreases**. This can be seen through countries like **Chad and the Netherlands**. Both have a population of about 17 million people, but Chad’s healthy life expectancy is only 48 years, while in the Netherlands it is 72 years. Also, Chad has a happiness score of about 4.4 while the Netherlands has a happiness score of about 7.5.\n",
    "\n"
   ]
  },
  {
   "cell_type": "code",
   "execution_count": 44,
   "metadata": {
    "collapsed": false
   },
   "outputs": [
    {
     "data": {
      "text/html": "<html>\n<head><meta charset=\"utf-8\" /></head>\n<body>\n    <div>            <script src=\"https://cdnjs.cloudflare.com/ajax/libs/mathjax/2.7.5/MathJax.js?config=TeX-AMS-MML_SVG\"></script><script type=\"text/javascript\">if (window.MathJax) {MathJax.Hub.Config({SVG: {font: \"STIX-Web\"}});}</script>                <script type=\"text/javascript\">window.PlotlyConfig = {MathJaxConfig: 'local'};</script>\n        <script src=\"https://cdn.plot.ly/plotly-2.9.0.min.js\"></script>                <div id=\"dd32173e-b927-46b7-8697-3bc7c5e03c78\" class=\"plotly-graph-div\" style=\"height:525px; width:100%;\"></div>            <script type=\"text/javascript\">                                    window.PLOTLYENV=window.PLOTLYENV || {};                                    if (document.getElementById(\"dd32173e-b927-46b7-8697-3bc7c5e03c78\")) {                    Plotly.newPlot(                        \"dd32173e-b927-46b7-8697-3bc7c5e03c78\",                        [{\"customdata\":[[\"Finland\"],[\"Denmark\"],[\"Switzerland\"],[\"Iceland\"],[\"Netherlands\"],[\"Norway\"],[\"Sweden\"],[\"Luxembourg\"],[\"Austria\"],[\"Germany\"],[\"Ireland\"],[\"United Kingdom\"],[\"Belgium\"],[\"France\"],[\"Malta\"],[\"Spain\"],[\"Italy\"],[\"Slovenia\"],[\"Slovakia\"],[\"Lithuania\"],[\"Cyprus\"],[\"Estonia\"],[\"Poland\"],[\"Romania\"],[\"Serbia\"],[\"Latvia\"],[\"Hungary\"],[\"Portugal\"],[\"Croatia\"],[\"Bosnia and Herzegovina\"],[\"Moldova\"],[\"Greece\"],[\"Montenegro\"],[\"Belarus\"],[\"Russia\"],[\"Bulgaria\"],[\"Albania\"],[\"North Macedonia\"],[\"Georgia\"],[\"Ukraine\"]],\"hovertemplate\":\"Continents=Europe<br>Population (2020)=%{x}<br>Healthy life expectancy=%{y}<br>happy_score=%{marker.size}<br>Country name=%{customdata[0]}<extra></extra>\",\"legendgroup\":\"Europe\",\"marker\":{\"color\":\"#636efa\",\"size\":[7.842,7.62,7.571,7.554,7.464,7.392,7.363,7.324,7.268,7.155,7.085,7.064,6.834,6.69,6.602,6.491,6.483,6.461,6.331,6.255,6.223,6.189,6.166,6.14,6.078,6.032,5.992,5.929,5.882,5.813,5.766,5.723,5.581,5.534,5.477,5.266,5.117,5.101,4.891,4.875],\"sizemode\":\"area\",\"sizeref\":0.019604999999999997,\"symbol\":\"circle\"},\"mode\":\"markers\",\"name\":\"Europe\",\"orientation\":\"v\",\"showlegend\":true,\"x\":[5542237,5795780,8665615,341628,17141544,5428594,10110233,627704,9015361,83830972,4947267,67948282,11598451,65298930,441750,46757980,60446035,2078989,5460109,2715340,1208886,1326693,37839255,19214608,8731081,1882408,9655983,10191409,4100719,3277152,4032294,10413936,628080,9448772,145945524,6939018,2877239,2083359,3987805,43686577],\"xaxis\":\"x\",\"y\":[72.0,72.7,74.4,73.0,72.4,73.3,72.7,72.6,73.3,72.5,72.4,72.5,72.199,74.0,72.2,74.7,73.8,71.4,69.201,67.906,73.898,68.8,69.702,67.355,68.6,67.1,68.0,72.6,70.799,68.098,65.699,72.6,68.699,66.253,64.703,67.0,68.999,65.474,64.3,64.902],\"yaxis\":\"y\",\"type\":\"scatter\"},{\"customdata\":[[\"New Zealand\"],[\"Australia\"]],\"hovertemplate\":\"Continents=Oceania<br>Population (2020)=%{x}<br>Healthy life expectancy=%{y}<br>happy_score=%{marker.size}<br>Country name=%{customdata[0]}<extra></extra>\",\"legendgroup\":\"Oceania\",\"marker\":{\"color\":\"#EF553B\",\"size\":[7.277,7.183],\"sizemode\":\"area\",\"sizeref\":0.019604999999999997,\"symbol\":\"circle\"},\"mode\":\"markers\",\"name\":\"Oceania\",\"orientation\":\"v\",\"showlegend\":true,\"x\":[4829021,25550683],\"xaxis\":\"x\",\"y\":[73.4,73.9],\"yaxis\":\"y\",\"type\":\"scatter\"},{\"customdata\":[[\"Israel\"],[\"Bahrain\"],[\"United Arab Emirates\"],[\"Saudi Arabia\"],[\"Kuwait\"],[\"Mauritius\"],[\"Libya\"],[\"Cameroon\"],[\"Senegal\"],[\"Ghana\"],[\"Niger\"],[\"Gambia\"],[\"Benin\"],[\"Guinea\"],[\"South Africa\"],[\"Turkey\"],[\"Morocco\"],[\"Algeria\"],[\"Iraq\"],[\"Gabon\"],[\"Burkina Faso\"],[\"Mozambique\"],[\"Nigeria\"],[\"Mali\"],[\"Iran\"],[\"Uganda\"],[\"Liberia\"],[\"Kenya\"],[\"Tunisia\"],[\"Lebanon\"],[\"Namibia\"],[\"Jordan\"],[\"Chad\"],[\"Comoros\"],[\"Egypt\"],[\"Ethiopia\"],[\"Mauritania\"],[\"Madagascar\"],[\"Togo\"],[\"Zambia\"],[\"Sierra Leone\"],[\"Burundi\"],[\"Yemen\"],[\"Tanzania\"],[\"Malawi\"],[\"Lesotho\"],[\"Botswana\"],[\"Rwanda\"],[\"Zimbabwe\"]],\"hovertemplate\":\"Continents=Africa<br>Population (2020)=%{x}<br>Healthy life expectancy=%{y}<br>happy_score=%{marker.size}<br>Country name=%{customdata[0]}<extra></extra>\",\"legendgroup\":\"Africa\",\"marker\":{\"color\":\"#00cc96\",\"size\":[7.157,6.647,6.561,6.494,6.106,6.049,5.41,5.142,5.132,5.088,5.074,5.051,5.045,4.984,4.956,4.948,4.918,4.887,4.854,4.852,4.834,4.794,4.759,4.723,4.721,4.636,4.625,4.607,4.596,4.584,4.574,4.395,4.355,4.289,4.283,4.275,4.227,4.208,4.107,4.073,3.849,3.775,3.658,3.623,3.6,3.512,3.467,3.415,3.145],\"sizemode\":\"area\",\"sizeref\":0.019604999999999997,\"symbol\":\"circle\"},\"mode\":\"markers\",\"name\":\"Africa\",\"orientation\":\"v\",\"showlegend\":true,\"x\":[8678517,1711057,9910892,34905942,4281320,1272140,6887247,26655083,16816539,31181428,24346468,2427782,12175480,13191279,59436725,84495243,36985624,43984569,40372771,2234448,20997293,31398811,206984347,20346106,84176929,45974931,5077411,53968739,11839918,6819976,2548663,10220604,16502877,872695,102659126,115434444,4669775,27808395,8310934,18468257,8004158,11948454,29935468,60012400,19211425,2145194,2359585,13005303,14899771],\"xaxis\":\"x\",\"y\":[73.503,69.495,67.333,66.603,66.9,66.701,62.3,53.515,59.802,57.586,53.78,55.16,54.713,55.008,56.904,67.199,66.208,66.005,60.583,59.962,54.151,54.706,50.102,51.969,66.3,56.101,56.498,60.704,67.201,67.355,56.799,67.0,48.478,57.349,61.998,59.0,57.161,59.305,54.914,55.809,51.651,53.4,57.122,57.999,57.948,48.7,59.269,61.4,56.201],\"yaxis\":\"y\",\"type\":\"scatter\"},{\"customdata\":[[\"Canada\"],[\"United States\"]],\"hovertemplate\":\"Continents=North America<br>Population (2020)=%{x}<br>Healthy life expectancy=%{y}<br>happy_score=%{marker.size}<br>Country name=%{customdata[0]}<extra></extra>\",\"legendgroup\":\"North America\",\"marker\":{\"color\":\"#ab63fa\",\"size\":[7.103,6.951],\"sizemode\":\"area\",\"sizeref\":0.019604999999999997,\"symbol\":\"circle\"},\"mode\":\"markers\",\"name\":\"North America\",\"orientation\":\"v\",\"showlegend\":true,\"x\":[37799407,331341050],\"xaxis\":\"x\",\"y\":[73.8,68.2],\"yaxis\":\"y\",\"type\":\"scatter\"},{\"customdata\":[[\"Costa Rica\"],[\"Guatemala\"],[\"Uruguay\"],[\"Brazil\"],[\"Mexico\"],[\"Jamaica\"],[\"Panama\"],[\"Chile\"],[\"El Salvador\"],[\"Colombia\"],[\"Nicaragua\"],[\"Argentina\"],[\"Honduras\"],[\"Peru\"],[\"Ecuador\"],[\"Bolivia\"],[\"Paraguay\"],[\"Dominican Republic\"],[\"Venezuela\"],[\"Haiti\"]],\"hovertemplate\":\"Continents=South America<br>Population (2020)=%{x}<br>Healthy life expectancy=%{y}<br>happy_score=%{marker.size}<br>Country name=%{customdata[0]}<extra></extra>\",\"legendgroup\":\"South America\",\"marker\":{\"color\":\"#FFA15A\",\"size\":[7.069,6.435,6.431,6.33,6.317,6.309,6.18,6.172,6.061,6.012,5.972,5.929,5.919,5.84,5.764,5.716,5.653,5.545,4.892,3.615],\"sizemode\":\"area\",\"sizeref\":0.019604999999999997,\"symbol\":\"circle\"},\"mode\":\"markers\",\"name\":\"South America\",\"orientation\":\"v\",\"showlegend\":true,\"x\":[5102158,17971382,3475842,212821986,129166028,2963429,4326296,19144605,6491923,50976248,6638075,45267449,9931333,33050211,17688599,11700207,7147553,10866667,28421581,11426356],\"xaxis\":\"x\",\"y\":[71.4,64.958,69.1,66.601,68.597,67.5,69.652,70.0,66.402,68.001,67.657,69.0,67.3,68.25,68.8,63.901,65.9,66.102,66.7,55.7],\"yaxis\":\"y\",\"type\":\"scatter\"},{\"customdata\":[[\"Singapore\"],[\"Uzbekistan\"],[\"Kazakhstan\"],[\"Thailand\"],[\"Japan\"],[\"Philippines\"],[\"South Korea\"],[\"Kyrgyzstan\"],[\"Mongolia\"],[\"Tajikistan\"],[\"Vietnam\"],[\"Malaysia\"],[\"Indonesia\"],[\"China\"],[\"Armenia\"],[\"Nepal\"],[\"Maldives\"],[\"Azerbaijan\"],[\"Turkmenistan\"],[\"Laos\"],[\"Bangladesh\"],[\"Pakistan\"],[\"Cambodia\"],[\"Myanmar\"],[\"Sri Lanka\"],[\"India\"],[\"Afghanistan\"]],\"hovertemplate\":\"Continents=Asia<br>Population (2020)=%{x}<br>Healthy life expectancy=%{y}<br>happy_score=%{marker.size}<br>Country name=%{customdata[0]}<extra></extra>\",\"legendgroup\":\"Asia\",\"marker\":{\"color\":\"#19d3f3\",\"size\":[6.377,6.179,6.152,5.985,5.94,5.88,5.845,5.744,5.677,5.466,5.411,5.384,5.345,5.339,5.283,5.269,5.198,5.171,5.066,5.03,5.025,4.934,4.83,4.426,4.325,3.819,2.523],\"sizemode\":\"area\",\"sizeref\":0.019604999999999997,\"symbol\":\"circle\"},\"mode\":\"markers\",\"name\":\"Asia\",\"orientation\":\"v\",\"showlegend\":true,\"x\":[5858322,33551824,18815231,69830779,126407422,109830324,51276977,6542426,3287242,9573310,97490013,32436963,274021604,1440297825,2964219,29225196,542151,10154978,6046292,7293542,164972348,221612785,16758448,54473253,21428970,1382345085,39074280],\"xaxis\":\"x\",\"y\":[76.953,65.255,65.2,67.401,75.1,62.0,73.9,64.401,62.5,64.281,68.034,67.102,62.236,69.593,67.055,64.233,70.6,65.656,62.409,58.968,64.8,58.709,62.0,59.302,67.299,60.633,52.493],\"yaxis\":\"y\",\"type\":\"scatter\"}],                        {\"template\":{\"data\":{\"bar\":[{\"error_x\":{\"color\":\"#2a3f5f\"},\"error_y\":{\"color\":\"#2a3f5f\"},\"marker\":{\"line\":{\"color\":\"#E5ECF6\",\"width\":0.5},\"pattern\":{\"fillmode\":\"overlay\",\"size\":10,\"solidity\":0.2}},\"type\":\"bar\"}],\"barpolar\":[{\"marker\":{\"line\":{\"color\":\"#E5ECF6\",\"width\":0.5},\"pattern\":{\"fillmode\":\"overlay\",\"size\":10,\"solidity\":0.2}},\"type\":\"barpolar\"}],\"carpet\":[{\"aaxis\":{\"endlinecolor\":\"#2a3f5f\",\"gridcolor\":\"white\",\"linecolor\":\"white\",\"minorgridcolor\":\"white\",\"startlinecolor\":\"#2a3f5f\"},\"baxis\":{\"endlinecolor\":\"#2a3f5f\",\"gridcolor\":\"white\",\"linecolor\":\"white\",\"minorgridcolor\":\"white\",\"startlinecolor\":\"#2a3f5f\"},\"type\":\"carpet\"}],\"choropleth\":[{\"colorbar\":{\"outlinewidth\":0,\"ticks\":\"\"},\"type\":\"choropleth\"}],\"contour\":[{\"colorbar\":{\"outlinewidth\":0,\"ticks\":\"\"},\"colorscale\":[[0.0,\"#0d0887\"],[0.1111111111111111,\"#46039f\"],[0.2222222222222222,\"#7201a8\"],[0.3333333333333333,\"#9c179e\"],[0.4444444444444444,\"#bd3786\"],[0.5555555555555556,\"#d8576b\"],[0.6666666666666666,\"#ed7953\"],[0.7777777777777778,\"#fb9f3a\"],[0.8888888888888888,\"#fdca26\"],[1.0,\"#f0f921\"]],\"type\":\"contour\"}],\"contourcarpet\":[{\"colorbar\":{\"outlinewidth\":0,\"ticks\":\"\"},\"type\":\"contourcarpet\"}],\"heatmap\":[{\"colorbar\":{\"outlinewidth\":0,\"ticks\":\"\"},\"colorscale\":[[0.0,\"#0d0887\"],[0.1111111111111111,\"#46039f\"],[0.2222222222222222,\"#7201a8\"],[0.3333333333333333,\"#9c179e\"],[0.4444444444444444,\"#bd3786\"],[0.5555555555555556,\"#d8576b\"],[0.6666666666666666,\"#ed7953\"],[0.7777777777777778,\"#fb9f3a\"],[0.8888888888888888,\"#fdca26\"],[1.0,\"#f0f921\"]],\"type\":\"heatmap\"}],\"heatmapgl\":[{\"colorbar\":{\"outlinewidth\":0,\"ticks\":\"\"},\"colorscale\":[[0.0,\"#0d0887\"],[0.1111111111111111,\"#46039f\"],[0.2222222222222222,\"#7201a8\"],[0.3333333333333333,\"#9c179e\"],[0.4444444444444444,\"#bd3786\"],[0.5555555555555556,\"#d8576b\"],[0.6666666666666666,\"#ed7953\"],[0.7777777777777778,\"#fb9f3a\"],[0.8888888888888888,\"#fdca26\"],[1.0,\"#f0f921\"]],\"type\":\"heatmapgl\"}],\"histogram\":[{\"marker\":{\"pattern\":{\"fillmode\":\"overlay\",\"size\":10,\"solidity\":0.2}},\"type\":\"histogram\"}],\"histogram2d\":[{\"colorbar\":{\"outlinewidth\":0,\"ticks\":\"\"},\"colorscale\":[[0.0,\"#0d0887\"],[0.1111111111111111,\"#46039f\"],[0.2222222222222222,\"#7201a8\"],[0.3333333333333333,\"#9c179e\"],[0.4444444444444444,\"#bd3786\"],[0.5555555555555556,\"#d8576b\"],[0.6666666666666666,\"#ed7953\"],[0.7777777777777778,\"#fb9f3a\"],[0.8888888888888888,\"#fdca26\"],[1.0,\"#f0f921\"]],\"type\":\"histogram2d\"}],\"histogram2dcontour\":[{\"colorbar\":{\"outlinewidth\":0,\"ticks\":\"\"},\"colorscale\":[[0.0,\"#0d0887\"],[0.1111111111111111,\"#46039f\"],[0.2222222222222222,\"#7201a8\"],[0.3333333333333333,\"#9c179e\"],[0.4444444444444444,\"#bd3786\"],[0.5555555555555556,\"#d8576b\"],[0.6666666666666666,\"#ed7953\"],[0.7777777777777778,\"#fb9f3a\"],[0.8888888888888888,\"#fdca26\"],[1.0,\"#f0f921\"]],\"type\":\"histogram2dcontour\"}],\"mesh3d\":[{\"colorbar\":{\"outlinewidth\":0,\"ticks\":\"\"},\"type\":\"mesh3d\"}],\"parcoords\":[{\"line\":{\"colorbar\":{\"outlinewidth\":0,\"ticks\":\"\"}},\"type\":\"parcoords\"}],\"pie\":[{\"automargin\":true,\"type\":\"pie\"}],\"scatter\":[{\"marker\":{\"colorbar\":{\"outlinewidth\":0,\"ticks\":\"\"}},\"type\":\"scatter\"}],\"scatter3d\":[{\"line\":{\"colorbar\":{\"outlinewidth\":0,\"ticks\":\"\"}},\"marker\":{\"colorbar\":{\"outlinewidth\":0,\"ticks\":\"\"}},\"type\":\"scatter3d\"}],\"scattercarpet\":[{\"marker\":{\"colorbar\":{\"outlinewidth\":0,\"ticks\":\"\"}},\"type\":\"scattercarpet\"}],\"scattergeo\":[{\"marker\":{\"colorbar\":{\"outlinewidth\":0,\"ticks\":\"\"}},\"type\":\"scattergeo\"}],\"scattergl\":[{\"marker\":{\"colorbar\":{\"outlinewidth\":0,\"ticks\":\"\"}},\"type\":\"scattergl\"}],\"scattermapbox\":[{\"marker\":{\"colorbar\":{\"outlinewidth\":0,\"ticks\":\"\"}},\"type\":\"scattermapbox\"}],\"scatterpolar\":[{\"marker\":{\"colorbar\":{\"outlinewidth\":0,\"ticks\":\"\"}},\"type\":\"scatterpolar\"}],\"scatterpolargl\":[{\"marker\":{\"colorbar\":{\"outlinewidth\":0,\"ticks\":\"\"}},\"type\":\"scatterpolargl\"}],\"scatterternary\":[{\"marker\":{\"colorbar\":{\"outlinewidth\":0,\"ticks\":\"\"}},\"type\":\"scatterternary\"}],\"surface\":[{\"colorbar\":{\"outlinewidth\":0,\"ticks\":\"\"},\"colorscale\":[[0.0,\"#0d0887\"],[0.1111111111111111,\"#46039f\"],[0.2222222222222222,\"#7201a8\"],[0.3333333333333333,\"#9c179e\"],[0.4444444444444444,\"#bd3786\"],[0.5555555555555556,\"#d8576b\"],[0.6666666666666666,\"#ed7953\"],[0.7777777777777778,\"#fb9f3a\"],[0.8888888888888888,\"#fdca26\"],[1.0,\"#f0f921\"]],\"type\":\"surface\"}],\"table\":[{\"cells\":{\"fill\":{\"color\":\"#EBF0F8\"},\"line\":{\"color\":\"white\"}},\"header\":{\"fill\":{\"color\":\"#C8D4E3\"},\"line\":{\"color\":\"white\"}},\"type\":\"table\"}]},\"layout\":{\"annotationdefaults\":{\"arrowcolor\":\"#2a3f5f\",\"arrowhead\":0,\"arrowwidth\":1},\"autotypenumbers\":\"strict\",\"coloraxis\":{\"colorbar\":{\"outlinewidth\":0,\"ticks\":\"\"}},\"colorscale\":{\"diverging\":[[0,\"#8e0152\"],[0.1,\"#c51b7d\"],[0.2,\"#de77ae\"],[0.3,\"#f1b6da\"],[0.4,\"#fde0ef\"],[0.5,\"#f7f7f7\"],[0.6,\"#e6f5d0\"],[0.7,\"#b8e186\"],[0.8,\"#7fbc41\"],[0.9,\"#4d9221\"],[1,\"#276419\"]],\"sequential\":[[0.0,\"#0d0887\"],[0.1111111111111111,\"#46039f\"],[0.2222222222222222,\"#7201a8\"],[0.3333333333333333,\"#9c179e\"],[0.4444444444444444,\"#bd3786\"],[0.5555555555555556,\"#d8576b\"],[0.6666666666666666,\"#ed7953\"],[0.7777777777777778,\"#fb9f3a\"],[0.8888888888888888,\"#fdca26\"],[1.0,\"#f0f921\"]],\"sequentialminus\":[[0.0,\"#0d0887\"],[0.1111111111111111,\"#46039f\"],[0.2222222222222222,\"#7201a8\"],[0.3333333333333333,\"#9c179e\"],[0.4444444444444444,\"#bd3786\"],[0.5555555555555556,\"#d8576b\"],[0.6666666666666666,\"#ed7953\"],[0.7777777777777778,\"#fb9f3a\"],[0.8888888888888888,\"#fdca26\"],[1.0,\"#f0f921\"]]},\"colorway\":[\"#636efa\",\"#EF553B\",\"#00cc96\",\"#ab63fa\",\"#FFA15A\",\"#19d3f3\",\"#FF6692\",\"#B6E880\",\"#FF97FF\",\"#FECB52\"],\"font\":{\"color\":\"#2a3f5f\"},\"geo\":{\"bgcolor\":\"white\",\"lakecolor\":\"white\",\"landcolor\":\"#E5ECF6\",\"showlakes\":true,\"showland\":true,\"subunitcolor\":\"white\"},\"hoverlabel\":{\"align\":\"left\"},\"hovermode\":\"closest\",\"mapbox\":{\"style\":\"light\"},\"paper_bgcolor\":\"white\",\"plot_bgcolor\":\"#E5ECF6\",\"polar\":{\"angularaxis\":{\"gridcolor\":\"white\",\"linecolor\":\"white\",\"ticks\":\"\"},\"bgcolor\":\"#E5ECF6\",\"radialaxis\":{\"gridcolor\":\"white\",\"linecolor\":\"white\",\"ticks\":\"\"}},\"scene\":{\"xaxis\":{\"backgroundcolor\":\"#E5ECF6\",\"gridcolor\":\"white\",\"gridwidth\":2,\"linecolor\":\"white\",\"showbackground\":true,\"ticks\":\"\",\"zerolinecolor\":\"white\"},\"yaxis\":{\"backgroundcolor\":\"#E5ECF6\",\"gridcolor\":\"white\",\"gridwidth\":2,\"linecolor\":\"white\",\"showbackground\":true,\"ticks\":\"\",\"zerolinecolor\":\"white\"},\"zaxis\":{\"backgroundcolor\":\"#E5ECF6\",\"gridcolor\":\"white\",\"gridwidth\":2,\"linecolor\":\"white\",\"showbackground\":true,\"ticks\":\"\",\"zerolinecolor\":\"white\"}},\"shapedefaults\":{\"line\":{\"color\":\"#2a3f5f\"}},\"ternary\":{\"aaxis\":{\"gridcolor\":\"white\",\"linecolor\":\"white\",\"ticks\":\"\"},\"baxis\":{\"gridcolor\":\"white\",\"linecolor\":\"white\",\"ticks\":\"\"},\"bgcolor\":\"#E5ECF6\",\"caxis\":{\"gridcolor\":\"white\",\"linecolor\":\"white\",\"ticks\":\"\"}},\"title\":{\"x\":0.05},\"xaxis\":{\"automargin\":true,\"gridcolor\":\"white\",\"linecolor\":\"white\",\"ticks\":\"\",\"title\":{\"standoff\":15},\"zerolinecolor\":\"white\",\"zerolinewidth\":2},\"yaxis\":{\"automargin\":true,\"gridcolor\":\"white\",\"linecolor\":\"white\",\"ticks\":\"\",\"title\":{\"standoff\":15},\"zerolinecolor\":\"white\",\"zerolinewidth\":2}}},\"xaxis\":{\"anchor\":\"y\",\"domain\":[0.0,1.0],\"title\":{\"text\":\"Population (2020)\"},\"type\":\"log\"},\"yaxis\":{\"anchor\":\"x\",\"domain\":[0.0,1.0],\"title\":{\"text\":\"Healthy life expectancy\"}},\"legend\":{\"title\":{\"text\":\"Continents\"},\"tracegroupgap\":0,\"itemsizing\":\"constant\"},\"margin\":{\"t\":60}},                        {\"responsive\": true}                    ).then(function(){\n                            \nvar gd = document.getElementById('dd32173e-b927-46b7-8697-3bc7c5e03c78');\nvar x = new MutationObserver(function (mutations, observer) {{\n        var display = window.getComputedStyle(gd).display;\n        if (!display || display === 'none') {{\n            console.log([gd, 'removed!']);\n            Plotly.purge(gd);\n            observer.disconnect();\n        }}\n}});\n\n// Listen for the removal of the full notebook cells\nvar notebookContainer = gd.closest('#notebook-container');\nif (notebookContainer) {{\n    x.observe(notebookContainer, {childList: true});\n}}\n\n// Listen for the clearing of the current output cell\nvar outputEl = gd.closest('.output');\nif (outputEl) {{\n    x.observe(outputEl, {childList: true});\n}}\n\n                        })                };                            </script>        </div>\n</body>\n</html>"
     },
     "execution_count": 44,
     "metadata": {
     },
     "output_type": "execute_result"
    }
   ],
   "source": [
    "px.scatter(happy_2021_df, x = 'Population (2020)', y = 'Healthy life expectancy',  color = 'Continents', size  = 'happy_score', hover_data = [\"Country name\"], log_x=True)"
   ]
  },
  {
   "cell_type": "markdown",
   "metadata": {
    "collapsed": false
   },
   "source": [
    "<h2> <a id = \"gdp/life/happy\"> GDP Per Capita, Healthy Life Expectancy, and Happiness Score</a> </h2>\n",
    "\n",
    "- To study whether the healthy life expectancy, GDP per capita, and happiness level have any relationship, we created a 3-D plot. This plot has the healthy life expectancy on the x-axis, the GDP per capita on the y-axis, and the happiness score on the z-axis.\n",
    "- There seems to be **positive relationship** between these factors, with increaase in GDP and Life expectency we see increase in happiness Index. This can be seen by **Finland and Japan**. Both countries have a GDP per capita of about 10.75. However, Japan has a happiness score of 5.9 while Finland’s is about 7.8. The healthy life expectancy in Japan is 75 years, while Finland’s is a bit lower, at 72 years.\n",
    "\n"
   ]
  },
  {
   "cell_type": "code",
   "execution_count": 45,
   "metadata": {
    "collapsed": false
   },
   "outputs": [
    {
     "data": {
      "text/html": "<html>\n<head><meta charset=\"utf-8\" /></head>\n<body>\n    <div>            <script src=\"https://cdnjs.cloudflare.com/ajax/libs/mathjax/2.7.5/MathJax.js?config=TeX-AMS-MML_SVG\"></script><script type=\"text/javascript\">if (window.MathJax) {MathJax.Hub.Config({SVG: {font: \"STIX-Web\"}});}</script>                <script type=\"text/javascript\">window.PlotlyConfig = {MathJaxConfig: 'local'};</script>\n        <script src=\"https://cdn.plot.ly/plotly-2.9.0.min.js\"></script>                <div id=\"a8eab389-9bbd-4d4c-aa62-153daa03b318\" class=\"plotly-graph-div\" style=\"height:525px; width:100%;\"></div>            <script type=\"text/javascript\">                                    window.PLOTLYENV=window.PLOTLYENV || {};                                    if (document.getElementById(\"a8eab389-9bbd-4d4c-aa62-153daa03b318\")) {                    Plotly.newPlot(                        \"a8eab389-9bbd-4d4c-aa62-153daa03b318\",                        [{\"customdata\":[[\"Finland\"],[\"Denmark\"],[\"Switzerland\"],[\"Iceland\"],[\"Netherlands\"],[\"Norway\"],[\"Sweden\"],[\"Luxembourg\"],[\"Austria\"],[\"Germany\"],[\"Ireland\"],[\"United Kingdom\"],[\"Belgium\"],[\"France\"],[\"Malta\"],[\"Spain\"],[\"Italy\"],[\"Slovenia\"],[\"Slovakia\"],[\"Lithuania\"],[\"Cyprus\"],[\"Estonia\"],[\"Poland\"],[\"Romania\"],[\"Serbia\"],[\"Latvia\"],[\"Hungary\"],[\"Portugal\"],[\"Croatia\"],[\"Bosnia and Herzegovina\"],[\"Moldova\"],[\"Greece\"],[\"Montenegro\"],[\"Belarus\"],[\"Russia\"],[\"Bulgaria\"],[\"Albania\"],[\"North Macedonia\"],[\"Georgia\"],[\"Ukraine\"]],\"hovertemplate\":\"Continents=Europe<br>Healthy life expectancy=%{x}<br>Logged GDP per capita=%{y}<br>happy_score=%{z}<br>Country name=%{customdata[0]}<extra></extra>\",\"legendgroup\":\"Europe\",\"marker\":{\"color\":\"#636efa\",\"symbol\":\"circle\"},\"mode\":\"markers\",\"name\":\"Europe\",\"scene\":\"scene\",\"showlegend\":true,\"x\":[72.0,72.7,74.4,73.0,72.4,73.3,72.7,72.6,73.3,72.5,72.4,72.5,72.199,74.0,72.2,74.7,73.8,71.4,69.201,67.906,73.898,68.8,69.702,67.355,68.6,67.1,68.0,72.6,70.799,68.098,65.699,72.6,68.699,66.253,64.703,67.0,68.999,65.474,64.3,64.902],\"y\":[10.775,10.933,11.117,10.878,10.932,11.053,10.867,11.647,10.906,10.873,11.342,10.707,10.823,10.704,10.674,10.571,10.623,10.529,10.369,10.499,10.576,10.481,10.382,10.284,9.787,10.315,10.358,10.421,10.217,9.59,9.454,10.279,9.94,9.853,10.189,10.016,9.52,9.693,9.585,9.436],\"z\":[7.842,7.62,7.571,7.554,7.464,7.392,7.363,7.324,7.268,7.155,7.085,7.064,6.834,6.69,6.602,6.491,6.483,6.461,6.331,6.255,6.223,6.189,6.166,6.14,6.078,6.032,5.992,5.929,5.882,5.813,5.766,5.723,5.581,5.534,5.477,5.266,5.117,5.101,4.891,4.875],\"type\":\"scatter3d\"},{\"customdata\":[[\"New Zealand\"],[\"Australia\"]],\"hovertemplate\":\"Continents=Oceania<br>Healthy life expectancy=%{x}<br>Logged GDP per capita=%{y}<br>happy_score=%{z}<br>Country name=%{customdata[0]}<extra></extra>\",\"legendgroup\":\"Oceania\",\"marker\":{\"color\":\"#EF553B\",\"symbol\":\"circle\"},\"mode\":\"markers\",\"name\":\"Oceania\",\"scene\":\"scene\",\"showlegend\":true,\"x\":[73.4,73.9],\"y\":[10.643,10.796],\"z\":[7.277,7.183],\"type\":\"scatter3d\"},{\"customdata\":[[\"Israel\"],[\"Bahrain\"],[\"United Arab Emirates\"],[\"Saudi Arabia\"],[\"Kuwait\"],[\"Mauritius\"],[\"Libya\"],[\"Cameroon\"],[\"Senegal\"],[\"Ghana\"],[\"Niger\"],[\"Gambia\"],[\"Benin\"],[\"Guinea\"],[\"South Africa\"],[\"Turkey\"],[\"Morocco\"],[\"Algeria\"],[\"Iraq\"],[\"Gabon\"],[\"Burkina Faso\"],[\"Mozambique\"],[\"Nigeria\"],[\"Mali\"],[\"Iran\"],[\"Uganda\"],[\"Liberia\"],[\"Kenya\"],[\"Tunisia\"],[\"Lebanon\"],[\"Namibia\"],[\"Jordan\"],[\"Chad\"],[\"Comoros\"],[\"Egypt\"],[\"Ethiopia\"],[\"Mauritania\"],[\"Madagascar\"],[\"Togo\"],[\"Zambia\"],[\"Sierra Leone\"],[\"Burundi\"],[\"Yemen\"],[\"Tanzania\"],[\"Malawi\"],[\"Lesotho\"],[\"Botswana\"],[\"Rwanda\"],[\"Zimbabwe\"]],\"hovertemplate\":\"Continents=Africa<br>Healthy life expectancy=%{x}<br>Logged GDP per capita=%{y}<br>happy_score=%{z}<br>Country name=%{customdata[0]}<extra></extra>\",\"legendgroup\":\"Africa\",\"marker\":{\"color\":\"#00cc96\",\"symbol\":\"circle\"},\"mode\":\"markers\",\"name\":\"Africa\",\"scene\":\"scene\",\"showlegend\":true,\"x\":[73.503,69.495,67.333,66.603,66.9,66.701,62.3,53.515,59.802,57.586,53.78,55.16,54.713,55.008,56.904,67.199,66.208,66.005,60.583,59.962,54.151,54.706,50.102,51.969,66.3,56.101,56.498,60.704,67.201,67.355,56.799,67.0,48.478,57.349,61.998,59.0,57.161,59.305,54.914,55.809,51.651,53.4,57.122,57.999,57.948,48.7,59.269,61.4,56.201],\"y\":[10.575,10.669,11.085,10.743,10.817,10.008,9.622,8.189,8.118,8.58,7.098,7.686,8.087,7.838,9.403,10.24,8.903,9.342,9.24,9.603,7.678,7.158,8.533,7.744,9.584,7.677,7.288,8.361,9.266,9.626,9.161,9.182,7.364,8.031,9.367,7.694,8.542,7.396,7.362,8.145,7.434,6.635,7.578,7.876,6.958,7.926,9.782,7.676,7.943],\"z\":[7.157,6.647,6.561,6.494,6.106,6.049,5.41,5.142,5.132,5.088,5.074,5.051,5.045,4.984,4.956,4.948,4.918,4.887,4.854,4.852,4.834,4.794,4.759,4.723,4.721,4.636,4.625,4.607,4.596,4.584,4.574,4.395,4.355,4.289,4.283,4.275,4.227,4.208,4.107,4.073,3.849,3.775,3.658,3.623,3.6,3.512,3.467,3.415,3.145],\"type\":\"scatter3d\"},{\"customdata\":[[\"Canada\"],[\"United States\"]],\"hovertemplate\":\"Continents=North America<br>Healthy life expectancy=%{x}<br>Logged GDP per capita=%{y}<br>happy_score=%{z}<br>Country name=%{customdata[0]}<extra></extra>\",\"legendgroup\":\"North America\",\"marker\":{\"color\":\"#ab63fa\",\"symbol\":\"circle\"},\"mode\":\"markers\",\"name\":\"North America\",\"scene\":\"scene\",\"showlegend\":true,\"x\":[73.8,68.2],\"y\":[10.776,11.023],\"z\":[7.103,6.951],\"type\":\"scatter3d\"},{\"customdata\":[[\"Costa Rica\"],[\"Guatemala\"],[\"Uruguay\"],[\"Brazil\"],[\"Mexico\"],[\"Jamaica\"],[\"Panama\"],[\"Chile\"],[\"El Salvador\"],[\"Colombia\"],[\"Nicaragua\"],[\"Argentina\"],[\"Honduras\"],[\"Peru\"],[\"Ecuador\"],[\"Bolivia\"],[\"Paraguay\"],[\"Dominican Republic\"],[\"Venezuela\"],[\"Haiti\"]],\"hovertemplate\":\"Continents=South America<br>Healthy life expectancy=%{x}<br>Logged GDP per capita=%{y}<br>happy_score=%{z}<br>Country name=%{customdata[0]}<extra></extra>\",\"legendgroup\":\"South America\",\"marker\":{\"color\":\"#FFA15A\",\"symbol\":\"circle\"},\"mode\":\"markers\",\"name\":\"South America\",\"scene\":\"scene\",\"showlegend\":true,\"x\":[71.4,64.958,69.1,66.601,68.597,67.5,69.652,70.0,66.402,68.001,67.657,69.0,67.3,68.25,68.8,63.901,65.9,66.102,66.7,55.7],\"y\":[9.88,9.053,9.966,9.577,9.859,9.186,10.35,10.071,9.054,9.557,8.62,9.962,8.648,9.458,9.313,9.046,9.448,9.802,9.073,7.477],\"z\":[7.069,6.435,6.431,6.33,6.317,6.309,6.18,6.172,6.061,6.012,5.972,5.929,5.919,5.84,5.764,5.716,5.653,5.545,4.892,3.615],\"type\":\"scatter3d\"},{\"customdata\":[[\"Singapore\"],[\"Uzbekistan\"],[\"Kazakhstan\"],[\"Thailand\"],[\"Japan\"],[\"Philippines\"],[\"South Korea\"],[\"Kyrgyzstan\"],[\"Mongolia\"],[\"Tajikistan\"],[\"Vietnam\"],[\"Malaysia\"],[\"Indonesia\"],[\"China\"],[\"Armenia\"],[\"Nepal\"],[\"Maldives\"],[\"Azerbaijan\"],[\"Turkmenistan\"],[\"Laos\"],[\"Bangladesh\"],[\"Pakistan\"],[\"Cambodia\"],[\"Myanmar\"],[\"Sri Lanka\"],[\"India\"],[\"Afghanistan\"]],\"hovertemplate\":\"Continents=Asia<br>Healthy life expectancy=%{x}<br>Logged GDP per capita=%{y}<br>happy_score=%{z}<br>Country name=%{customdata[0]}<extra></extra>\",\"legendgroup\":\"Asia\",\"marker\":{\"color\":\"#19d3f3\",\"symbol\":\"circle\"},\"mode\":\"markers\",\"name\":\"Asia\",\"scene\":\"scene\",\"showlegend\":true,\"x\":[76.953,65.255,65.2,67.401,75.1,62.0,73.9,64.401,62.5,64.281,68.034,67.102,62.236,69.593,67.055,64.233,70.6,65.656,62.409,58.968,64.8,58.709,62.0,59.302,67.299,60.633,52.493],\"y\":[11.488,8.836,10.155,9.805,10.611,9.076,10.651,8.538,9.4,8.091,8.973,10.238,9.365,9.673,9.487,8.12,9.826,9.569,9.629,8.947,8.454,8.458,8.36,8.541,9.47,8.755,7.695],\"z\":[6.377,6.179,6.152,5.985,5.94,5.88,5.845,5.744,5.677,5.466,5.411,5.384,5.345,5.339,5.283,5.269,5.198,5.171,5.066,5.03,5.025,4.934,4.83,4.426,4.325,3.819,2.523],\"type\":\"scatter3d\"}],                        {\"template\":{\"data\":{\"bar\":[{\"error_x\":{\"color\":\"#2a3f5f\"},\"error_y\":{\"color\":\"#2a3f5f\"},\"marker\":{\"line\":{\"color\":\"#E5ECF6\",\"width\":0.5},\"pattern\":{\"fillmode\":\"overlay\",\"size\":10,\"solidity\":0.2}},\"type\":\"bar\"}],\"barpolar\":[{\"marker\":{\"line\":{\"color\":\"#E5ECF6\",\"width\":0.5},\"pattern\":{\"fillmode\":\"overlay\",\"size\":10,\"solidity\":0.2}},\"type\":\"barpolar\"}],\"carpet\":[{\"aaxis\":{\"endlinecolor\":\"#2a3f5f\",\"gridcolor\":\"white\",\"linecolor\":\"white\",\"minorgridcolor\":\"white\",\"startlinecolor\":\"#2a3f5f\"},\"baxis\":{\"endlinecolor\":\"#2a3f5f\",\"gridcolor\":\"white\",\"linecolor\":\"white\",\"minorgridcolor\":\"white\",\"startlinecolor\":\"#2a3f5f\"},\"type\":\"carpet\"}],\"choropleth\":[{\"colorbar\":{\"outlinewidth\":0,\"ticks\":\"\"},\"type\":\"choropleth\"}],\"contour\":[{\"colorbar\":{\"outlinewidth\":0,\"ticks\":\"\"},\"colorscale\":[[0.0,\"#0d0887\"],[0.1111111111111111,\"#46039f\"],[0.2222222222222222,\"#7201a8\"],[0.3333333333333333,\"#9c179e\"],[0.4444444444444444,\"#bd3786\"],[0.5555555555555556,\"#d8576b\"],[0.6666666666666666,\"#ed7953\"],[0.7777777777777778,\"#fb9f3a\"],[0.8888888888888888,\"#fdca26\"],[1.0,\"#f0f921\"]],\"type\":\"contour\"}],\"contourcarpet\":[{\"colorbar\":{\"outlinewidth\":0,\"ticks\":\"\"},\"type\":\"contourcarpet\"}],\"heatmap\":[{\"colorbar\":{\"outlinewidth\":0,\"ticks\":\"\"},\"colorscale\":[[0.0,\"#0d0887\"],[0.1111111111111111,\"#46039f\"],[0.2222222222222222,\"#7201a8\"],[0.3333333333333333,\"#9c179e\"],[0.4444444444444444,\"#bd3786\"],[0.5555555555555556,\"#d8576b\"],[0.6666666666666666,\"#ed7953\"],[0.7777777777777778,\"#fb9f3a\"],[0.8888888888888888,\"#fdca26\"],[1.0,\"#f0f921\"]],\"type\":\"heatmap\"}],\"heatmapgl\":[{\"colorbar\":{\"outlinewidth\":0,\"ticks\":\"\"},\"colorscale\":[[0.0,\"#0d0887\"],[0.1111111111111111,\"#46039f\"],[0.2222222222222222,\"#7201a8\"],[0.3333333333333333,\"#9c179e\"],[0.4444444444444444,\"#bd3786\"],[0.5555555555555556,\"#d8576b\"],[0.6666666666666666,\"#ed7953\"],[0.7777777777777778,\"#fb9f3a\"],[0.8888888888888888,\"#fdca26\"],[1.0,\"#f0f921\"]],\"type\":\"heatmapgl\"}],\"histogram\":[{\"marker\":{\"pattern\":{\"fillmode\":\"overlay\",\"size\":10,\"solidity\":0.2}},\"type\":\"histogram\"}],\"histogram2d\":[{\"colorbar\":{\"outlinewidth\":0,\"ticks\":\"\"},\"colorscale\":[[0.0,\"#0d0887\"],[0.1111111111111111,\"#46039f\"],[0.2222222222222222,\"#7201a8\"],[0.3333333333333333,\"#9c179e\"],[0.4444444444444444,\"#bd3786\"],[0.5555555555555556,\"#d8576b\"],[0.6666666666666666,\"#ed7953\"],[0.7777777777777778,\"#fb9f3a\"],[0.8888888888888888,\"#fdca26\"],[1.0,\"#f0f921\"]],\"type\":\"histogram2d\"}],\"histogram2dcontour\":[{\"colorbar\":{\"outlinewidth\":0,\"ticks\":\"\"},\"colorscale\":[[0.0,\"#0d0887\"],[0.1111111111111111,\"#46039f\"],[0.2222222222222222,\"#7201a8\"],[0.3333333333333333,\"#9c179e\"],[0.4444444444444444,\"#bd3786\"],[0.5555555555555556,\"#d8576b\"],[0.6666666666666666,\"#ed7953\"],[0.7777777777777778,\"#fb9f3a\"],[0.8888888888888888,\"#fdca26\"],[1.0,\"#f0f921\"]],\"type\":\"histogram2dcontour\"}],\"mesh3d\":[{\"colorbar\":{\"outlinewidth\":0,\"ticks\":\"\"},\"type\":\"mesh3d\"}],\"parcoords\":[{\"line\":{\"colorbar\":{\"outlinewidth\":0,\"ticks\":\"\"}},\"type\":\"parcoords\"}],\"pie\":[{\"automargin\":true,\"type\":\"pie\"}],\"scatter\":[{\"marker\":{\"colorbar\":{\"outlinewidth\":0,\"ticks\":\"\"}},\"type\":\"scatter\"}],\"scatter3d\":[{\"line\":{\"colorbar\":{\"outlinewidth\":0,\"ticks\":\"\"}},\"marker\":{\"colorbar\":{\"outlinewidth\":0,\"ticks\":\"\"}},\"type\":\"scatter3d\"}],\"scattercarpet\":[{\"marker\":{\"colorbar\":{\"outlinewidth\":0,\"ticks\":\"\"}},\"type\":\"scattercarpet\"}],\"scattergeo\":[{\"marker\":{\"colorbar\":{\"outlinewidth\":0,\"ticks\":\"\"}},\"type\":\"scattergeo\"}],\"scattergl\":[{\"marker\":{\"colorbar\":{\"outlinewidth\":0,\"ticks\":\"\"}},\"type\":\"scattergl\"}],\"scattermapbox\":[{\"marker\":{\"colorbar\":{\"outlinewidth\":0,\"ticks\":\"\"}},\"type\":\"scattermapbox\"}],\"scatterpolar\":[{\"marker\":{\"colorbar\":{\"outlinewidth\":0,\"ticks\":\"\"}},\"type\":\"scatterpolar\"}],\"scatterpolargl\":[{\"marker\":{\"colorbar\":{\"outlinewidth\":0,\"ticks\":\"\"}},\"type\":\"scatterpolargl\"}],\"scatterternary\":[{\"marker\":{\"colorbar\":{\"outlinewidth\":0,\"ticks\":\"\"}},\"type\":\"scatterternary\"}],\"surface\":[{\"colorbar\":{\"outlinewidth\":0,\"ticks\":\"\"},\"colorscale\":[[0.0,\"#0d0887\"],[0.1111111111111111,\"#46039f\"],[0.2222222222222222,\"#7201a8\"],[0.3333333333333333,\"#9c179e\"],[0.4444444444444444,\"#bd3786\"],[0.5555555555555556,\"#d8576b\"],[0.6666666666666666,\"#ed7953\"],[0.7777777777777778,\"#fb9f3a\"],[0.8888888888888888,\"#fdca26\"],[1.0,\"#f0f921\"]],\"type\":\"surface\"}],\"table\":[{\"cells\":{\"fill\":{\"color\":\"#EBF0F8\"},\"line\":{\"color\":\"white\"}},\"header\":{\"fill\":{\"color\":\"#C8D4E3\"},\"line\":{\"color\":\"white\"}},\"type\":\"table\"}]},\"layout\":{\"annotationdefaults\":{\"arrowcolor\":\"#2a3f5f\",\"arrowhead\":0,\"arrowwidth\":1},\"autotypenumbers\":\"strict\",\"coloraxis\":{\"colorbar\":{\"outlinewidth\":0,\"ticks\":\"\"}},\"colorscale\":{\"diverging\":[[0,\"#8e0152\"],[0.1,\"#c51b7d\"],[0.2,\"#de77ae\"],[0.3,\"#f1b6da\"],[0.4,\"#fde0ef\"],[0.5,\"#f7f7f7\"],[0.6,\"#e6f5d0\"],[0.7,\"#b8e186\"],[0.8,\"#7fbc41\"],[0.9,\"#4d9221\"],[1,\"#276419\"]],\"sequential\":[[0.0,\"#0d0887\"],[0.1111111111111111,\"#46039f\"],[0.2222222222222222,\"#7201a8\"],[0.3333333333333333,\"#9c179e\"],[0.4444444444444444,\"#bd3786\"],[0.5555555555555556,\"#d8576b\"],[0.6666666666666666,\"#ed7953\"],[0.7777777777777778,\"#fb9f3a\"],[0.8888888888888888,\"#fdca26\"],[1.0,\"#f0f921\"]],\"sequentialminus\":[[0.0,\"#0d0887\"],[0.1111111111111111,\"#46039f\"],[0.2222222222222222,\"#7201a8\"],[0.3333333333333333,\"#9c179e\"],[0.4444444444444444,\"#bd3786\"],[0.5555555555555556,\"#d8576b\"],[0.6666666666666666,\"#ed7953\"],[0.7777777777777778,\"#fb9f3a\"],[0.8888888888888888,\"#fdca26\"],[1.0,\"#f0f921\"]]},\"colorway\":[\"#636efa\",\"#EF553B\",\"#00cc96\",\"#ab63fa\",\"#FFA15A\",\"#19d3f3\",\"#FF6692\",\"#B6E880\",\"#FF97FF\",\"#FECB52\"],\"font\":{\"color\":\"#2a3f5f\"},\"geo\":{\"bgcolor\":\"white\",\"lakecolor\":\"white\",\"landcolor\":\"#E5ECF6\",\"showlakes\":true,\"showland\":true,\"subunitcolor\":\"white\"},\"hoverlabel\":{\"align\":\"left\"},\"hovermode\":\"closest\",\"mapbox\":{\"style\":\"light\"},\"paper_bgcolor\":\"white\",\"plot_bgcolor\":\"#E5ECF6\",\"polar\":{\"angularaxis\":{\"gridcolor\":\"white\",\"linecolor\":\"white\",\"ticks\":\"\"},\"bgcolor\":\"#E5ECF6\",\"radialaxis\":{\"gridcolor\":\"white\",\"linecolor\":\"white\",\"ticks\":\"\"}},\"scene\":{\"xaxis\":{\"backgroundcolor\":\"#E5ECF6\",\"gridcolor\":\"white\",\"gridwidth\":2,\"linecolor\":\"white\",\"showbackground\":true,\"ticks\":\"\",\"zerolinecolor\":\"white\"},\"yaxis\":{\"backgroundcolor\":\"#E5ECF6\",\"gridcolor\":\"white\",\"gridwidth\":2,\"linecolor\":\"white\",\"showbackground\":true,\"ticks\":\"\",\"zerolinecolor\":\"white\"},\"zaxis\":{\"backgroundcolor\":\"#E5ECF6\",\"gridcolor\":\"white\",\"gridwidth\":2,\"linecolor\":\"white\",\"showbackground\":true,\"ticks\":\"\",\"zerolinecolor\":\"white\"}},\"shapedefaults\":{\"line\":{\"color\":\"#2a3f5f\"}},\"ternary\":{\"aaxis\":{\"gridcolor\":\"white\",\"linecolor\":\"white\",\"ticks\":\"\"},\"baxis\":{\"gridcolor\":\"white\",\"linecolor\":\"white\",\"ticks\":\"\"},\"bgcolor\":\"#E5ECF6\",\"caxis\":{\"gridcolor\":\"white\",\"linecolor\":\"white\",\"ticks\":\"\"}},\"title\":{\"x\":0.05},\"xaxis\":{\"automargin\":true,\"gridcolor\":\"white\",\"linecolor\":\"white\",\"ticks\":\"\",\"title\":{\"standoff\":15},\"zerolinecolor\":\"white\",\"zerolinewidth\":2},\"yaxis\":{\"automargin\":true,\"gridcolor\":\"white\",\"linecolor\":\"white\",\"ticks\":\"\",\"title\":{\"standoff\":15},\"zerolinecolor\":\"white\",\"zerolinewidth\":2}}},\"scene\":{\"domain\":{\"x\":[0.0,1.0],\"y\":[0.0,1.0]},\"xaxis\":{\"title\":{\"text\":\"Healthy life expectancy\"}},\"yaxis\":{\"title\":{\"text\":\"Logged GDP per capita\"}},\"zaxis\":{\"title\":{\"text\":\"happy_score\"}}},\"legend\":{\"title\":{\"text\":\"Continents\"},\"tracegroupgap\":0},\"margin\":{\"t\":60}},                        {\"responsive\": true}                    ).then(function(){\n                            \nvar gd = document.getElementById('a8eab389-9bbd-4d4c-aa62-153daa03b318');\nvar x = new MutationObserver(function (mutations, observer) {{\n        var display = window.getComputedStyle(gd).display;\n        if (!display || display === 'none') {{\n            console.log([gd, 'removed!']);\n            Plotly.purge(gd);\n            observer.disconnect();\n        }}\n}});\n\n// Listen for the removal of the full notebook cells\nvar notebookContainer = gd.closest('#notebook-container');\nif (notebookContainer) {{\n    x.observe(notebookContainer, {childList: true});\n}}\n\n// Listen for the clearing of the current output cell\nvar outputEl = gd.closest('.output');\nif (outputEl) {{\n    x.observe(outputEl, {childList: true});\n}}\n\n                        })                };                            </script>        </div>\n</body>\n</html>"
     },
     "execution_count": 45,
     "metadata": {
     },
     "output_type": "execute_result"
    }
   ],
   "source": [
    "px.scatter_3d(happy_2021_df, x =  \"Healthy life expectancy\" , y = \"Logged GDP per capita\", z='happy_score',\n",
    "              color='Continents',hover_data = [\"Country name\"])"
   ]
  },
  {
   "cell_type": "markdown",
   "metadata": {
    "collapsed": false
   },
   "source": [
    "###### ---------------------------------------------------------------------------------------------------------------------------------------------------------------------------------------------------------------------------------------------------------\n",
    "<h2><a> Importing Happiness Dataset (2008-2019)</a></h2>\n",
    "\n",
    "###### ---------------------------------------------------------------------------------------------------------------------------------------------------------------------------------------------------------------------------------------------------------\n"
   ]
  },
  {
   "cell_type": "code",
   "execution_count": 46,
   "metadata": {
    "collapsed": false
   },
   "outputs": [
   ],
   "source": [
    "happy_all_df = pd.read_csv('data/world-happiness-report.csv')"
   ]
  },
  {
   "cell_type": "code",
   "execution_count": 47,
   "metadata": {
    "collapsed": false,
    "scrolled": true
   },
   "outputs": [
    {
     "data": {
      "text/plain": [
       "Index(['Country name', 'year', 'Life Ladder', 'Log GDP per capita',\n",
       "       'Social support', 'Healthy life expectancy at birth',\n",
       "       'Freedom to make life choices', 'Generosity',\n",
       "       'Perceptions of corruption', 'Positive affect', 'Negative affect'],\n",
       "      dtype='object')"
      ]
     },
     "execution_count": 47,
     "metadata": {
     },
     "output_type": "execute_result"
    }
   ],
   "source": [
    "happy_all_df.columns"
   ]
  },
  {
   "cell_type": "code",
   "execution_count": 48,
   "metadata": {
    "collapsed": false
   },
   "outputs": [
   ],
   "source": [
    "continents = happy_2021_df[['Continents','Country name']]"
   ]
  },
  {
   "cell_type": "code",
   "execution_count": 49,
   "metadata": {
    "collapsed": false
   },
   "outputs": [
   ],
   "source": [
    "happy_all_df.rename(columns={'Life Ladder': 'happy_score'}, inplace =True)"
   ]
  },
  {
   "cell_type": "code",
   "execution_count": 50,
   "metadata": {
    "collapsed": false
   },
   "outputs": [
   ],
   "source": [
    "happy_all_df = pd.merge(happy_all_df, continents, on='Country name')"
   ]
  },
  {
   "cell_type": "code",
   "execution_count": 51,
   "metadata": {
    "collapsed": false,
    "scrolled": true
   },
   "outputs": [
    {
     "data": {
      "text/html": [
       "<div>\n",
       "<style scoped>\n",
       "    .dataframe tbody tr th:only-of-type {\n",
       "        vertical-align: middle;\n",
       "    }\n",
       "\n",
       "    .dataframe tbody tr th {\n",
       "        vertical-align: top;\n",
       "    }\n",
       "\n",
       "    .dataframe thead th {\n",
       "        text-align: right;\n",
       "    }\n",
       "</style>\n",
       "<table border=\"1\" class=\"dataframe\">\n",
       "  <thead>\n",
       "    <tr style=\"text-align: right;\">\n",
       "      <th></th>\n",
       "      <th>Country name</th>\n",
       "      <th>year</th>\n",
       "      <th>happy_score</th>\n",
       "      <th>Log GDP per capita</th>\n",
       "      <th>Social support</th>\n",
       "      <th>Healthy life expectancy at birth</th>\n",
       "      <th>Freedom to make life choices</th>\n",
       "      <th>Generosity</th>\n",
       "      <th>Perceptions of corruption</th>\n",
       "      <th>Positive affect</th>\n",
       "      <th>Negative affect</th>\n",
       "      <th>Continents</th>\n",
       "    </tr>\n",
       "  </thead>\n",
       "  <tbody>\n",
       "    <tr>\n",
       "      <th>0</th>\n",
       "      <td>Afghanistan</td>\n",
       "      <td>2008</td>\n",
       "      <td>3.724</td>\n",
       "      <td>7.370</td>\n",
       "      <td>0.451</td>\n",
       "      <td>50.80</td>\n",
       "      <td>0.718</td>\n",
       "      <td>0.168</td>\n",
       "      <td>0.882</td>\n",
       "      <td>0.518</td>\n",
       "      <td>0.258</td>\n",
       "      <td>Asia</td>\n",
       "    </tr>\n",
       "    <tr>\n",
       "      <th>1</th>\n",
       "      <td>Afghanistan</td>\n",
       "      <td>2009</td>\n",
       "      <td>4.402</td>\n",
       "      <td>7.540</td>\n",
       "      <td>0.552</td>\n",
       "      <td>51.20</td>\n",
       "      <td>0.679</td>\n",
       "      <td>0.190</td>\n",
       "      <td>0.850</td>\n",
       "      <td>0.584</td>\n",
       "      <td>0.237</td>\n",
       "      <td>Asia</td>\n",
       "    </tr>\n",
       "    <tr>\n",
       "      <th>2</th>\n",
       "      <td>Afghanistan</td>\n",
       "      <td>2010</td>\n",
       "      <td>4.758</td>\n",
       "      <td>7.647</td>\n",
       "      <td>0.539</td>\n",
       "      <td>51.60</td>\n",
       "      <td>0.600</td>\n",
       "      <td>0.121</td>\n",
       "      <td>0.707</td>\n",
       "      <td>0.618</td>\n",
       "      <td>0.275</td>\n",
       "      <td>Asia</td>\n",
       "    </tr>\n",
       "    <tr>\n",
       "      <th>3</th>\n",
       "      <td>Afghanistan</td>\n",
       "      <td>2011</td>\n",
       "      <td>3.832</td>\n",
       "      <td>7.620</td>\n",
       "      <td>0.521</td>\n",
       "      <td>51.92</td>\n",
       "      <td>0.496</td>\n",
       "      <td>0.162</td>\n",
       "      <td>0.731</td>\n",
       "      <td>0.611</td>\n",
       "      <td>0.267</td>\n",
       "      <td>Asia</td>\n",
       "    </tr>\n",
       "    <tr>\n",
       "      <th>4</th>\n",
       "      <td>Afghanistan</td>\n",
       "      <td>2012</td>\n",
       "      <td>3.783</td>\n",
       "      <td>7.705</td>\n",
       "      <td>0.521</td>\n",
       "      <td>52.24</td>\n",
       "      <td>0.531</td>\n",
       "      <td>0.236</td>\n",
       "      <td>0.776</td>\n",
       "      <td>0.710</td>\n",
       "      <td>0.268</td>\n",
       "      <td>Asia</td>\n",
       "    </tr>\n",
       "  </tbody>\n",
       "</table>\n",
       "</div>"
      ],
      "text/plain": [
       "  Country name  year  happy_score  Log GDP per capita  Social support  \\\n",
       "0  Afghanistan  2008        3.724               7.370           0.451   \n",
       "1  Afghanistan  2009        4.402               7.540           0.552   \n",
       "2  Afghanistan  2010        4.758               7.647           0.539   \n",
       "3  Afghanistan  2011        3.832               7.620           0.521   \n",
       "4  Afghanistan  2012        3.783               7.705           0.521   \n",
       "\n",
       "   Healthy life expectancy at birth  Freedom to make life choices  Generosity  \\\n",
       "0                             50.80                         0.718       0.168   \n",
       "1                             51.20                         0.679       0.190   \n",
       "2                             51.60                         0.600       0.121   \n",
       "3                             51.92                         0.496       0.162   \n",
       "4                             52.24                         0.531       0.236   \n",
       "\n",
       "   Perceptions of corruption  Positive affect  Negative affect Continents  \n",
       "0                      0.882            0.518            0.258       Asia  \n",
       "1                      0.850            0.584            0.237       Asia  \n",
       "2                      0.707            0.618            0.275       Asia  \n",
       "3                      0.731            0.611            0.267       Asia  \n",
       "4                      0.776            0.710            0.268       Asia  "
      ]
     },
     "execution_count": 51,
     "metadata": {
     },
     "output_type": "execute_result"
    }
   ],
   "source": [
    "happy_all_df.head()"
   ]
  },
  {
   "cell_type": "markdown",
   "metadata": {
    "collapsed": false
   },
   "source": [
    "<h2> <a id = \"heatmap\"> Happiness Score over the years </a> </h2>\n",
    "\n",
    "- Worldwide, the happy score had a significant decline in 2006, it stabilized after that and started to pick up in 2019.\n",
    "\n",
    "- The relationship between happiness score, GDP and years\n",
    "\n",
    "> Economic growth and job growth both fell in 2006 from previous years as the residential housing boom came to an end, then _**the Great Recession**_ came after 2006 and caused a global economy crisis. As the economy gradually recover after 2009, the global happy score _**starts increase**_, then stablized starting from 2012 to 2018. Surprisingly, the global happy score _**didn't stop growing**_ during 2019 and 2020 due to Covid. It is true that global pandemic was a hard time for everyone, but suffering also motivated us to discover the good in life and pursue happiness.\n",
    "\n"
   ]
  },
  {
   "cell_type": "code",
   "execution_count": 52,
   "metadata": {
    "collapsed": false
   },
   "outputs": [
   ],
   "source": [
    "year_score = happy_all_df.groupby('year')[['happy_score']].mean().reset_index()"
   ]
  },
  {
   "cell_type": "code",
   "execution_count": 53,
   "metadata": {
    "collapsed": false
   },
   "outputs": [
    {
     "data": {
      "text/html": "<html>\n<head><meta charset=\"utf-8\" /></head>\n<body>\n    <div>            <script src=\"https://cdnjs.cloudflare.com/ajax/libs/mathjax/2.7.5/MathJax.js?config=TeX-AMS-MML_SVG\"></script><script type=\"text/javascript\">if (window.MathJax) {MathJax.Hub.Config({SVG: {font: \"STIX-Web\"}});}</script>                <script type=\"text/javascript\">window.PlotlyConfig = {MathJaxConfig: 'local'};</script>\n        <script src=\"https://cdn.plot.ly/plotly-2.9.0.min.js\"></script>                <div id=\"30c11fa2-bd87-497b-a919-92588673802f\" class=\"plotly-graph-div\" style=\"height:525px; width:100%;\"></div>            <script type=\"text/javascript\">                                    window.PLOTLYENV=window.PLOTLYENV || {};                                    if (document.getElementById(\"30c11fa2-bd87-497b-a919-92588673802f\")) {                    Plotly.newPlot(                        \"30c11fa2-bd87-497b-a919-92588673802f\",                        [{\"hovertemplate\":\"year=%{x}<br>happy_score=%{text}<extra></extra>\",\"legendgroup\":\"\",\"line\":{\"color\":\"#636efa\",\"dash\":\"solid\"},\"marker\":{\"symbol\":\"circle\"},\"mode\":\"text+lines+markers\",\"name\":\"\",\"orientation\":\"v\",\"showlegend\":false,\"text\":[6.446538461538462,5.1768809523809525,5.419843749999999,5.437205882352941,5.504673076923077,5.527619469026549,5.452821705426357,5.474609375,5.4314160000000005,5.441276923076923,5.436315384615384,5.4465615384615385,5.49025,5.49176119402985,5.578183823529412,5.826255555555556],\"x\":[2005,2006,2007,2008,2009,2010,2011,2012,2013,2014,2015,2016,2017,2018,2019,2020],\"xaxis\":\"x\",\"y\":[6.446538461538462,5.1768809523809525,5.419843749999999,5.437205882352941,5.504673076923077,5.527619469026549,5.452821705426357,5.474609375,5.4314160000000005,5.441276923076923,5.436315384615384,5.4465615384615385,5.49025,5.49176119402985,5.578183823529412,5.826255555555556],\"yaxis\":\"y\",\"type\":\"scatter\",\"textposition\":\"bottom right\"}],                        {\"template\":{\"data\":{\"bar\":[{\"error_x\":{\"color\":\"#2a3f5f\"},\"error_y\":{\"color\":\"#2a3f5f\"},\"marker\":{\"line\":{\"color\":\"#E5ECF6\",\"width\":0.5},\"pattern\":{\"fillmode\":\"overlay\",\"size\":10,\"solidity\":0.2}},\"type\":\"bar\"}],\"barpolar\":[{\"marker\":{\"line\":{\"color\":\"#E5ECF6\",\"width\":0.5},\"pattern\":{\"fillmode\":\"overlay\",\"size\":10,\"solidity\":0.2}},\"type\":\"barpolar\"}],\"carpet\":[{\"aaxis\":{\"endlinecolor\":\"#2a3f5f\",\"gridcolor\":\"white\",\"linecolor\":\"white\",\"minorgridcolor\":\"white\",\"startlinecolor\":\"#2a3f5f\"},\"baxis\":{\"endlinecolor\":\"#2a3f5f\",\"gridcolor\":\"white\",\"linecolor\":\"white\",\"minorgridcolor\":\"white\",\"startlinecolor\":\"#2a3f5f\"},\"type\":\"carpet\"}],\"choropleth\":[{\"colorbar\":{\"outlinewidth\":0,\"ticks\":\"\"},\"type\":\"choropleth\"}],\"contour\":[{\"colorbar\":{\"outlinewidth\":0,\"ticks\":\"\"},\"colorscale\":[[0.0,\"#0d0887\"],[0.1111111111111111,\"#46039f\"],[0.2222222222222222,\"#7201a8\"],[0.3333333333333333,\"#9c179e\"],[0.4444444444444444,\"#bd3786\"],[0.5555555555555556,\"#d8576b\"],[0.6666666666666666,\"#ed7953\"],[0.7777777777777778,\"#fb9f3a\"],[0.8888888888888888,\"#fdca26\"],[1.0,\"#f0f921\"]],\"type\":\"contour\"}],\"contourcarpet\":[{\"colorbar\":{\"outlinewidth\":0,\"ticks\":\"\"},\"type\":\"contourcarpet\"}],\"heatmap\":[{\"colorbar\":{\"outlinewidth\":0,\"ticks\":\"\"},\"colorscale\":[[0.0,\"#0d0887\"],[0.1111111111111111,\"#46039f\"],[0.2222222222222222,\"#7201a8\"],[0.3333333333333333,\"#9c179e\"],[0.4444444444444444,\"#bd3786\"],[0.5555555555555556,\"#d8576b\"],[0.6666666666666666,\"#ed7953\"],[0.7777777777777778,\"#fb9f3a\"],[0.8888888888888888,\"#fdca26\"],[1.0,\"#f0f921\"]],\"type\":\"heatmap\"}],\"heatmapgl\":[{\"colorbar\":{\"outlinewidth\":0,\"ticks\":\"\"},\"colorscale\":[[0.0,\"#0d0887\"],[0.1111111111111111,\"#46039f\"],[0.2222222222222222,\"#7201a8\"],[0.3333333333333333,\"#9c179e\"],[0.4444444444444444,\"#bd3786\"],[0.5555555555555556,\"#d8576b\"],[0.6666666666666666,\"#ed7953\"],[0.7777777777777778,\"#fb9f3a\"],[0.8888888888888888,\"#fdca26\"],[1.0,\"#f0f921\"]],\"type\":\"heatmapgl\"}],\"histogram\":[{\"marker\":{\"pattern\":{\"fillmode\":\"overlay\",\"size\":10,\"solidity\":0.2}},\"type\":\"histogram\"}],\"histogram2d\":[{\"colorbar\":{\"outlinewidth\":0,\"ticks\":\"\"},\"colorscale\":[[0.0,\"#0d0887\"],[0.1111111111111111,\"#46039f\"],[0.2222222222222222,\"#7201a8\"],[0.3333333333333333,\"#9c179e\"],[0.4444444444444444,\"#bd3786\"],[0.5555555555555556,\"#d8576b\"],[0.6666666666666666,\"#ed7953\"],[0.7777777777777778,\"#fb9f3a\"],[0.8888888888888888,\"#fdca26\"],[1.0,\"#f0f921\"]],\"type\":\"histogram2d\"}],\"histogram2dcontour\":[{\"colorbar\":{\"outlinewidth\":0,\"ticks\":\"\"},\"colorscale\":[[0.0,\"#0d0887\"],[0.1111111111111111,\"#46039f\"],[0.2222222222222222,\"#7201a8\"],[0.3333333333333333,\"#9c179e\"],[0.4444444444444444,\"#bd3786\"],[0.5555555555555556,\"#d8576b\"],[0.6666666666666666,\"#ed7953\"],[0.7777777777777778,\"#fb9f3a\"],[0.8888888888888888,\"#fdca26\"],[1.0,\"#f0f921\"]],\"type\":\"histogram2dcontour\"}],\"mesh3d\":[{\"colorbar\":{\"outlinewidth\":0,\"ticks\":\"\"},\"type\":\"mesh3d\"}],\"parcoords\":[{\"line\":{\"colorbar\":{\"outlinewidth\":0,\"ticks\":\"\"}},\"type\":\"parcoords\"}],\"pie\":[{\"automargin\":true,\"type\":\"pie\"}],\"scatter\":[{\"marker\":{\"colorbar\":{\"outlinewidth\":0,\"ticks\":\"\"}},\"type\":\"scatter\"}],\"scatter3d\":[{\"line\":{\"colorbar\":{\"outlinewidth\":0,\"ticks\":\"\"}},\"marker\":{\"colorbar\":{\"outlinewidth\":0,\"ticks\":\"\"}},\"type\":\"scatter3d\"}],\"scattercarpet\":[{\"marker\":{\"colorbar\":{\"outlinewidth\":0,\"ticks\":\"\"}},\"type\":\"scattercarpet\"}],\"scattergeo\":[{\"marker\":{\"colorbar\":{\"outlinewidth\":0,\"ticks\":\"\"}},\"type\":\"scattergeo\"}],\"scattergl\":[{\"marker\":{\"colorbar\":{\"outlinewidth\":0,\"ticks\":\"\"}},\"type\":\"scattergl\"}],\"scattermapbox\":[{\"marker\":{\"colorbar\":{\"outlinewidth\":0,\"ticks\":\"\"}},\"type\":\"scattermapbox\"}],\"scatterpolar\":[{\"marker\":{\"colorbar\":{\"outlinewidth\":0,\"ticks\":\"\"}},\"type\":\"scatterpolar\"}],\"scatterpolargl\":[{\"marker\":{\"colorbar\":{\"outlinewidth\":0,\"ticks\":\"\"}},\"type\":\"scatterpolargl\"}],\"scatterternary\":[{\"marker\":{\"colorbar\":{\"outlinewidth\":0,\"ticks\":\"\"}},\"type\":\"scatterternary\"}],\"surface\":[{\"colorbar\":{\"outlinewidth\":0,\"ticks\":\"\"},\"colorscale\":[[0.0,\"#0d0887\"],[0.1111111111111111,\"#46039f\"],[0.2222222222222222,\"#7201a8\"],[0.3333333333333333,\"#9c179e\"],[0.4444444444444444,\"#bd3786\"],[0.5555555555555556,\"#d8576b\"],[0.6666666666666666,\"#ed7953\"],[0.7777777777777778,\"#fb9f3a\"],[0.8888888888888888,\"#fdca26\"],[1.0,\"#f0f921\"]],\"type\":\"surface\"}],\"table\":[{\"cells\":{\"fill\":{\"color\":\"#EBF0F8\"},\"line\":{\"color\":\"white\"}},\"header\":{\"fill\":{\"color\":\"#C8D4E3\"},\"line\":{\"color\":\"white\"}},\"type\":\"table\"}]},\"layout\":{\"annotationdefaults\":{\"arrowcolor\":\"#2a3f5f\",\"arrowhead\":0,\"arrowwidth\":1},\"autotypenumbers\":\"strict\",\"coloraxis\":{\"colorbar\":{\"outlinewidth\":0,\"ticks\":\"\"}},\"colorscale\":{\"diverging\":[[0,\"#8e0152\"],[0.1,\"#c51b7d\"],[0.2,\"#de77ae\"],[0.3,\"#f1b6da\"],[0.4,\"#fde0ef\"],[0.5,\"#f7f7f7\"],[0.6,\"#e6f5d0\"],[0.7,\"#b8e186\"],[0.8,\"#7fbc41\"],[0.9,\"#4d9221\"],[1,\"#276419\"]],\"sequential\":[[0.0,\"#0d0887\"],[0.1111111111111111,\"#46039f\"],[0.2222222222222222,\"#7201a8\"],[0.3333333333333333,\"#9c179e\"],[0.4444444444444444,\"#bd3786\"],[0.5555555555555556,\"#d8576b\"],[0.6666666666666666,\"#ed7953\"],[0.7777777777777778,\"#fb9f3a\"],[0.8888888888888888,\"#fdca26\"],[1.0,\"#f0f921\"]],\"sequentialminus\":[[0.0,\"#0d0887\"],[0.1111111111111111,\"#46039f\"],[0.2222222222222222,\"#7201a8\"],[0.3333333333333333,\"#9c179e\"],[0.4444444444444444,\"#bd3786\"],[0.5555555555555556,\"#d8576b\"],[0.6666666666666666,\"#ed7953\"],[0.7777777777777778,\"#fb9f3a\"],[0.8888888888888888,\"#fdca26\"],[1.0,\"#f0f921\"]]},\"colorway\":[\"#636efa\",\"#EF553B\",\"#00cc96\",\"#ab63fa\",\"#FFA15A\",\"#19d3f3\",\"#FF6692\",\"#B6E880\",\"#FF97FF\",\"#FECB52\"],\"font\":{\"color\":\"#2a3f5f\"},\"geo\":{\"bgcolor\":\"white\",\"lakecolor\":\"white\",\"landcolor\":\"#E5ECF6\",\"showlakes\":true,\"showland\":true,\"subunitcolor\":\"white\"},\"hoverlabel\":{\"align\":\"left\"},\"hovermode\":\"closest\",\"mapbox\":{\"style\":\"light\"},\"paper_bgcolor\":\"white\",\"plot_bgcolor\":\"#E5ECF6\",\"polar\":{\"angularaxis\":{\"gridcolor\":\"white\",\"linecolor\":\"white\",\"ticks\":\"\"},\"bgcolor\":\"#E5ECF6\",\"radialaxis\":{\"gridcolor\":\"white\",\"linecolor\":\"white\",\"ticks\":\"\"}},\"scene\":{\"xaxis\":{\"backgroundcolor\":\"#E5ECF6\",\"gridcolor\":\"white\",\"gridwidth\":2,\"linecolor\":\"white\",\"showbackground\":true,\"ticks\":\"\",\"zerolinecolor\":\"white\"},\"yaxis\":{\"backgroundcolor\":\"#E5ECF6\",\"gridcolor\":\"white\",\"gridwidth\":2,\"linecolor\":\"white\",\"showbackground\":true,\"ticks\":\"\",\"zerolinecolor\":\"white\"},\"zaxis\":{\"backgroundcolor\":\"#E5ECF6\",\"gridcolor\":\"white\",\"gridwidth\":2,\"linecolor\":\"white\",\"showbackground\":true,\"ticks\":\"\",\"zerolinecolor\":\"white\"}},\"shapedefaults\":{\"line\":{\"color\":\"#2a3f5f\"}},\"ternary\":{\"aaxis\":{\"gridcolor\":\"white\",\"linecolor\":\"white\",\"ticks\":\"\"},\"baxis\":{\"gridcolor\":\"white\",\"linecolor\":\"white\",\"ticks\":\"\"},\"bgcolor\":\"#E5ECF6\",\"caxis\":{\"gridcolor\":\"white\",\"linecolor\":\"white\",\"ticks\":\"\"}},\"title\":{\"x\":0.05},\"xaxis\":{\"automargin\":true,\"gridcolor\":\"white\",\"linecolor\":\"white\",\"ticks\":\"\",\"title\":{\"standoff\":15},\"zerolinecolor\":\"white\",\"zerolinewidth\":2},\"yaxis\":{\"automargin\":true,\"gridcolor\":\"white\",\"linecolor\":\"white\",\"ticks\":\"\",\"title\":{\"standoff\":15},\"zerolinecolor\":\"white\",\"zerolinewidth\":2}}},\"xaxis\":{\"anchor\":\"y\",\"domain\":[0.0,1.0],\"title\":{\"text\":\"year\"}},\"yaxis\":{\"anchor\":\"x\",\"domain\":[0.0,1.0],\"title\":{\"text\":\"happy_score\"}},\"legend\":{\"tracegroupgap\":0},\"margin\":{\"t\":60}},                        {\"responsive\": true}                    ).then(function(){\n                            \nvar gd = document.getElementById('30c11fa2-bd87-497b-a919-92588673802f');\nvar x = new MutationObserver(function (mutations, observer) {{\n        var display = window.getComputedStyle(gd).display;\n        if (!display || display === 'none') {{\n            console.log([gd, 'removed!']);\n            Plotly.purge(gd);\n            observer.disconnect();\n        }}\n}});\n\n// Listen for the removal of the full notebook cells\nvar notebookContainer = gd.closest('#notebook-container');\nif (notebookContainer) {{\n    x.observe(notebookContainer, {childList: true});\n}}\n\n// Listen for the clearing of the current output cell\nvar outputEl = gd.closest('.output');\nif (outputEl) {{\n    x.observe(outputEl, {childList: true});\n}}\n\n                        })                };                            </script>        </div>\n</body>\n</html>"
     },
     "execution_count": 53,
     "metadata": {
     },
     "output_type": "execute_result"
    }
   ],
   "source": [
    "fig = px.line(year_score,x = \"year\", y = \"happy_score\", text = 'happy_score')\n",
    "fig.update_traces(textposition=\"bottom right\")\n",
    "fig.show()"
   ]
  },
  {
   "cell_type": "markdown",
   "metadata": {
    "collapsed": false
   },
   "source": [
    "<h2><a>Happiness over the year for continents</a></h2>\n",
    "\n",
    "- This line graph shows the happy score in different continents with respect to years, all continents' happy score have different trends except a **common decrease** during the Great Recession from 2006 to 2009. In 2019, most continents' happy score started increase, only **South America** had a **significant decline** in happy score.\n",
    "\n"
   ]
  },
  {
   "cell_type": "code",
   "execution_count": 54,
   "metadata": {
    "collapsed": false
   },
   "outputs": [
   ],
   "source": [
    "cont_year_score = happy_all_df.groupby(['Continents','year'])[['happy_score']].mean().reset_index()"
   ]
  },
  {
   "cell_type": "code",
   "execution_count": 55,
   "metadata": {
    "collapsed": false,
    "scrolled": true
   },
   "outputs": [
    {
     "data": {
      "text/html": "<html>\n<head><meta charset=\"utf-8\" /></head>\n<body>\n    <div>            <script src=\"https://cdnjs.cloudflare.com/ajax/libs/mathjax/2.7.5/MathJax.js?config=TeX-AMS-MML_SVG\"></script><script type=\"text/javascript\">if (window.MathJax) {MathJax.Hub.Config({SVG: {font: \"STIX-Web\"}});}</script>                <script type=\"text/javascript\">window.PlotlyConfig = {MathJaxConfig: 'local'};</script>\n        <script src=\"https://cdn.plot.ly/plotly-2.9.0.min.js\"></script>                <div id=\"fc0bcd26-2716-4ac1-aded-ef342095e555\" class=\"plotly-graph-div\" style=\"height:525px; width:100%;\"></div>            <script type=\"text/javascript\">                                    window.PLOTLYENV=window.PLOTLYENV || {};                                    if (document.getElementById(\"fc0bcd26-2716-4ac1-aded-ef342095e555\")) {                    Plotly.newPlot(                        \"fc0bcd26-2716-4ac1-aded-ef342095e555\",                        [{\"hovertemplate\":\"Continents=Africa<br>year=%{x}<br>happy_score=%{y}<extra></extra>\",\"legendgroup\":\"Africa\",\"line\":{\"color\":\"#636efa\",\"dash\":\"solid\"},\"marker\":{\"symbol\":\"circle\"},\"mode\":\"lines\",\"name\":\"Africa\",\"orientation\":\"v\",\"showlegend\":true,\"x\":[2005,2006,2007,2008,2009,2010,2011,2012,2013,2014,2015,2016,2017,2018,2019,2020],\"xaxis\":\"x\",\"y\":[5.676833333333334,4.394923076923077,4.774423076923077,4.55015625,4.888466666666667,4.81453125,4.761139534883721,4.6962,4.561657894736842,4.56152380952381,4.602761904761905,4.617363636363636,4.711489361702127,4.673782608695652,4.736382978723404,5.016791666666667],\"yaxis\":\"y\",\"type\":\"scatter\"},{\"hovertemplate\":\"Continents=Asia<br>year=%{x}<br>happy_score=%{y}<extra></extra>\",\"legendgroup\":\"Asia\",\"line\":{\"color\":\"#EF553B\",\"dash\":\"solid\"},\"marker\":{\"symbol\":\"circle\"},\"mode\":\"lines\",\"name\":\"Asia\",\"orientation\":\"v\",\"showlegend\":true,\"x\":[2005,2006,2007,2008,2009,2010,2011,2012,2013,2014,2015,2016,2017,2018,2019,2020],\"xaxis\":\"x\",\"y\":[5.8705,4.9683,5.191727272727273,5.032916666666667,5.072695652173913,5.081173913043479,5.16756,5.051159999999999,5.1124,5.23792,5.183400000000001,5.2015652173913045,5.12452,5.1754444444444445,5.2542307692307695,5.431857142857143],\"yaxis\":\"y\",\"type\":\"scatter\"},{\"hovertemplate\":\"Continents=Europe<br>year=%{x}<br>happy_score=%{y}<extra></extra>\",\"legendgroup\":\"Europe\",\"line\":{\"color\":\"#00cc96\",\"dash\":\"solid\"},\"marker\":{\"symbol\":\"circle\"},\"mode\":\"lines\",\"name\":\"Europe\",\"orientation\":\"v\",\"showlegend\":true,\"x\":[2005,2006,2007,2008,2009,2010,2011,2012,2013,2014,2015,2016,2017,2018,2019,2020],\"xaxis\":\"x\",\"y\":[6.666230769230769,5.909277777777778,5.682777777777778,6.502,5.803677419354838,5.908228571428571,5.930891891891892,6.05085,5.923868421052632,6.0122307692307695,6.048475,6.117125,6.206925,6.2933076923076925,6.3671750000000005,6.410945945945946],\"yaxis\":\"y\",\"type\":\"scatter\"},{\"hovertemplate\":\"Continents=North America<br>year=%{x}<br>happy_score=%{y}<extra></extra>\",\"legendgroup\":\"North America\",\"line\":{\"color\":\"#ab63fa\",\"dash\":\"solid\"},\"marker\":{\"symbol\":\"circle\"},\"mode\":\"lines\",\"name\":\"North America\",\"orientation\":\"v\",\"showlegend\":true,\"x\":[2005,2006,2007,2008,2009,2010,2011,2012,2013,2014,2015,2016,2017,2018,2019,2020],\"xaxis\":\"x\",\"y\":[7.418,7.182,7.4975000000000005,7.383,7.323,7.407,7.2705,7.2204999999999995,7.4215,7.2275,7.1385000000000005,7.0245,7.2035,7.029,7.0265,7.0265],\"yaxis\":\"y\",\"type\":\"scatter\"},{\"hovertemplate\":\"Continents=Oceania<br>year=%{x}<br>happy_score=%{y}<extra></extra>\",\"legendgroup\":\"Oceania\",\"line\":{\"color\":\"#FFA15A\",\"dash\":\"solid\"},\"marker\":{\"symbol\":\"circle\"},\"mode\":\"lines\",\"name\":\"Oceania\",\"orientation\":\"v\",\"showlegend\":true,\"x\":[2005,2006,2007,2008,2010,2011,2012,2013,2014,2015,2016,2017,2018,2019,2020],\"xaxis\":\"x\",\"y\":[7.341,7.305,7.4445,7.3175,7.337,7.2985,7.223,7.322,7.297499999999999,7.3635,7.2379999999999995,7.292,7.2735,7.2195,7.196999999999999],\"yaxis\":\"y\",\"type\":\"scatter\"},{\"hovertemplate\":\"Continents=South America<br>year=%{x}<br>happy_score=%{y}<extra></extra>\",\"legendgroup\":\"South America\",\"line\":{\"color\":\"#19d3f3\",\"dash\":\"solid\"},\"marker\":{\"symbol\":\"circle\"},\"mode\":\"lines\",\"name\":\"South America\",\"orientation\":\"v\",\"showlegend\":true,\"x\":[2005,2006,2007,2008,2009,2010,2011,2012,2013,2014,2015,2016,2017,2018,2019,2020],\"xaxis\":\"x\",\"y\":[6.795999999999999,5.5761111111111115,5.801941176470589,5.750157894736842,6.366666666666667,6.179631578947368,6.04575,6.0895789473684205,6.159000000000001,6.0653500000000005,5.940894736842105,5.897,5.992649999999999,5.9511666666666665,6.117578947368421,5.660181818181818],\"yaxis\":\"y\",\"type\":\"scatter\"}],                        {\"template\":{\"data\":{\"bar\":[{\"error_x\":{\"color\":\"#2a3f5f\"},\"error_y\":{\"color\":\"#2a3f5f\"},\"marker\":{\"line\":{\"color\":\"#E5ECF6\",\"width\":0.5},\"pattern\":{\"fillmode\":\"overlay\",\"size\":10,\"solidity\":0.2}},\"type\":\"bar\"}],\"barpolar\":[{\"marker\":{\"line\":{\"color\":\"#E5ECF6\",\"width\":0.5},\"pattern\":{\"fillmode\":\"overlay\",\"size\":10,\"solidity\":0.2}},\"type\":\"barpolar\"}],\"carpet\":[{\"aaxis\":{\"endlinecolor\":\"#2a3f5f\",\"gridcolor\":\"white\",\"linecolor\":\"white\",\"minorgridcolor\":\"white\",\"startlinecolor\":\"#2a3f5f\"},\"baxis\":{\"endlinecolor\":\"#2a3f5f\",\"gridcolor\":\"white\",\"linecolor\":\"white\",\"minorgridcolor\":\"white\",\"startlinecolor\":\"#2a3f5f\"},\"type\":\"carpet\"}],\"choropleth\":[{\"colorbar\":{\"outlinewidth\":0,\"ticks\":\"\"},\"type\":\"choropleth\"}],\"contour\":[{\"colorbar\":{\"outlinewidth\":0,\"ticks\":\"\"},\"colorscale\":[[0.0,\"#0d0887\"],[0.1111111111111111,\"#46039f\"],[0.2222222222222222,\"#7201a8\"],[0.3333333333333333,\"#9c179e\"],[0.4444444444444444,\"#bd3786\"],[0.5555555555555556,\"#d8576b\"],[0.6666666666666666,\"#ed7953\"],[0.7777777777777778,\"#fb9f3a\"],[0.8888888888888888,\"#fdca26\"],[1.0,\"#f0f921\"]],\"type\":\"contour\"}],\"contourcarpet\":[{\"colorbar\":{\"outlinewidth\":0,\"ticks\":\"\"},\"type\":\"contourcarpet\"}],\"heatmap\":[{\"colorbar\":{\"outlinewidth\":0,\"ticks\":\"\"},\"colorscale\":[[0.0,\"#0d0887\"],[0.1111111111111111,\"#46039f\"],[0.2222222222222222,\"#7201a8\"],[0.3333333333333333,\"#9c179e\"],[0.4444444444444444,\"#bd3786\"],[0.5555555555555556,\"#d8576b\"],[0.6666666666666666,\"#ed7953\"],[0.7777777777777778,\"#fb9f3a\"],[0.8888888888888888,\"#fdca26\"],[1.0,\"#f0f921\"]],\"type\":\"heatmap\"}],\"heatmapgl\":[{\"colorbar\":{\"outlinewidth\":0,\"ticks\":\"\"},\"colorscale\":[[0.0,\"#0d0887\"],[0.1111111111111111,\"#46039f\"],[0.2222222222222222,\"#7201a8\"],[0.3333333333333333,\"#9c179e\"],[0.4444444444444444,\"#bd3786\"],[0.5555555555555556,\"#d8576b\"],[0.6666666666666666,\"#ed7953\"],[0.7777777777777778,\"#fb9f3a\"],[0.8888888888888888,\"#fdca26\"],[1.0,\"#f0f921\"]],\"type\":\"heatmapgl\"}],\"histogram\":[{\"marker\":{\"pattern\":{\"fillmode\":\"overlay\",\"size\":10,\"solidity\":0.2}},\"type\":\"histogram\"}],\"histogram2d\":[{\"colorbar\":{\"outlinewidth\":0,\"ticks\":\"\"},\"colorscale\":[[0.0,\"#0d0887\"],[0.1111111111111111,\"#46039f\"],[0.2222222222222222,\"#7201a8\"],[0.3333333333333333,\"#9c179e\"],[0.4444444444444444,\"#bd3786\"],[0.5555555555555556,\"#d8576b\"],[0.6666666666666666,\"#ed7953\"],[0.7777777777777778,\"#fb9f3a\"],[0.8888888888888888,\"#fdca26\"],[1.0,\"#f0f921\"]],\"type\":\"histogram2d\"}],\"histogram2dcontour\":[{\"colorbar\":{\"outlinewidth\":0,\"ticks\":\"\"},\"colorscale\":[[0.0,\"#0d0887\"],[0.1111111111111111,\"#46039f\"],[0.2222222222222222,\"#7201a8\"],[0.3333333333333333,\"#9c179e\"],[0.4444444444444444,\"#bd3786\"],[0.5555555555555556,\"#d8576b\"],[0.6666666666666666,\"#ed7953\"],[0.7777777777777778,\"#fb9f3a\"],[0.8888888888888888,\"#fdca26\"],[1.0,\"#f0f921\"]],\"type\":\"histogram2dcontour\"}],\"mesh3d\":[{\"colorbar\":{\"outlinewidth\":0,\"ticks\":\"\"},\"type\":\"mesh3d\"}],\"parcoords\":[{\"line\":{\"colorbar\":{\"outlinewidth\":0,\"ticks\":\"\"}},\"type\":\"parcoords\"}],\"pie\":[{\"automargin\":true,\"type\":\"pie\"}],\"scatter\":[{\"marker\":{\"colorbar\":{\"outlinewidth\":0,\"ticks\":\"\"}},\"type\":\"scatter\"}],\"scatter3d\":[{\"line\":{\"colorbar\":{\"outlinewidth\":0,\"ticks\":\"\"}},\"marker\":{\"colorbar\":{\"outlinewidth\":0,\"ticks\":\"\"}},\"type\":\"scatter3d\"}],\"scattercarpet\":[{\"marker\":{\"colorbar\":{\"outlinewidth\":0,\"ticks\":\"\"}},\"type\":\"scattercarpet\"}],\"scattergeo\":[{\"marker\":{\"colorbar\":{\"outlinewidth\":0,\"ticks\":\"\"}},\"type\":\"scattergeo\"}],\"scattergl\":[{\"marker\":{\"colorbar\":{\"outlinewidth\":0,\"ticks\":\"\"}},\"type\":\"scattergl\"}],\"scattermapbox\":[{\"marker\":{\"colorbar\":{\"outlinewidth\":0,\"ticks\":\"\"}},\"type\":\"scattermapbox\"}],\"scatterpolar\":[{\"marker\":{\"colorbar\":{\"outlinewidth\":0,\"ticks\":\"\"}},\"type\":\"scatterpolar\"}],\"scatterpolargl\":[{\"marker\":{\"colorbar\":{\"outlinewidth\":0,\"ticks\":\"\"}},\"type\":\"scatterpolargl\"}],\"scatterternary\":[{\"marker\":{\"colorbar\":{\"outlinewidth\":0,\"ticks\":\"\"}},\"type\":\"scatterternary\"}],\"surface\":[{\"colorbar\":{\"outlinewidth\":0,\"ticks\":\"\"},\"colorscale\":[[0.0,\"#0d0887\"],[0.1111111111111111,\"#46039f\"],[0.2222222222222222,\"#7201a8\"],[0.3333333333333333,\"#9c179e\"],[0.4444444444444444,\"#bd3786\"],[0.5555555555555556,\"#d8576b\"],[0.6666666666666666,\"#ed7953\"],[0.7777777777777778,\"#fb9f3a\"],[0.8888888888888888,\"#fdca26\"],[1.0,\"#f0f921\"]],\"type\":\"surface\"}],\"table\":[{\"cells\":{\"fill\":{\"color\":\"#EBF0F8\"},\"line\":{\"color\":\"white\"}},\"header\":{\"fill\":{\"color\":\"#C8D4E3\"},\"line\":{\"color\":\"white\"}},\"type\":\"table\"}]},\"layout\":{\"annotationdefaults\":{\"arrowcolor\":\"#2a3f5f\",\"arrowhead\":0,\"arrowwidth\":1},\"autotypenumbers\":\"strict\",\"coloraxis\":{\"colorbar\":{\"outlinewidth\":0,\"ticks\":\"\"}},\"colorscale\":{\"diverging\":[[0,\"#8e0152\"],[0.1,\"#c51b7d\"],[0.2,\"#de77ae\"],[0.3,\"#f1b6da\"],[0.4,\"#fde0ef\"],[0.5,\"#f7f7f7\"],[0.6,\"#e6f5d0\"],[0.7,\"#b8e186\"],[0.8,\"#7fbc41\"],[0.9,\"#4d9221\"],[1,\"#276419\"]],\"sequential\":[[0.0,\"#0d0887\"],[0.1111111111111111,\"#46039f\"],[0.2222222222222222,\"#7201a8\"],[0.3333333333333333,\"#9c179e\"],[0.4444444444444444,\"#bd3786\"],[0.5555555555555556,\"#d8576b\"],[0.6666666666666666,\"#ed7953\"],[0.7777777777777778,\"#fb9f3a\"],[0.8888888888888888,\"#fdca26\"],[1.0,\"#f0f921\"]],\"sequentialminus\":[[0.0,\"#0d0887\"],[0.1111111111111111,\"#46039f\"],[0.2222222222222222,\"#7201a8\"],[0.3333333333333333,\"#9c179e\"],[0.4444444444444444,\"#bd3786\"],[0.5555555555555556,\"#d8576b\"],[0.6666666666666666,\"#ed7953\"],[0.7777777777777778,\"#fb9f3a\"],[0.8888888888888888,\"#fdca26\"],[1.0,\"#f0f921\"]]},\"colorway\":[\"#636efa\",\"#EF553B\",\"#00cc96\",\"#ab63fa\",\"#FFA15A\",\"#19d3f3\",\"#FF6692\",\"#B6E880\",\"#FF97FF\",\"#FECB52\"],\"font\":{\"color\":\"#2a3f5f\"},\"geo\":{\"bgcolor\":\"white\",\"lakecolor\":\"white\",\"landcolor\":\"#E5ECF6\",\"showlakes\":true,\"showland\":true,\"subunitcolor\":\"white\"},\"hoverlabel\":{\"align\":\"left\"},\"hovermode\":\"closest\",\"mapbox\":{\"style\":\"light\"},\"paper_bgcolor\":\"white\",\"plot_bgcolor\":\"#E5ECF6\",\"polar\":{\"angularaxis\":{\"gridcolor\":\"white\",\"linecolor\":\"white\",\"ticks\":\"\"},\"bgcolor\":\"#E5ECF6\",\"radialaxis\":{\"gridcolor\":\"white\",\"linecolor\":\"white\",\"ticks\":\"\"}},\"scene\":{\"xaxis\":{\"backgroundcolor\":\"#E5ECF6\",\"gridcolor\":\"white\",\"gridwidth\":2,\"linecolor\":\"white\",\"showbackground\":true,\"ticks\":\"\",\"zerolinecolor\":\"white\"},\"yaxis\":{\"backgroundcolor\":\"#E5ECF6\",\"gridcolor\":\"white\",\"gridwidth\":2,\"linecolor\":\"white\",\"showbackground\":true,\"ticks\":\"\",\"zerolinecolor\":\"white\"},\"zaxis\":{\"backgroundcolor\":\"#E5ECF6\",\"gridcolor\":\"white\",\"gridwidth\":2,\"linecolor\":\"white\",\"showbackground\":true,\"ticks\":\"\",\"zerolinecolor\":\"white\"}},\"shapedefaults\":{\"line\":{\"color\":\"#2a3f5f\"}},\"ternary\":{\"aaxis\":{\"gridcolor\":\"white\",\"linecolor\":\"white\",\"ticks\":\"\"},\"baxis\":{\"gridcolor\":\"white\",\"linecolor\":\"white\",\"ticks\":\"\"},\"bgcolor\":\"#E5ECF6\",\"caxis\":{\"gridcolor\":\"white\",\"linecolor\":\"white\",\"ticks\":\"\"}},\"title\":{\"x\":0.05},\"xaxis\":{\"automargin\":true,\"gridcolor\":\"white\",\"linecolor\":\"white\",\"ticks\":\"\",\"title\":{\"standoff\":15},\"zerolinecolor\":\"white\",\"zerolinewidth\":2},\"yaxis\":{\"automargin\":true,\"gridcolor\":\"white\",\"linecolor\":\"white\",\"ticks\":\"\",\"title\":{\"standoff\":15},\"zerolinecolor\":\"white\",\"zerolinewidth\":2}}},\"xaxis\":{\"anchor\":\"y\",\"domain\":[0.0,1.0],\"title\":{\"text\":\"year\"}},\"yaxis\":{\"anchor\":\"x\",\"domain\":[0.0,1.0],\"title\":{\"text\":\"happy_score\"}},\"legend\":{\"title\":{\"text\":\"Continents\"},\"tracegroupgap\":0},\"margin\":{\"t\":60}},                        {\"responsive\": true}                    ).then(function(){\n                            \nvar gd = document.getElementById('fc0bcd26-2716-4ac1-aded-ef342095e555');\nvar x = new MutationObserver(function (mutations, observer) {{\n        var display = window.getComputedStyle(gd).display;\n        if (!display || display === 'none') {{\n            console.log([gd, 'removed!']);\n            Plotly.purge(gd);\n            observer.disconnect();\n        }}\n}});\n\n// Listen for the removal of the full notebook cells\nvar notebookContainer = gd.closest('#notebook-container');\nif (notebookContainer) {{\n    x.observe(notebookContainer, {childList: true});\n}}\n\n// Listen for the clearing of the current output cell\nvar outputEl = gd.closest('.output');\nif (outputEl) {{\n    x.observe(outputEl, {childList: true});\n}}\n\n                        })                };                            </script>        </div>\n</body>\n</html>"
     },
     "execution_count": 55,
     "metadata": {
     },
     "output_type": "execute_result"
    }
   ],
   "source": [
    "fig = px.line(cont_year_score,x = \"year\", y = \"happy_score\" ,color =  'Continents')\n",
    "fig.show()"
   ]
  },
  {
   "cell_type": "markdown",
   "metadata": {
    "collapsed": false
   },
   "source": [
    "<h2>\n",
    "<a>\n",
    "Top 2 countries from each continents\n",
    "    </a>\n",
    "\n",
    "</h2>\n",
    "\n"
   ]
  },
  {
   "cell_type": "code",
   "execution_count": 56,
   "metadata": {
    "collapsed": false
   },
   "outputs": [
   ],
   "source": [
    "India = happy_all_df[happy_all_df[\"Country name\"] == \"India\"]\n",
    "China = happy_all_df[happy_all_df[\"Country name\"] == \"China\"]\n",
    "USA = happy_all_df[happy_all_df[\"Country name\"] == \"United States\"]\n",
    "Canada = happy_all_df[happy_all_df[\"Country name\"] == \"Canada\"]\n",
    "Israel = happy_all_df[happy_all_df[\"Country name\"] == \"Israel\"]\n",
    "Australia = happy_all_df[happy_all_df[\"Country name\"] == \"Australia\"]\n",
    "NZ = happy_all_df[happy_all_df[\"Country name\"] == \"New Zealand\"]\n",
    "Finland = happy_all_df[happy_all_df[\"Country name\"] == \"Finland\"]\n",
    "Iceland = happy_all_df[happy_all_df[\"Country name\"] == \"Iceland\"]\n",
    "Uruguay = happy_all_df[happy_all_df[\"Country name\"] == \"Uruguay\"]\n",
    "Saudi_Arabia = happy_all_df[happy_all_df[\"Country name\"] == \"Saudi Arabia\"]\n",
    "Chile = happy_all_df[happy_all_df[\"Country name\"] == \"Chile\"]"
   ]
  },
  {
   "cell_type": "code",
   "execution_count": 57,
   "metadata": {
    "collapsed": false
   },
   "outputs": [
   ],
   "source": [
    "top_10_final = pd.concat([India,China, USA, Canada, Israel, Australia, NZ, Finland, Iceland, Uruguay, Saudi_Arabia, Chile])"
   ]
  },
  {
   "cell_type": "code",
   "execution_count": 58,
   "metadata": {
    "collapsed": false,
    "scrolled": true
   },
   "outputs": [
    {
     "data": {
      "text/html": [
       "<div>\n",
       "<style scoped>\n",
       "    .dataframe tbody tr th:only-of-type {\n",
       "        vertical-align: middle;\n",
       "    }\n",
       "\n",
       "    .dataframe tbody tr th {\n",
       "        vertical-align: top;\n",
       "    }\n",
       "\n",
       "    .dataframe thead th {\n",
       "        text-align: right;\n",
       "    }\n",
       "</style>\n",
       "<table border=\"1\" class=\"dataframe\">\n",
       "  <thead>\n",
       "    <tr style=\"text-align: right;\">\n",
       "      <th></th>\n",
       "      <th>Country name</th>\n",
       "      <th>year</th>\n",
       "      <th>happy_score</th>\n",
       "      <th>Log GDP per capita</th>\n",
       "      <th>Social support</th>\n",
       "      <th>Healthy life expectancy at birth</th>\n",
       "      <th>Freedom to make life choices</th>\n",
       "      <th>Generosity</th>\n",
       "      <th>Perceptions of corruption</th>\n",
       "      <th>Positive affect</th>\n",
       "      <th>Negative affect</th>\n",
       "      <th>Continents</th>\n",
       "    </tr>\n",
       "  </thead>\n",
       "  <tbody>\n",
       "    <tr>\n",
       "      <th>671</th>\n",
       "      <td>India</td>\n",
       "      <td>2006</td>\n",
       "      <td>5.348</td>\n",
       "      <td>8.145</td>\n",
       "      <td>0.707</td>\n",
       "      <td>55.72</td>\n",
       "      <td>0.774</td>\n",
       "      <td>NaN</td>\n",
       "      <td>0.855</td>\n",
       "      <td>0.687</td>\n",
       "      <td>0.199</td>\n",
       "      <td>Asia</td>\n",
       "    </tr>\n",
       "    <tr>\n",
       "      <th>672</th>\n",
       "      <td>India</td>\n",
       "      <td>2007</td>\n",
       "      <td>5.027</td>\n",
       "      <td>8.204</td>\n",
       "      <td>0.569</td>\n",
       "      <td>56.14</td>\n",
       "      <td>0.729</td>\n",
       "      <td>-0.051</td>\n",
       "      <td>0.862</td>\n",
       "      <td>0.668</td>\n",
       "      <td>0.253</td>\n",
       "      <td>Asia</td>\n",
       "    </tr>\n",
       "    <tr>\n",
       "      <th>673</th>\n",
       "      <td>India</td>\n",
       "      <td>2008</td>\n",
       "      <td>5.146</td>\n",
       "      <td>8.220</td>\n",
       "      <td>0.684</td>\n",
       "      <td>56.56</td>\n",
       "      <td>0.756</td>\n",
       "      <td>-0.072</td>\n",
       "      <td>0.891</td>\n",
       "      <td>0.674</td>\n",
       "      <td>0.259</td>\n",
       "      <td>Asia</td>\n",
       "    </tr>\n",
       "    <tr>\n",
       "      <th>674</th>\n",
       "      <td>India</td>\n",
       "      <td>2009</td>\n",
       "      <td>4.522</td>\n",
       "      <td>8.281</td>\n",
       "      <td>0.653</td>\n",
       "      <td>56.98</td>\n",
       "      <td>0.679</td>\n",
       "      <td>-0.026</td>\n",
       "      <td>0.895</td>\n",
       "      <td>0.771</td>\n",
       "      <td>0.301</td>\n",
       "      <td>Asia</td>\n",
       "    </tr>\n",
       "    <tr>\n",
       "      <th>675</th>\n",
       "      <td>India</td>\n",
       "      <td>2010</td>\n",
       "      <td>4.989</td>\n",
       "      <td>8.349</td>\n",
       "      <td>0.605</td>\n",
       "      <td>57.40</td>\n",
       "      <td>0.783</td>\n",
       "      <td>0.058</td>\n",
       "      <td>0.863</td>\n",
       "      <td>0.697</td>\n",
       "      <td>0.267</td>\n",
       "      <td>Asia</td>\n",
       "    </tr>\n",
       "  </tbody>\n",
       "</table>\n",
       "</div>"
      ],
      "text/plain": [
       "    Country name  year  happy_score  Log GDP per capita  Social support  \\\n",
       "671        India  2006        5.348               8.145           0.707   \n",
       "672        India  2007        5.027               8.204           0.569   \n",
       "673        India  2008        5.146               8.220           0.684   \n",
       "674        India  2009        4.522               8.281           0.653   \n",
       "675        India  2010        4.989               8.349           0.605   \n",
       "\n",
       "     Healthy life expectancy at birth  Freedom to make life choices  \\\n",
       "671                             55.72                         0.774   \n",
       "672                             56.14                         0.729   \n",
       "673                             56.56                         0.756   \n",
       "674                             56.98                         0.679   \n",
       "675                             57.40                         0.783   \n",
       "\n",
       "     Generosity  Perceptions of corruption  Positive affect  Negative affect  \\\n",
       "671         NaN                      0.855            0.687            0.199   \n",
       "672      -0.051                      0.862            0.668            0.253   \n",
       "673      -0.072                      0.891            0.674            0.259   \n",
       "674      -0.026                      0.895            0.771            0.301   \n",
       "675       0.058                      0.863            0.697            0.267   \n",
       "\n",
       "    Continents  \n",
       "671       Asia  \n",
       "672       Asia  \n",
       "673       Asia  \n",
       "674       Asia  \n",
       "675       Asia  "
      ]
     },
     "execution_count": 58,
     "metadata": {
     },
     "output_type": "execute_result"
    }
   ],
   "source": [
    "top_10_final.head()"
   ]
  },
  {
   "cell_type": "markdown",
   "metadata": {
    "collapsed": false
   },
   "source": [
    "<h2><a>Happyscore over the year top 2 countries from each continent</a></h2>\n",
    "\n",
    "- This line graph demonstrates the trend of happy scores in different countries with respect to years. \n",
    "\n",
    "- Each line’s color represents the country, the dots along each line correspond to the year on y\\-axis and the country’s happy score in that year. All countries’ trends in happiness score are different except in the year of 2019 \\(When Covid breakout\\), most top countries' happiness score **decreased** or **didn’t increase a lot.**\n",
    "\n",
    "- It is different than the general trend \\(global trend and continental trend\\), because most of these top countries were **impact by global pandemic significantlly.**\n",
    "\n"
   ]
  },
  {
   "cell_type": "code",
   "execution_count": 59,
   "metadata": {
    "collapsed": false
   },
   "outputs": [
    {
     "data": {
      "text/html": "<html>\n<head><meta charset=\"utf-8\" /></head>\n<body>\n    <div>            <script src=\"https://cdnjs.cloudflare.com/ajax/libs/mathjax/2.7.5/MathJax.js?config=TeX-AMS-MML_SVG\"></script><script type=\"text/javascript\">if (window.MathJax) {MathJax.Hub.Config({SVG: {font: \"STIX-Web\"}});}</script>                <script type=\"text/javascript\">window.PlotlyConfig = {MathJaxConfig: 'local'};</script>\n        <script src=\"https://cdn.plot.ly/plotly-2.9.0.min.js\"></script>                <div id=\"6b07fd99-87fd-4113-9c6a-a2a7deb3c9c2\" class=\"plotly-graph-div\" style=\"height:525px; width:100%;\"></div>            <script type=\"text/javascript\">                                    window.PLOTLYENV=window.PLOTLYENV || {};                                    if (document.getElementById(\"6b07fd99-87fd-4113-9c6a-a2a7deb3c9c2\")) {                    Plotly.newPlot(                        \"6b07fd99-87fd-4113-9c6a-a2a7deb3c9c2\",                        [{\"hovertemplate\":\"Country name=India<br>year=%{x}<br>happy_score=%{y}<extra></extra>\",\"legendgroup\":\"India\",\"line\":{\"color\":\"#636efa\",\"dash\":\"solid\"},\"marker\":{\"symbol\":\"circle\"},\"mode\":\"lines\",\"name\":\"India\",\"orientation\":\"v\",\"showlegend\":true,\"x\":[2006,2007,2008,2009,2010,2011,2012,2013,2014,2015,2016,2017,2018,2019,2020],\"xaxis\":\"x\",\"y\":[5.348,5.027,5.146,4.522,4.989,4.635,4.72,4.428,4.424,4.342,4.179,4.046,3.818,3.249,4.225],\"yaxis\":\"y\",\"type\":\"scatter\",\"textposition\":\"bottom right\"},{\"hovertemplate\":\"Country name=China<br>year=%{x}<br>happy_score=%{y}<extra></extra>\",\"legendgroup\":\"China\",\"line\":{\"color\":\"#EF553B\",\"dash\":\"solid\"},\"marker\":{\"symbol\":\"circle\"},\"mode\":\"lines\",\"name\":\"China\",\"orientation\":\"v\",\"showlegend\":true,\"x\":[2006,2007,2008,2009,2010,2011,2012,2013,2014,2015,2016,2017,2018,2019,2020],\"xaxis\":\"x\",\"y\":[4.56,4.863,4.846,4.454,4.653,5.037,5.095,5.241,5.196,5.304,5.325,5.099,5.131,5.144,5.771],\"yaxis\":\"y\",\"type\":\"scatter\",\"textposition\":\"bottom right\"},{\"hovertemplate\":\"Country name=United States<br>year=%{x}<br>happy_score=%{y}<extra></extra>\",\"legendgroup\":\"United States\",\"line\":{\"color\":\"#00cc96\",\"dash\":\"solid\"},\"marker\":{\"symbol\":\"circle\"},\"mode\":\"lines\",\"name\":\"United States\",\"orientation\":\"v\",\"showlegend\":true,\"x\":[2006,2007,2008,2009,2010,2011,2012,2013,2014,2015,2016,2017,2018,2019,2020],\"xaxis\":\"x\",\"y\":[7.182,7.513,7.28,7.158,7.164,7.115,7.026,7.249,7.151,6.864,6.804,6.992,6.883,6.944,7.028],\"yaxis\":\"y\",\"type\":\"scatter\",\"textposition\":\"bottom right\"},{\"hovertemplate\":\"Country name=Canada<br>year=%{x}<br>happy_score=%{y}<extra></extra>\",\"legendgroup\":\"Canada\",\"line\":{\"color\":\"#ab63fa\",\"dash\":\"solid\"},\"marker\":{\"symbol\":\"circle\"},\"mode\":\"lines\",\"name\":\"Canada\",\"orientation\":\"v\",\"showlegend\":true,\"x\":[2005,2007,2008,2009,2010,2011,2012,2013,2014,2015,2016,2017,2018,2019,2020],\"xaxis\":\"x\",\"y\":[7.418,7.482,7.486,7.488,7.65,7.426,7.415,7.594,7.304,7.413,7.245,7.415,7.175,7.109,7.025],\"yaxis\":\"y\",\"type\":\"scatter\",\"textposition\":\"bottom right\"},{\"hovertemplate\":\"Country name=Israel<br>year=%{x}<br>happy_score=%{y}<extra></extra>\",\"legendgroup\":\"Israel\",\"line\":{\"color\":\"#FFA15A\",\"dash\":\"solid\"},\"marker\":{\"symbol\":\"circle\"},\"mode\":\"lines\",\"name\":\"Israel\",\"orientation\":\"v\",\"showlegend\":true,\"x\":[2006,2007,2008,2009,2010,2011,2012,2013,2014,2015,2016,2017,2018,2019,2020],\"xaxis\":\"x\",\"y\":[7.173,6.841,7.261,7.353,7.359,7.433,7.111,7.321,7.401,7.079,7.159,7.331,6.927,7.332,7.195],\"yaxis\":\"y\",\"type\":\"scatter\",\"textposition\":\"bottom right\"},{\"hovertemplate\":\"Country name=Australia<br>year=%{x}<br>happy_score=%{y}<extra></extra>\",\"legendgroup\":\"Australia\",\"line\":{\"color\":\"#19d3f3\",\"dash\":\"solid\"},\"marker\":{\"symbol\":\"circle\"},\"mode\":\"lines\",\"name\":\"Australia\",\"orientation\":\"v\",\"showlegend\":true,\"x\":[2005,2007,2008,2010,2011,2012,2013,2014,2015,2016,2017,2018,2019,2020],\"xaxis\":\"x\",\"y\":[7.341,7.285,7.254,7.45,7.406,7.196,7.364,7.289,7.309,7.25,7.257,7.177,7.234,7.137],\"yaxis\":\"y\",\"type\":\"scatter\",\"textposition\":\"bottom right\"},{\"hovertemplate\":\"Country name=New Zealand<br>year=%{x}<br>happy_score=%{y}<extra></extra>\",\"legendgroup\":\"New Zealand\",\"line\":{\"color\":\"#FF6692\",\"dash\":\"solid\"},\"marker\":{\"symbol\":\"circle\"},\"mode\":\"lines\",\"name\":\"New Zealand\",\"orientation\":\"v\",\"showlegend\":true,\"x\":[2006,2007,2008,2010,2011,2012,2013,2014,2015,2016,2017,2018,2019,2020],\"xaxis\":\"x\",\"y\":[7.305,7.604,7.381,7.224,7.191,7.25,7.28,7.306,7.418,7.226,7.327,7.37,7.205,7.257],\"yaxis\":\"y\",\"type\":\"scatter\",\"textposition\":\"bottom right\"},{\"hovertemplate\":\"Country name=Finland<br>year=%{x}<br>happy_score=%{y}<extra></extra>\",\"legendgroup\":\"Finland\",\"line\":{\"color\":\"#B6E880\",\"dash\":\"solid\"},\"marker\":{\"symbol\":\"circle\"},\"mode\":\"lines\",\"name\":\"Finland\",\"orientation\":\"v\",\"showlegend\":true,\"x\":[2006,2008,2010,2011,2012,2013,2014,2015,2016,2017,2018,2019,2020],\"xaxis\":\"x\",\"y\":[7.672,7.671,7.393,7.354,7.42,7.445,7.385,7.448,7.66,7.788,7.858,7.78,7.889],\"yaxis\":\"y\",\"type\":\"scatter\",\"textposition\":\"bottom right\"},{\"hovertemplate\":\"Country name=Iceland<br>year=%{x}<br>happy_score=%{y}<extra></extra>\",\"legendgroup\":\"Iceland\",\"line\":{\"color\":\"#FF97FF\",\"dash\":\"solid\"},\"marker\":{\"symbol\":\"circle\"},\"mode\":\"lines\",\"name\":\"Iceland\",\"orientation\":\"v\",\"showlegend\":true,\"x\":[2008,2012,2013,2015,2016,2017,2019,2020],\"xaxis\":\"x\",\"y\":[6.888,7.591,7.501,7.498,7.51,7.476,7.533,7.575],\"yaxis\":\"y\",\"type\":\"scatter\",\"textposition\":\"bottom right\"},{\"hovertemplate\":\"Country name=Uruguay<br>year=%{x}<br>happy_score=%{y}<extra></extra>\",\"legendgroup\":\"Uruguay\",\"line\":{\"color\":\"#FECB52\",\"dash\":\"solid\"},\"marker\":{\"symbol\":\"circle\"},\"mode\":\"lines\",\"name\":\"Uruguay\",\"orientation\":\"v\",\"showlegend\":true,\"x\":[2006,2007,2008,2009,2010,2011,2012,2013,2014,2015,2016,2017,2018,2019,2020],\"xaxis\":\"x\",\"y\":[5.786,5.694,5.664,6.296,6.062,6.554,6.45,6.444,6.561,6.628,6.171,6.336,6.372,6.6,6.31],\"yaxis\":\"y\",\"type\":\"scatter\",\"textposition\":\"bottom right\"},{\"hovertemplate\":\"Country name=Saudi Arabia<br>year=%{x}<br>happy_score=%{y}<extra></extra>\",\"legendgroup\":\"Saudi Arabia\",\"line\":{\"color\":\"#636efa\",\"dash\":\"solid\"},\"marker\":{\"symbol\":\"circle\"},\"mode\":\"lines\",\"name\":\"Saudi Arabia\",\"orientation\":\"v\",\"showlegend\":true,\"x\":[2005,2007,2008,2009,2010,2011,2012,2013,2014,2015,2016,2017,2018,2019,2020],\"xaxis\":\"x\",\"y\":[7.08,7.267,6.811,6.148,6.307,6.7,6.396,6.495,6.278,6.345,6.474,6.294,6.356,6.561,6.56],\"yaxis\":\"y\",\"type\":\"scatter\",\"textposition\":\"bottom right\"},{\"hovertemplate\":\"Country name=Chile<br>year=%{x}<br>happy_score=%{y}<extra></extra>\",\"legendgroup\":\"Chile\",\"line\":{\"color\":\"#EF553B\",\"dash\":\"solid\"},\"marker\":{\"symbol\":\"circle\"},\"mode\":\"lines\",\"name\":\"Chile\",\"orientation\":\"v\",\"showlegend\":true,\"x\":[2006,2007,2008,2009,2010,2011,2012,2013,2014,2015,2016,2017,2018,2019,2020],\"xaxis\":\"x\",\"y\":[6.063,5.698,5.789,6.494,6.636,6.526,6.599,6.74,6.844,6.533,6.579,6.32,6.436,5.942,6.151],\"yaxis\":\"y\",\"type\":\"scatter\",\"textposition\":\"bottom right\"}],                        {\"template\":{\"data\":{\"bar\":[{\"error_x\":{\"color\":\"#2a3f5f\"},\"error_y\":{\"color\":\"#2a3f5f\"},\"marker\":{\"line\":{\"color\":\"#E5ECF6\",\"width\":0.5},\"pattern\":{\"fillmode\":\"overlay\",\"size\":10,\"solidity\":0.2}},\"type\":\"bar\"}],\"barpolar\":[{\"marker\":{\"line\":{\"color\":\"#E5ECF6\",\"width\":0.5},\"pattern\":{\"fillmode\":\"overlay\",\"size\":10,\"solidity\":0.2}},\"type\":\"barpolar\"}],\"carpet\":[{\"aaxis\":{\"endlinecolor\":\"#2a3f5f\",\"gridcolor\":\"white\",\"linecolor\":\"white\",\"minorgridcolor\":\"white\",\"startlinecolor\":\"#2a3f5f\"},\"baxis\":{\"endlinecolor\":\"#2a3f5f\",\"gridcolor\":\"white\",\"linecolor\":\"white\",\"minorgridcolor\":\"white\",\"startlinecolor\":\"#2a3f5f\"},\"type\":\"carpet\"}],\"choropleth\":[{\"colorbar\":{\"outlinewidth\":0,\"ticks\":\"\"},\"type\":\"choropleth\"}],\"contour\":[{\"colorbar\":{\"outlinewidth\":0,\"ticks\":\"\"},\"colorscale\":[[0.0,\"#0d0887\"],[0.1111111111111111,\"#46039f\"],[0.2222222222222222,\"#7201a8\"],[0.3333333333333333,\"#9c179e\"],[0.4444444444444444,\"#bd3786\"],[0.5555555555555556,\"#d8576b\"],[0.6666666666666666,\"#ed7953\"],[0.7777777777777778,\"#fb9f3a\"],[0.8888888888888888,\"#fdca26\"],[1.0,\"#f0f921\"]],\"type\":\"contour\"}],\"contourcarpet\":[{\"colorbar\":{\"outlinewidth\":0,\"ticks\":\"\"},\"type\":\"contourcarpet\"}],\"heatmap\":[{\"colorbar\":{\"outlinewidth\":0,\"ticks\":\"\"},\"colorscale\":[[0.0,\"#0d0887\"],[0.1111111111111111,\"#46039f\"],[0.2222222222222222,\"#7201a8\"],[0.3333333333333333,\"#9c179e\"],[0.4444444444444444,\"#bd3786\"],[0.5555555555555556,\"#d8576b\"],[0.6666666666666666,\"#ed7953\"],[0.7777777777777778,\"#fb9f3a\"],[0.8888888888888888,\"#fdca26\"],[1.0,\"#f0f921\"]],\"type\":\"heatmap\"}],\"heatmapgl\":[{\"colorbar\":{\"outlinewidth\":0,\"ticks\":\"\"},\"colorscale\":[[0.0,\"#0d0887\"],[0.1111111111111111,\"#46039f\"],[0.2222222222222222,\"#7201a8\"],[0.3333333333333333,\"#9c179e\"],[0.4444444444444444,\"#bd3786\"],[0.5555555555555556,\"#d8576b\"],[0.6666666666666666,\"#ed7953\"],[0.7777777777777778,\"#fb9f3a\"],[0.8888888888888888,\"#fdca26\"],[1.0,\"#f0f921\"]],\"type\":\"heatmapgl\"}],\"histogram\":[{\"marker\":{\"pattern\":{\"fillmode\":\"overlay\",\"size\":10,\"solidity\":0.2}},\"type\":\"histogram\"}],\"histogram2d\":[{\"colorbar\":{\"outlinewidth\":0,\"ticks\":\"\"},\"colorscale\":[[0.0,\"#0d0887\"],[0.1111111111111111,\"#46039f\"],[0.2222222222222222,\"#7201a8\"],[0.3333333333333333,\"#9c179e\"],[0.4444444444444444,\"#bd3786\"],[0.5555555555555556,\"#d8576b\"],[0.6666666666666666,\"#ed7953\"],[0.7777777777777778,\"#fb9f3a\"],[0.8888888888888888,\"#fdca26\"],[1.0,\"#f0f921\"]],\"type\":\"histogram2d\"}],\"histogram2dcontour\":[{\"colorbar\":{\"outlinewidth\":0,\"ticks\":\"\"},\"colorscale\":[[0.0,\"#0d0887\"],[0.1111111111111111,\"#46039f\"],[0.2222222222222222,\"#7201a8\"],[0.3333333333333333,\"#9c179e\"],[0.4444444444444444,\"#bd3786\"],[0.5555555555555556,\"#d8576b\"],[0.6666666666666666,\"#ed7953\"],[0.7777777777777778,\"#fb9f3a\"],[0.8888888888888888,\"#fdca26\"],[1.0,\"#f0f921\"]],\"type\":\"histogram2dcontour\"}],\"mesh3d\":[{\"colorbar\":{\"outlinewidth\":0,\"ticks\":\"\"},\"type\":\"mesh3d\"}],\"parcoords\":[{\"line\":{\"colorbar\":{\"outlinewidth\":0,\"ticks\":\"\"}},\"type\":\"parcoords\"}],\"pie\":[{\"automargin\":true,\"type\":\"pie\"}],\"scatter\":[{\"marker\":{\"colorbar\":{\"outlinewidth\":0,\"ticks\":\"\"}},\"type\":\"scatter\"}],\"scatter3d\":[{\"line\":{\"colorbar\":{\"outlinewidth\":0,\"ticks\":\"\"}},\"marker\":{\"colorbar\":{\"outlinewidth\":0,\"ticks\":\"\"}},\"type\":\"scatter3d\"}],\"scattercarpet\":[{\"marker\":{\"colorbar\":{\"outlinewidth\":0,\"ticks\":\"\"}},\"type\":\"scattercarpet\"}],\"scattergeo\":[{\"marker\":{\"colorbar\":{\"outlinewidth\":0,\"ticks\":\"\"}},\"type\":\"scattergeo\"}],\"scattergl\":[{\"marker\":{\"colorbar\":{\"outlinewidth\":0,\"ticks\":\"\"}},\"type\":\"scattergl\"}],\"scattermapbox\":[{\"marker\":{\"colorbar\":{\"outlinewidth\":0,\"ticks\":\"\"}},\"type\":\"scattermapbox\"}],\"scatterpolar\":[{\"marker\":{\"colorbar\":{\"outlinewidth\":0,\"ticks\":\"\"}},\"type\":\"scatterpolar\"}],\"scatterpolargl\":[{\"marker\":{\"colorbar\":{\"outlinewidth\":0,\"ticks\":\"\"}},\"type\":\"scatterpolargl\"}],\"scatterternary\":[{\"marker\":{\"colorbar\":{\"outlinewidth\":0,\"ticks\":\"\"}},\"type\":\"scatterternary\"}],\"surface\":[{\"colorbar\":{\"outlinewidth\":0,\"ticks\":\"\"},\"colorscale\":[[0.0,\"#0d0887\"],[0.1111111111111111,\"#46039f\"],[0.2222222222222222,\"#7201a8\"],[0.3333333333333333,\"#9c179e\"],[0.4444444444444444,\"#bd3786\"],[0.5555555555555556,\"#d8576b\"],[0.6666666666666666,\"#ed7953\"],[0.7777777777777778,\"#fb9f3a\"],[0.8888888888888888,\"#fdca26\"],[1.0,\"#f0f921\"]],\"type\":\"surface\"}],\"table\":[{\"cells\":{\"fill\":{\"color\":\"#EBF0F8\"},\"line\":{\"color\":\"white\"}},\"header\":{\"fill\":{\"color\":\"#C8D4E3\"},\"line\":{\"color\":\"white\"}},\"type\":\"table\"}]},\"layout\":{\"annotationdefaults\":{\"arrowcolor\":\"#2a3f5f\",\"arrowhead\":0,\"arrowwidth\":1},\"autotypenumbers\":\"strict\",\"coloraxis\":{\"colorbar\":{\"outlinewidth\":0,\"ticks\":\"\"}},\"colorscale\":{\"diverging\":[[0,\"#8e0152\"],[0.1,\"#c51b7d\"],[0.2,\"#de77ae\"],[0.3,\"#f1b6da\"],[0.4,\"#fde0ef\"],[0.5,\"#f7f7f7\"],[0.6,\"#e6f5d0\"],[0.7,\"#b8e186\"],[0.8,\"#7fbc41\"],[0.9,\"#4d9221\"],[1,\"#276419\"]],\"sequential\":[[0.0,\"#0d0887\"],[0.1111111111111111,\"#46039f\"],[0.2222222222222222,\"#7201a8\"],[0.3333333333333333,\"#9c179e\"],[0.4444444444444444,\"#bd3786\"],[0.5555555555555556,\"#d8576b\"],[0.6666666666666666,\"#ed7953\"],[0.7777777777777778,\"#fb9f3a\"],[0.8888888888888888,\"#fdca26\"],[1.0,\"#f0f921\"]],\"sequentialminus\":[[0.0,\"#0d0887\"],[0.1111111111111111,\"#46039f\"],[0.2222222222222222,\"#7201a8\"],[0.3333333333333333,\"#9c179e\"],[0.4444444444444444,\"#bd3786\"],[0.5555555555555556,\"#d8576b\"],[0.6666666666666666,\"#ed7953\"],[0.7777777777777778,\"#fb9f3a\"],[0.8888888888888888,\"#fdca26\"],[1.0,\"#f0f921\"]]},\"colorway\":[\"#636efa\",\"#EF553B\",\"#00cc96\",\"#ab63fa\",\"#FFA15A\",\"#19d3f3\",\"#FF6692\",\"#B6E880\",\"#FF97FF\",\"#FECB52\"],\"font\":{\"color\":\"#2a3f5f\"},\"geo\":{\"bgcolor\":\"white\",\"lakecolor\":\"white\",\"landcolor\":\"#E5ECF6\",\"showlakes\":true,\"showland\":true,\"subunitcolor\":\"white\"},\"hoverlabel\":{\"align\":\"left\"},\"hovermode\":\"closest\",\"mapbox\":{\"style\":\"light\"},\"paper_bgcolor\":\"white\",\"plot_bgcolor\":\"#E5ECF6\",\"polar\":{\"angularaxis\":{\"gridcolor\":\"white\",\"linecolor\":\"white\",\"ticks\":\"\"},\"bgcolor\":\"#E5ECF6\",\"radialaxis\":{\"gridcolor\":\"white\",\"linecolor\":\"white\",\"ticks\":\"\"}},\"scene\":{\"xaxis\":{\"backgroundcolor\":\"#E5ECF6\",\"gridcolor\":\"white\",\"gridwidth\":2,\"linecolor\":\"white\",\"showbackground\":true,\"ticks\":\"\",\"zerolinecolor\":\"white\"},\"yaxis\":{\"backgroundcolor\":\"#E5ECF6\",\"gridcolor\":\"white\",\"gridwidth\":2,\"linecolor\":\"white\",\"showbackground\":true,\"ticks\":\"\",\"zerolinecolor\":\"white\"},\"zaxis\":{\"backgroundcolor\":\"#E5ECF6\",\"gridcolor\":\"white\",\"gridwidth\":2,\"linecolor\":\"white\",\"showbackground\":true,\"ticks\":\"\",\"zerolinecolor\":\"white\"}},\"shapedefaults\":{\"line\":{\"color\":\"#2a3f5f\"}},\"ternary\":{\"aaxis\":{\"gridcolor\":\"white\",\"linecolor\":\"white\",\"ticks\":\"\"},\"baxis\":{\"gridcolor\":\"white\",\"linecolor\":\"white\",\"ticks\":\"\"},\"bgcolor\":\"#E5ECF6\",\"caxis\":{\"gridcolor\":\"white\",\"linecolor\":\"white\",\"ticks\":\"\"}},\"title\":{\"x\":0.05},\"xaxis\":{\"automargin\":true,\"gridcolor\":\"white\",\"linecolor\":\"white\",\"ticks\":\"\",\"title\":{\"standoff\":15},\"zerolinecolor\":\"white\",\"zerolinewidth\":2},\"yaxis\":{\"automargin\":true,\"gridcolor\":\"white\",\"linecolor\":\"white\",\"ticks\":\"\",\"title\":{\"standoff\":15},\"zerolinecolor\":\"white\",\"zerolinewidth\":2}}},\"xaxis\":{\"anchor\":\"y\",\"domain\":[0.0,1.0],\"title\":{\"text\":\"year\"}},\"yaxis\":{\"anchor\":\"x\",\"domain\":[0.0,1.0],\"title\":{\"text\":\"happy_score\"}},\"legend\":{\"title\":{\"text\":\"Country name\"},\"tracegroupgap\":0},\"margin\":{\"t\":60}},                        {\"responsive\": true}                    ).then(function(){\n                            \nvar gd = document.getElementById('6b07fd99-87fd-4113-9c6a-a2a7deb3c9c2');\nvar x = new MutationObserver(function (mutations, observer) {{\n        var display = window.getComputedStyle(gd).display;\n        if (!display || display === 'none') {{\n            console.log([gd, 'removed!']);\n            Plotly.purge(gd);\n            observer.disconnect();\n        }}\n}});\n\n// Listen for the removal of the full notebook cells\nvar notebookContainer = gd.closest('#notebook-container');\nif (notebookContainer) {{\n    x.observe(notebookContainer, {childList: true});\n}}\n\n// Listen for the clearing of the current output cell\nvar outputEl = gd.closest('.output');\nif (outputEl) {{\n    x.observe(outputEl, {childList: true});\n}}\n\n                        })                };                            </script>        </div>\n</body>\n</html>"
     },
     "execution_count": 59,
     "metadata": {
     },
     "output_type": "execute_result"
    }
   ],
   "source": [
    "fig = px.line(top_10_final,x = \"year\", y = \"happy_score\",color = 'Country name')\n",
    "fig.update_traces(textposition=\"bottom right\")\n",
    "fig.show()"
   ]
  },
  {
   "cell_type": "markdown",
   "metadata": {
    "collapsed": false
   },
   "source": [
    "<h2><a>GDP over the years in 12 countries</a></h2>\n",
    "\n",
    "- This line graph shows the trend of GDP in 12 countries with respect to years. Besides the year and GDP provided on x and y axis, the happy scores of the country in each year were also labeled on every data point. \n",
    "\n",
    "- Through the graph, we can also find the relationship between the happy score and GDP. For instance, there’s a **positive correlation between China’s happy score and GDP**, but there’s a **negative correlation between India’s happy score and GDP.**\n",
    "\n"
   ]
  },
  {
   "cell_type": "code",
   "execution_count": 60,
   "metadata": {
    "collapsed": false
   },
   "outputs": [
    {
     "data": {
      "text/html": "<html>\n<head><meta charset=\"utf-8\" /></head>\n<body>\n    <div>            <script src=\"https://cdnjs.cloudflare.com/ajax/libs/mathjax/2.7.5/MathJax.js?config=TeX-AMS-MML_SVG\"></script><script type=\"text/javascript\">if (window.MathJax) {MathJax.Hub.Config({SVG: {font: \"STIX-Web\"}});}</script>                <script type=\"text/javascript\">window.PlotlyConfig = {MathJaxConfig: 'local'};</script>\n        <script src=\"https://cdn.plot.ly/plotly-2.9.0.min.js\"></script>                <div id=\"bf58afe6-a0bd-4ddf-bea3-1a7bdd29a46e\" class=\"plotly-graph-div\" style=\"height:525px; width:100%;\"></div>            <script type=\"text/javascript\">                                    window.PLOTLYENV=window.PLOTLYENV || {};                                    if (document.getElementById(\"bf58afe6-a0bd-4ddf-bea3-1a7bdd29a46e\")) {                    Plotly.newPlot(                        \"bf58afe6-a0bd-4ddf-bea3-1a7bdd29a46e\",                        [{\"hovertemplate\":\"Country name=India<br>year=%{x}<br>Log GDP per capita=%{y}<br>happy_score=%{text}<extra></extra>\",\"legendgroup\":\"India\",\"line\":{\"color\":\"#636efa\",\"dash\":\"solid\"},\"marker\":{\"symbol\":\"circle\"},\"mode\":\"text+lines+markers\",\"name\":\"India\",\"orientation\":\"v\",\"showlegend\":true,\"text\":[5.348,5.027,5.146,4.522,4.989,4.635,4.72,4.428,4.424,4.342,4.179,4.046,3.818,3.249,4.225],\"x\":[2006,2007,2008,2009,2010,2011,2012,2013,2014,2015,2016,2017,2018,2019,2020],\"xaxis\":\"x\",\"y\":[8.145,8.204,8.22,8.281,8.349,8.387,8.428,8.478,8.538,8.604,8.673,8.73,8.779,8.818,8.703],\"yaxis\":\"y\",\"type\":\"scatter\",\"textposition\":\"bottom right\"},{\"hovertemplate\":\"Country name=China<br>year=%{x}<br>Log GDP per capita=%{y}<br>happy_score=%{text}<extra></extra>\",\"legendgroup\":\"China\",\"line\":{\"color\":\"#EF553B\",\"dash\":\"solid\"},\"marker\":{\"symbol\":\"circle\"},\"mode\":\"text+lines+markers\",\"name\":\"China\",\"orientation\":\"v\",\"showlegend\":true,\"text\":[4.56,4.863,4.846,4.454,4.653,5.037,5.095,5.241,5.196,5.304,5.325,5.099,5.131,5.144,5.771],\"x\":[2006,2007,2008,2009,2010,2011,2012,2013,2014,2015,2016,2017,2018,2019,2020],\"xaxis\":\"x\",\"y\":[8.696,8.824,8.911,8.996,9.092,9.179,9.249,9.319,9.386,9.449,9.51,9.571,9.632,9.688,9.702],\"yaxis\":\"y\",\"type\":\"scatter\",\"textposition\":\"bottom right\"},{\"hovertemplate\":\"Country name=United States<br>year=%{x}<br>Log GDP per capita=%{y}<br>happy_score=%{text}<extra></extra>\",\"legendgroup\":\"United States\",\"line\":{\"color\":\"#00cc96\",\"dash\":\"solid\"},\"marker\":{\"symbol\":\"circle\"},\"mode\":\"text+lines+markers\",\"name\":\"United States\",\"orientation\":\"v\",\"showlegend\":true,\"text\":[7.182,7.513,7.28,7.158,7.164,7.115,7.026,7.249,7.151,6.864,6.804,6.992,6.883,6.944,7.028],\"x\":[2006,2007,2008,2009,2010,2011,2012,2013,2014,2015,2016,2017,2018,2019,2020],\"xaxis\":\"x\",\"y\":[10.924,10.933,10.922,10.888,10.905,10.913,10.928,10.939,10.956,10.977,10.986,11.001,11.025,11.043,11.001],\"yaxis\":\"y\",\"type\":\"scatter\",\"textposition\":\"bottom right\"},{\"hovertemplate\":\"Country name=Canada<br>year=%{x}<br>Log GDP per capita=%{y}<br>happy_score=%{text}<extra></extra>\",\"legendgroup\":\"Canada\",\"line\":{\"color\":\"#ab63fa\",\"dash\":\"solid\"},\"marker\":{\"symbol\":\"circle\"},\"mode\":\"text+lines+markers\",\"name\":\"Canada\",\"orientation\":\"v\",\"showlegend\":true,\"text\":[7.418,7.482,7.486,7.488,7.65,7.426,7.415,7.594,7.304,7.413,7.245,7.415,7.175,7.109,7.025],\"x\":[2005,2007,2008,2009,2010,2011,2012,2013,2014,2015,2016,2017,2018,2019,2020],\"xaxis\":\"x\",\"y\":[10.652,10.739,10.738,10.697,10.717,10.738,10.744,10.757,10.775,10.774,10.773,10.792,10.798,10.8,10.73],\"yaxis\":\"y\",\"type\":\"scatter\",\"textposition\":\"bottom right\"},{\"hovertemplate\":\"Country name=Israel<br>year=%{x}<br>Log GDP per capita=%{y}<br>happy_score=%{text}<extra></extra>\",\"legendgroup\":\"Israel\",\"line\":{\"color\":\"#FFA15A\",\"dash\":\"solid\"},\"marker\":{\"symbol\":\"circle\"},\"mode\":\"text+lines+markers\",\"name\":\"Israel\",\"orientation\":\"v\",\"showlegend\":true,\"text\":[7.173,6.841,7.261,7.353,7.359,7.433,7.111,7.321,7.401,7.079,7.159,7.331,6.927,7.332,7.195],\"x\":[2006,2007,2008,2009,2010,2011,2012,2013,2014,2015,2016,2017,2018,2019,2020],\"xaxis\":\"x\",\"y\":[10.389,10.428,10.44,10.425,10.461,10.489,10.493,10.515,10.533,10.536,10.555,10.57,10.585,10.601,10.538],\"yaxis\":\"y\",\"type\":\"scatter\",\"textposition\":\"bottom right\"},{\"hovertemplate\":\"Country name=Australia<br>year=%{x}<br>Log GDP per capita=%{y}<br>happy_score=%{text}<extra></extra>\",\"legendgroup\":\"Australia\",\"line\":{\"color\":\"#19d3f3\",\"dash\":\"solid\"},\"marker\":{\"symbol\":\"circle\"},\"mode\":\"text+lines+markers\",\"name\":\"Australia\",\"orientation\":\"v\",\"showlegend\":true,\"text\":[7.341,7.285,7.254,7.45,7.406,7.196,7.364,7.289,7.309,7.25,7.257,7.177,7.234,7.137],\"x\":[2005,2007,2008,2010,2011,2012,2013,2014,2015,2016,2017,2018,2019,2020],\"xaxis\":\"x\",\"y\":[10.659,10.703,10.719,10.722,10.733,10.754,10.762,10.772,10.779,10.791,10.798,10.811,10.815,10.76],\"yaxis\":\"y\",\"type\":\"scatter\",\"textposition\":\"bottom right\"},{\"hovertemplate\":\"Country name=New Zealand<br>year=%{x}<br>Log GDP per capita=%{y}<br>happy_score=%{text}<extra></extra>\",\"legendgroup\":\"New Zealand\",\"line\":{\"color\":\"#FF6692\",\"dash\":\"solid\"},\"marker\":{\"symbol\":\"circle\"},\"mode\":\"text+lines+markers\",\"name\":\"New Zealand\",\"orientation\":\"v\",\"showlegend\":true,\"text\":[7.305,7.604,7.381,7.224,7.191,7.25,7.28,7.306,7.418,7.226,7.327,7.37,7.205,7.257],\"x\":[2006,2007,2008,2010,2011,2012,2013,2014,2015,2016,2017,2018,2019,2020],\"xaxis\":\"x\",\"y\":[10.526,10.546,10.528,10.52,10.536,10.553,10.571,10.592,10.608,10.623,10.633,10.66,10.666,10.6],\"yaxis\":\"y\",\"type\":\"scatter\",\"textposition\":\"bottom right\"},{\"hovertemplate\":\"Country name=Finland<br>year=%{x}<br>Log GDP per capita=%{y}<br>happy_score=%{text}<extra></extra>\",\"legendgroup\":\"Finland\",\"line\":{\"color\":\"#B6E880\",\"dash\":\"solid\"},\"marker\":{\"symbol\":\"circle\"},\"mode\":\"text+lines+markers\",\"name\":\"Finland\",\"orientation\":\"v\",\"showlegend\":true,\"text\":[7.672,7.671,7.393,7.354,7.42,7.445,7.385,7.448,7.66,7.788,7.858,7.78,7.889],\"x\":[2006,2008,2010,2011,2012,2013,2014,2015,2016,2017,2018,2019,2020],\"xaxis\":\"x\",\"y\":[10.745,10.796,10.734,10.754,10.735,10.722,10.714,10.716,10.74,10.768,10.783,10.792,10.75],\"yaxis\":\"y\",\"type\":\"scatter\",\"textposition\":\"bottom right\"},{\"hovertemplate\":\"Country name=Iceland<br>year=%{x}<br>Log GDP per capita=%{y}<br>happy_score=%{text}<extra></extra>\",\"legendgroup\":\"Iceland\",\"line\":{\"color\":\"#FF97FF\",\"dash\":\"solid\"},\"marker\":{\"symbol\":\"circle\"},\"mode\":\"text+lines+markers\",\"name\":\"Iceland\",\"orientation\":\"v\",\"showlegend\":true,\"text\":[6.888,7.591,7.501,7.498,7.51,7.476,7.533,7.575],\"x\":[2008,2012,2013,2015,2016,2017,2019,2020],\"xaxis\":\"x\",\"y\":[10.861,10.777,10.809,10.854,10.904,10.925,10.931,10.824],\"yaxis\":\"y\",\"type\":\"scatter\",\"textposition\":\"bottom right\"},{\"hovertemplate\":\"Country name=Uruguay<br>year=%{x}<br>Log GDP per capita=%{y}<br>happy_score=%{text}<extra></extra>\",\"legendgroup\":\"Uruguay\",\"line\":{\"color\":\"#FECB52\",\"dash\":\"solid\"},\"marker\":{\"symbol\":\"circle\"},\"mode\":\"text+lines+markers\",\"name\":\"Uruguay\",\"orientation\":\"v\",\"showlegend\":true,\"text\":[5.786,5.694,5.664,6.296,6.062,6.554,6.45,6.444,6.561,6.628,6.171,6.336,6.372,6.6,6.31],\"x\":[2006,2007,2008,2009,2010,2011,2012,2013,2014,2015,2016,2017,2018,2019,2020],\"xaxis\":\"x\",\"y\":[9.543,9.604,9.671,9.71,9.782,9.83,9.861,9.904,9.932,9.932,9.946,9.968,9.98,9.979,9.937],\"yaxis\":\"y\",\"type\":\"scatter\",\"textposition\":\"bottom right\"},{\"hovertemplate\":\"Country name=Saudi Arabia<br>year=%{x}<br>Log GDP per capita=%{y}<br>happy_score=%{text}<extra></extra>\",\"legendgroup\":\"Saudi Arabia\",\"line\":{\"color\":\"#636efa\",\"dash\":\"solid\"},\"marker\":{\"symbol\":\"circle\"},\"mode\":\"text+lines+markers\",\"name\":\"Saudi Arabia\",\"orientation\":\"v\",\"showlegend\":true,\"text\":[7.08,7.267,6.811,6.148,6.307,6.7,6.396,6.495,6.278,6.345,6.474,6.294,6.356,6.561,6.56],\"x\":[2005,2007,2008,2009,2010,2011,2012,2013,2014,2015,2016,2017,2018,2019,2020],\"xaxis\":\"x\",\"y\":[10.699,10.689,10.722,10.673,10.693,10.758,10.779,10.776,10.783,10.798,10.792,10.764,10.771,10.757,10.701],\"yaxis\":\"y\",\"type\":\"scatter\",\"textposition\":\"bottom right\"},{\"hovertemplate\":\"Country name=Chile<br>year=%{x}<br>Log GDP per capita=%{y}<br>happy_score=%{text}<extra></extra>\",\"legendgroup\":\"Chile\",\"line\":{\"color\":\"#EF553B\",\"dash\":\"solid\"},\"marker\":{\"symbol\":\"circle\"},\"mode\":\"text+lines+markers\",\"name\":\"Chile\",\"orientation\":\"v\",\"showlegend\":true,\"text\":[6.063,5.698,5.789,6.494,6.636,6.526,6.599,6.74,6.844,6.533,6.579,6.32,6.436,5.942,6.151],\"x\":[2006,2007,2008,2009,2010,2011,2012,2013,2014,2015,2016,2017,2018,2019,2020],\"xaxis\":\"x\",\"y\":[9.85,9.887,9.911,9.885,9.931,9.98,10.023,10.053,10.059,10.07,10.074,10.072,10.097,10.095,10.02],\"yaxis\":\"y\",\"type\":\"scatter\",\"textposition\":\"bottom right\"}],                        {\"template\":{\"data\":{\"bar\":[{\"error_x\":{\"color\":\"#2a3f5f\"},\"error_y\":{\"color\":\"#2a3f5f\"},\"marker\":{\"line\":{\"color\":\"#E5ECF6\",\"width\":0.5},\"pattern\":{\"fillmode\":\"overlay\",\"size\":10,\"solidity\":0.2}},\"type\":\"bar\"}],\"barpolar\":[{\"marker\":{\"line\":{\"color\":\"#E5ECF6\",\"width\":0.5},\"pattern\":{\"fillmode\":\"overlay\",\"size\":10,\"solidity\":0.2}},\"type\":\"barpolar\"}],\"carpet\":[{\"aaxis\":{\"endlinecolor\":\"#2a3f5f\",\"gridcolor\":\"white\",\"linecolor\":\"white\",\"minorgridcolor\":\"white\",\"startlinecolor\":\"#2a3f5f\"},\"baxis\":{\"endlinecolor\":\"#2a3f5f\",\"gridcolor\":\"white\",\"linecolor\":\"white\",\"minorgridcolor\":\"white\",\"startlinecolor\":\"#2a3f5f\"},\"type\":\"carpet\"}],\"choropleth\":[{\"colorbar\":{\"outlinewidth\":0,\"ticks\":\"\"},\"type\":\"choropleth\"}],\"contour\":[{\"colorbar\":{\"outlinewidth\":0,\"ticks\":\"\"},\"colorscale\":[[0.0,\"#0d0887\"],[0.1111111111111111,\"#46039f\"],[0.2222222222222222,\"#7201a8\"],[0.3333333333333333,\"#9c179e\"],[0.4444444444444444,\"#bd3786\"],[0.5555555555555556,\"#d8576b\"],[0.6666666666666666,\"#ed7953\"],[0.7777777777777778,\"#fb9f3a\"],[0.8888888888888888,\"#fdca26\"],[1.0,\"#f0f921\"]],\"type\":\"contour\"}],\"contourcarpet\":[{\"colorbar\":{\"outlinewidth\":0,\"ticks\":\"\"},\"type\":\"contourcarpet\"}],\"heatmap\":[{\"colorbar\":{\"outlinewidth\":0,\"ticks\":\"\"},\"colorscale\":[[0.0,\"#0d0887\"],[0.1111111111111111,\"#46039f\"],[0.2222222222222222,\"#7201a8\"],[0.3333333333333333,\"#9c179e\"],[0.4444444444444444,\"#bd3786\"],[0.5555555555555556,\"#d8576b\"],[0.6666666666666666,\"#ed7953\"],[0.7777777777777778,\"#fb9f3a\"],[0.8888888888888888,\"#fdca26\"],[1.0,\"#f0f921\"]],\"type\":\"heatmap\"}],\"heatmapgl\":[{\"colorbar\":{\"outlinewidth\":0,\"ticks\":\"\"},\"colorscale\":[[0.0,\"#0d0887\"],[0.1111111111111111,\"#46039f\"],[0.2222222222222222,\"#7201a8\"],[0.3333333333333333,\"#9c179e\"],[0.4444444444444444,\"#bd3786\"],[0.5555555555555556,\"#d8576b\"],[0.6666666666666666,\"#ed7953\"],[0.7777777777777778,\"#fb9f3a\"],[0.8888888888888888,\"#fdca26\"],[1.0,\"#f0f921\"]],\"type\":\"heatmapgl\"}],\"histogram\":[{\"marker\":{\"pattern\":{\"fillmode\":\"overlay\",\"size\":10,\"solidity\":0.2}},\"type\":\"histogram\"}],\"histogram2d\":[{\"colorbar\":{\"outlinewidth\":0,\"ticks\":\"\"},\"colorscale\":[[0.0,\"#0d0887\"],[0.1111111111111111,\"#46039f\"],[0.2222222222222222,\"#7201a8\"],[0.3333333333333333,\"#9c179e\"],[0.4444444444444444,\"#bd3786\"],[0.5555555555555556,\"#d8576b\"],[0.6666666666666666,\"#ed7953\"],[0.7777777777777778,\"#fb9f3a\"],[0.8888888888888888,\"#fdca26\"],[1.0,\"#f0f921\"]],\"type\":\"histogram2d\"}],\"histogram2dcontour\":[{\"colorbar\":{\"outlinewidth\":0,\"ticks\":\"\"},\"colorscale\":[[0.0,\"#0d0887\"],[0.1111111111111111,\"#46039f\"],[0.2222222222222222,\"#7201a8\"],[0.3333333333333333,\"#9c179e\"],[0.4444444444444444,\"#bd3786\"],[0.5555555555555556,\"#d8576b\"],[0.6666666666666666,\"#ed7953\"],[0.7777777777777778,\"#fb9f3a\"],[0.8888888888888888,\"#fdca26\"],[1.0,\"#f0f921\"]],\"type\":\"histogram2dcontour\"}],\"mesh3d\":[{\"colorbar\":{\"outlinewidth\":0,\"ticks\":\"\"},\"type\":\"mesh3d\"}],\"parcoords\":[{\"line\":{\"colorbar\":{\"outlinewidth\":0,\"ticks\":\"\"}},\"type\":\"parcoords\"}],\"pie\":[{\"automargin\":true,\"type\":\"pie\"}],\"scatter\":[{\"marker\":{\"colorbar\":{\"outlinewidth\":0,\"ticks\":\"\"}},\"type\":\"scatter\"}],\"scatter3d\":[{\"line\":{\"colorbar\":{\"outlinewidth\":0,\"ticks\":\"\"}},\"marker\":{\"colorbar\":{\"outlinewidth\":0,\"ticks\":\"\"}},\"type\":\"scatter3d\"}],\"scattercarpet\":[{\"marker\":{\"colorbar\":{\"outlinewidth\":0,\"ticks\":\"\"}},\"type\":\"scattercarpet\"}],\"scattergeo\":[{\"marker\":{\"colorbar\":{\"outlinewidth\":0,\"ticks\":\"\"}},\"type\":\"scattergeo\"}],\"scattergl\":[{\"marker\":{\"colorbar\":{\"outlinewidth\":0,\"ticks\":\"\"}},\"type\":\"scattergl\"}],\"scattermapbox\":[{\"marker\":{\"colorbar\":{\"outlinewidth\":0,\"ticks\":\"\"}},\"type\":\"scattermapbox\"}],\"scatterpolar\":[{\"marker\":{\"colorbar\":{\"outlinewidth\":0,\"ticks\":\"\"}},\"type\":\"scatterpolar\"}],\"scatterpolargl\":[{\"marker\":{\"colorbar\":{\"outlinewidth\":0,\"ticks\":\"\"}},\"type\":\"scatterpolargl\"}],\"scatterternary\":[{\"marker\":{\"colorbar\":{\"outlinewidth\":0,\"ticks\":\"\"}},\"type\":\"scatterternary\"}],\"surface\":[{\"colorbar\":{\"outlinewidth\":0,\"ticks\":\"\"},\"colorscale\":[[0.0,\"#0d0887\"],[0.1111111111111111,\"#46039f\"],[0.2222222222222222,\"#7201a8\"],[0.3333333333333333,\"#9c179e\"],[0.4444444444444444,\"#bd3786\"],[0.5555555555555556,\"#d8576b\"],[0.6666666666666666,\"#ed7953\"],[0.7777777777777778,\"#fb9f3a\"],[0.8888888888888888,\"#fdca26\"],[1.0,\"#f0f921\"]],\"type\":\"surface\"}],\"table\":[{\"cells\":{\"fill\":{\"color\":\"#EBF0F8\"},\"line\":{\"color\":\"white\"}},\"header\":{\"fill\":{\"color\":\"#C8D4E3\"},\"line\":{\"color\":\"white\"}},\"type\":\"table\"}]},\"layout\":{\"annotationdefaults\":{\"arrowcolor\":\"#2a3f5f\",\"arrowhead\":0,\"arrowwidth\":1},\"autotypenumbers\":\"strict\",\"coloraxis\":{\"colorbar\":{\"outlinewidth\":0,\"ticks\":\"\"}},\"colorscale\":{\"diverging\":[[0,\"#8e0152\"],[0.1,\"#c51b7d\"],[0.2,\"#de77ae\"],[0.3,\"#f1b6da\"],[0.4,\"#fde0ef\"],[0.5,\"#f7f7f7\"],[0.6,\"#e6f5d0\"],[0.7,\"#b8e186\"],[0.8,\"#7fbc41\"],[0.9,\"#4d9221\"],[1,\"#276419\"]],\"sequential\":[[0.0,\"#0d0887\"],[0.1111111111111111,\"#46039f\"],[0.2222222222222222,\"#7201a8\"],[0.3333333333333333,\"#9c179e\"],[0.4444444444444444,\"#bd3786\"],[0.5555555555555556,\"#d8576b\"],[0.6666666666666666,\"#ed7953\"],[0.7777777777777778,\"#fb9f3a\"],[0.8888888888888888,\"#fdca26\"],[1.0,\"#f0f921\"]],\"sequentialminus\":[[0.0,\"#0d0887\"],[0.1111111111111111,\"#46039f\"],[0.2222222222222222,\"#7201a8\"],[0.3333333333333333,\"#9c179e\"],[0.4444444444444444,\"#bd3786\"],[0.5555555555555556,\"#d8576b\"],[0.6666666666666666,\"#ed7953\"],[0.7777777777777778,\"#fb9f3a\"],[0.8888888888888888,\"#fdca26\"],[1.0,\"#f0f921\"]]},\"colorway\":[\"#636efa\",\"#EF553B\",\"#00cc96\",\"#ab63fa\",\"#FFA15A\",\"#19d3f3\",\"#FF6692\",\"#B6E880\",\"#FF97FF\",\"#FECB52\"],\"font\":{\"color\":\"#2a3f5f\"},\"geo\":{\"bgcolor\":\"white\",\"lakecolor\":\"white\",\"landcolor\":\"#E5ECF6\",\"showlakes\":true,\"showland\":true,\"subunitcolor\":\"white\"},\"hoverlabel\":{\"align\":\"left\"},\"hovermode\":\"closest\",\"mapbox\":{\"style\":\"light\"},\"paper_bgcolor\":\"white\",\"plot_bgcolor\":\"#E5ECF6\",\"polar\":{\"angularaxis\":{\"gridcolor\":\"white\",\"linecolor\":\"white\",\"ticks\":\"\"},\"bgcolor\":\"#E5ECF6\",\"radialaxis\":{\"gridcolor\":\"white\",\"linecolor\":\"white\",\"ticks\":\"\"}},\"scene\":{\"xaxis\":{\"backgroundcolor\":\"#E5ECF6\",\"gridcolor\":\"white\",\"gridwidth\":2,\"linecolor\":\"white\",\"showbackground\":true,\"ticks\":\"\",\"zerolinecolor\":\"white\"},\"yaxis\":{\"backgroundcolor\":\"#E5ECF6\",\"gridcolor\":\"white\",\"gridwidth\":2,\"linecolor\":\"white\",\"showbackground\":true,\"ticks\":\"\",\"zerolinecolor\":\"white\"},\"zaxis\":{\"backgroundcolor\":\"#E5ECF6\",\"gridcolor\":\"white\",\"gridwidth\":2,\"linecolor\":\"white\",\"showbackground\":true,\"ticks\":\"\",\"zerolinecolor\":\"white\"}},\"shapedefaults\":{\"line\":{\"color\":\"#2a3f5f\"}},\"ternary\":{\"aaxis\":{\"gridcolor\":\"white\",\"linecolor\":\"white\",\"ticks\":\"\"},\"baxis\":{\"gridcolor\":\"white\",\"linecolor\":\"white\",\"ticks\":\"\"},\"bgcolor\":\"#E5ECF6\",\"caxis\":{\"gridcolor\":\"white\",\"linecolor\":\"white\",\"ticks\":\"\"}},\"title\":{\"x\":0.05},\"xaxis\":{\"automargin\":true,\"gridcolor\":\"white\",\"linecolor\":\"white\",\"ticks\":\"\",\"title\":{\"standoff\":15},\"zerolinecolor\":\"white\",\"zerolinewidth\":2},\"yaxis\":{\"automargin\":true,\"gridcolor\":\"white\",\"linecolor\":\"white\",\"ticks\":\"\",\"title\":{\"standoff\":15},\"zerolinecolor\":\"white\",\"zerolinewidth\":2}}},\"xaxis\":{\"anchor\":\"y\",\"domain\":[0.0,1.0],\"title\":{\"text\":\"year\"}},\"yaxis\":{\"anchor\":\"x\",\"domain\":[0.0,1.0],\"title\":{\"text\":\"Log GDP per capita\"}},\"legend\":{\"title\":{\"text\":\"Country name\"},\"tracegroupgap\":0},\"margin\":{\"t\":60}},                        {\"responsive\": true}                    ).then(function(){\n                            \nvar gd = document.getElementById('bf58afe6-a0bd-4ddf-bea3-1a7bdd29a46e');\nvar x = new MutationObserver(function (mutations, observer) {{\n        var display = window.getComputedStyle(gd).display;\n        if (!display || display === 'none') {{\n            console.log([gd, 'removed!']);\n            Plotly.purge(gd);\n            observer.disconnect();\n        }}\n}});\n\n// Listen for the removal of the full notebook cells\nvar notebookContainer = gd.closest('#notebook-container');\nif (notebookContainer) {{\n    x.observe(notebookContainer, {childList: true});\n}}\n\n// Listen for the clearing of the current output cell\nvar outputEl = gd.closest('.output');\nif (outputEl) {{\n    x.observe(outputEl, {childList: true});\n}}\n\n                        })                };                            </script>        </div>\n</body>\n</html>"
     },
     "execution_count": 60,
     "metadata": {
     },
     "output_type": "execute_result"
    }
   ],
   "source": [
    "figs= px.line(top_10_final,x = \"year\", y = \"Log GDP per capita\", text= \"happy_score\",color = 'Country name')\n",
    "figs.update_traces(textposition=\"bottom right\")\n",
    "figs.show()"
   ]
  },
  {
   "cell_type": "markdown",
   "metadata": {
    "collapsed": false
   },
   "source": [
    "###### ---------------------------------------------------------------------------------------------------------------------------------------------------------------------------------------------------------------------------------------------------------\n",
    "<h2><a id=\"Conclusion\">Conclusion</a></h2>\n",
    "\n",
    "###### ---------------------------------------------------------------------------------------------------------------------------------------------------------------------------------------------------------------------------------------------------------"
   ]
  },
  {
   "cell_type": "markdown",
   "metadata": {
    "collapsed": false
   },
   "source": [
    "- GDP has a significant affect on the happiness of the country. In the heatmap we see that the “Logged GDP per Capita” has the highest correlation/relevance in calculating the happiness score. As seen in our graphs as well, GDP and happiness are closely related. Freedom also does have an impact on the happiness of a country, however, not is not as strongly correlated to happiness as GDP, but still does have a positive correlation. Corruption does not have an impact on the happiness of a country, as seen in the heatmap. \n",
    "\n",
    "- Life expectancy is significantly correlated to happiness in each country. With low life expectancy people are dying more frequently which can result in the trauma of losing someone and grieving. This can be observed in the Life Expectancy and Happiness scatter plot. Life expectancy can be influenced by many factors such as healthcare, disease, diet, pollution, and more. In most African Continents their low life expectancy can be attributed to lack of access to healthcare, while in most European countries more money is put into healthcare which is a major factor resulting their high score.\n",
    "\n",
    "- Generally, continents with more **developed countries** would have **significantlly higher happy scores**. For instance, **North America, Europe and Oceania**. Because countries in those continents have higher GDP, social support and more freedom of life choices. The other important factor is **population**, the two **most populated countries** in the world \\- China and India, both located in Asia and **have relatively low happiness scores**, because a massive population means heavy load on social welfare and quality of life, also creates a fiercely competitive social environment. As an opposite example, the happiest country in the world \\- Finland, only has 5 million population, and located in Europe.\n",
    "\n",
    "- Population **does not affect** happiness levels. We see in the scatterplot “Does greater population indicate a change in the happiness score?” that there is no correlation between the two variables whatsoever. However, the happiness score seems to **change dramatically** as the population changes over time. In the line plot “Happiness Score over the years” we can see that the happiness score starts quite high in 2005, at around 6.5, then drops dramatically in 2006 to 5.2. The happiness score stays quite constant at 5.5 until 2019, when it begins to increase again.\n",
    "\n",
    "- So, Yes, according this data, we can say that the factors we analyzed above can affect the Happiness.\n",
    "\n"
   ]
  },
  {
   "cell_type": "markdown",
   "metadata": {
    "collapsed": false
   },
   "source": [
    "<h4><a id=\"nextsteps\">Next Steps</a></h4>\n",
    "\n"
   ]
  },
  {
   "cell_type": "markdown",
   "metadata": {
    "collapsed": false
   },
   "source": [
    "- For further analysis, we can include more index if available and add more information.\n",
    "\n",
    "- Some countries were not present in the dataset like some african and north korea.\n",
    "\n",
    "- Add some direct analysis scope like crime, agriculture, transportation and disease, etc.\n",
    "\n",
    "###### ---------------------------------------------------------------------------------------------------------------------------------------------------------------------------------------------------------------------------------------------------------"
   ]
  },
  {
   "cell_type": "code",
   "execution_count": 61,
   "metadata": {
    "collapsed": false
   },
   "outputs": [
    {
     "data": {
      "text/html": [
       "<img src=\"minions.png\" width=\"1200\" height=\"600\"/>"
      ],
      "text/plain": [
       "<IPython.core.display.Image object>"
      ]
     },
     "execution_count": 61,
     "metadata": {
     },
     "output_type": "execute_result"
    }
   ],
   "source": [
    "Image(url=\"minions.png\", width=1200, height=600)"
   ]
  }
 ],
 "metadata": {
  "kernelspec": {
   "display_name": "Python 3 (Ubuntu Linux)",
   "language": "python",
   "name": "python3-ubuntu",
   "resource_dir": "/usr/local/share/jupyter/kernels/python3-ubuntu"
  },
  "language_info": {
   "codemirror_mode": {
    "name": "ipython",
    "version": 3
   },
   "file_extension": ".py",
   "mimetype": "text/x-python",
   "name": "python",
   "nbconvert_exporter": "python",
   "pygments_lexer": "ipython3",
   "version": "3.8.10"
  }
 },
 "nbformat": 4,
 "nbformat_minor": 4
}